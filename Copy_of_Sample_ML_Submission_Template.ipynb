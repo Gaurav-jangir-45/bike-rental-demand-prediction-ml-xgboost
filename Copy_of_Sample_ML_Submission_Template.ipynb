{
  "nbformat": 4,
  "nbformat_minor": 0,
  "metadata": {
    "colab": {
      "private_outputs": true,
      "provenance": [],
      "collapsed_sections": [
        "vncDsAP0Gaoa",
        "FJNUwmbgGyua",
        "w6K7xa23Elo4",
        "yQaldy8SH6Dl",
        "mDgbUHAGgjLW",
        "O_i_v8NEhb9l",
        "HhfV-JJviCcP",
        "Y3lxredqlCYt",
        "3RnN4peoiCZX",
        "x71ZqKXriCWQ",
        "7hBIi_osiCS2",
        "JlHwYmJAmNHm",
        "35m5QtbWiB9F",
        "PoPl-ycgm1ru",
        "H0kj-8xxnORC",
        "nA9Y7ga8ng1Z",
        "PBTbrJXOngz2",
        "u3PMJOP6ngxN",
        "dauF4eBmngu3",
        "bKJF3rekwFvQ",
        "MSa1f5Uengrz",
        "GF8Ens_Soomf",
        "0wOQAZs5pc--",
        "K5QZ13OEpz2H",
        "lQ7QKXXCp7Bj",
        "448CDAPjqfQr",
        "KSlN3yHqYklG",
        "t6dVpIINYklI",
        "ijmpgYnKYklI",
        "-JiQyfWJYklI",
        "EM7whBJCYoAo",
        "fge-S5ZAYoAp",
        "85gYPyotYoAp",
        "RoGjAbkUYoAp",
        "4Of9eVA-YrdM",
        "iky9q4vBYrdO",
        "F6T5p64dYrdO",
        "y-Ehk30pYrdP",
        "bamQiAODYuh1",
        "QHF8YVU7Yuh3",
        "GwzvFGzlYuh3",
        "qYpmQ266Yuh3",
        "OH-pJp9IphqM",
        "bbFf2-_FphqN",
        "_ouA3fa0phqN",
        "Seke61FWphqN",
        "PIIx-8_IphqN",
        "t27r6nlMphqO",
        "r2jJGEOYphqO",
        "b0JNsNcRphqO",
        "BZR9WyysphqO",
        "jj7wYXLtphqO",
        "eZrbJ2SmphqO",
        "rFu4xreNphqO",
        "YJ55k-q6phqO",
        "gCFgpxoyphqP",
        "OVtJsKN_phqQ",
        "lssrdh5qphqQ",
        "U2RJ9gkRphqQ",
        "1M8mcRywphqQ",
        "tgIPom80phqQ",
        "JMzcOPDDphqR",
        "x-EpHcCOp1ci",
        "X_VqEhTip1ck",
        "8zGJKyg5p1ck",
        "PVzmfK_Ep1ck",
        "n3dbpmDWp1ck",
        "ylSl6qgtp1ck",
        "ZWILFDl5p1ck",
        "M7G43BXep1ck",
        "Ag9LCva-p1cl",
        "E6MkPsBcp1cl",
        "2cELzS2fp1cl",
        "3MPXvC8up1cl",
        "NC_X3p0fY2L0",
        "UV0SzAkaZNRQ",
        "YPEH6qLeZNRQ",
        "q29F0dvdveiT",
        "EXh0U9oCveiU",
        "22aHeOlLveiV",
        "g-ATYxFrGrvw",
        "Yfr_Vlr8HBkt",
        "8yEUt7NnHlrM",
        "tEA2Xm5dHt1r",
        "I79__PHVH19G",
        "Ou-I18pAyIpj",
        "fF3858GYyt-u",
        "4_0_7-oCpUZd",
        "hwyV_J3ipUZe",
        "3yB-zSqbpUZe",
        "dEUvejAfpUZe",
        "Fd15vwWVpUZf",
        "bn_IUdTipZyH",
        "49K5P_iCpZyH",
        "Nff-vKELpZyI",
        "kLW572S8pZyI",
        "dWbDXHzopZyI",
        "yLjJCtPM0KBk",
        "xiyOF9F70UgQ",
        "7wuGOrhz0itI",
        "id1riN9m0vUs",
        "578E2V7j08f6",
        "89xtkJwZ18nB",
        "67NQN5KX2AMe",
        "Iwf50b-R2tYG",
        "GMQiZwjn3iu7",
        "WVIkgGqN3qsr",
        "XkPnILGE3zoT",
        "Hlsf0x5436Go",
        "mT9DMSJo4nBL",
        "c49ITxTc407N",
        "OeJFEK0N496M",
        "9ExmJH0g5HBk",
        "cJNqERVU536h",
        "k5UmGsbsOxih",
        "T0VqWOYE6DLQ",
        "qBMux9mC6MCf",
        "-oLEiFgy-5Pf",
        "C74aWNz2AliB",
        "2DejudWSA-a0",
        "pEMng2IbBLp7",
        "rAdphbQ9Bhjc",
        "TNVZ9zx19K6k",
        "nqoHp30x9hH9",
        "rMDnDkt2B6du",
        "yiiVWRdJDDil",
        "1UUpS68QDMuG",
        "kexQrXU-DjzY",
        "T5CmagL3EC8N",
        "BhH2vgX9EjGr",
        "qjKvONjwE8ra",
        "P1XJ9OREExlT",
        "VFOzZv6IFROw",
        "TIqpNgepFxVj",
        "VfCC591jGiD4",
        "OB4l2ZhMeS1U",
        "ArJBuiUVfxKd",
        "4qY1EAkEfxKe",
        "PiV4Ypx8fxKe",
        "TfvqoZmBfxKf",
        "dJ2tPlVmpsJ0",
        "JWYfwnehpsJ1",
        "-jK_YjpMpsJ2",
        "HAih1iBOpsJ2",
        "zVGeBEFhpsJ2",
        "bmKjuQ-FpsJ3",
        "Fze-IPXLpx6K",
        "7AN1z2sKpx6M",
        "9PIHJqyupx6M",
        "_-qAgymDpx6N",
        "Z-hykwinpx6N",
        "h_CCil-SKHpo",
        "cBFFvTBNJzUa",
        "HvGl1hHyA_VK",
        "EyNgTHvd2WFk",
        "KH5McJBi2d8v",
        "iW_Lq9qf2h6X",
        "-Kee-DAl2viO",
        "gCX9965dhzqZ",
        "gIfDvo9L0UH2"
      ]
    },
    "kernelspec": {
      "name": "python3",
      "display_name": "Python 3"
    },
    "language_info": {
      "name": "python"
    }
  },
  "cells": [
    {
      "cell_type": "markdown",
      "source": [
        "# <font size='8px'><font color='#FFFF00'>**Project Name**    - <font color='#ADD8E6'>Smart Demand Forecasting for Yulu Bike-Sharing Services\n",
        "\n"
      ],
      "metadata": {
        "id": "vncDsAP0Gaoa"
      }
    },
    {
      "cell_type": "markdown",
      "source": [
        "#####<font size='5px'>  **Project Type**    - Regression\n",
        "##### **Contribution**    - Individual\n",
        "##### **Name -** Gaurav Jangir\n"
      ],
      "metadata": {
        "id": "beRrZCGUAJYm"
      }
    },
    {
      "cell_type": "markdown",
      "source": [
        "# **Project Summary -**"
      ],
      "metadata": {
        "id": "FJNUwmbgGyua"
      }
    },
    {
      "cell_type": "markdown",
      "source": [
        "In an era where urban mobility is rapidly transforming, Yulu Bike stands out as a pioneer in offering eco-friendly, shared micro-mobility solutions. The success of such services relies heavily on accurately forecasting demand to ensure timely availability of bikes and efficient resource allocation. This project aims to develop a predictive model using historical and contextual data (including weather, time-based variables, and event markers) to anticipate user demand for bike rentals.\n",
        "\n",
        "By leveraging data analytics and machine learning techniques, the project will deliver actionable insights to:\n",
        "\n",
        "- Optimize fleet deployment and bike distribution,\n",
        "\n",
        "- Enhance user satisfaction by reducing bike shortages or surpluses,\n",
        "\n",
        "- Improve operational planning and resource utilization,\n",
        "\n",
        "- Account for environmental and seasonal factors to maintain service consistency year-round."
      ],
      "metadata": {
        "id": "F6v_1wHtG2nS"
      }
    },
    {
      "cell_type": "markdown",
      "source": [
        "# **GitHub Link -**"
      ],
      "metadata": {
        "id": "w6K7xa23Elo4"
      }
    },
    {
      "cell_type": "markdown",
      "source": [
        "https://github.com/Gaurav-jangir-45/bike-rental-demand-prediction-ml-xgboost"
      ],
      "metadata": {
        "id": "h1o69JH3Eqqn"
      }
    },
    {
      "cell_type": "markdown",
      "source": [
        "# **Problem Statement**\n"
      ],
      "metadata": {
        "id": "yQaldy8SH6Dl"
      }
    },
    {
      "cell_type": "markdown",
      "source": [
        "Yulu Bike faces challenges in meeting fluctuating customer demand due to varying external factors such as weather, time of day, and special events. Ineffective demand forecasting can lead to either a shortage of bikes during peak times or excessive idle bikes during low demand periods, resulting in lost revenue and reduced customer satisfaction.\n",
        "\n",
        "The objective of this project is to build a data-driven predictive model to accurately forecast bike-sharing demand using available contextual features. This model will help Yulu Bike optimize fleet operations, enhance customer experience, and ensure consistent service delivery regardless of external influences."
      ],
      "metadata": {
        "id": "DpeJGUA3kjGy"
      }
    },
    {
      "cell_type": "markdown",
      "source": [
        "# **General Guidelines** : -  "
      ],
      "metadata": {
        "id": "mDgbUHAGgjLW"
      }
    },
    {
      "cell_type": "markdown",
      "source": [
        "1.   Well-structured, formatted, and commented code is required.\n",
        "2.   Exception Handling, Production Grade Code & Deployment Ready Code will be a plus. Those students will be awarded some additional credits.\n",
        "     \n",
        "     The additional credits will have advantages over other students during Star Student selection.\n",
        "       \n",
        "             [ Note: - Deployment Ready Code is defined as, the whole .ipynb notebook should be executable in one go\n",
        "                       without a single error logged. ]\n",
        "\n",
        "3.   Each and every logic should have proper comments.\n",
        "4. You may add as many number of charts you want. Make Sure for each and every chart the following format should be answered.\n",
        "        \n",
        "\n",
        "```\n",
        "# Chart visualization code\n",
        "```\n",
        "            \n",
        "\n",
        "*   Why did you pick the specific chart?\n",
        "*   What is/are the insight(s) found from the chart?\n",
        "* Will the gained insights help creating a positive business impact?\n",
        "Are there any insights that lead to negative growth? Justify with specific reason.\n",
        "\n",
        "5. You have to create at least 15 logical & meaningful charts having important insights.\n",
        "\n",
        "\n",
        "[ Hints : - Do the Vizualization in  a structured way while following \"UBM\" Rule.\n",
        "\n",
        "U - Univariate Analysis,\n",
        "\n",
        "B - Bivariate Analysis (Numerical - Categorical, Numerical - Numerical, Categorical - Categorical)\n",
        "\n",
        "M - Multivariate Analysis\n",
        " ]\n",
        "\n",
        "\n",
        "\n",
        "\n",
        "\n",
        "6. You may add more ml algorithms for model creation. Make sure for each and every algorithm, the following format should be answered.\n",
        "\n",
        "\n",
        "*   Explain the ML Model used and it's performance using Evaluation metric Score Chart.\n",
        "\n",
        "\n",
        "*   Cross- Validation & Hyperparameter Tuning\n",
        "\n",
        "*   Have you seen any improvement? Note down the improvement with updates Evaluation metric Score Chart.\n",
        "\n",
        "*   Explain each evaluation metric's indication towards business and the business impact pf the ML model used.\n",
        "\n",
        "\n",
        "\n",
        "\n",
        "\n",
        "\n",
        "\n",
        "\n",
        "\n",
        "\n",
        "\n",
        "\n",
        "\n",
        "\n",
        "\n",
        "\n",
        "\n",
        "\n"
      ],
      "metadata": {
        "id": "ZrxVaUj-hHfC"
      }
    },
    {
      "cell_type": "markdown",
      "source": [
        "# ***Let's Begin !***"
      ],
      "metadata": {
        "id": "O_i_v8NEhb9l"
      }
    },
    {
      "cell_type": "markdown",
      "source": [
        "## ***1. Know Your Data***"
      ],
      "metadata": {
        "id": "HhfV-JJviCcP"
      }
    },
    {
      "cell_type": "markdown",
      "source": [
        "### Import Libraries"
      ],
      "metadata": {
        "id": "Y3lxredqlCYt"
      }
    },
    {
      "cell_type": "code",
      "source": [
        "# Import Data Handling & Exploration libraries\n",
        "import pandas as pd\n",
        "import numpy as np\n",
        "\n",
        "# Import Data Visualization libraries\n",
        "import matplotlib.pyplot as plt\n",
        "import seaborn as sns\n",
        "\n",
        "# Importing Date Time library for Date column\n",
        "from datetime import datetime as dt\n",
        "\n",
        "# Import imputing library for missing value imputing\n",
        "from sklearn.impute import SimpleImputer\n",
        "\n",
        "# Import Data Preprocessing & Feature Engineering libraries\n",
        "from sklearn.preprocessing import MinMaxScaler, StandardScaler\n",
        "from sklearn.model_selection import train_test_split\n",
        "from sklearn.preprocessing import OneHotEncoder, LabelEncoder, OrdinalEncoder\n",
        "from sklearn.model_selection import cross_val_score\n",
        "from sklearn.model_selection import GridSearchCV, RandomizedSearchCV\n",
        "from statsmodels.stats.outliers_influence import variance_inflation_factor\n",
        "\n",
        "# Import ML modles\n",
        "from sklearn.linear_model import LinearRegression\n",
        "from sklearn.linear_model import Ridge, Lasso\n",
        "from sklearn.ensemble import RandomForestRegressor\n",
        "from xgboost import XGBRegressor\n",
        "\n",
        "# Import Evaluation libraries\n",
        "from sklearn.metrics import r2_score, mean_squared_error, mean_absolute_error\n",
        "\n",
        "# Import warnings\n",
        "import warnings\n",
        "warnings.filterwarnings('ignore')"
      ],
      "metadata": {
        "id": "M8Vqi-pPk-HR"
      },
      "execution_count": null,
      "outputs": []
    },
    {
      "cell_type": "markdown",
      "source": [
        "### Dataset Loading"
      ],
      "metadata": {
        "id": "3RnN4peoiCZX"
      }
    },
    {
      "cell_type": "code",
      "source": [
        "# Load Dataset\n",
        "\n",
        "# Creating a file path so i can easily access my Csv file.\n",
        "filepath = '/content/SeoulBikeData.csv'\n",
        "\n",
        "# Creating DataFrame of Csv file\n",
        "bike_df = pd.read_csv(filepath, encoding='latin1')"
      ],
      "metadata": {
        "id": "4CkvbW_SlZ_R"
      },
      "execution_count": null,
      "outputs": []
    },
    {
      "cell_type": "markdown",
      "source": [
        "### Dataset First View"
      ],
      "metadata": {
        "id": "x71ZqKXriCWQ"
      }
    },
    {
      "cell_type": "code",
      "source": [
        "# Dataset First Look\n",
        "\n",
        "# First 5 Rows of Dataset\n",
        "print(\"First 5 Rows of the Dataset are: \\n\")\n",
        "bike_df.head()"
      ],
      "metadata": {
        "id": "LWNFOSvLl09H"
      },
      "execution_count": null,
      "outputs": []
    },
    {
      "cell_type": "code",
      "source": [
        "# Last five rows of dataset\n",
        "print(\"Last 5 Rows of the Dataset are: \\n\")\n",
        "bike_df.tail()"
      ],
      "metadata": {
        "id": "nT0XzxZXtBFS"
      },
      "execution_count": null,
      "outputs": []
    },
    {
      "cell_type": "code",
      "source": [
        "# Overall look of Dataset\n",
        "bike_df"
      ],
      "metadata": {
        "id": "VHxbd4E-tQbo"
      },
      "execution_count": null,
      "outputs": []
    },
    {
      "cell_type": "markdown",
      "source": [
        "### Dataset Rows & Columns count"
      ],
      "metadata": {
        "id": "7hBIi_osiCS2"
      }
    },
    {
      "cell_type": "code",
      "source": [
        "# Dataset Rows & Columns count\n",
        "shape = bike_df.shape # Creating shape variable\n",
        "print(f\"The number of Rows in Dataset are: {shape[0]}\")\n",
        "print(f\"The number of Columns in Dataset are: {shape[1]}\")"
      ],
      "metadata": {
        "id": "Kllu7SJgmLij"
      },
      "execution_count": null,
      "outputs": []
    },
    {
      "cell_type": "markdown",
      "source": [
        "### Dataset Information"
      ],
      "metadata": {
        "id": "JlHwYmJAmNHm"
      }
    },
    {
      "cell_type": "code",
      "source": [
        "# Dataset Info\n",
        "bike_df.info()"
      ],
      "metadata": {
        "id": "e9hRXRi6meOf"
      },
      "execution_count": null,
      "outputs": []
    },
    {
      "cell_type": "markdown",
      "source": [
        "#### Duplicate Values"
      ],
      "metadata": {
        "id": "35m5QtbWiB9F"
      }
    },
    {
      "cell_type": "code",
      "source": [
        "# Dataset Duplicate Value Count\n",
        "duplicate_count = bike_df.duplicated().sum()\n",
        "print(f\"The number of duplicate values in the dataset are: {duplicate_count}\")"
      ],
      "metadata": {
        "id": "1sLdpKYkmox0"
      },
      "execution_count": null,
      "outputs": []
    },
    {
      "cell_type": "markdown",
      "source": [
        "#### Missing Values/Null Values"
      ],
      "metadata": {
        "id": "PoPl-ycgm1ru"
      }
    },
    {
      "cell_type": "code",
      "source": [
        "# Missing Values/Null Values Count\n",
        "bike_df.isnull().sum().rename(\"Total missing values\")"
      ],
      "metadata": {
        "id": "GgHWkxvamxVg"
      },
      "execution_count": null,
      "outputs": []
    },
    {
      "cell_type": "code",
      "source": [
        "# Visualizing the missing values\n",
        "\n",
        "print(\"As there are no missing values in any column of our dataset, visualizing missing data is unnecessary.\")"
      ],
      "metadata": {
        "id": "3q5wnI3om9sJ"
      },
      "execution_count": null,
      "outputs": []
    },
    {
      "cell_type": "markdown",
      "source": [
        "### What did you know about your dataset?"
      ],
      "metadata": {
        "id": "H0kj-8xxnORC"
      }
    },
    {
      "cell_type": "markdown",
      "source": [
        "The dataset used for this project contains 8,760 rows and 14 columns, representing hourly bike rental data collected over the span of one year. Each record corresponds to a specific hour in a day and includes various weather-related and calendar-based features that potentially influence bike rental behavior.\n",
        "\n",
        "**✅ Data Quality:**\n",
        "\n",
        "- **Missing Values:**\n",
        "There are no missing values in the dataset. All 14 columns are complete and contain 8,760 non-null entries, which means no data imputation is required.\n",
        "\n",
        "\n",
        "- **Duplicate Records:**\n",
        "The dataset contains 0 duplicate rows, indicating that each hourly observation is unique and reliable.\n",
        "\n",
        "- **Data Type Adjustments:**\n",
        "The Date column is currently stored as an object and needs to be converted to a proper datetime format for time-based analysis and feature extraction (such as day, month, or weekday).\n",
        "\n",
        "- **Categorical Columns:**\n",
        "\n",
        "  - Seasons, Holiday, and Functioning Day are categorical features and will need to be encoded before being used in machine learning models.\n",
        "\n",
        "  - Encoding methods like Label Encoding or One-Hot Encoding will be applied based on the model requirements."
      ],
      "metadata": {
        "id": "gfoNAAC-nUe_"
      }
    },
    {
      "cell_type": "markdown",
      "source": [
        "## ***2. Understanding Your Variables***"
      ],
      "metadata": {
        "id": "nA9Y7ga8ng1Z"
      }
    },
    {
      "cell_type": "code",
      "source": [
        "# Dataset Columns\n",
        "columns = list(bike_df.columns) # Creating a list of all existing columns in the DataFrame.\n",
        "columns"
      ],
      "metadata": {
        "id": "j7xfkqrt5Ag5"
      },
      "execution_count": null,
      "outputs": []
    },
    {
      "cell_type": "code",
      "source": [
        "# Dataset Describe\n",
        "bike_df.describe().T.style.background_gradient(cmap=\"Reds\")"
      ],
      "metadata": {
        "id": "DnOaZdaE5Q5t"
      },
      "execution_count": null,
      "outputs": []
    },
    {
      "cell_type": "markdown",
      "source": [
        "### Variables Description"
      ],
      "metadata": {
        "id": "PBTbrJXOngz2"
      }
    },
    {
      "cell_type": "markdown",
      "source": [
        "![Screenshot 2025-06-11 185459.png](data:image/png;base64,iVBORw0KGgoAAAANSUhEUgAAA5wAAAJYCAYAAAAOvOnHAAAAAXNSR0IArs4c6QAAAARnQU1BAACxjwv8YQUAAAAJcEhZcwAADsMAAA7DAcdvqGQAALddSURBVHhe7P0/qOPen+f5v+qX/maVfIOmd1n2Ayr2BkXDeljEDuxkxhVcBnovgolFB8U4KG1021EHHXlutK7AQwWN4gFzt2G4QQlns9CLWNoNww3uUoLPsuw0HXTi7V9cv0BHsiTrz5Ft3T9VzwdcPvWx9efoSLb11nmfc95J+iFJ+us/FQC0+tO/zv7LdwUAAAAs/X/qLwAAAAAAcAkEnAAAAACAURBwAgAAAABGQcAJAAAAABgFAScAAAAAYBQEnAAAAACAURBwAgAAAABGQcAJAAAAABgFAScAAAAAYBQEnD+r9V9Lf/rX0p+n9XeO5cuu/6H+DgAAAACcjICz1z8dArI//bv6m8Y/SX8+QtC2/o+X3+Zz+A+m3H/619KfN9QZAS4AoE35N6T89+f/Mfvd+Pv6Cq/EmL/ZY24bAEZGwNnrn0n/9R/Mv3+X/rb2tiT9/T9IT+bf/8Mf1d481T9J/9c/Zv+MX+uva4v/25Rbkp5+l/7DP5XfBQBguKd/lOK/kf7Nf5T+9rX9roz5mz3mtgFgfAScNv77//Lw7/+n4Ufu//jP5h+/Sf+89t7J/pn035hAd/bH9TffhitT/v+NJ7IAgKF+k/76Tw9/f/En5vV/lP5y98paOi/wm/23f2dac/9j7dgusG0AeEEEnDb++I+kK/Pvo+Dpn6T/zTx5vPQPwfxfZj+y80u1mj6z/+a/zOrt6T81twwDAGDrn7vSvysFnf9r/ff4hY35mz3mtgFgZO8k/ZCUfZGh3X/4j9Jf/aOkP0j/7l9KRWz5D9Kf/k32z7/400ML59+n0v/yn7MUoNzVH6T/cSL9q39mXvgn6c+3WTruX0yl/30nxf8oXf2J9G/drK9jLGn2Lw4/MlbbNf0kY2Xb+tf/r/SXv5s3/iD9Wcuy5f0o39d/OqQL6w/Sn/230r/q+cErb+9/+Pts3+VtN+3P6rha6kuSrn6T/uf/Ljsf/8v/edhO/Zh0xnH96v70r7P/8l0BYEzF7+1v0l//d/V3D78h9fdtvtv//h+k//X/PP7tKD8v/tu/k/7974ftzP5E+p9c6Y9bfoO6frPz1/7iTyX9XftvcXFMNX82zZZp2rbM8ZR/82SO6V+/l/55w+/8X0yl/+e79Fct5QCAEdDCaatIq/1H6f8opdX+bZ73Uk6n/Sfzo1f6AZDpf/JX2+bWvr/cHn4AW52w3af/VPqBU1b+v9r296v827+T/k35h1tm3b8ZNmjBPze/4vH/2ZH+dMJx1evr6fesX8+/+ZvqduK/qR7rpY4LAPAy/offzD/+38PvitV3+z9kvxH1347/pTSa+3/4j9lvZnk78X86bk2t/wb1+fdmuwXL3+Iuf/t3x795Msf0ly3b/sttKdjUoRxNv7MAcCEEnLba0mr/d/PFXUmn/WfSv/6T7Eli0f9kelj/f28JbP7MLP9v3fo7xqnb/RfZsv/uXxxe+6vv5SVq/il7uqtSmf76T6W/MD/yncFj3R9Jf/aH40C94sTjypf/s3xQJ/NE/N/V1i/O1yWPCwDwOlh+t/99/hv0B/M7kfcL/X/N6/9gWlZNq2b+W1T8xtT0/maXPP1j92/xvFTecvlaWx5Lx1z87plt5799bb/zRTny9OSO31kAuAACTmv/TPofzY/O0382gck/HFJg6qPT/vM/ytJt8ulS/tSk4bSZ/YuOH5aSodu9+pNDOtEf58Gfqk+G68qj7v7V9jAkffF09h/b123yr/7b7L9tP3464bhm/+KQLlQe1Okv8tSo0vnKXfq4AADP7//JA0TD9rv9j/Pf2H/MMmL+wz9If+xK/9ak5RYZS3/IUmil7LfkX/3L464Ztr/ZuVN+i7uUj7n43TPb/tcNLcC5SjlcaWZe/7/aHggDwPkIOIeop9U2ptPq0Ncw/sfuoGmwC2z3v/ov6q8c+/vaj/mRP1T7u/TKf1zbpki5wHHZuPhxAQCeXTH11n+RfWdbf7f/Udaqd6VDuu2/eaG5LW1+i7sUx9zwu/XH+bZ5iArgdSDgHKKcVvt///9a0mlrTx7L6T35k8RTXWK79SfDTYofKzPQQb6f4q88aJKlvJXzaJTfCx2XjTGOCwDwfP4+PWQW5b+9Q77b/9iV/q1JPZ2ZVsb4b56/D6PNb3GXrqCyKxgFgBdAwDlIKU0z/pv2dNry09b/yvz3b0s/kqc6ZbtP/ylLG5IJ7PL+KVf/ZfsPUZF2JOnfp6Ufs3/KBin489IAC9b+KAsgn/6z9H/V3jrluE4xynEBAJ7F36bZwECSSXvNU0Mtv9v/PpX+/O9Meu0fSXPzIFRmju1yEFceJOhv/+78VtBBv8UNQWRd2zH//T8cUokbtw0Az4+Ac6hyf0GpIZ22NDKrzIhwf/rX0l/mP5JnOHW7f/U32bL/xkzfIkn/umuQg1L/kqf/lKUc5f0qK6PsDfQ//Un2Q1pPmz31uAYb6bgAACP4/dAfs/K78AfpL8oZKQO+259+L72f/yb+Qfrv/1m1T2NsfjcrfUHP1PdbXG6p/Uuz78ZuKGo/5mLbf+j5nQeA50PAOVQ5rVYN6bSS6SdSGilOZl6sP8s78p/qhO3+xbT2/h+y1+pBct2/+pfZ6H1X5YF3/pCN3Pc/n/gj9sdudbS///r/a/5xwnGdaozjAgCM7+oP2Qir/+5fHv+G2Xy3/7F7/Lty9Vt1bu15/Tczn4fzzHmar/6k/7f4j93SSLVmmf+qY2CixmMuHVO9jgDghbyT9ENiMncAPf70r7P/8l0BAHbWf511D7n6E7vpUwDgJ0QLJwAAAABgFAScAAAAAIBREHACAAAAAEZBH04AdujDCQAAgIFo4QQAAAAAjIKAEwAAAAAwCgJOAAAAAMAoCDgBAAAAAKMg4AQAAAAAjIKAEwAAAAAwCgJOAAAAAMAoDvNwAgAAAABwQe9+/Pjx4927d9rv9/X3AKDCcRy+KwAAAGCNlFoAAAAAwCgIOAEAAAAAoyDgBAAAAACMgoATAAAAADAKAk4AAAAAwCgIOAEAAAAAoyDgBAAAAACMgoATAAAAADAKAk4AAAAAwCgIOAEAAAAAoyDgBAAAAACMgoATAAAAADAKAk4AAAAAwCgIOAEAAAAAo2gJOFOtp44cp/Y3nSpcx0rriwMAAAAAUNMScLZIEkULXxNnqvXAqDMOTdAaxvW3AAAAAAA/od6A01vutN/vtd/vtdsE8iRJiRaf1rR0AgAAAABa9QacZe5spe0myP4nudc3E3GmcahpLQV3GuYBaZae60dmI5F/1NKZrkNNK+uStgsAAAAAb92ggFOSNLtWFnImekolKdYXP1KSVBdLooUmFumzcehosohUXj2JfE2mtKACAAAAwFs2POCUq6ssr9aY6fNmo90uS7vd7/faLU0r6ON3pXI13+6VN4wq2GTLrWZSutZdJEmelvn6u00W0JZaUAEAAAAAb88JAWeqp1prputKXz5Ni5TYySLPn+2RPpmWzUSLiUmpnfjK1s5bUAEAAAAAb9HwgDN+MAGhpytXUrrWdOIrqufUAgAuKg5f70jfcejIeaauEM+5L73A/hql68NYBy9dljONeR2Pue2XY6aqe9bzHit0HL3VqrzUZ/aU7Qxf5/j8DttGtv506PQRwDMaFHCmcahpPvqPd6OPbqmV0gu0qafU9nGvzKi3pZTa0t9qVl8BwGuTrg/ZDYe/4VMnAWiTav1poSTvkrKdy60vAlxQur5T5C31mfuwN8DV/DZQsviiN/p8AL+A3oAzWUwOqbJ+PrhPoE3+g5cHjUkkvyOl1s07fpZHqXXnus06bB5Saou/kA8O8GYcHjhlD52kxeTtPh0/SxyeH3BfYht4WRc9h1lXFu+KMPOn13jdZGNhPN+DhlTf7hN5Nx+faX+/uguc39m1AkV6+BV/c/Em9AacFZ6nYLnRbr9S8dDLnetrMT+nJHkKlkszku2BO/+qZVBayvxwzlY7bQKvtD6At86d3yqQFPHrBwBvS/pN94mnm48nhz94djNdB/zm4vVqCTjN05Zaiut+u9VqPjt6AuPOVtoWy221ms+1Okr7cTVfbYttbef5O65mq21p/fyvFNQCeJOOWmTisJrJUOujEodZP5Rqmm412yHvoxWHDdvo2X6lH1xT/6Se9fN9V8pX73fjR5WsjaJfTd++jc5tGG37L/QcR5N6anR9n0V9539tB1DWU46++qws17PfvvJ1Xjc15+6v9xz21EtFHMpxssH08oyjyrZq15XTcG0NOXabsnUde67vejpapmE/RyyOtVA5jlrGVN9nsacOmupzHTbsJ1+2/h1R3rbldVPfjnR8HE3Hkpd1SF2n3+6V6IPel76+m4652EZPfal+rpuuhwHH0lSGSr3WV8xZlNNqOzU263Sd9+L9hvIU71lcW+6VJ0UPR8sBr0FLwAkAp4tDX5GqT8jT9VSOr1Lq7U5LLY7m3E0WE02ebg/LeJH8+g9x5MtXtT9b//ZjhZOFtNwV71/dHX7E+9c/7PtQvo2CZKFP5uZpttprvwkq/dKzh2vd+y5r34bRsX8NOY6SdD1VVrzDOjf3n4q0vjh0dHeVl32v/W4pL/KPbgjLrMvRczxx6MiPSmMEXN0pH0qgvIxV+Rqum7pL7K/rHFrXS262yupFkmeun+J6iEM5k4U+bPJtZfuN/IYbeotjtylb37Hn2+m6nqT+835k4LE6D9eHY6h8h3R/Fm3qIN9HuT7n14F0lNIY6yFSkZraV3dd182RgfUxpK7TLH/7+BppuIZs6qv3ehh4LPUy2Hxmbcpps506m3X6znuf2eelvPq1ZaYVDG4Pn2X3/QdJj/refmqBF0PACeACDn24HccxNwRbHe6VYn1ZJAo25cyFbKCDozl3vaV2xYhhLcso0KYyqtiA7Rdczbf58gPWDzbZPMJSkcaU3H9rDhZalfc9UOf+BxxHwfTXWn4tnS9X8+3h/M1WtRtf96NuvK70rQHl6Dmeh0jylp+L7bjz7WFeZ8O+fPXrpu7S+6sbUC+9Uq3vIinYVAfYm620CdQwgEj/sduUrf/Y+68nqe+81w08VqvvkNyJ3wP1+px91tKTHst3+/GDIgW6NQfeX3e2BtbHwLr+/ijpw/vjgLN+zFb11Xc9DDyWhjL0f2ZtymmznTq7dc4+7w3LZ63Qga7LVeFeyWNKQbxSBJwALqA8SrUn1Z/ept/1KCnya2lF9UfBarjRafoRDa6rwZrV9mf6vPRMWmJtUA6r9c/Rse9LOuU40m+6T6QP5fy5I2bY/mKbEy26ZsI6pRxNzHa6yyb78tWvm7pL76/uUvUiKR9IKKjccWZm18FxS4flsfeXrefYra6noQYea+d3SMdn0boOmurT1ccbrxLIxQ9RbbmeurM2sD4upX7MNvXVez0MPJaWMrRv37acFtups17n3POeXVuHdNksiD+qC+AVI+AEcFH5E97o7jhFMCinTBV/tZaPM/Rt351n/cg3Qd5HqprW2rf+Ofr2fUmXPY5U6+lECy21K7a109JipLfLlqPN6eU7zfn7u0i9mJvddtU+eLa6y3b+sZ/kwsfa91nsroN27scbebUWs0MgdcG6u3B9NHr8fvT93ebU+pKe6ViMs8p5ssuc92wgvkh367QI4puCdOC1IuAEcHGz60BKFvqS38W57/VBtXSzNvUbnfRJiTzVxx+qGLJ9k+K035X6xQxc/xxH+76kU46jb5385qbUV6hX3zZt2WznlPK1GXt/Ntu3ZbbVlJYXP0TNffC62JTN5thttjPU0GO1/A45+iyeW3b3o268RPff0iydtjyPpU3d2RpaH4O4ev+h/loLm/rqW+bcY+nbvi64TJ3NOhc774dU6PjbvZKmOVJbrnPgNSDgBHB5pj/ToZUzT2OrDRwSh8cj8yULTYp83FihH0nBbc9TaIvtx2F1ZMDKj7PF+raaUoA7992gaRtWTjmOpnVSracm3bDhhjAO+1LCmrbZV44m5iar1I8rG6SjtMhJ5Wtzwf01nsNL1YuKbR2lr8ehso/M0Btci7JZHXvTdkrX00kGHmvXd0jnZ7Gp7EPOT9YvMLn/pvVDVJ3H0qru2q6buoH1MZB75UnJk8Xx2tRX0zLl6+HcY7H4zDaW4bic/dups1jH9rxbyB/k+ovmOVLTrPNt0SIch85x2jjwQgg4AYzA9DkpDbThzrfaLVUM9+84jpy7K+3qI2YGG+2u7swyvqLKACDterc/W2kjv9J/J9hU020717flznUbHPoLhXH/vo80bcPSKcdxvM5E9zf5IB8zrcyoivn2fG2OBsaoO95mfzmazFZmlFGzjburXdZP+LDESeVrc7H9tZzDS9WLzLby0TyLbfmPWu721QFYLPWXze7Yj7dTvp5OM+RYveWu/Tuk57N4XPZ6HfSYXStIFlpE9Xks7equ7bqpG1IfQw0Z7dSmvo6XqV4P5x5L/2e2qQzH5bTZTl3/Opbn3YZ5kKvaCPC51tGFgVfg3Y8fP368e/dO+/2+/h4AVDiOM+p3RRyaEW5t7jIAACOIFTq+Hpe79mlZ8AJK/UGPHoBwzvC60cIJAAAAw6Sgtk6dghfR1R+0NgUP8NoQcAIAAKDgzm8VlAd+w4uLvyyO596UspbPu6gyHyjw2pBSC8Da2Cm1AAAA+LnQwgkAAAAAGMW733///cdvv/1Wfx0AAAAAgLOQUgvAGim1AAAAGIKUWgAAAADAKAg4AQAAAACjIOAEAAAAAIyCgBMAAAAAMAoCTgAAAADAKAg4AQAAAACjIOAEAAAAAIyCgBMAAAAAMAoCTgAAAADAKAg4AQAAAACjIOAEAAAAAIyCgBMAAAAAMAoCTgAAAADAKH7ugDMO5TiOnOlaaf29s6RaTx05jqMwrr8HAAAAAFB7wHkIqKp/U4Xry4ZuLy0O68foyJlOFcal40zXmprjf57DT5XGoablc1AvEwAAAAC8ci0BZ5tE0WKi6UhRVxH8PVuzYarvj/XXJCWJIn/yQq2XqdbTiSZ+pCQpvZwkivxPzxTwtnv+cwQAAADgreoNOL3lTvv9Xvv9Tpsgey1ZfNHPFm6Uj3PpZa9FD+Yo3bm2+732+63mbmW1i0vXn7Qwgaa33Gi332u/32u32ygw5QIAAACAt6A34DxwNbs2EWdNug5Nymn2Nw3jUp/JPD03VJzGCktpotMw71uZLeNHZpXIP2pF696HJKWKw2kpBTVU/L2ywGDelYkubVJqi2Wq/Tr7y10W60sebQYbbecz5fGt68602lYD3qO0W2eqcN1U97W+pkd9Wy9zjgAAAACgbEDAmWr9YKIN76oIhOLQ0WQRqZL9GfmaHA3UE8mf+IpKCybRQhOLgMVmH3E4kV/duPxFHh31SxYTE2RNtEgkL9joq3VzZqxwslBiWkpXM/OqRbkr0u/KM3yDa7ORFul6epx2q0TRwreq02annyMAAAAAqOsNOCuBWCRJnpZf51nAma51l7+2y1I/97uNAklK7vWtHlV5gTa7anquHr8rlav5dn94Ldhk21rNLPcRq4iF89TY3aZIjT1FEvn6ZBVopVpPfUVm39s8SLUqdxtPeeNqs0NL6CEVeK9dkQt8194S2+eUcwQAAAAADXoDzipPwaaU1pk+mda7RIuJScOcZMGXlOipFvQEtyvNXHWm5x6x2UfRMhjoNi+cO9P81nIfLYFbYhG4RX7WIipvWW0RtSl3q5734wezndLxSnLnt1lA27d+h5POEQAAAAA06A0480AsC8ISRX5HP8afxJDALdjkrZYLfTq3Ytz3+mD+WQxYBMBaHL7ifsWlft5tcwP3l9/0t650J2jfHvrq57g+L6n/fOK5Va+Hcc9/7me7DvqP55x6PWfddv1lxuvRMv5Inc34Kng1egPOnDv/alJUEy2+mCvAvVLWFlhKGy39XSTbctA+It3lV10aa53ltA6WrvMWxL7UVkmaaWXyTJNFadqSQeXOzVQ0Kka+wnV6+MJNY4VT86Eqtl06Xknp+q5o+ax3AY0ezGBCZ9QL0CgfhMoJG0avjhU6zmhTKb0dqdafFkryVPSt6ZYAAK9C2/zrpb/Ou3+gAUEhDOuAU3IPKap5qqk7V/ZSKW20+Gu6+ezmXuV9EEsjoNrso1im1Od04hfTi9g49FXNBvqRJAW3dtOgzFZFC/BiUi9TR7kbzFamxVRStJhokq9THsyn6XgdR5OiX+dnZfGmq483hzqdnFAvdY3nCL+0tJjMNpLP9dAi1VNSGvn6ZFlf6p86YI3DZ7w5uVB9PmuZcTkXOv8/BVMX+YPxTXD8wLz5SXmDc+r1nHWf/7P4mucmf81lw69nQMApafb5qJVzttppE3imxe087vyrlqXJJvObM5t9zFa7yrrZ4DeH4K2Zq/d5DmuZ5ylYbrSz/nIttwAfbrptyn1sptW+YT3PU7D5WgTAs9VOm2XQsExp4CJTrs3gemnXdo7wqwu0XHrnDVgFAAB+Hs84jz1et5aA8/Ckqxy8VJ6AFcGYq9lqay6o8t+qaGXL16nEb7NVQ2qZq/lqW2zjsO++fRyvu9+uNHNnWh3to2q2qm9zr/12q1VpDszjD0zTMZ1SN20a1ttutcpG8zksM1/1LGOW662XpuMZeo7wq3s//6qll2jxqavvjUnbqj1xrfezy/vbpOvy3Lrm/SKFt6OfT3mZpoyCyvvH28n3XzwhbtuPyilDh7/K4cWhHCcbMCzPSOhNMe4of72u6vI6q+yj53jrx9D1QLyzbnr203le8/f9qJIZMug4yk/1nePrrEm9PvvKWNdb5tI5ad2WxXHVVbbZsM/6OXUazmvbuWx73azUXdaOaykOs3JWy97w+RxQ9r667bseTjv/bemnDcdS0r1Nm+Me9v3ZeP4uqOt46mWqH1vDqSicuu7zfha75yY/nie9PK+5lHc3caZrxXE+X7u5fmrzoR/+qi237fO8d5etrLhGau8V9XTu8TSk1PZvq+R7rHV4OGety5W01wteUkvACQBDmbT7ZKG8m/dZIl+Tp1vzcGOjIFlkaeEP15XXjgbrivzSMjstvUh+6aYhXU/l+NKmeFiz01KL4/lxI1++evpcxqGcyUIfNqUHP5tAkV+60ZmtsrKWBmHrfFDTU/5OcajJIlGwOeyj/3izeYRVjNS909Vd941zU9307+ewbv285udwtjpO5bM/juzmyY+CYpnd1d3hpmuIjjLWdZVZ6t+WzXHVpeupslN2WOfmvjSGgM11mWs4l22v95e1/1pKFpNSfTRc3wPL3lW3J18PndtNtZ5OtPhg6mafTxcWaNP1MLlzmwOP20bD+buovuOp6L8u2tmv+xKfxWaxvhzNk94yr3mykO+X52uPFU58RUmWaXeUyZYvNXSe9xbFbATRQ6lOU327z7aczQl/zvHUDdiWpGjha1GaHL5tudyl6gWXR8AJ4HJmK20CKfKbbwgG8ZaltHYzoFbDa8n9t+oPSWWZPAg+zNn7ZZEo2NSyIyrL5AJtOtPq02wArmBzlBmwCaRk8eW0Ougsf4c4lONHCjblTIUhx5tzNd923DhLDXUzYD/BppQF0nIOj9hsP5uP+dCHXXLn28PcwUOcVMYWnduyOa667GbQWx66WGTnLM/AGXpd1s9l2+unlLXhWuq8vgeWvaduT74eOreb9cfObsTNEteBpEd9b6wDo2ebg47bSv38XVjn8fRpuC6snbFuZ5mHXt9ZZljz3OQzfd5stCv1f90tzYKP34/rKNhot99n2W/5NH/BrVbzmWbzVTFmRzEtYe88711lq5ldmy5WkYrJEeIvZqyPfADKM46n/t7QbXlLMze8xVzzvfVSXwHPiYATwEXNPi/l1UZQflYf3lef5rtX8mpz9kZ+NZ0nS8OqCa4bfizLjm88c1Y3oG26yt8mWWjiR/KWu+oNq9XxzvR56Zl0X8vBNup1Y7WfM9hs3yzz4f3F23LGY3Ncdek33Sddxznwuqyfy1z9dauyWlxLndf3wLJ3Ge16cHXlVacuix8iSR90+q4ueNy5+vl7URbXRatz1h3A6vq257rSl0+HVNBiMMojnpafy124zPR40Z3Cdax4HRZBVDFkxlnzvNcdZkfIr+nseq5eQycfTwP7bUnB7dzMDW8xZeFF6wWXRsAJ4LLcub4uveo0Qa9MUE5bK/4GDmqQP4ludc4N6EDeUhtzU9aUbdR3vO4865e9CfIf6tNaqPv2c66xt/9SLnpcI1+XfWU961oauewXlfeLc/K03abWHEtv6bhPdM51cc66Q/Vd31bStaYTX1E9b9RK9kBDShQtfPmLSIkXaLkbWIYBirTax+9Ky62En80Vfdbx1FxyW3hTCDgBXFz2JDLR4stD/Z3mkaEvqZ6Wkz4pyZ8Om6fHj4ObCxqYbZVbOnLxQyR5V51PeVt1lb9Dni4Y+aVWgIHHO1vttd9lLdQNh9Vu4H4Gs9m+zTKvzSll7ltnrOuyb781rddS1/V9ybIPLK+19Jvuk/r82mcEmxpy3M/w/Tmy1uvCwjnr9rrk9ZK3tHml/sN52mgfk86a9/ff77PBHivB5knzvHfI02qTe335cm/KfqOP+T7POZ66gduK7taKU0lKFXfMNS+NUC+4KAJOACOYabUJpCgyPxAH7lV1+pRsYI/aQudIyoMKxAr9qDSnbp6eVWt9jcOO0QjbZNtS5B+NSpvt8sSBOjrL32222mUjBefzAdscbxxWRyi0DHCrLPZjqzGF2Gb7pk9Wqb/bxa+tNo1ltmFzXHVN66RaT/MHDSNdl437PeFa6ry+L1n2ka4H970+NM2v3Xq+bNgf9znfn9mIpCOmpbaxuS7aDF33WT+LLXOT54FPEsm3SBttUp5j3XEcTaehCbwk23neG8vWKE+rTRSZAXq8m4+lNN/zj6cwdFvJQv7EkeNM5OeTyLeli1vWy4t9Dn5xBJwAxmEGvFCtH1U2Z+3hB+HuancYDOACvOVOu6s78yPjK6oMUpK1BO6Wqv4g3V1pd8JIju58W4wkWWzLf9Ryd/rT1L7yd3M1324UlOYD7j3e2UobHdIDs4GHhqdv9e7HlrlpyOs0v0ey2X4WcB9uZC59bbVqKbMNm+OqO15novubwyBCY1yXatzvCddSsOm8vi9Z9nGuhyzlsZp6eepopge2xz329+cobK6LNkPXffbPYsPc5O5cXzfl0WU9Bcul3fznxSA+VUkSyS8eJGbX9tF87TWNZWtRpNVKkgLdliv4nOOpG7QtM2986SC9YNP5e2hTL3gZ7378+PHj3bt32u/39fcAoMJxHL4rAJwkDp1sqo6OG8bXLpuS5sNRn82214Eh8hZrb7k7TOkSh5r6kZK+qXeAV4wWTgAAAGv1PoTZlBqtqX7AQJWU2nxeS64vvGEEnAAAABaytEuvNn2Gr8fl7k233OJ1mK12Wh6lhHoKlt2ppMBrR0otAGuk1AIAAGAIWjgBAAAAAKN49/vvv//47bff6q8DAAAAAHAWUmoBWCOlFgAAAEOQUgsAAAAAGAUBJwAAAABgFAScAAAAAIBREHACAAAAAEZBwAkAAAAAGAUBJwAAAABgFAScAAAAAIBREHACAAAAAEZBwAkAAAAAGAUBJwAAAABgFAScAAAAAIBREHACAAAAAEZBwAkAAAAAGAUBJwAAAABgFC0BZ6r11JHjOJqu0+o766kcx5EzXav6DgAAAAAABy0BJwAAAAAA5yHgBAAAAACM4mIBZxqHmpo03OxvqnAdl9JuD2m6YVxaMQ5rKbqxQvP/cRxq6jhynFDlVQAAAAAAr19vwJksJqUg0tFkkdQXUbqeauJHSipvJYoWviaV6HKAZCHfj3S8NwAAAADAW9AbcPaL9cUEod5yp/1+r/1+r93Sy96O7lQbd8hesNFuv9d+v9Ks/h4AAAAA4FXrDTjLQWQlkMzFD4okSYFu527xsju/VSBJSvR0UsDpafl5psMWAQAAAABvSW/ACQAAAADAKc4PON0rZW2eke5KubPp+q5o+byu5cNGD2YwoTTW+i5bCgBeXLo2A5UNn2s4Dh05p/ZZHygOh5fvNNkgbs90WANlA9HV54oew3OeW6Du+T7vADCOCwScc91mubOVAYbywYW85WfT/9LVx5u8X6eviePImfhqGIMIwBuSrqctI0lnwcpzBASXkWr9aaEk2GRdCLbzXz6lP13fKfKW+lx6aJid79KI5CcFYmY08tLf8Wb6lnE1vw2ULL40XHu/hsucC0v5iPKN++g7V+1sjsFmmWYto+Pn7xbbnXaMNXE4ttf7XWZT/zbLXFDn9WLYLFNjcy3YLFN2tHzDOj/PtQK8jPMDTkmz1U6bZWBaOg3PU7DZaVvp1/lVm6C0lBdos9uYvp4A8JJSPSWSd9UTZsZhz03HzyLVt/tE3s3HIvBO11NNFtJyl/fr3yiI/KObs26p1lNf2hzGBtgEUuRXb4DjsGmZWr3PrhUo0sOQ3f8kLnMubJigzW/LRrI7n01sjsFmmVbxFy2SQEGQZVa1S3T/rfkDfcjWeq3s6t/q83QRfdeLLJc5ZnMt2CzTyFuaQSpL6zS2Kr/lawV4OS0Bp6v5NvvglQNGSXLn2+wDWXn672o2X2lbfFj32m+3Ws3qN26uZiuz/n6v/XalmTvTqrI98//7rWq7BgA8l/Sb7hNPNx/zL+JsRHJv+bX03TzT56UnRQ8DWhmz35dVqdV09nkpT9Lj98ON3GzVtEz9Zm+m695g4md0qXPRL11/0iLxtNztVB8zMGN3Po/ZHIPNMu3ih0gKrrXKLpKW5QMtl15LS7l56LJcvuIH43b1b/d5Ol//9WK3zDGba8FmGRtmneRe1ep569cK8HJaAk4AGEm5n6T5qz58Nk+/a0+k6/2Y8n51cWi20/g02ujbZxzKcXxFpa4BTSlRcZg/lU+0mDSnTlXSs5rKlKeRdS1TUxxjQ6pXrrJMbbnsveO053qdlqXf7pXog94XzZvf9SjpQ/FCxn3/QXrGVsaj/V/Z30xm56ZWD00t1uZ6qVf1uee285rtWbfiGc9F9pD5Ag+ATZ0WnxebY7BZplWsLN6cFS3h5XEmyt5/vJHXtL34ixaJp5uP72tvNOv6DBbvh3HvdWTzeb+Uet2ey+Z6sVnm+a+XqmydY5e6VoBfDQEngOcTh3ImC30opXbtN4Ei/zhwsxL58tXT59Jmn7NVlkZVmgqqnt2RLZatK3lFylZlucjX5On2kJaVLPSpdFzpeirHlzZFNshOSy00abjpzMWhIz8KinV2V3eqZ6LFoaO7q9IUVrulvMgvAqasNaN2k5SudRdJwW1zvaVZfvHhvfRJiTwdZRwXA8edIX1S0nCjeGD619b6k6q4MXxUZ2Oa4TbcLMYPkTxP1Zae9ElJfcC7S53bhmvWet3cKeei4aHL4e/CqZW959PyGGyWaRM/KCrOYdYSntx/a65P96NuvOOW8qyF9LY7MDL6PoOFnuvI5vPeq7f+2z9Phee8XmzYXAs2y1hKvz/WX8pc4FoBfkUEnAAuIJJ/dFOStRgepNmo1MGmktql2UqbQC1pSn0CbSobqxtjnx2CjfbFjuo3uVm6V7BZmYHUpHzgm+PUrVzWSnMYfC1rHdjUcrZmq1rgW78pqv+/8hbM41HEM6m+Z00FjcHoZcUK/Ug6uvk9DPjiOBMtkkCbpocK7pU82/mej+oh1ffHQLe3HyrBSJ6KWSnOxc5t/Zodsu4Z3Hm120vlr6e1aZCW82n23/Qg5/Lyz/3hHM6yE9ZSn6a+o7tDIJU/kGn+gBzp/Qzmeq4jm897t5b6t/085Z7temnxrNdLTbrWp0XSEkCef60AvyICTgAXcHgif/irDwiWDcrT9KM8uw6sW6kq6kHBkRH2eSqT7hX5tcC8q/miJUXsWPlmMr+hLL9vRgkvUk+z/kb99TfA964WkfyvKa3XVyRPy6/1m9/DWAL7/V675aP8hhTmYUw9PH7PbvDTb7rXldzZtYLkqXLT33TNtBpybut1PmTdN6D9fD6j9Juyy7tU07NrBV19Fmvvp9/uu1sAj/R9Bi1Yf97btdf/GJ+nn0iyyGZPcBw52ahDpQcDNWdfK8Cvh4ATwPMwN1PtSv0FL+Ul9tkjKKf2XqTFINV6OtFC5VEWjwfjcOe3h35sTTfkTfLATGpvSczT2D52tYjkf+VWvDx90NNy13/87vyrlt75rdLuxxt5pqUr/XYv3XyUK1dXnkm1raRiDnPOuR20bt+5aFrnGVIkh5xPq2OwWaZB1npfD+LzPtpt149pbVx8UZwPPlMaobmb3WdwbEPqv/fz9AzXyyA214LNMm0qo9T2tayec60AvyYCTgDPw32vD2pIMctTGIv+gq5axmsYznqfz8CUpXvkzhqbdfLgsaUv5sEhfS/ufSLfcA5aypL1dRoeuGc3x1Kw6b85rqifM5ubyTL3o268rHUifUpMa1LW8hk9xNnx1Fsh+7TUjZVT1m1Zp/NcjJwiOfh82hyDzTJH8tZ700+2/LcJOgePKfo6h9lDh1urAxnyGezRcrw2Btd/rv55yo18vQzWUjfnXy+nOflaAX5RBJwAnkk+PH1tII04zG6USjdr2cijhz4y+c3UcPb7tNb2FL1XVpZk8anaOhCHjSNVZspP0jNHddEQVMdhczpf1o9tId/iibx75UlFmqlKZSmV3/R1Kvc5s5Gup+bmuDpVw0GssJ5+G3/RItFRuY9uJptGna3Igsvk/pPuokNLpvv+g/T4oC/3SX/L75FTzm3ulHUvdy4uof98ZuWrjDpqdQw2y9SY66TxHM6uFbQ8gJJ06HcZNfTh7TLgM9jN4vPeoL/+7T9Pr8ZzXS+nGnCtZKMOd30nAT8/Ak4Az8adb4sRYov0LP9Ry131RilL9zpMPXJ3tdPuxPw0231ac+e6NROrOw1TZ3Rx51vtliqOy3EcOXdX2nUM3jFb7bT0DoMyHdfFTCszIma+TV+b5oFGZp9Nml95fs1mTaO/zlZ7bYLDecn7OnWnn9VlKWg6Snks35TN9Nn0MTucs0jB5jjVrT6abuvokiVZWm2ipNy6M7tWkESKktPSaU85t7lT1r3Mueh3mMLDBFDFdZYHMDbns5nNMdgsUxY/RFJrSnQWkLRPo2P6+KolYG014DPYo//zXmdT//afp3P1Xy92yzSxuRZslrmMU68V4Nf07sePHz/evXun/X5ffw8AKhzH4bviTSv1NesIZjKxQsfX4yg3a5dyXMY4dOQ/2hwfAAB4DrRwAsCvYlBfM5Pq2TZ34WtgBvg59J8yI8xaHR8AAHgOtHACsEYL59t2mFS+Olpsu6wFUa19w15S1lp7f3No3UzXU02ebtunMwAAAM+OgBOANQJOAAAADEFKLQAAAABgFO9+//33H7/99lv9dQAAAAAAzkJKLQBrpNQCAABgCFJqAQAAAACjIOAEAAAAAIyCgBMAAAAAMAoCTgAAAADAKAg4AQAAAACjIOAEAAAAAIyCgBMAAAAAMAoCTgAAAADAKAg4AQAAAACjIOAEAAAAAIyCgBMAAAAAMAoCTgAAAADAKAg436J0ranjyHFCxfX3ThIrdBw5zlTrtP4eAAAAAJyGgPMNir8slEjylp81M6+l69AEoY6mYaxhceNMn5eepET334atCQAAAABtGgLOVOtpFri0/k3XAwMaXE6sh0iSPN18dM1LoSaLSB82e+13Syny9aXS9JkqjUNNy+d1OlUYH86i+/FGnqRk8eVCraYAAAAAfnUNASfq4tAEaeErCMXiB2Xx5o3yeLNbqvV0ookfKUlKLyeJIv/TIYXWfa8PkqRID6/gMAEAAAC8fQ0Bp6v5dq/9PvvbBOblYFO8tt/OZRXr4OLS74/ZPz68P5yD2UqbwFPkO3ImCynYaGVybdP1Jy1MoOktN9qZc7jbbRR4+QYkaaZrc64fv9N+DQAAAOB8DQHnMOW+g8f9B/P03FBxGisspXRmy6WKw2nptXKqbnXddetyZunOcphBcaZrxXG+XDbgzlGqaWX7WRn8yGwm8kstnYfU40rDZxxmyxRpx+37Vm+5j6VPWfToXVVD/tlqWzwQ2ObRpmJ9yaPNYKPtfFYEqa4702q71by0Gfcqi0CTp64SAAAAAICdswLOOHQ0WUSqZGpGviZHfTwj+RNfUWnBJPI1cSbySy8m0UKTo7TVbN1FfbnSPqzLkSzk++XlYn2pp5q2luNMR/seUO5CqkMDp0Ubc/pdZnEF13kQauHxe8v+AQAAAMDe6QFnutadGbxmuTOptruNAklK7nU02KkXaLPba7/faVmkcnoKNrssxTN/sSnY8ZZm3dJy+T6GliPI00pXmmmmz5uNdvl6+712yyKvVKlJLz5KKy5aEAcq73touc/iqdYg2sh9n/XiBAAAAIBLOCPgfDItc4kWE5MSOvGzAW2UqJ6VGdyuNHMlydXHGxM0BrdaZS8egp3k6SjgDG7nZl3Jnd9mQVm+j0Hl8LT8fEgrlSTXlb58OqTrThZ5/uyl1fY9qNznuvT2AAAAAKDf6QHnzyBdazrxFdVzan8WxcizUmQx9GwxIBHwisRh3wjRpj91ayr6a/AWyohj4523OBxnuz8j+7oa73x1sS9fn5cpf67/u/aynnt/AF7O6QGne6WsnbKUElr6OzXrtEl0t1Y2ZWSqeH1nWgEDXc/OLEfeyugF2tRTageIHsxAP2msdZYn2++kcrvKG4LtRpI9jDyryFe4Tg8/YmmscDo9TItSVh4BF7DWMpAWgF9Xuq4MjOc4jqaNPzwAgJ/VGQHnXLdZh8NDSmjxdxiF9SKShfyJI8eZyC9GXb3WTGeWIw/6kkh+R0ptPnprdZTaUmpw5GtiUmLz4vU6sdxDR5KdrUy/UEnRYpKV05S1PIiT1D4CLmAl/qJFEigI7FrUL8dM5TTGdE1xKMdpeTAzyBllvFgZ3phXcdxnnDdkLViThT5syg9Ud7q5n4wUdL718/VM5R/7szX29gG8OacHnJJmq502gWda6sYTLKtzRnrBRrtSE+DJ5XDn+roJSut5CpbLIkDLufOvWpYKkAdk7vyrNtWCaZMP/GPhlHIXfV2bBldqNNNq37Afz1Ow+VqaFiXWg4m1rUbABWrih0gKrrW6DqToofWhCYBfQBzKj6RgU8/YyYKqbXlOLgDAT6034JytzFPJxhxPV7PVVttaOmg2Amz2/nx7nCLqzs2ckeUXZ6vauiXvZ1qZ7ezNPJPVn6q+csy02u+131fnnZQkd7YqrbfVaj7Plq08YXQ1L89zWWwk22+xv+1KM9fsq1i/fd/95W4wuz5hJNuG/Wy3xYBNkqT4oZqqDAySPbAIrmfmGo10V3u8nffXSdeHQbqKvkr5/LXl1+rKy9SyABr7UFWWP36/szz5+35UyULoapWJw1qmQi2vuF7GfP/FevXy25ThnGPsqPM4zPZTWa8p88Jy/03H2FVf7cdt0rbPqdueMte1bbuxTjtUjrct57y3bIe09epfdm7OPu6+ZWrpsW2HIaVZ9xJvqc82vyd9+63rKEf1fNldL13ba9J9Lu322Xau2pbrvt66r4uyOGz7bB1076t2/LU6sNl+Xd/+6ufHOTpH59U5gPH1Bpx4bfJ+mYnu7SPOXrFp3vSWn9uDXaBN/KCoeFiRXaPJ/bfjH/PI1+Tp1jz42ChIFlma98N15bVP9RuUyC8ts9PSi+R33Cyk66kcX0Xf7P1+p6Wq8/dKzeXJ9z1b7bXfBJV+1m2tMnHo6O4qm+Jpv99rv1vKi/zeG1dFvnyZ6ZYa0ui6ynDOMdrUebKYlNY7rvMh+68fY199dR23tYb9Wpe5T0Od1uuvLA4d+VFprICrO/m13hv9ZUu1nk60+GCOaZ9P2RVoU35IeeJx9y8TK5wspGV+3na6ujsOaDKpnhK78QD691s3pBw2hm3P5lxaazhXjTqvN8vrwuj9bHXua4TPbs/+FIfHadmbQJHfH8g2sq1zABdFwPkGzT4v5UlKFl9afxSHydNpPd185OsXQ5nWjLxftaRZFnEet8J7y1I6vHl40vDaUbBaWcbV/LZl+5KkWF8WiYJN+WarZZ1gU8q0aNm3hdmqdlPlftSNZ9OXNdCmMXukz4BjbKjfpteOjruzzgfsv+EYT6+vIer7HVLmHoOum+z7tfwwz51vD/M7m2X6y5YFcUEpBWV2HUh6VHUMuVOO22aZOlfz7XFAU9Y/HsAp+63rL8cwXduzOZdD1M9Vi87rzfa6sNS5rxE+u537y39bNtW07NlKm+DUeyDLOgdwUa844GxOx4Ukd27SY9t+FIfqSvsFeqTfdF+74cnSai/YCl9vKXGv5LXNL5t+16OkyK+lfZ3cDGGjntI2sRtArBSkD/Icx9hV50P233iMJ9bXEPX9DinzJZn9dvaNtyqbq6vajX2WmfJBlU2fctw2y2imz0tPyWJiPSBM7+B2VvutG16ObgO2Z3Muh6ifq5NYXhcX8wyf3cJxMJ07Oai+SJ0DGOoVB5wA3oL0272So5tGX9FFW+GHCyojY+Z/YzxUMSltWmpX7Gen5ZDRwE70fMfY7LT9v1x96eQyPw+rsuWjpTt5aqfdg0ebbfctk4+/sAny/nltqadZEGQ7uF3ffuvsy2Hn0tt7ESdeF8M882fXBPjtxgqqAVwaASeAM6T6dp9kaVH1G8ZNICnSqZlWFfUb1/RJiTw1Zuy57/XBeq7aC8hbeG+fsT/QcxxjV52fs/+z6uswF/Fg55T5HDb7tVkm/ab7pD5vs0VQYbNtm2VKZivTd6/1822mDUsW+tL4vjFwv3U25RhyvfRuz6q8w/Z5tlOvi1Oc9dk9ganvpnTd+CGSvCtTjmeucwCDEXACOF38RYuWlKd8ROWmm4XBkoUmxQg8sUI/koLblhaQPEXuUzU9Lg6Hj0rYlbqba7gpisMLppk1luGCx9ims87P2L9tfTUet5mLOLor9psN4lJdptkZZT6L6ZdWau0/LrNF2dz3+tA0b3Nv2S22bbNMHFZHAe166CMznZiXZT7UB8+KzSjIVvutG1qOvutl0PZszqXFPi/plOui5bPV68zP7nDZ9aH6AGz5lDulwPecOs9Gre1JpwZwFgJOACfL+gq1TaVjBqi5wJyc3nKn3dXdIV23MqDNMXe+1W6p6k3Y3ZV2Q0cldOe6DQ7pwvUb58xMKzNSY5HSps0ZA4nUtJThYsfYJth01vnp+7esr9bj/qqld7jBvrvaaWeZ03d6mc8zW5lRfs0+m8rcX7YsTbWafto3omumf9sWy8xW2uhwzhw/UrBpT3vNx2HYLb2jPpp3V7ti4Jne/dYNLEfv9TJwe3bnsmefF3XCddHy2ep33mf3FO58W4xKezhHj1ru6tPtPWedAxjq3Y8fP368e/dO+/2+/h4AVDiOw3fFLyAOsxvJ5vmX8RLS9VSTxYejvnltr+PX0Hb+214HgJdACycAAG9CvW9hNq0II2/+6rguALxutHACsEYL56+BFs7XKWu1qnaY85aH9FT8mrguALx2BJwArBFwAgAAYAhSagEAAAAAo3j3+++///jtt9/qrwMAAAAAcBZSagFYI6UWAAAAQ5BSCwAAAAAYBQEnAAAAAGAUBJwAAAAAgFEQcAIAAAAARkHACQAAAAAYBQEnAAAAAGAUBJwAAAAAgFEQcAIAAAAARkHACQAAAAAYBQEnAAAAAGAUBJwAAAAAgFEQcAIAAAAARkHAea50ranjyHFCxfX3rMUKHUeOM9U6rb8HAAAAAG/TzxVwxqEcx5EzXeu54rb4y0KJJG/5WTPzWroOTRDaXJZ0PZXjOAqLCHWmz0tPUqL7b/WlAQAAAOBtagk4U62nWcA0rTW55cFSUyA1mqIVcWAL4KnrWYv1EEmSp5uPbvZSutanRSQtd9rvlvKShT6Vd56u9WmRSMFGqzxCleR+vJEnKVl8OaOlFAAAAABej5aA8+cVh6bl8dC8eLr4QVm8eaMi3vx2ryQPQN33+iApecoDzljhZKHEW2pXjjalYlkp0sMFigYAAAAAL+1tBJzuXNv9Xvv9VnMT2Fk5dT1L6ffH7B8f3stm83HoK5Kn5dd5w/IzXQfZvx6/j9IcCwAAAADP6gIB5yH9ttJoeNSfMl8uVJzGCs06juNoGsZKlSoOTbqu42gallJ2G1Njq8s701Dx9/y9fJHyetn+/ci8F/lFS2dbq2eRPtzSGpo+JZIk7+oQPrrvPxz6Yqbf9Zi/H4fyI8lbfm0Nft0rT6q0iAIAAADA29UbcCaLySGocxxNFlmQdbpI/sRXVNpMEvmaOBP5pReTaKFJS6AnSXFYXV5JJH+RR5PDzPKmxeih1H8y1bf7bPvBdS39VZKU6tDAWYogZyttAi+rt8lCCpb6+vGbpn4kBRtt26LNssfvz9c/FgAAAABG0htwjsILtNnttd/vtMwa9SR5CjY77fd77fIXWwOvfLAeyVtm6+x3m9K2mriab/famNhSwSZbbzWTZtfKXi71n4y/KIutAzXGmx1mq2227f1e29VHffu0UKJAm9Ws1oobV44vax0FAAAAgJ9Db8BZBHTmrwgGzxDcrjRzJcnVxxuzveBWq+zFQ+CVPDUHnCZVVQp0m7cYujPNb/Nocqh8WhIpMhFnbCLa8nQnp0jXn5QNSrvSzKTVLnd77TeBksjXl/ZGXAAAAAB403oDzl9FPi2Jojut07Xu6tOdnCIONVkk8pY7rWZ5EPtB711J7pW82gBBxSBEADBE0V/9maesKpg++i+yb/Qb9/zEYftYB+Ma97gAAJdx0YAzejApommsdRaxjSzSXT6K0Ln7dD8qa2xNtJgslKg63ckxV3lDbPOosrHCbJQgfbXpt1lmOeot8BoUg2uV/17k5vNXlWr9aaEk7yawbRoFGwAA4GVcIOAspcVGviaOI2fim/6PI3HnyrNni0GNLPeZjwRbHqXWvHOUkhvcdt+4dY0q2zQFSrb8o76nktInJbUBh5pGvQXeBG+pXZF6v1EQ+W+v1SEOayNhvxWpnpKX/t7I+shbB7tvtq5fIau6HHh+2ljt6zld6LgAAKO6QMApufOv2gSlvp1eoM1uYwbiGcdstdPyhH2686+V9So3acXgQbIaLKjoa1ob3Cg1fTWDTXX+z2zf0mLiyPEjecFGq2Ifh4GQKqPeAm+O6ROd3Ovbq7kxBQAAwEtoCTjNU8P9/mgaD3duRmCtPFF0KyOz7rcrzdyZVpXlDts8BFml7ZVfnK3MtlbZgD3uXNv9Xvt9OYBzNe/bp8V61eNzlTeAKrjuHywoD1BrN9auKX/5kMw71X2XF4gflMWb/YEu8No1jricz83b0tcw7wdWzItber+etjutN7FYbruyndIycZg9BMpS6o/3UZQp/ztKGT7MR1z9Cw9TLfWUsVG5b6b5O57v2FdUyvY4qhujsw7KZWsqV1858u2X162tky/fXtemDmsbrm+36zoZWsdxmO27en2Vztm5+2upg0LP+p3nrLMuj7XVY9u262z21butnuNt0vfZazuuxvMFAHgRLQHnLyr9JjP1Zsvcm3UzZVN4Jro/synnUqPiAq9BfQCsdD2V40ubIu12p6UWmtRvBiNfvqp9EdP1VJOFGd3ZrHtz/6lI6xuy7cnTrVlmoyBZ6JPZyGyVjRwtecV+8odRcejo7qo0WvduKS/yS8FDqvV0osUHU+59Pv1SoI15aGZdxrI4lDNZ6MMmXycrY+SXbvRnq+xYSiOK1x8SVjTUwcRx5DxcN9aLZFmOI7HC7KQVx3t1lwVyXXVtreU6GVzHJlA/1MlOSy+SX1/npP2114Gs1j/su37ObK5bKx3bruvdV8+2rI+3pP+z16LhfAEAXg4BZ0n67d4MFrS0bmWcfV7Kk5QsvlSeig+Tp9OeOSou8Bqka31aJFJwazILYn1ZJNnUQMVCps/0UdptNl/tQapv94m85ddqlsI2z1oYsO1gU8qkyB4WJfffWm92c7NV7cbaDDCWT6GU96EsP6SaXQeH/tpDylhIs0HQKmn3WYC5Cc74vvGW2tXqoOm1Q71cqhyu5tvy8Z+rfp2cUsdG5fjb1rnE/sp1MGD9E69bK5fcdue2BhxvSf9nr039fAEAXhIBZ0k5Xdj6p6pI2z3nZsqkAldSf4E3JG8pcxw5eatOfsNn5s2N/FpqnN8wqnQ9ld1kHbT2ax6y7ZPV02UntQHKslT88k1wZQqkk8p4HMTmqsHs2E4tR9aPN0vzHWGQmaPr5JQ6NuqjgrtX8pSoMhbcSfvrqAOr9X8iJx9v32evRf18AQBeFAEngPNVRqltTusLyimZxd9lHrKMt22TLqvy8e20LI1XVshHvnYc+dEhnTY3qIzmBr2dCWbHdkY58gd4myDv81ftGzmGQXV8AX3766uDvvV/NsOOd8BnDwDwqhFwAhiX+14fWuer7dG3bt/75zItrJ1TJKXfdJ8c+rVlf6Vg85QymnWaUgfjh0jyrtrLc0kXKMdsZfreKVLDZkoOcxsPdkod52qjjGdTVnnqnGVm4P6O6mDg+m/eKcdr89kDALwJBJwARpanFh4G+pHMYDQdA4ZkmtZNtZ7mKYpN79tuu6YplbIh4IrDWlqf+14fSiN3Fn/F/k8po5lapj5ASj7l0rPdhJ9YjjisjiZaD+Ka6lpmruLorqinOHTUm3UpnVjHRrLQpChrrDA7sJZWt5zF/jrrwGJ9Wy11OYqT93XC8dp89gbIRq0dIb0bANCLgBPA6Nz5VrulmYM2D8jurrSzGEHyeN2J7m8Ogwgdv2+/7Qp3rtvg0M8sixVmWpmRMYt0WW3MKLTFirry6umC1RE4TymjO98Wo8EW6/iPWu6aplwaz0nlmK200aHOHD+qzkvcWNfK5ir2DsH73dVOO8scylPqWMoGu9ld3Zl1fEWVQYTa9e6vpw5617fVUpejOGNfw4/X5rMHAHgL3v348ePHu3fvtN/v6+8BQIXjOHxX1GTTtnw46rPZ9jpejzjMgpjKPNAAAOCiaOEEgLPV+ydm00AwWiYAAPjVEXACwBmyVEGvNuWDr8fy1DAAAAC/KFJqAVgjpRYAAABD0MIJAAAAABjFu99///3Hb7/9Vn8dAAAAAICzkFILwBoptQAAABiClFoAAAAAwCgIOAEAAAAAoyDgBAAAAACMgoATAAAAADAKAk4AAAAAwCgIOAEAAAAAoyDgBAAAAACMgoATAAAAADAKAk4AAAAAwCgIOAEAAAAAoyDgBAAAAACMgoATAAAAADAKAk4AAAAAwCgIOAEAAAAAoyDgfG3StaaOI8cJFdffu4B0PZXjOHLCvq3HCh1HjjPVOq2/BwAAAAD93kbAGYdZkDRd683GPpbHEH9ZKJHkLT9rVn/zbKm+3SeSpOC6b+szfV56khLdf+sqMQAAAAA0aww449BpDo6K1jdH01qzV6XlrFiO1rFhYj1EkuTp5qNbf/N86Tdl8Wag3nhTkvvxRp6kZPFllNZWAAAAAD+3xoBzdh1k/0ieagHnk7L2MSm5/1Z6b0jLGVrFD8rizRuNEW/mracKru1aT933+iBJivRAxAkAAABgoMaAU+6VPOko0Iiz5rdMJRhN9ZRIkqcrV5I713a/136/1XyEwOlnlX5/zP7x4b0uX22H1tPlZ6twU9JM+bOHx+80VQMAAAAYpiXg/KibLOIsBRqp8ngoUwpG0+96VKll7iilNtV6agbCSWOFU5Oy6ziahvU+jani0KTnOo6caaj4e2WBRmm81rTY7lRhfCh3ed/r0raP9y2l67BIG86WiU9Y5sRjyKJ2eVflcLOr7mKltX01HZPU3nraXm8Z9yq7EJKnxq0CAAAAQKvmgFOuPpqI85A6a1oxvaWWtVav9Nt9lqrZ2zIXyZ/4ivK8XElJtNCkNGJqHE7kVxeQvyi1rDZJ1/rkL5QUqyWK/Hq/w2zfi9K2k2ihSamfahw6miyiIm04W8Y/YZkTjqEU0H9431SLTXXna+JU91Wvz1zeOu3dfDycI6t6Mx6/NweyAAAAANCiJeCU3PdZ770idTZvIfvwXnOTZ5kHo3nLnFX/TS/QZrfXfr/TxgSuh2AmT/uUvOVO+/1e+91GS9Pa2irvW+oF2nSt4y3Nvvfa5Qsk9/qWZsHXXZ5yapbZ7zYKhi5z6jHYKNXdYXuegk22n+KYjoLDlsGILOqtuA4AAAAAYKDWgFOz6yyQMqmzef/C4Hp26OOZPCktWuZM/80ewe1KM1eS3MPgRLk8NVeBbvPOn+5M89vacnV5WZNIvuNo+ulB77+ujgbGCW7nZt+SO781x5foKYuaTatlosXEpJhO/CzIHrTMicdgoVx3eQu0glutzEEdPSTItaTT2tYbAAAAAJyiPeCsDBgTm1Fo80GB8j6ekR5iM9VGPZh5VjOt9jttlkE2jUcSyZ8wJUsm1Tprlq2m00pW9VYMZAQAAAAAA3UEnKUBY+7vakGlq7wx7fEu6795HMycI9JdHvWkcREwtYpDTcNU7nylbZFumug+y3EtRHdrZWPipIrXd6Zl0sxJWYzMW0qXLf2tbJc57G3YMZTr9JIjwpbm3ixaXHOW9SbZ9M8FAAAAgKrugPPjjUmdTY4GBcrTYRMz4kzzQDcDuXPlmafJYlKkrC5KA+W0yQbQceQ4k2L5ozIlC/mTbBk/Xyifk7LYdyldtvgLs4F0Bi0z/BjGGBG2GNCpZe7NvnprHjkXuBQzCnNp0K1TxeFltvMS3nLZX0J3fV3umgLUe70BAPp0Bpzl6VFUHxSo6OOpQyvhBcxWOy2D0k69QJt8YJ42s8/aVNbJBtKptjhKwXKj6qY32pUWmq122gSeacVsZrvM4GMo98E8GvTnVKlJhW4Z0Km33g4DIB0F74CkdD0tTX9UFit0Wm7SzLRJ0+OVAAAA8JN59+PHjx/v3r3Tfr+vv/eTSLWeZq13waae9vraxAodX5E8LXdb1TNgB0vXmk4WShRosz9hMKA4lONH0qnr46fjOE71u8JcY1rutC1fsMW113Atx6Ec//H49TPFoSP/canddv7m0r/fctlfwpuvr5E+AxjHm7/eAOCFdbdw4pnlAzW19KMcqC+dtk8xd+fy80nr4xdgsiAO8/Vm0m/3SjxPXsO1HD9ELzzIGAAAAJ4LAecrM/u8zEaMXXzJ+oSerCedtlfL3J1AhZmipzYVT/qUSB9usmC00ic5u67Kg4zV+0fFoSMnjE26rukj3ZCaG4elPtShxafFpPLm65RXicMsxbeyz7xfdlkcVvtuN5TLZpmhZe+sk/L+GvY1uDxNZWqtO9NfsrZ82zkt9lMuw9Dy1cvWoG3/jfXXonOdM+o8Dh2TOXIYC6CSXt6xbrF+U122nqNjl7reW8tS11e2nv2oSN8/LHOUkl/bR9N+Os9pfbn8/fpGAACD/QIBp6v5tmkU2VfKnWu732t/dgrrucc902q/135Pyhe6ZYOLZfP1ZrKgMrieZ8Fo9HC4kU2/69HmIUbka/J0a0aA3ihIFvpUusGMQ0d+FGhjRojeXd3J7xwIOlZoUn+zbe50dVe9wU4Wk9I+d1p6kfzSzWi6nsrxVexzv99pqYUmA5cZXnajoU4mjiPn4bq1nmzLc3eV18te+91SXuSXbtb7685K5MvXJtuGSU20Ld9J9VXXUH/lumrUsM65dT5b7bXfBJXRzvN09L51C0d1OfwcXeJ6l5rKUtddNpv9pOupsk0clrm5/3ToOx6HciYLfdjk72d1HPkNgWnDOT3vuwUA0OcXCDgBjMp9rw+SojzijB8UmYHE6sFolub9Qb1jUAUb7YsnJVmq+SFt17SSllK93flWm75RuSpczbe1hzresjSImKv5bSAl98oygmN9WSQKNuV1Tlvm5LJXymfS7xteK9dTf3myAKjS/9akSRfn80hD3VkJtKk8/bIp3xn1Vdd5TbVoqN+m14bWebMh69brss7iHJ19vef6ylJXLpvNfrJsHW/5tfTw09V8mz8MNXNNB5vqw9XZSpugIVuo8zq44PUGACgQcAI4k7kRN6Mrp98fJe8qa+kwwUs2t6xJ8z6xT3Eh/a7HwSMnz/R56ZmpippG1W2Ya9a9kqdET9lB6VFS5FdT9rLUSGPAMsPKfiKb8mQLZmmxxTKHKZIyFnVno37ebcr3nPV1CTbH1GbIuvW6POUcnXu9547KUtdRNpv9mLmk26+BVE9Jc9eRbPq2R1lPbf3WrjcAeCMIOAGcbZY1E+hbalojij6art5/yFsQ2m8Mn4M732q/32sT5H3nulMOmwTllL3ir5p2brPMc+oujxnFW0vtivd2WtbmfbpE3bXpLt/bdM4xnbruGOfo1LLU9ZXtrP2YILGdRUYFAGBUBJwAzje7VqBE99++6anWGlEEo+tDqu1ZTApv1mo63Gxl+ilW+p02zH+bPimRpyvXcp+XWuZSbPZlWo+C26a+d8eO6y57oHASm/LZLPOanFPec9YtOT5HLc693k9wVDab/fQtU0/pL8lGxDbZFjb69gUAOAkBJ4ALMH2hFovjoNIEo4tFZJF+ZyPf16FvVjbQR22xsjisjjZZvrnOJQtNimVihX4kBbemlSVPCywNVCKz3WJwE7tlBpf9ZBblabhZj8NaSm1P3blXnhTdFfuwPx6L8j1rfV2CzTGpmr5asFy3Sc85anT29W6ps2w2+2laJtV6mqfnZu+rMtBVto3skOwepmTsrrdsFFvL1GUAAAEngMtwr0we5lFQmc8vK3mdd8D2Ziszqqbp83V3tdOungdaNltpI7/SRyzY1FL2go12V3dmGV9RZVCVLC1wt1QxlYXjOHLuriqTwdssM7jsZ+gvz0wrMypt/r6vTXWQlJ66c+dftfQOU3wMOZ7+8j1vfV2CzTHJnes2OPRdzAMlq3Wb9JyjRhe43q30lM1mP8fLTHR/cxhEyJ1vi1FpD/t51HI3fJT2t3a9AcBb8O7Hjx8/3r17p/1+X38PACocx/kpvyviMAu0DqNXAj8vrncAwHOihRMAAAAAMAoCTgAAAADAKEipBWDtZ02pBQAAwDho4QQAAAAAjOLd77///uO3336rvw4AAAAAwFlIqQVgjZRaAAAADEFKLQAAAABgFAScAAAAAIBREHACAAAAAEZBwAkAAAAAGAUBJwAAAABgFAScAAAAAIBREHACAAAAAEZBwAkAAAAAGAUBJwAAAABgFAScAAAAAIBREHACAAAAAEZBwAkAAAAAGAUBp610ranjyHFCxfX3Xkys0HHkOFOt0/p7AAAAAPCyXjjgTLWeOnIcR+GQKK4I/p4v0Iq/LJRI8pafNau/+WJm+rz0JCW6//ZMFQEAAAAAlhoDzjjMgkCnJQpM19Ps/ela6ZDgb8iyZX3r9b1/tlgPkSR5uvno1t5LFYemPlpaP9N1aMqX/U3DtS5VTPfjjTxJyeJL474BAAAA4KU0Bpyz6yD7R/TQEMSk+nafSJK8m4+qh1+vRV/QPEj8oCzevFE53kzjUFNnIj/K6qNJHDqaLCKVl0iihSbTCwWd7nt9kCRFerjAoQIAAADApTQGnJpdKws5G4KY9JuyeDPQ7dyV3Lm2+732+63mfdHnkGXL+tbre/9M6ffH7B8f3lcC7PQhkoKlNksToNela91F2T+DzU77/V67jVk2uddlsmBnyp8PPH6/yAYBAAAA4CKaA85SEBPVIs68L6OC66wvY0M6axqvNTV9Mx1nqjDO3zhetvA91rpITa2lnXatd/R+1i/UN4GeIr9o6Wxr9SxShFtaQ9Mn06J7VY1mZ6u9tqu5Zu8rLx+kT6ZlM9D1LFvXLYL5RE+pdOjHGipOY4VFvTmahrHSSspuczque+VlW8w2CAAAAACvQkvA2ZZWm/dllILrlqFz0rU++QslRQ5posjv718YLXwtSqmpSbTQpCUAPFXzMR1ShJuPKdWhgXNY82nRMupdlVpGXZn4sNYiGcmf+Cpn5yaRr0ktZbezXh6/HwWjAAAAAPBSWgPOxrTavC+jAjXGZiq16nmBNvu99ruNlibA6uQttdnts7TTfIXorrlFs5Or+XavPHNVwUb7/V771azlmL5oYVKEW4/puXiBqYNdqc68Qzpu/mItsHTfZ704AQAAAOA1aQ84G9JqY9O82Tk1SB7UJZF8x9H004Pef121L28Et3OZrFO589ta2uml5NOIDDymZxLcrkwduPp4Y4LL4FarPB03DyyTJ1oyAQAAALx6HQFnLQU17ZoapGym1X6nzTLIputIIvmTlr6XLyCfRiRrPc0H9ek7ptM0B4ipTJfQwSm6bYrUXeDVMn2VrUZnPl42Dtv7WGda1in+//j9Mb3kvp/feMdXrUdcTqxw6PzX+AnYflaz5aav5cbtJ8f33Mui/p9HZ8BZTkG9+3TXODXIkTjUNEzlzlfaFqmhie57hmSN7tbKxhZKFa/NvsZIc3U/Kms8TLSYmAGQOo/JVR43Dh4F1r3KgltFejADJ6VFWrKn2hhE56uNoguMrfuL2tzccFcLvCrp+k6Rt9Tn+u9rHHYPoJcPsJf/tSyHt87V/DY4aX7vo2skH/CQ4PWZZQ+Vyueg6eN6dL4aFrrUMue73DHh+XUHnKW02sSMAmQz92Y22I0jx5mY/pEWrXnJQv4kW8fPV8pHwj1BPnJreZRa847mt9VpTILbeecxtY0CW4x6exgSV77jHEbTdefKdxX5EzmOo0m+bHB7sSlc2kbRBcY2uw6kZKEvTd/nZgqlbDCurG/1ftv9WcsMWTbXt07D+3HYPvL1RTXsu8uzletSBh7fr+7Fz282UF71t9w8HCp+y46l66kmC2lpxlrY7zcKIv/lbuZevB7foobPals9zq4VNE2NZ8NbarfPr5Psb3upGx5YSLWe+tLmUP+bQIr8aoBm85m+1DLnu9wx4WX0BJzS7PPStNLpMPdml9lnbYLSKEFeNujNqjNyDLTZbVRZLdho171SJ3f+VcvSBivBWNFyK6tW1CI19oRRYGerXaUckqdgucsGMbqIw8jBvUE9cGnms1SfPkmS0m/3Siw+XwCeUfpN90m1G0m6/qRF4mm5Kw9YVxbryyKRt/xaelBqxkSojPqOn0fW4ND03Y7XLnuwUL7NzO/lD5l6Np/pSy1zCZc6JryU3oBT7lzb4ilVw+A/xftbc4JdzVbbw5Ot7bYY9KZp2fnWbNedabU9PLnYrmaHJ3D19fr+P1tJ81I5qk/XDlOTWLWiFgMh3aucGTxbHcpb/Wsvx36/1apWlqwOqh8kd27WqXy6VsfnwWbkYGA0Jgvi6MvcTDdU+nwdpd8W8+cep8YcLXt4o5QqE1b22bqOUX4/DvPWnESLSba96To1WQvV7dbXbVJkO7Sk7xyt33LsbeWqbKcjVSgOs9cqKUUN5a6nHB2lu1XquXkbZfXjsy1HXV89SnZl6zu+s+qxvP+GfXeVr+/8dq1brF+eUzp/v+V6apI9CPqg8vPJ7Pem/LtVk37XY8NDzexhbHsr2M9cj3GY7bN6rR1/d5xclorm7gmnfO7K6/TVo3s10o16rZ6b6tquXoyuOjb7aro+jn5zyttoquu2uu24lq2vk7quY7oEm8/0pZZ5LhcqS36u8mvm1HOPqv6A82dkUv3UOvdmXZ5a3N8X9bm9plF28WvKBherfZlX0mmbxAqzvBfzEGWnq7ueH+HIl/NwXSy/9CL5J37Bz1Z77TeBJK9IvdnOXfPEtH4s2eBiban3cejIj8w0UPu9dld36shM7Dz2tnLJ7OfuKl9nr/1uKS/yj27UFPmaPN2a5TYKkoU+lW62jlOOdrq5/1Sk1KXrqRxfxfHs9zsttdBkaF33lKPOph5tytZ3fOfU48RxStfg8TH1la/r/PatW4h8+TLTfW3ncjuupybpU1KbG9pC+qSkadyBYpyCDj9pPUpSspiUju34O+n0spyhob7bPndd9ajiRv1RQ4ev6BSHciYLfSilRu43gSL/+MGQTb301rE719elp2SRfwfECv1ICjbFQ/4xvxNkcZ3U9R7TKcyUhUUwZvOZvtQydQ0PHA5/DendbU45pj5xqMkiUbCpNVSdeO5x8EsGnNkT3qyfQev9cE3edH9KJ/rx2I4cDIxo9llZxsrhk5F+u1fSNChJK1fzbUMGRZm3LKXZm77YtayDs5lBxY6OpTWDIPsMlh/4uPPtYR5gKxbHbm4OKz+ADWWVzNzDRT1lD8uS+2/mRsX036ukHLmab/PWrSwlKdiUy3NiXXeWo86mHm3K1nd8A+qxcr2Zh44Nrx2OyaZ8bYasG2jT2SWj63pK9T1rAmi8eR9FQ501vfa26tHo/E66ZFkGGPS56+FeyTtlerr8ZvwoiEi1vqsGe5Kk2UqboOn+qq9e7Oo4m2ov0eLTWuvQV1Tb7njfCUbndVJnd0zDmCB70G/yiCqZk/W/jkyLihGOKQ7l+JGCTTXjUKqfwwHnHoVfMuAs0lW38+4fk7LiA9LzA/SsZloN+oACYzDzxhapV02DktRl/SqSxcT+iWb9JvnUm6FOzcfSmnrfksLT7YRjl7KbtWn5Ju4wKJs10/LcWl5zPJFfe+pcb2q8NJt6tClb3/FJl6nHJjblazNk3aNr8dTr6ZUaUhd1Q9a9RD12fSedVZY37mjQoPweJZsWrinzJcuUqbWm9tWLdR3PtMoiWi0i1YI5jfedkOu6Tuqsj8leHPqK5Gn5tbmV+C26+DElC038SN6yb8wZnOqXDDgBXFY2v23ep+N4UJIm+YOfTZD3H+pOX3su2dPwSHfr1CI1+DTDjz3VejrRQuUbubYBXs4XlNPdjm4aX9Z5ZRu/Hs8p36nrDr6ehg6A13aD3JbCdgGn1oXOWHdwPVo4tSw/JRNMtav2LbY1tI6rU9yN/51wiqHH1CbrquBpuauta/OZvtQydWem1J51TG28pTbmgdNRKjUugoATwPlKKUjxl4WSzrltq2Yr02em3neyrn6TbPMjcpJDakzclxrsvteHoxsYe9bHnge+Lf1IrfWVt+/9sdjs9xLLXKoem/Ttu8s565b0X0+HeaUHaSlfmuXnnhQktGrZl5Vz1i3pr0ej6zvpQmXJnHjeznXp71hTJ0epqjLjUQztW2xdx1n6pbfcmdTdQ5/uUb8Tcl3XSZ31MfXLAjMp2DQEqi37qXymL7VM3RkptWcfU4e8G0fk9we9GI6AE8AF5KmovvzIYr7eOKyOAtj1A5xLFpoU6+QDP5wxn23b09A8vStZyF/0pwZnix76HuU/iK36jr2pXA03anF4StpXnjZYuuFSqvU0/4Ftet+U+ZwBK3rZ1KNN2ZqWKR3fxeqxSdO+6+VrOb+26zbpu55q3CtPSp66t3kkPz/lG/W1Pi2SEQass6yLF65Hqe876YyyNMhGjL0rtnX8+ThRYz1m6jfq2Uiu59yM51NU1AbkicMsiBgc9NnVcRz6irylvs5dzVaboj9nqrG/E4zO66TO7pgUt8yfaqTrqQnMGvojSpaf6UstcxmXOaZus9VOSy/RYnJ+dsP5n5efCwEngIvIUlElu/l6V9rIr/RPaXxiWeItd9pd3Zl1shuIc+bqlTvXrZk42qkPy28GQrIZkCv7gYrkm2O5u9pp15WP1XfsjeWaaWVGTszX87UZODhRxp1vtVuqmAbBcSa6vzkMsnP8viPn7kq7llEiL8WmHm3KdrxM+fguV49Njvd9XL7m82u5bpO+66mmaeTRw3D/5ka7qJ/DTddsVU41deSYEV2rU45dhlVdvHA9StkAPV3fSSeXpYE7/2puhLPtNH0+TtJSj5JOG9G4hzvfFqPSHur6UctdWxDRrbeO4zBLvyz6+h36c2Yjio77nSD1Xyd1vcdUPAxokw08pKa+oKUAyOYzfallzne5Y+rmar7dKFAkn9zai3r348ePH+/evdN+v6+/BwAVjuP8It8VpX49J9wcAq9XrNDx9TjoJgx1cZgFJpW5sn8qXCeXMNZ1EoeO/Ed+n/B20MIJAHXP0a8HeBEmZY/h+9ElflBkk62CF5BNI8XvE94SAk4AqIm/LDrm3gTeNnd+qyBZ6AsZY2iUzZdp2+8Nzytd3ymqz2UKvHKk1AKw9uuk1AIAAOASaOEEAAAAAIzi3e+///7jt99+q78OAAAAAMBZSKkFYI2UWgAAAAxBSi0AAAAAYBQEnAAAAACAURBwAgAAAABGQcAJAAAAABgFAScAAAAAYBQEnAAAAACAURBwAgAAAABGQcAJAAAAABgFAScAAAAAYBQEnAAAAACAURBwAgAAAABGQcAJAAAAABgFASd+HelaU8eR44SK6++dJFboOHKcqdZp/T0AAAAABJz4ZcRfFkokecvPmpnX0nVoglBH0zDWsLhxps9LT1Ki+2/D1gQAAAB+BS0BZ6r1NLsJr/xNpwrXQ2/KX6mitYvWqV9DrIdIkjzdfHTNS6Emi0gfNnvtd0sp8vWl0vSZKo1DTcufhelUYXy4YNyPN/IkJYsvF2o1BQAAAH4eLQFniyRRtPA1+cWDtDg0wUfYHWLYLvezelXHHz8oizdvlMeb3VKtpxNN/EhJUno5SRT5nw7Xv/teHyRJkR5ewWECAAAAr0lvwOktd9rv99rv99ptAnmSpESLT+u33dLpzrXd77XfbzW3CkDwlqXfH7N/fHiv4nTPVtoEniLfkTNZSMFGK5Nrm64/aWECTW+50S7/DOw2CrIPQb4RXQfZvx6/v+lPBAAAAHBxvQFnmTtbabsxd9fJvcrd1sp94er94fKWrmm5WTQOTYriIXBN19OOFrE8zTdUnMZah2ZZx9E0PA5+j1IhnVo68FFKbXX7YWndw/azZfzIbCPyW8rbv1xXfXWXJVaqVHHr8Q+sp85ymEFxpmvFcb5cNuDOcf3a1tMhXbtSbUfXQ/u+1VvuY+lTFj16V9WnC7PVtnigss2jTcX6kkebwUbb+awIUl13ptW2+pDCvTKPYZ66SgAAAAD8egYFnJKk2bWykDNRfn8dh44mi0iVzMPI18QED8UN+f23QxCadairBK5tQUFVJH/iaxEd9pZEi2JfUha4HqVCyqQDHwWHddn2S5vPtt+7nr2++jpoKouviTORXz/+o/L115N1OZKFfL+8XKwvR/XbVo4zHe17QLkLqQ4NnF3XlpF+l1lcwXUehFp4/N6yfwAAAODXNDzglCsTP2bSte7MYCzLXdZStN9tsqDUBJP5wCqH4DIfwEU6BK4Ng7q08ZbamH3tlqYwpW3nrVOVdOB8ueiuv/+pF5jt75Q36GbBhKv5dn94Ldhk2y9axnIdy1nUV0WpLPkhSJ6CTXZsxXE1BTtd9TS0HEGeVrrSTDN93my0y9fb77VbFnmlA+rJUnnfQ8t9Fk+dzz4M933WixMAAABA1QkBZyrTEGn+98m0NCVaTEyK48TPBmjJg0n3o26yiDObPsK0IHmeJ09S9BAfWpUsBnUJbueamWXc+W21xTUfHEaBbkt5j0fLdQhuV2b7rmZ5B71LsamvknJZPmaVKAW3WpkKKIKd5Oko4Oysp0Hl8LT8fEgrlSTXlb58OqTrThbFE4QLq+17ULnPdentAQAAAL+W4QFnEdDZtf5kDsFS8pQq/XavRNKH29tshM/H74rNa97Nx0pgg1coXWs68RXVc2p/FsXIs+ZhSI9iQCLgFxeHTX3ay0wf7tb092P92zzF8HLkxikPfhZxeNp1dQmn7PuUdS6mGEvjBcvwClXPyenfVa/By35f2tXdc9X3S33WXmq/dYMCzjQONc1HgslbIt0rM3JtKcWx9JdnURZptdGdPt0nkgJdz8wIn8m97u6z4MWmj110t1Y2FWKqeH1XtGhez8rliXRXyp1N68u9FMv6ugS7ejqhHHkroxdoU0+pHSB6MAP9pLHWWZ5sv5PK7SpvCLYbSfYw8qwiX+E6PXxQ01jhtGVaoPIIuL+Elvl6y38v9kMDAHi9Uq0/LZTkXW6287f9+xmHzOsOdOgNOJPF5JA2WQzeEmiTfzm4c91mHegOKY7F32FU0XJabZJICq41k0zKqnnNNhhMFvInjhxnIr8YTTTb3qE8tbIX/To/Z8udIR8EqWn02bLG5Wzr6xKs6umEcuRBXxLJL+r3OGBsPP5yanDka+JkKbF58XqdWO6hI8nOVqZfqKRoMcnKacpaHsRJsh3s6meU9dUtAv5NcPwgoPkJwM/nLd1svGhZzTXz4jeXr6UcKLzUdflS+/3lZd2zfr3fzaFG+q76Ja77U+quYZ1foq7G1xtwVnieguVGu/2qErTNVjttgqw/ZrtSoFG+OS9arErBUI9gWZ0L0Qs22pVubGernTbLfM7QfKFsoJ3tBSbddOdftSwVoO0Ls205u/o6n1U9nVIOd66vxZyskuQpWC6LAC3Xdvzu/Ks21YJpkw/8Y+GUchd9XZsGV2o002rfsB/PU7D5WpoW5TAAlk3rPAAAAPAraQk4ay0X+d92q1VpTsLy8rPVVtv68rXA1J2X5jzM79jd+WE929aQ9zOtSuXbruplcjWbr6rl2W6LgXayRfL95nMqHo65UozZyqxffkLial6ev7E1iG1brq++mstS1F/5xbx8tbqWLOupsxwzrSp1VFpzVq7frVbzebasVT1l+y32t11p5pp9Feu377u/3A3y6XwGjWTbsJ/6dVQapMqqdf5Xls+1mv/V+hTkfT2K+XjLy5TXbVhvuk6r6zW1dlvuPzbzBpffL17L/0pZDXHoyPGjSqt7NuewSTmuZUDU+1N07bevzE1OK2tVVpe1Omx6ymv6YNWTPBrPoVE//qPlO8vUvM0mXfVQvG97HppUzs3w6031Y2o67nIfN/NXr+tTPzdm5e4y1vZf33dFz7Jd56P9ujz/M3TafosFuuunvv36QbfoKlPxfts5rS/Xso02Vut0HPe53w1Svnw22F+eiVap9wHXff2cd9Zd1+eh5/o9RWdZ6svl7zfsuH69y+K7o+saO/u6P6Gu2utg2Ge8cTsd57W+neK1hnqpvF++nhrqKtvG8fd+0/46ddS19T46ttHohPN3CS0BJ/CzyftlmpGSLySfT/YSqdo/s3Q9leOr6PO73++0VHVeWMmkWT/dmmU2CpJFls78cF157VPtxzVZTErr7bT0IvmlbQ/Zv69qn6I4dHR3dZhiab9byov84kt6tjpOJ25/CNWiYb/WZS65VFmzPveRymNmxQ+RPE/Vz0/6pKT+sKXhHNbPV1m6nmqyUCkVe6eb+0/Vm9eB2+yrh1YN56FR5JeuydOut97jjkM5k4U+bPL3s3MX+cc3l0310/e56S9jrDArYPH+1d3xzU+me9m+82F7XXZqOHfn7Le/frLt+1FpLIOrO+XDXLTpK1Oh4ZyWz9+p++5bp++4z/puyM1W2THpMH1dcb4HXvf1c56/Xq+77s9D9/V7loaynHse+747+q6x8677E+qqpw6sNWyn+7weG1rfbXU1+7w8+hzk0w0Gtx2/HSV9dZ11Oaztw2TV5QOs9m3j2Ann70IIOPHLyL4gpGTx5UIfrgFzx/7Ssrlxg025BdrV/DY4bnH2lqW0b/OQoOG15P5b9cu0skx92wP2r0CbWqbFbFW7+TX90W1GMLZX3++QMh9crKxH66X6/hjo9vZDpe7jh+i4K0SwKWVhtJyvQqpv94m8ZTlN3dV8W8tsGLTNc+qhfh5anH299R13mg2kFmyOMm42QcN3WMNnpOm1Q53ZlLHO1XzbkUVSUV329PMxxPG5O32/NvVjbvxKDxvd+fYw/3QL6zJ1XvOn7NtmHYvjPirvgO+GXgOv+4ZzLjVf+02vtX+HDLnWe1z8PPZ9dwy4xo5YnP8jFnXVWQcDNJzDptfat31KfbdoqNNsBo6WhyxHLOp69llLrzbYZfygqJj20WIbvSzO34W8oYCzOc0UddRTqyKN+lIfrq60XxTMHLuRX0r5cPI0lQupjxDsXskr5pwdsP/GG6T6aLwT+0GubNX3O6TMFZcqq+lzn/d5Tr/pXldyZ9cKijl/sx/vwO7XtVn6TffJGP2fT6yH+nloc+711nvc2YAqTXWbPfV+lNWA221syqiZPi89k/LYN2BG37Inno8hGs/difu1qR+zTPs5bHNimcpO2bfNOjbHPep3w8DrvvGcn6Lv+h2JzTmp6/3u0OnXmNX5f6G6uoRT6ruV+RxED+YhSPYgwPqatKrrbB+tD3KstlH3cufvDQWcAN6yoJwiVfw9X7B+2v5TracTLbTUrpyyMmTEqjMMK/Nly+p+vJFnnpKm3+6lm49y5erKMyk+5klrw73hC7tsPZxq2LmrMTcS7T7oEvdMfWXMxw3YBHn/pfbUq/ZlX+p8nL/fvvoZ7vwyPYe+4x7tu+GZrvsm7dfvW3P+NdZ7/n+aujqPO79VkE/BaB4END0s6dJb16XPWtuDnL5t1L3U+SPgBDAu970+WM+BeqL66MPpkxJ5unLP3H/+I2LZJ6PqMP/rYKeU+ayyNnA/6sbL+jynT4l5Kpw9cY0eYqXfH+2f5rY55Tj7XLoempx7vfUtY95vSoGLHyLJuzrv2Pr2XzNbmX5gR/2Jjh0te9b5OOMzdM5+berHZpm6c8pUdsq+bdaxWUYjfjeMfd1bOLp+x2Rb32V965xzjfVtu+YydXXGZ3yogcfX75DCG3+7V+It9dn2orctS+mzpvhBUXkftttocZnzZ4+AE8DI8hSO2kAwcdg/mpqtZKFJMepGrNCPpODWPOE7Y/8NN0Bx2JCeVE6prLzsSdFdZTCHzmyXwgllPrOsx/J0nk+6iw6tFe77D9Ljg77cJ0dPWodrOs5U6+kZqT629XCOs6+3pmXKx529r/pgMnGobFcn3ExWNO2/VsY4rI7gWA6q67qWtT0fLdflyZ+hs/ZrUT/5zWapX2Fv2WzL1OuEfVutY3PcGvG7YezrvkXX9WvqaZz0Q5tzUtd0jkrfHbbX2KnXfU9dneLkz/hgp9R3W11lZtkG5S+SYiAfOxZ1LSnvk5ncf9P6Iartw3YbJT3nb7xrnYATwDNw51vtliqGFXccR87dlXZdI4EOEWy0u7oz2/YVVQYSOGf/M63MCH/5er42x4MMuHPdBoe+FPn3uTv/qqV3GE797mqnnWVu0/Ayn1fWJlk6T6Kk3LIwu1aQRIqSE1LmGhwf50T3N+UBMYayrIczeMvd2dfb8TLV43bn22J0zmIb/qOWu8v0zz/ef62Ms5U2OtSh40cKNi1pWp3LWp6Pluvy9M/QufvtqR9Js5UZodi83182yzJZGL5vu3VsjlsjfjeMfd036rx+x2VzTuqOz1H5u8PyGjv1uh+hrk7/jA93Sn231ZWkYmCfUwaP7K3r3OxaQbLQIjreh/U2ciOcP1vvfvz48ePdu3fa7/f19wCgwnGcV/ddEYfZD6r1PL4AAABnK/WZbQvyINHCCQAAAAADndNn9hdDwAkAAAAAA8RfFgPm3vy1kVILwNprTKkFAADA60ULJwAAAABgFO9+//33H7/99lv9dQAAAAAAzkJKLQBrpNQCAABgCFJqAQAAAACjIOAEAAAAAIyCgBMAAAAAMAoCTgAAAADAKAg4AQAAAACjIOAEAAAAAIyCgBMAAAAAMAoCTgAAAADAKAg4AQAAAACjIOAEAAAAAIyCgBMAAAAAMAoCTgAAAADAKAg4f0XpWlPHkeOEiuvvjSxdT+U4jpzw3D2nikOzLcfRtNherNBx5DhTrdPaKgAAAACe1fgBZxHcvNEAIA6zoGa61lssfpP4y0KJJG/5WbP6m6NK9e0+kSQF12fuOf6iu6uv2u93WnpSEvnKYs6ZPi89SYnuv/0sZwwAAAB4mzoCzqwFKQsWTSvSNFT8qu7hU62nh/Id/qYKx4puLxlAX3Jb1mI9RJLk6eaje3g1rNZfc3liheX6rrVSFq2XbcF5+k1ZvBno3HhTs5W280P5y9yPN/IkJYsvz96CCwAAAOCgJeBMtZ5O5EeJsvaoTJJE8r+8hVv4RNFiomlz1PQiioDu7FTSM8UPyuLNG5XizZqW1sH4QVH5ghgob1lVcH25ltX4ixb1INZ9rw+SpEgPL1zdAAAAwK+sOeAsWqI8LXd77fd77fc7bZaBvPqyr4S33B3KGWSvjdLC5c613e+132/V0sBm75LbspR+f8z+8eG9mnbpedkZPq67VOu7qLLMMIeW1eXnC4Wb6VpTPzLX6aoUxM50ba6Bx+8NgTMAAACAZ9EccBYSPaX5Dbur2Xyl7aoaLKRxqGklrXWqcB03p1Qax+s4moblNEwz8Mt0rTgOBw5w42qWRxsl/ftUkUZcLDMNFX+vLNCYBtu97Szt189iNSnyDy2dDdtq3l69TvNU4lBxWk1zPT6mqvQpa6L0rprCTUk3N8pqr9Y6WEqHvbkpvW6rsWW16zhipUcDA9WukclCiTwtd8cBu3tlAuenrtoAAAAAMKbmgNP9qBvTiBX5EznTqcI4PQpk0vVUEz9SUkmzTBQtfE1aU0djfTlaR0qixfE6yUK+H1XSevulWmdNaZJ3ZVrx7PYZh1kacWkB+Ys8Umxjt21bw+o0kj/xK2mu3ftNdWjgbAk49dEMuiNFpYizPNDQx9LStmJzTrybjw0tq03H4WviVM9H+djS9V0WwCrRYmIC1abjfvx+dN0CAAAAeB7NAadczbc7LQMTdSaJIn+iiZMFnplYX7LOc6V01r12JlhRdNcy8MxMnzcb7YpU3b12yyL/8Tg4CDba7ffa78spk8eSxcS0hE2UxYiell/nJrix2Wee8lk6nt1G+eG069u2q/l2X6T5Kthky9VaijMn1KkXaLOrphI31uMA+aA7h/01DzRkz2L90nEc6txTsMnqoagDc2zufFvUT/FXqlP3fdaLEwAAAMDLaQk4lQWdq22t72aiyP+UBSF5iqQC3ZbyGd35rUnJTNSWzei60pdPh1TJSWsrYtbfryVE6eAp2FTTLHv3mX5X1vhXOh53pvntcXpuXe+2bZ1Qp8HtSjNXranEJylauLPBg4rWxM6Bhjo0ptNWlY/jY968Htxqlb14CCCTp7OCaQAAAADPpyPgzJm+m/tNa9AzSLrWdOIrquegnilvEcxawhJFfqlf5Ej7lEbe9otxi0A7WXzRl3zuzNu8xXiI0mBDjem04ygGRwIAAADwYpoDzjg0c24eIss0zlsADffKtHpGuivleR761rXMtZg+ZX0yvUCbegrqBbjzryYlM9Ein8Jl0D5Lx5PGRbDUatC2e5xap9Zc5Q2FvaO3zq6LwYOybpT9+84HJKqMgFsabKjcavtsWkbjBZ5VMUBYxzy1FxCH424fl2QGTXuG83XKdXHKOs2e7zibxGFL//4zjbXd87xsXT+PcY/xctc9gLLGgDP9/pjNuTnJ+0U6mvhmDkVvqc8zSe5cebbpof+ko0nRB/Fzc5/LPKhKIvnnpqA2OrTOFX0QbfbZdDwT38zx2MFm2zqMmloZpbauqQw2dTqA/eith6lFpK65M82Iws5hJN7yCLjpt/vLz71poXc0XowgH3XYUdPl/etKtf60UJL3396ekikAAADwNjUGnO78a9Zvsxi8RZLnKVhutCvdLM1WDXNzetlAL9u21ix3rq+b8jqeguXStKZdyOxztZXTcp+zVWmgJJlWy12eStzCctvu/Gtl222B0El1OkDRF9JiYKHZdV4O+7kzvWCpr0U5U33L03H7mkcv6jAAVPtovLi4+IsWSaAgqI5w/ObE4dFURedJ9ZS0f+bxq8oGlPv5H0A803Fe/HP7Fj1TXb+oX+EY8WL4HhnNux8/fvx49+6d9vt9/T38lGKFjq+oZf7Ki0rXmk4WShRo0zPK8EXFoRw/kp57v78Ax3Favyvi0JGvjfbXD3J8vd26j0M5/uMFPx/ZZ+5xeZmHRl3i0JH/uKw8GAROuS5OWedFtXxui++lxpHhTzfWdvGy3tx1j8tq+R7B+RpbOPEzy1NlsxFox/RS6bTFnJ8XSEGGraxVObiemf6/1X7IMj/kThgrXR9GdC76ysTh8Wtl5T6Q5q+atmvSeWu5vPX+OJ1lyN/3oyw7wszvOu161NlXrjiU4/iKSmnyrdurbesoLblvXy3isLpOYx2F8WG5pvrPlc9Tw7J99Vta0Go7x2U6pG1X/0KFYfbfepXUr4Gj9xr3019GKZs3ubzM0bnt2Ua5bFkZLMrfs81skdL7NhdJ7zrDPl/1+mxbrvs6aT/X9dLFYf/ntntfdvXapHe7vZ/b8+q2rm293nKWdK7T913dW4/957VyLTr9dSNdrp4b9R1T33d3SRxm12b1u+P4mu7bp+310Fe2Sl3n57zYln2dWZ2ztvL2HGvdWNdnHPZ8j3SsW6zfdowg4PwVzT4v5ZkRaI++5C7mpdNpO+b8xOXFD4qKgaWyhxrJ/bfjL9vI1+Tp1sydulGQLDRxHDkP15XXPtW/5CcLfdiU5lzdBIr845tKKw1lyPc3W2Xbljwtzdy6ra2SNuWarbJ96DCSdvP2YoWThVTMv7vT1V3pJsRmXw3i0NHd1WFO3/1uKS/yj246FPlZa01HH9N0PTUt13kZdlpqoUn9R7Wjfodup1qmVOvpRIsP5rV9Pr9xlsmw+ryUp0iVbO50rbuoZ4Tto/3YlTFdT5WdssMyN/dm2jDLbZRl01rVym++z/IRvm22GYeO/Kg0iN3VXdG/vs0p67RqqM9GnddJ97mu/6L0fm4792VXr416tnvq57aVbd3W9ZWzScM6fd/V/fXYf16tv7PKLl3PJf3H1PPd3SBZTEp1u9PSi+TXvlu692n0Xg/dZWv63Odjhgxhfc4aymt9rHUjXJ9d3yN96xYajhEZAs5fkTvXdr/XvuGH+3JMP4v9Xs+bcTTTar/Xfk86xPMxU9+UWrJnWcSpo0Z0b6ldcUGY1vaG1w7Bar7tTfU6mq20CU58aBKU0+Dq+7M1QrkqXM23+efz9H3NVrUbbzPH7nEf20Cbzg9qrC+LRMGm/J1hBmirn+fO+h2wnaMyZX1hyw+wsiDtUd/T5mPLsiz6Rtiu78emjNkDNW/5tfQ942q+zb93bLZRY8YeqIwgbh7kZCN822zTBKil7A53vjU39W1OWadLvT5bdF4nPed6qM592dRri87tnv65bWdZt3Wd5WzR8L3c9Nqweuw/r/bfWbkx6jlnc0x15e/uFpV6rG9vyD6HXg/lsl3uc29/zurlHXKsNQ3XYtNrw67PNkPWrR8jcgScAM5jpr6ptGTPrhVcJG37+AYlV79ReV6XLtdMn5eeSbutD1hwzr7q6WuT5pG3+9Le02xarMgvbytPPxpgyHaOyuTqqnYTk6XPf1A2Npirj9ldjrnBNFkWR9upqb9vU0ZzzbcOSmazjSNZ+cuBQJzlqWfls9mmWaa1XE1OWadLvT5P0neuL8imXk9yzue2xUXqdiRW9WhzXi2/swoj1HPO6pi6vrtb1Kdrc6/k5XPcW+3T6L0eOsp20c+95Tmrl3fIsZ7rnH0NWbd+jCgQcAI4S95Xt/plnPdbPOfp8uGLvt0IN6A2RiiXO99qv99rE+T9R0zq08n7MulrWmpXTgOqDIE9TFBOWSv+hmcTnLWdfGopJ08HOzx1due3h/7DTQ9CBjirjMbQbbgfb+TVWivr5R+6zTet41xf2sXr9eTP7dtmVY+t5/WE76xnqOe+Y2r97j5D3z5tjVG2qhPOWc2ljtXGOfs6Z10QcAI4S96KdOiTU/xtAh33SRvIfa8PakrNMU/GvSvzpNhVPuPPs7Au13CzlekDk9fdqfvKA66u/ou2TBkq6Z6nOGc76TfdJ4e+NdlfPQA5pFHF3+6V5PNGD2FTxr5l+t5v437UjWcyA+IHReXy22zTZpk6q3We+fNlda4vxOr4T2D9uX3muh2LTT32nddTvrPGrGebYyo5+u5uU5+WLn1SIk9X7vB92joqm9V+LOrslHOWsyrDhZyzr3PWRYGAE8Dp4i9atLUiza4VtNwI2MtSglQfgCAO5dcGg3GvPCm6K9KGsgERSuvYKqc3tbIvl5U4rI7qV74BOXVfDTdicdiS6tQrT806DIojmXLXB03odMZ23Pf6UBo9sPirrZf1H17IXyTFYDvD2JSxaZlU62mettb0fn0bTbJ+Qcn9N60folr5bbZpAu5SZkH/58BunYt9vmxYnusKq89tE5t6PYX95/ZZ63Y0FvXYd15P+s4as54tjqnzu7tFstCkWCdWmBXUtJRZ7NNWZ9ku9Lk/6ZzlLnisvSz31fg9Yrlui2zUWst0658YASeAk2X9b9oGZTEd+Ys+dadx59tixMHiBsV/1HJXHZDKnX/V0jvczNxd7bQbkteTc+e6DQ4pwkcj7Rm25bIyW2mjQ5qZ40cKNrWUrcH7mmllRgvM1/G1OWlQCJky7Jaq3izeXQ2er+707WT9v6ppTQ0jBZrBd84ZqdqmjMfLTHR/cxhE6Pj94200ml0rSBZaRMflt9nmbGVGvTTv23wObNa52OfLiuW5LrP83DaxqddT2H5un7dux9Nfj33n9bTvrDHrufeYer67GwUb7a7uzDq+ospgNxb7tNVTtqbPfb2u++vstHOWu9ixWrDaV8v3iNW66PTux48fP969e6d9y2TuAJBzHIfvCryIbBqSD0f9+I5fL/Up4mbgTTo+p92v421oO39tr7eJQ0f+49v8fMdhFpAdRg1+Xd5y3eJ1o4UTAPBG1PtGZcPVV0YGPKdPEV4Ri3ONN+jc85rqeza8Kp9v4A0h4AQAvHpZSpN3NBry43JXaS2Ivyws5t7Ea2Z7rvG2nHte0/XUTLnBXIfAW0NKLQBrpNQCAABgCFo4AQAAAACjePf777//+O233+qvAwAAAABwFlJqAVgjpRYAAABDkFILAAAAABgFAScAAAAAYBQEnAAAAACAURBwAgAAAABGQcAJAAAAABgFAScAAAAAYBQEnAAAAACAURBwAgAAAABGQcAJAAAAABgFAScAAAAAYBQEnAAAAACAURBwAgAAAABGQcBZlq41dRw5Tqi4/t6zihU6jhxnqnVafw8AAAAA3obXH3DGoQkCHTnTtV0gWASOJmCr/3+L+MtCiSRv+Vmz+pvPaqbPS09SovtvHQUGAAAAgFesJeBMtZ6aIK/yN1XYFbE1sQz2msUK/UhJ/r/JU/Xti4r1EEmSp5uPbv3NZ+d+vJEnKVl8sQuyAQAAAOCVaQk42ySKFhNNh0eOp4kfFEmSAm32e+33q/FaHvN9eTd6BfGm5L7XB0lSpAciTgAAAABvUG/A6S132u/32u932gTZa4Na3dy5tvu99vut5qcGct6VTl3VVvr9MfvHh/ej78vOTNemvh+/P1OADwAAAAAX1BtwHria5RFQSRqHmtbSb6fhWkWIdJRSm6frhorTWGFp3fJ66Xoqx8/aN5UsNHEcOWEW5vbu8wTpU5a4612Vw82ussZKlSoOpy1lOGfdjHvlSZKSp/o7AAAAAPD6DQg4U62zTo6lFsdYX/xISdHJMpNEC01McNgukj/xFZXWLa+XB4DHztlnm1SHBs6m9s2msvqaOBP5pReby3DOusbj96NgFAAAAABeu96AM1lMTCvcRAszqM7y69wEnDN93my02+1N2u1eu2WRB9ofJHmBNrtqum6+3my11z5/0Vtqt99rv5qdv89Tlcq6zBoeJXkKNlnK8S5/sakMJ67rvs96cQIAAADAW9QbcFZ5CjbVvpiuK335dEgNnWRRqZXgdqWZq9Z03Tbn7PNU5bJ+vDEBYnCrVfbiIThMno4CznPWBQAAAIC3qjfgzAcNylrhEkV+aXqTdK3pxFdUz28d00vs84UUAxkBvwTT73l63J+5V9FXfNj6cVhdvv7/OOOcnO143/XzU/3/4+V/eide95cQh4dxFS5prO0CAF5Ob8CZc+dfTTpoosUX82OQPmVzZHr5tCWl9NaxjLJPV3kj46scEfbVjJwLHEvXh2yDw98p8+6eKtX600JJsMnS7Ld5yj/wM+O6BwC8DdYBp+RqfmsCu+guu5l0r5TFoJH850pvHWmfr3FE2OaRc4HX6PAAKHsIJC0mjoY1VLiab0+5cU71lPA5GSwOLR4MnHpOLmHovocufyar+hvTM133L36cAIC3bkDAKWn2udrK6c71dRNkAaCU9fFcLnVue2OnkfZZ9KNsGvTnRcTKBwVuHjkXeL3c+a0CSdHDoIgTAAAAP5mWgNM8Kd7vtS2PEFR6PRsxVnJnK22Llo2tVvO5VuX0Hndu3s8HGzpsw2wiM1sdpwU1vXbKPuv/32R2nQWtyb2+FRFnc1nd+bZSB1KprPuVTM2csa6k+EFZvBnoulxPwBtSb32Jw1rqba0JtLGPXhhX03bLfdXiUI7jKyqNqD0tNcX07e8UfdvsLHMcHr9WVu6TZ/6qmzf9FJv2OaDe4tAx8xwnWkyy98v1VjZ020061+mok/q++9SXP3W/ZuXKeTjablf9daxbrB/Gh2spf792/lsv157rvr6dpm21lqG+TNdx1lPqG7bRVxdterfbe4zDPitd9QAAOE9LwPkrmikbKDfR/SHifDGxad70lp8PQSjwRsShr0iebj4eAs44dHR3lQ1Ctt/vtd8t5UX+0Y3wkcjX5OnWrLdRkCz0Kb/pna2y10oDnOUPyU7eXwfrbTaUeeI4ch6um49D5sZ8stCHTf4wLZsaKvKPb/KtNJQh399h2ilPSzPFVPXhYo+ObbdqWKe3Ti7hhP2m66kcX6U08Z2WWmhigpGu+utbtxD58lXufxkrnCwkcx3v9ztd3YWqX1pS93U/6Do6KkNV13FKzXU7pB5b9Wx30DHa6KkHAMB5CDhLZp+X8iQliy/NP/LPJk+nrd6wA6/XoU+14zjm5q2aUTBb1W5W3Y+68SzSboNNKSMgezCU3H/rvmE9Z38drLfpLbWrlbnptcNxpFrfRVKwOcr82AQnfiedWG9WTtl2w/E3vda7naEa9tH02mG/sb4sEgWbUsZJPoZBJQOmyZB1A20qJ7vO1Xxb3o6NoddRXxl6dF4HQ+qipnO7Q4/Rxpn1AADoRMBZVqTeDv2Rv7RZliLclQIMvCrlUaM9qanVL09xKwLTiRajzm40xv7G2KaUDwATNOTPZ3MUP+o1DqD9U0q/61FS5FfTNbPU0h5D1g2ua78zM31eeiZF9tRBegZeR0dluKAhdTHIwGO0MWY9AAAIOAFcljvfahNI0V05bS7VejrRQkvtyul1h9G/LmyM/Y2xTcPcnLf7IMYOe15BOV2z+LN7CHjqunkf/02Q95lsSalt8wqvo1ProtUrPEYAQDcCTgAXN7sOpGShfMpepd90n0jB7TP1jxpjf2NsM+e+14eWUX3jh0jyrsw+D3MGYyTmXJw0J/M565bMVqZ/sCI1XBLtrK+jZ3ChujhifYx8VgDgtSDgBHB5ZgqlopWz4SYxDi+VjtpgjP2Nsc1Clk55lIoch/KjapDrXnmHuZDNQEYnZSm6V/KU6BVNPfxK5Kmtn6pprXFYHcG0sf4s120Sh9URVdMnJfI0bJpN++vIWuNx2jijLjrZH+M5n5Vs1NpTU5sBAGUEnABG4OrjjVcaHGSmlRnRNe/L5WujzbkT6LYaY39jbPPAnW+LkTYP/d0etdzVp1b6qqV3mKbi7mqX9Zsdyp3rNjj0sTvuc/vrcudb7ZYq6thxHDl3V9qVRzBtqT+rdZvMVtrocG05fqRgMzz11PY6stZynDZOrosetsd4sc8KAOAs7378+PHj3bt32u/39fcAoMJxHL4rAAAAYI0WTgAAAADAKAg4AQAAAACjIOAEAAAAAIyCgBMAAAAAMIp3v//++4/ffvut/joAAAAAAGdhlFoA1hilFgAAAEOQUgsAAAAAGAUBJwAAAABgFAScAAAAAIBREHACAAAAAEZBwAkAAAAAGAUBJwAAAABgFAScAAAAAIBREHACAAAAAEZBwAkAAAAAGAUBJwAAAABgFAScAAAAAIBREHACAAAAAEZBwDlUutbUceQ4oeL6excXK3QcOc5U67T+HgAAAAC8bj9HwBmHJgh05EzXdoFgETiaYK7+/y3iLwslkrzlZ83qb17cTJ+XnqRE9986CgUAAAAAr1BHwJkqDqeHQM5xNJ2Gil9d3BMr9CMl+f8mT9W3LyrWQyRJnm4+uvU3R+F+vJEnKVl8sQukAQAAAOCVaAk4U62nE/lRcgjkJCVJJP/LKwt74gdFkqRAm/1e+/1qvJbHfF/ejZ4p3pTc9/ogSYr08MqqHgAAAAC6NAec6TfdJ5Lkabnba7/fa7/fabMM5NWXfS28K40dA6bfH7N/fHg/+r4OZroOsn89fn91zcsAAAAA0Ko54CwkekrzIMfVbL7SdpW3H6ZaT83gOWmscFpKvQ3XqodGaRxqWlrGcaYK13GxXByadcsdKOOw6JeZv5qup9lrYZz928/aN5UsNDGvq3F/zeUaIn3K2nu9q+NwM12X+pE6U4VF7nFXPcVKTepyVxndqyzMT57q7wAAAADA69UccLofdWOaMiN/ImeaBVDN4U4kf+IrKuXeJtFCExP4yQSJEz9SUs7PVaJo4RfLFUHV/bdDEJp1mJSSe+Vj5pSDvvzfx2J9OdrfcbmGSXVo4KwGnOl6qsmi1I9UiSL/U23woaZ68jVxstTlw2sdZXz83nIOAAAAAOD1aQ445Wq+3WkZmKgzSRT5E00qLXclXqDNzqTdmvTPQ3AU68vCBInLnUnP3Wu3zCPaO63Tw+A4h+AyH6BHpqW1/Fo2aM9stdc+36G31G6/1341y0Z33Wy0K9KB99oti7zUCwdtDce32yg/vIpSPR3e9xRssvWKOqmV0X2f9eIEAAAAgLekJeBUFnSutrW+m00td1Jwu9LMzdaZ5R0Oc6VBfW7nh5ZBd36rbEkTTBatqmYKkPS7HiV5nidPUvQQF6/ZDNrjutKXT4dU1cmiiF4vKy9T+fjcmebbrUqHmy1RqqePeRNycKtV9uIhsEyeLhwUAwAAAMDz6wg4c6bv5n5TDRAv7hCEJU+p0m/3SiR9uL3NRml9/K7YvObdfOwetCddazrxFdVzaseQPlVG8h1DMVgRgNMU8+xW+4T3icPq8vX/h+mj/qbr5Gc4hoFO/DxcQhwexlq4pLG2CwA4X3PAGYdmzs3Dz1Aa5y15A7lXpnU00l2paTRd3xUtn9dmHKIirTa606f7xLxnRmlN7nWXDZ171IfySB4EevlUKaWU2pO5yhsgK6PFNh1fGms9DY9ags/2rKPjArbygbEOg2Zd/No/S6r1p4WSYJOlvG/nfI7wC+PzAAB4Xo0BZ/r9MZtzczI5pKT6CxPELfV5yESX7ly3JtZLFqXtFf0ePx/mzSyl1SaJpOBaM8mk6ZrXSgFqqzwITCL5F0ypbRwttun4Jr4WyUnheaOu0XGBl5XN2buQ6UO932u/u9H9p+dtNemW6inh8zNYHFo8PHA1376hoKXxmJ75GBrL8Jye6fPw4scJAHgtGgNOd/4167dZHvjG8xQsN9qd8KM8WzXM4ellg+VsKx0dS30bywFW0Yp4CEI7uXN93ZT35ylYLk1K8OmKPpa1QX1mq502QdbXNOMpWH496sN5msPgSb0tu8CzMzev5TR3d67tCd8TAAAA+Pk0BpxFv83tYZTX/Xar1XxWuok0T4X3exVTc0rSbNWQppP3A61tzwyWU+bOt8UyRTDqzg/rVnbWtj/JnZX3t9VqPteqvFyxTTO4T/3/m8yus6C1NE1LxtVsta3tL99Icz0Vx1l+MT+W/eoQVJcGXept2QVeSNccsXnfqmIO3bZ+Y+V+Zeav3CUrWz9UpZdWUyuK2U4Y5+/7ikoZCOW5fvP5f4u/C/QB69tmZ33kcw+fWEdFenPTPut9UdvKkL/vR5ISLSbZ+5U5kkuGbrtNZfmm/ZXrpmGbffvtOqZBx9B3jjrK2VWGvnWL9cP4cI3l79eui9bLuOfzUN9O07Zay1Bfpus46+e7YRt9ddGmd7u9xzjsM9RVDwCATEvAiWamP2k+ku4zyOciraQeA6/GTJ+XnhT5x4FfWeRr8nRrHqhsFCQLfarfaE8W+rApPZTaBIr8w41q1sc70kPpPjB+iOR5qn4e0ycl+QOa2SrbX2naovxBVhw6urs6TNW03y3lRf7RDfYQ1ttsqI+J48h5uD6rjgZpKEO+v8OUU56WZnqpajZKj45tN8nmMlaxr/1+p5v7w4jo6Xoqx1fRJ3+/32mphSb1m/yO/Q4+poZt9Z2jvnJ2laFv3ULky1e5/2WsMKu8Yr2ru9qDmVzH52HQ9XVUhqqu45Sa63ZIPbbq2e6gY7TRUw8AgAwB50Czz0t5kpLFl+Yf9IuqzjsKvEbufJsFVkVrRkPgGWxKrfnZg5vk/pu5eUy1voukYHOULbEJSp8108c7KiLOVN8fA93efihtyzyksUi9n61qN8FH2x/OepveUrtafTS9NriOhug8J2catO1U3+4TeZVuCG5paqlsruNgU8r8kKv5bXCcbTJovz0azkfTa4ftDyjnkSHrBtrUM30qXM235e3YGHp99ZWhR+d5GlIXNZ3bHXqMNs6sBwD4RRBwDlWk3g79QT/FLEsD7krzBV6D/HNRBJ4tLSyNsn6gQUPOeDZg2KOygaFNH++8D3X6Tfe6kju7VlDMXZs9pGna1rH66LoTmbHMzjDGNjWgjt6g9Jvuk44+6mau48ivpkFmKZuvyDnlHLLu0cOULMsgS5FteNhjZeD1dVSGCxpSF4MMPEYbY9YDAPxECDgBXI4713YTSLXU107mBrPdB+WxiPvxRp5p5Ui/3Us3H+XK1ZVn9hc/KLLq79wwuu5+p2VlZLOhxtimMaCOflZBOQ2y+Ht9D+POKeep6+ZjAmyCPMtgyAOf13l9nVoXrV7hMQLAr4KAE8BllUeVtuG+1wc1pJ3m6bHeVWkE3I+68bI+1OlTYlrFspbP6CFW+v3RrtXBtKoFtxfsdzXGNnPWdXSYL/jNMMdWmd+4rO/91+Kccp6zbslslWcZDHjgoyHX1zO4UF0csT7GN/gZAoBXjoATwOnisDY6o5lU3qqVMXcYeKgyuE4cyo/qAVwWXCb3n3QXHfbhvv8gPT7oy33SmDJ3pOHmMw7PTH8dY5sF+zpyrzwpuitSK+PQ0UnZiO6VPCXqGID4QvKU0MMgQVlrcZ4e2vR+07VnYdRjsixnYxks120Sh9URVdMnJfI0bJpN++vLWuNx2jijLjrZH+M5n6Fs1NpTU5sB4OdEwAngdLOVdjf32eideZ9FLbUb2MfZnW+L0SIPfbYetdzVpl1SnlabKCm3usyuFSSRosQ20J1pZUaQzffna6PNWZP1jrHNA9s6cudftfQO01HcXe20OyWv153rNjj0pTsaafeC3PlWu6WKMjvORPc3h0GEjt935NxdDZ8XeuRjsipnSxms1m0yW2mjwzXn+JGCzfDUU9vry1rLcdo4uS562B7jxT5DAABJ0rsfP378ePfunfb7ff09AKhwHIfvCgAAAFijhRMAAAAAMAoCTgAAAADAKAg4AQAAAACjIOAEAAAAAIzi3e+///7jt99+q78OAAAAAMBZGKUWgDVGqQUAAMAQpNQCAAAAAEZBwAkAAAAAGAUBJwAAAABgFAScAAAAAIBREHACAAAAAEZBwAkAAAAAGAUBJwAAAABgFAScAAAAAIBREHACAAAAAEZBwAkAAAAAGAUBJwAAAABgFAScAAAAAIBREHACAAAAAEZBwAkAAAAAGEVHwJkqDqeaOo4c8zedhorT+nIAAAAAABx79+PHjx/v3r3Tfr8vvZxqPZ1okZReygUb7Vez+qsAfgGO49S+KwAAAIB2zS2c6TfdJ5Lkabnba7/fa7/fabMM5NWXBQAAAACgQXPAWUj0lOY5tK5m85W2tdbNdB1W027DWOWs2zQONZ0e3s+WWdeWWZeWmSqs5e0eb2OqcF3eT6r11JHjhIrTWGFp2aH7AgAAAABchl1KrecpuP2qzzNXbmmpOHTkR6UXct5Su+1crmKFjq+mRYrU3HSt6WShavZuoM1+pZmkdD3VpDG3t5ze25ECLPt9AehGSi0AAACGaGnhdDXf7rQMTAJtkijyJ5qUWwTTte4iVdNudxsFkpTc61sqSTN93my0K9Jy99otg2z9x+9Zy2P6lAWAXqCN2cayyNuN9cVEkd5yV9qGWSC607reQOkF2uxMCrDZld2+AAAAAACX1BJwKgs6V9ta381Ekf8pC/Ly4E2JFhOTojrJWzMTPZlA0HWlL5+mRYrrZFFr75xdmyA1ku84mn560PuvpsUxfjDbC3Q7P7StuvPbbJ3SfnLB7UozV1kK8HUecRpd+wIAAAAAXFRHwJkzfTf3pvWyIchrla41nfiKkrZcV0maaVUKapMkkj+ZHrdcXsRz7gvALyddH/q0T6v9x/vEoSMnjOsv/xLicHh9NTP9+S+yreFe+hy+9P7H8bLnFABwvuaAMw7NnJuHr/c0/q7H8jLulWn1LI9ke/jLulbWUljLKbW5ONQ0TOXOV9rudybFNdH9t7S0j0h3pagwXd8VLZ/XQ5onu/YF4ET5oF2Hwbh+zYc4qdafFkqCTfY9uJ1X+rwDeHvisOUBUunh0rT2hZeuTVZXGJeWe0vfiyPPw/4q6mTkY/yZlB+kOqF+tkdaeB6NAWf6/dG0/k0OqbC+GWzHW+rzTJI7122Wn3pIqa1fkHnAaFJYnaaUWklJ5GviOHKcw8A/H967pX1IyaJUlqJf5+fB6bCt+wJwAjNgl5ba5Q+cdje6//Qrtkakekok76rn+yQOX/hG62fmar59hmCfcziOxnp9pnPaouiakzzVAs68W5GU3H+rjJr/LZtXTsGgJ+LHimD3WVuts+90P0oqAywmSST/y3OWY0y/wjFeTvrtvlRP1QagoV7mmsZr0BhwuvOvWdppeUAdz1Ow3JjRZzOz1U6bwGufm9Od6+umPHenp2C5NKm5xuyzNvngRDL72eyyFtJ8H/X5P80y21K/Tis9+wIwlAmybj4ebgbdubYvdHMIABdVyrR6KN0jxw+lh+eVYDT7TpQ8Xbnm+3C/136/1dBblhfxHPOwv3SdPMcx/jTyByiBliZDsfqABbDTGHAW/Ta3pTTZ7Var+ax2E+lqttqaL47y32EgHne2Kr2/1Wo+16qSbpZto7KfbNSfwz7m5W00LzM3Za0Ej7NVLbWtb18ATpH0deyOw2oWRD09rfzkM/+rPwGtpPU4qr9df79pmbyPW5Hy1lKWI33bjkM5ZgqoPBujnmaXLebI8aNKZkh9ud6yWdRlLqvT4xSooz6TFtvsOz953bamIJZUtlU/SXmKdtP2S9ts21/bct31Wk8Lz/9a6u4Zz2Gh7xosq2y/dgx9n6OesjXV+9ryOuu6hrrqtb4d6fg4mo7F6tyb7dTPYcH9qBsThTx+z5dJ9b3Sx6gUjKam+5F3o49uuZx5y63NvOHZMsW0c5F/VF/dc6DHCs2xxnG+3PH56dY1D3v1GNbhoX6rc5+3lOOkOsl3XX3/8FdvGbdhc4xN3/Xl66ir7LFSk7rbfDznrGu2MPZ1kAfn3pU+zvOBN/OZKIqFLOqq65q2WV9n1lfXusf1istrCTgBwMZMn5ee+fFo/sFP11M5vop+3Pv9TkstNKndiN5dHaY+2u+W8iK/9OMTK5wspGJ6pJ2u7ko/nHEoZ7LQh03pwdQmUOQ33EhGviZPt2a5jYJkoU/1Zcpstj1bZdvSYQqnpgyM2Spbt/xkvbJcT9ls6rJs9nkpr9Yyk09pFdxmD+Jsttl/fozIl6/uPqxx6MiPSv36r+6a53O2YbE/qa9es/S6xQeznf3eTKnVPEfzc59DyfIazEW+nIfrw7a9SH6x7e7PkXXZavU+vw6OWgClWA/RIfuh7xrqrdeygfXRdT76ufpoIs5Dy45pxfSWOsz0Zt7J0w8/vG+/HiVJkfyJr6iU05lEC02OPlTH4jDrnlRJB4384/OULOT71eV6lQLsyJ/ImWbT4TXXWHYMi9JBJFHD9WJdjr46iRVOfEVJlnF3covkoGO01VR2XxMnS909vNZ0jk9bd9TrwMiv5+xzPFOWYf7SY5+cVl+ZpnWblsOlEXACOIs732Y3j0XLRDnwzObSDTblG3dX89ug8pR0tqrdXJobgqh6B1viar7Nt5lqfRdJweYow2ETSMniS/WJbrDRvlgw+wFtTxEauO1zdZbNri4rGuoxu4HIB1yz26b9+Qm06eyjYIKQUv97d749zJk8WN/+jM56zYKHcn+7rN/eo4oGrSE692VX31UDr0FvqV2xYN+2y5+jIWWr1fvss5ZeuQVQZlqzw5Rm9tdQn4H10Xk+VKR3tga3ktz3H7J/5Kmz+ZRtH96bYPuwzTTLp7Xrv9k6b3iWtVW8lg9EtpoVD4y650AvCTamf/3xw5NmFvOwl3lLcwylOdLPKUdrnejQehzcajWfaTZfFeN8BJsh6bkDj9FWqeyHOd6zrluV+smPp2zouqNfByq+EyRPNx/N57h2vdvruKZPMbS+yrquMYyGgBPA+fI+OUXgaVpNzA1C5B/SVxwnT50rq6c0Hgb1ymQtqVm6ar0l9ThgyJ0VOEgjb3sg67osM60z0YO5CTf9cYLr7KbDept958fIt9vG7O9iA7X17c+Kq6ta4JP1z/ugSxWzYF3fZQOvwXrLmnslr5jOrONzNKRsR/WeXWflm9D4IaotZ3kN9RpYH5eQz+FtWnFTk08bXM9KgyM+KS1SbU3/zR6d84a3sZwDPeNp+bneFcpGzzzsJcHt3BxD1xzp9uXorBP3vT5IUnSncB0rXodF0GVT31X2x2irXPa8VVzBbdF16+jBRcngdZ/jOsgfrOTp4cq/TyQlC73k+EqD66uk8xrDaAg4AVyOO9d2ExQ3ZrmgnPpW/OVPpE1KY3mk28pTy4w7z/pfb4L8B7Ya1LY7I3AYc9sn6q7LY9lNoBlZ0PTHqd+sd2/T7vy8eXmfIidP+R3SEjBMd33XXPgabP0cGYPKVuJ+vJFXtKxkLdmH6+yC19CF68NOnkooPX6PzSAq+aBAeXpmpIc47+9WukF/086Yh30U2cMhKVG08OUvIiVeoOWu//ps99qO8fUoBsZKFmZ2B0fOxMxYoVOyE/ArI+AEcFnFqI4qnkhXUu3q8iDI9CnsM1vlLakmqDX7aPrxix8iybuy2m6jMbc9lE1dNjqkEcbf7pXkU1vJcpsDz08nm/3JVf5w+lmk33Sf1OeTHinYtDr+mqHXYD01LH1S0tAC1PY5GlS2MvejbjzTtyt+UFS+zka4hqzr40LcLNJRcn9XCyoP1+vjXbm/20hs5kDvUAygVO/nl7OZh70kulubuStTxafOkW4r/qJFcugnv9/vtd+ujoLNix/jgxmIJ42zdO7XYOzrwDw06lRkzpRfOq+uzl0frxcBJ4DTxWHtByvV+tOi1EcwT+GrpSmV12u4gYzDWrpdHFZHLa3cRB8GLqqPcOeXBsc5zQjbrqQ4DmFRly1m10E2cMQiqd0MW2zT5vxYM8FvqZ9dNohQdSn3ypOiu6JMTctcjPteH5rmk+6q02c9hwOvwaQ2yEq2UHZTbvE5Gla2sqy/Z3L/TeuHqDZVkuU1ZFWvA+ujT98otYb78cakEpq5G0upy0W/tiQ7oEuljOdBbmVET5s50M9gNQ97WbKQP8lSpP38hB6lXF9WeV52x3FM8Fhfqp3dMZZSNfP52yf+8TX7Uka+Dg7ptOWsBPO3W9amCrKvq8ZresD6zyEbTbvedQfnIuAEcLrZSrub+0O6jZOnzZWmRppvtVuq+qN4d1Wa03emlRmxMn/f16Y6kMxspY0O7zt+VBkkwp1vi1EqD8s8arnrf9Lb5+LbNjcK+faGDI7XX5ctzKAu5cEfcv3btDg/A8xWZuRUs627q91hgAfDnX/V0jvcSDUtczlZml41lbRldNbcM5/DIdegt9xpd3VnlvMVlQcRsvgcDS1bxexaQbLQIqpfZ5bXkGW9DqmPiymNbCrV0tKLPp66aOueO/96GNhGkmeaqXvnQO+QD2rU1gprOw97LlhuVJnePNiUBq26sEo9H2TBY2m05Qsdozv/Wpu7PdAmH5jnFRjzOsjTaRvfL4/yax4i2dZV2zVtuz7ernc/fvz48e7dO+33+/p7AFDhOA7fFW9SqQ9dw03jryxdTzVZfDjqs9n2OvB2xQrzhxBnfQ+Y75Mke1AzVnxZl2c6eMvdYVThONTUj5QU0xhd6hh/ZtQRnh8tnADws7tkH7qf0vEckl8WpdF8gZ9Aur5TJE/Lr2/7e6CSUpvPL2k+qz/LMY6JOsJLoIUTgDVaON+mrGVg3JFX37KsNbPaYajSigKg5GVaOKVU6/CT7iPTj1aS5ClY3urz/IRpPwA8GwJOANYIOAEAADAEKbUAAAAAgFG8+/3333/89ttv9dcBAAAAADgLKbUArJFSCwAAgCFIqQUAAAAAjIKAEwAAAAAwCgJOAAAAAMAoCDgBAAAAAKMg4AQAAAAAjIKAEwAAAAAwCgJOAAAAAMAoCDgBAAAAAKMg4AQAAAAAjIKAEwAAAAAwCgJOAAAAAMAoCDgBAAAAAKMg4AQAAAAAjOL5As50ranjyHGmWqf1NzvEoRzHkTNda8hqAAAAAICX1RJwplpPHTmOo2ktOkzX08sEgKcGoAAAAACAN6El4AQAAAAA4DwvF3C6c233e+33W83d+psAAAAAgLfuYgFnGoeamjTc7G+qcB23p902ptSmikOTsus4cqah4u/V1dS4L0fT8JDiG4fm9TCurpenA9deBwAAAABcXm/AmSwmlcBuskjqiyhdTzXxIyWVtxJFC1+TAcFdHE7kR6WNJJH8RVReRFKsL0f7kpJoUexrdh1kL0YPOuw91bf7bKXgela8CgAAAAAYR2/A2S/WFxOEesud9vu99vu9dksvezu6sxwUKNaDiS2L7ew2yjdzMNPnzUa7XbafbF8mwHz8nrVyzq6VvRLpIY844y/KihmIeBMAAAAAxtcbcJaDyEogmYsflMWJgW5LnTHd+a0J+hI92QSc6Xc9StXtuDPNb00wWeK60pdPh9TbyVEr6EyfTTkjE3HGJpr1lp9FvAkAAAAA4+sNOF+ddK3pxFdUz6mtcT/eyFPewrrWXSRJnm4+MkIR8FrFYXnKJTM907lTML2IlrIXfdcb3usRh8/X/7x6HlB2yfNwyvX+MucmnyotVFwaD6E+bdpFNY7zYGG0ubtfoA4qXnr/I+JcAz+98wNO9yoL7BTprvRhTNd3RcvnsBTW0nbSWOssUjxIn5RIkhdoU0+pLXM/6saTpESLycKscyPiTeDC4nD4jcIvKdX600JJsMkyRrZz8XWEnwNzd78GxYCJDeehCM7OfljCuQYw3AUCzrnyrNfyAEP54ELWKaxN25n4pt9leTkT4CaR/NaUWklyj9Jxg1tu8IC3w9V8O0Jg9iwBclPZUz0lknfVczTPUj68Pk3XzOvkvv8gSfrw/rWXdDwvXQd9+08WX0qDJuIcfXUNoN/5Aaek2WqnzTIwLZ2G5ynY7LQdMMnmbLXTMihtxQu02W1MX1DDnevrprwvT8FyWV0mVwwepBNaWgEAwKvA3N3WPM87yjp7UzjXwE+nJeA0T1r3+6OA0Z1vG9LBXM3mK/MFYf62W61mpXXrXyD1/zfbma/M9vd77bcrzdyZVrX9ubPyvrZazedHy+Tbu8oj0+DarqUVwNnyfm5FilVLmlU5Bawp1aupv1plmw1pXZVt1rYbh44cPzKp9g3r52lnbWUu98F0HDUUuVApexzKcXxFpQyOermLdbrKVz/+evlkcQwN+s6D6ss01avp71TWdP5UHENt+aaWXVPf5SJ1lUMado5ks70WveehVg7rstS29SznxpS1fq0duHr/QZJ3dbHW1+P5tF/73N0n1oHFdRCH2T6KcjRdTwP2/+E2G7TRppXzuG56zsMJBu/jrZ5rAK1aAs6fRPpN///27h+3bZ+NA/i3F9AZfoACZMjkRScwlCFboAtoCuCh3gIfwfDmDgY66QKCNw8RfAItnjIEqID3DL5A34GkRFF/SNmynSbfD9ChrS1TIi3zER+ScutN7r1JdG1JhMnHq3wwlCLOF3jROrTZ3EOUaHOx71eI2rLjNcVmiskCWJbbIh3wvH0pOyXZ3MPqXltZ+7BEkERlBy9cH3FMYwBBeQz1UK3YTOFFKMtzPB6wxAKTsvOXYS4+vPz/+1WzI98qXItroK38bT7MEy/rLh9gv6b2c2hyqQfrdf25RKBvQwXRaVwl7VMZxKJu9ddnuwRBAGzftJIWH8i17BRbOYbWkf14HSz1gGwOb7LAQ6rqQdRrEvUFdU23qJsu4Vp7qBuucTwesW75Wf3Ke3e7XoPSkHaQRIjQP7/b/fPVSv39o5zn1gPrmohcfemAs3jbysWClkynJbq2OMWx/IUO8RQD+fatDN52SX2Otz/bI23NjVdEpyBY/q5nReyrLIlwbQRocvEwtT1SN7GfcJyutUwIOQ8830KPgSo+Znv99VdguabDz8GtHqzX1fx7ef/tmMrQeH2BP+8xXl8ftPOR21lp2SnWcjT019Hw40m99VCIxe7itN5BDddIY7dRJ+GKdSMzjtoegozvu+zdPbQdxEhHjGjU1nTNz1HGqoc+Y33GZ69rIrL50gGnnv7LewjRJyL33R20CIPMWOh/T7WCovgzaS481kaWJ4nqqVgivVURowbiqf4nXNTH6RwMzvVgu64+HkVUIzu3csSgcyqDfL3qBBZv2OIefviEOP+oPZSoZ6fYyjG0jmzHO4VYHKotq0aMrrzjj7Vct6yb83DvbmVgOxi9PiyjnCPUA+uaiFx96YCTiL6TApvpBAsscSg7QYeWp+DdYj31rfxTjaCqh1hprOZYdqdr3ortHIZzu66iEyk7t/LhQFtnW/EfnxHIkdfibQs8P8KHj/tAjjxkOyS1EQfXcrjWkdvxBis7x10eYI0hnbmdw9C6+VJutXf3VdtBO3/2G8ugb5Tzi7lVXRORFQNOIro+/w4PAN6dhnok23tUR3rAvLSS7diGcC3nyplz425p4DkAju9xvq5Vamn2tkUeLPGzL6bxH/Ec5Ni+FSg+cjmSJ0bjkl2G4s97fdTHuRyCtY4GHs+ZvKZtabnZLnFfiOSWdXNJ32Xv7rHawVnU9nAJVisj/B29HlqM/hmftK6JyIoBJxHdgOwAa0/exQIpxstqVLpktUiQGOGRqZMtHbxsbqYXqk6QmcrVdmyIRT/0lWb1RS6KD+QIYNtWc7DW8rlwOIcGh3pwva4qVTBfIFrkCJ4fLR1qEVzm2xeskqrj6d89AO87/Nrm9VE4l3IMqSOX451EpuyZiw9lc0SDFuq5Yt1YV6kdUdue219y7+6x2sGZwp9ilNMc9Wu7fqfUQ5+xPqPtODeua7HarUvaPhGBAScR3Uq4PmAZVB2D1f2hOQfI4M/2OCxRbhnieRNsn9UiQiHWcoVO1bGJkDYWWVGdFzXXUXUGm8f24K3ucdBWKkxRHduLEsTpOamqHTrK58J6Di3s9eB4XVF1bl3T00RabY5cH+0JnxDnCZLcHP1wKMegOnI43on82b5cjbQqyzuWh2ErXd6ybi7pu+zdPVY7OI+P2e9l/VpLY9VDn7E+47PXNRH1+/H379+/P378wPF4NP+PiKjG8zzeK6iHNqewJ8ilW2Dd2MlrlMNYiZi+HtY10TVxhJOIiMbhPKeQro51Y8e9u78P1jXRVTHgJCKiUWS/Ft17b9JNsW7suHf398G6JrouptQSkTOm1BIRERHREBzhJCIiIiIioov48b///e/vf//9Z/47ERERERER0VmYUktEzphSS0RERERDMKWWiIiIiIiILoIBJxEREREREV0EA04iIiIiIiK6CAacREREREREdBEMOImIiIiIiOgiGHASERERERHRRTDgJCIiIiIiootgwElEREREREQXwYCTiIiIiIiILoIBJxEREREREV0EA04iIiIiIiK6CAacREREREREdBEMOImIiIiIiOgiGHASERERERHRRXQEnAU2Uw+e1/wz3RTmi2+n2GDqefC8KS5SrEsfv6bjmk+nmG8yXPzjiYiIiIiIRtYRcH4+2VwGYPPM/K+vLc+RLCJMrhL0EhERERERjccacAbLA47HY/lnP/PNl9yOP8P+eMTxuMdFinXp43fQr/khjREAAHIsXjYc6SQiIiIion+GNeBsV6V/1gYcs7lMA1WBkXrdHFmRYa6ljE7nzeCp2MxlCqtIY51nRXmMKJEvSqJqpLMj5bXI5pjW0lPNtFTHcjWO7/g+ADD+Xy/LkJFKP1xjn8biL/kWb/K9zXOsl6FrRLjYTFv/nYiIiIiIaGwnBpxDJYgmEZK8+pc8WWCiBT3FZorJIkH1khxJ9DIoOIM6TpQg1z4LkGmpjSDLXq52tvdlmE8iJHmAeJkiXapRyhOFTxAhZ46PAgAy/GqcY70M4ZMMUpMdtKuMt614U/wUlv9KRERERER0CdaAM19MaqNo1lisSxAjPRxxPB6gBuzw/keOyGX4tRCBUJlOekixDADAx2x/rN4Tp+L/120BU8txjkccxIGAZNUMYHvL1aPvfcUfvANA/Ir1LEQ4W+NVviZOT0nP9XFfi1hD/ExTHA5VqvNhKT9AlaEMUhPsyjj4F8TlicF4k4iIiIiILs0acI4lfl0j9AHAr0bfFBWgIcarisb8ELP9wOAs20Fk3mrHAeDPXo0RwkpvuXr0vs+/wwNEgDvfZMg2c6wSAAhwP+R8SgU+jNFM3wd+vcj0WM/DZKFyjpUQP2WgnciIM9uJ1wTLn2C8SUREREREl2YNOM1Fg1oHFs9VfGiptF+BGpEUqbzRIkEexFgeBgbQShlIy4C12GA6iZCYObUG//FZpPImK2yKTRn0Pj+eUgiiy8vmLXPAy7//SzrKXs4Lb/k/i2zOudek62hjF6etZaCtC3DdLdNOLMMZ37/PrH7fNN2qndjKdW0ntpmzXf9zP99vxe3aIH0e1oDTJtnJxXiKDBsR0Qzn38s5jglW6ktYZNhM580U2D5txwFQbFblyOdVUkll6motWN+vTwo2i2yOqVoxKXjGo48qQA9ipGZKrc5/xLMMfBeThXyPPAbRWLL54MWwvqcCm5cFcjUtYD8Dv4r0tWj7SRsd3nIhu5t1Ovn9o35lG20LCNWimJ8qkCP6d5wYcPp4FJEMkESYeB68SSTnB57An5VzHMs5o5MIi1wk2gKAryYx6qvUmtqO43mYlPM6r5tKas5/nU7nyBx+aWtlj9RCSjFS9QOpAus8QdSZUgsAPmbqgkjxK39k6V8h5m+P3jG8SoDcVnaRGh/Y8uqvUr4r+Crn8Rm0Xsu2NnZ9/t0DAODhzq//5uhrJpQZNpf5DaqXoYvj9+/L+Rzt5LOxtZl88UtbcHE8ts8dpPW+8BmxDdLJASfgz34jjbWVbIIY6SGVcyWHC9cHpHGgreYaIF7+LkcF/dlvLLXP6/rRCNeH5qqwQYA4PVxvD9FywZ66PE8QTURahbNArHR7OK6rYNmf4Xe5PyfktVq2fma9LFca4SUiou8p/CkX/Muxlft4FW9bmWGzxE/+BtEnFwRBI1OOiM7TEXDKpxHHY0+Q5iNc72spo6EfYl1LVamOU5v7Ga5bUlrE8fblfNE91rXP9jHTPm8/8wF/Jl+vz430Ec7W2nGOOO73WIsVfqpjuZSrcXy392XzCIk5/7UWILapjl37s99jPQsbT4X8UD/HPdazmXHty1dWK9zGT1cd4aXvS80hKfd97Uil01OY2rIW2uYA1Y7ZkvpUO6Zx3GzuwYsSmWbe8n6VNtVVZn0OmGXV7lrZszk8T9wXVAaDWe7yPX3lM8/fLB8czsHUcU7iOjYfkNXOq++9fedhKWNv+9Hf23Nu4r1G+dtGBOQ56HXZ14aA7vPuYj2eWa/a9eq7lnpdONWX+Id6WcxrKM/NbHcVH3cPAIL7xu+SUI1yilGiavV4c3Szvve2h+lc3y8bKLKNtt+02psbDmUw2L5/Rn16LXWq2mRZl+Z1O7PNjVUGaG2prZ2Uf+/6flVHqdKja3+abUyptXOz8FLfd8GpDQ/87lXc28zDq1ho0mWUs7knurnvu/vn1ljaQ999QemvX/u9oK29ZSe2cbMNmufXqEdL2ejf0xFw0hhqKbUqNfbaQV/xBrn1JvfepOtKIkw+XuVDkRRxvsCL9ouUzT1EiTYP+X4FNV25i9ivF1iWWwId8Lyt9uvN5h5W99qDnsMSQRKVP2bhWjz8AYLyGOqhWrGZwotQlud4PGCJBSblD12Gufjw8v/vV83OUatwLa6B9iCq7WFeX/kA+zW1n4Op+5zCn0sE+rZKEJ2EVaICh5739pyHcxlbznXiefB2T53nrxOLptXLn+0SBAHKkTcAck58lf1ha0N916yN/Xj97brvWurEaulGfSHDLgGC50f4Q669RbjWHm7KB671h7BqlDPBairXUDBGN7O5mAqiz8TJk6gqS7HBS7TQ9pvOkURVAGAtg67v+5fN4U0WeEjVNRHXO4maHXgkESJ0zwE9tc2NWQZkc0wWOeK0vZ2UWr5f1XepwGY6weJBfs5RbU0XI9WzrTQu93Pbd+Gce44L9zajVvnvH+UsHPd9d/9cyaE9WO8LvfU74F5gtLfw1DZe01+PzmWjfwoDzgsI1wcsa+nBkGmvKQ69d5nx6alM7V98oguJU22/3BBPMZBv38rgbZfU51X7s321p22rAm/bHIGWai8yA6oMh3Bt/OjKhbPU1kDdxChMnOqdKTlSk2+h/45WfMz27Z2vi7Fc0+HnYNLOqeXaiftJVyfC5XoMKGOw1O6X4lzb/q06f0Oj/AX+vMd4fX2ovSfbJbUHgcPbUP95249nb9dOZJD3/ke7GtkOSblNmOO1l5k9vcGKlTbKKXvjtdFNbdX0MshWU3JUWczF8cq9ucdUiMUO47SRtZTGbSNcMdK+3/CWurW3uRHLkM3hRQni1BLQwHYvEfNd9YfU4oHGO/TmVXG7n1u/C+bfR7nnnEZtp9e8/soJ+747GdoeOvTWr+O9AGi2t0YdubRxG70eh5SN/iUMOC9CpP/W0nqP7amxl+bPZBryfub4xSe6Arn37qCFE+Roff97zDSwidtiZrI8SVRPYRIpS4p46i0yFz7hQg1O52DqOye5OFyykx0cERhVnYi+93Y4qYynkuV//yNHzN6wxT388Alx/lF78FHP/rC1oaHnbTmeU7t2Ic63s9N31WtfBcBAc3Sz2gqtSgf0JiLltdwvW60/IBfHm77scPd77OCiGVgprQGWtQN9SpsbqQz5ApMoQbA82INNKzEVRw/8xD7eD2htps73c8t34RL3nJNZRjlP2PfdzcD2cIoh94JGezuljZt66nFI2eifwoCTiL4ImQaGJQ56Ks6AUZFYT2HSHhap/oR6gJPGqqPsns51LbZzMPWdk+g8yQ6XDIz0TkTfe/sMLeOp/MdnBPKpePG2BZ4f4cPHfSBTwuQIYHVKbm3I/bzdjjcW/Xy7On3XuvZQc9cA4OHuhIetIdbHahFAsejeyEGG7Nx26wiwegxuc2OVIVgilZ34xny4U6ldATyVLntOwO/2XbjUPecU/uw3lsGAUcUxjNUeHJx6LxjcxlvY6vHUstHnxYCTiK7Pv8MDjPQ/G9t7VOfklG0XbMc2hGs5/8icb3RLA8/B1H5OVSpW9rZFbo5UqVe1vrfFmWUczH/EcyBWSy0+8nLrjsfnQOwh/ee9/gR/YBuynrfL8ca8Jtr5Itsh0etrzM85V7lntpZSq/1ZhyI9dDov4M/W2JeBSbXy7SjkNWlLl852yfCFXnBCmxuxDCqNNYnODMyLN2xzs256gk2XtuXyXQDGv+ecRaWGJ1itjDDwUvu+j9geOrnUV5+hbbxHox7PLRt9Wgw4iegGZKdCe3IsFp0wXlaj0nCqRYLEU3PZuWr5oc7mZsqW6iiY6U5txxad3trqqLWVXj6QI0DHDk2nay2fC4dzMDmcUygqCtEiLxefARze23oeJ5TxLCrN9AWrpOoA+ncPwPsOv7Z5fQTQpQ3ZzlvncrzWa6K1a3Rdyzaig5xv37DZJfX6av2clmtvXaV2BOWe2VpKbfmnGunI1T7fWuqlPW1zCJk2aSzihGyOqFyoZqiBbW7kMoTrA5ZBjsXQLdh0/h0e2uqm8zvqcD93+i4IJ99z2lZLPZdMDVdzkUsX2/d9QHtwvi+YHO8FnYa2cUNvPbqVTaycO3Jd00Ux4CSimxAdIzE/y/PE6oXlggsd/NkehyW0jtAE22e12EqItVz1sEwDQ9pYuEJ1FNQcEfW71zy2B291j4O2umCK6thicY4LpPh0lM+F9RxMLudUzsUL8Pyo/YftvR3nMbiMZxLpXzlyfWQgfEKcJ0hycxTCoQ3ZzrvG4Xit10Rv193XslX4hDhfYJEY9dX6OZe99n2ae28bwp/GXt9iP+3z5yfW+bN9uQJoVafvWB4cFt7pMKzNjV0GH7N9ihgJot6G0kfM4aynNfavFGq/n7t9F8RLT7vnFH/6k1FP42P2e9naTi+177tzexhyXzCcey8Y2sZrLPV4btnoc/rx9+/fvz9+/MDxeDT/j4ioxvM83iu+HW3uFX/wib48sU3PQ2POZte/j++0e0429xC9D3sPEV0HRziJiKib89wrIvo6zLmRchsQx7l5ZznpniMXyRr0HiK6Fo5wEpEzjnB+P9WG7pce1SCiz0KMZtbnLQbL81JFXZ1yzyk2U0w+XrW9J4noM/k/AYMPgnSdEscAAAAASUVORK5CYII=)"
      ],
      "metadata": {
        "id": "aJV4KIxSnxay"
      }
    },
    {
      "cell_type": "markdown",
      "source": [
        "### Check Unique Values for each variable."
      ],
      "metadata": {
        "id": "u3PMJOP6ngxN"
      }
    },
    {
      "cell_type": "code",
      "source": [
        "# Check Unique Values for each variable.\n",
        "bike_df.nunique().rename(\"Total Unique Values\")"
      ],
      "metadata": {
        "id": "zms12Yq5n-jE"
      },
      "execution_count": null,
      "outputs": []
    },
    {
      "cell_type": "markdown",
      "source": [
        "## 3. ***Data Wrangling***"
      ],
      "metadata": {
        "id": "dauF4eBmngu3"
      }
    },
    {
      "cell_type": "markdown",
      "source": [
        "### Data Wrangling Code"
      ],
      "metadata": {
        "id": "bKJF3rekwFvQ"
      }
    },
    {
      "cell_type": "code",
      "source": [
        "# Make a copy of original Dataset\n",
        "df_copy = bike_df.copy() # Making a copy of the dataset is important to ensure that our original dataset remains intact and safe from any modifications."
      ],
      "metadata": {
        "id": "J3n-2ydr4k-n"
      },
      "execution_count": null,
      "outputs": []
    },
    {
      "cell_type": "code",
      "source": [
        "# Add rain_condition flag feature\n",
        "def rainfall_flag(x):\n",
        "  if x == 0:\n",
        "    return \"no_rain\"\n",
        "  else:\n",
        "    return \"rain\"\n",
        "\n",
        "# Apply to the DataFrame\n",
        "df_copy['rain_condition'] = df_copy['Rainfall(mm)'].apply(rainfall_flag)"
      ],
      "metadata": {
        "id": "Qn6ZM8niTjAL"
      },
      "execution_count": null,
      "outputs": []
    },
    {
      "cell_type": "code",
      "source": [
        "# Add sun_condition flag feature\n",
        "def solar_radiation_flag(x):\n",
        "  if x > 0.5:\n",
        "    return \"sunny\"\n",
        "  else:\n",
        "    return \"cloudy\"\n",
        "\n",
        "# Apply to the DataFrame\n",
        "df_copy['sun_condition'] = df_copy['Solar Radiation (MJ/m2)'].apply(solar_radiation_flag)"
      ],
      "metadata": {
        "id": "7dftqM2IXib_"
      },
      "execution_count": null,
      "outputs": []
    },
    {
      "cell_type": "code",
      "source": [
        "# Add snow_condition flag feature\n",
        "def snowfall_flag(x):\n",
        "  if x == 0:\n",
        "    return \"no_snow\"\n",
        "  else:\n",
        "    return \"snow\"\n",
        "\n",
        "# Apply to the DataFrame\n",
        "df_copy['snow_condition'] = df_copy['Snowfall (cm)'].apply(snowfall_flag)"
      ],
      "metadata": {
        "id": "pVR2WIs8XcL1"
      },
      "execution_count": null,
      "outputs": []
    },
    {
      "cell_type": "code",
      "source": [
        "# Add temperature category column\n",
        "def categorize_temperature(temp):\n",
        "    if temp < 10:\n",
        "        return 'cold'\n",
        "    elif 10 <= temp <= 25:\n",
        "        return 'moderate'\n",
        "    else:\n",
        "        return 'hot'\n",
        "\n",
        "# Apply to the DataFrame\n",
        "df_copy['temperature_category'] = df_copy['Temperature(°C)'].apply(categorize_temperature)"
      ],
      "metadata": {
        "id": "4u6JJ0BODBfj"
      },
      "execution_count": null,
      "outputs": []
    },
    {
      "cell_type": "code",
      "source": [
        "# Write your code to make your dataset analysis ready.\n",
        "\n",
        "# Fix Data Types (Convert columns to appropriate Type)\n",
        "def correct_data_type(df, max_categories=10):\n",
        "    \"\"\"\n",
        "    Converts datetime and categorical columns automatically.\n",
        "\n",
        "    Args:\n",
        "        df (pd.DataFrame): Input DataFrame.\n",
        "        max_categories (int): Max unique values to treat as categorical (default: 10).\n",
        "\n",
        "    Returns:\n",
        "        pd.DataFrame: Processed DataFrame with optimized dtypes.\n",
        "    \"\"\"\n",
        "\n",
        "    # Convert \"Date\" to datetime\n",
        "    if 'Date' in df.columns:\n",
        "        df['Date'] = pd.to_datetime(df['Date'], dayfirst=True)\n",
        "\n",
        "    # Auto-detect categorical columns (low cardinality strings)\n",
        "    for col in df.select_dtypes(include=['object']).columns:\n",
        "        if df[col].nunique() <= max_categories:\n",
        "            df[col] = df[col].astype('category')\n",
        "\n",
        "    return df\n",
        "\n",
        "# Apply the above function on \"df_copy\" DataFrame\n",
        "df_copy = correct_data_type(df_copy)\n",
        "\n",
        "# Check our datatypes correctly changed or not\n",
        "print(df_copy.dtypes)"
      ],
      "metadata": {
        "id": "wk-9a2fpoLcV"
      },
      "execution_count": null,
      "outputs": []
    },
    {
      "cell_type": "code",
      "source": [
        "# Create Time Based Features\n",
        "\n",
        "# From \"Date\" extrect useful time_related variables to capture trends and seasonality\n",
        "def extract_time_features(df, date_col='Date'):\n",
        "  \"\"\"\n",
        "    Extracts day, month, weekday, and weekend features from an existing datetime column.\n",
        "\n",
        "    Args:\n",
        "        df (pd.DataFrame): Input DataFrame with a datetime column.\n",
        "        date_col (str): Name of the datetime column (default: 'Date').\n",
        "\n",
        "    Returns:\n",
        "        pd.DataFrame: DataFrame with new datetime features.\n",
        "\n",
        "    Raises:\n",
        "        ValueError: If `date_col` is not datetime.\n",
        "    \"\"\"\n",
        "\n",
        "  # Check if the column exists and is datetime\n",
        "  if date_col not in df.columns:\n",
        "    raise ValueError(f\"Column '{date_col}' not found in the DataFrame.\")\n",
        "  if not pd.api.types.is_datetime64_any_dtype(df[date_col]):\n",
        "    raise ValueError(f\"Column '{date_col}' must be datetime type.\")\n",
        "\n",
        "  # Extract Features\n",
        "  df['Day'] = df[date_col].dt.day\n",
        "  df['Month'] = df[date_col].dt.month\n",
        "  df['Weekday'] = df[date_col].dt.weekday #  # 0=Monday, 6=Sunday\n",
        "  df['Weekend'] = df['Weekday'].apply(lambda x: 1 if x in [5, 6] else 0)\n",
        "\n",
        "  return df\n",
        "\n",
        "# Apply the above function on \"bike_df\" DataFrame\n",
        "df_copy = extract_time_features(df_copy)\n",
        "df_copy.head()"
      ],
      "metadata": {
        "id": "kfpY29NRXp_M"
      },
      "execution_count": null,
      "outputs": []
    },
    {
      "cell_type": "code",
      "source": [
        "# Rename columns (To simplify column names)\n",
        "\n",
        "import re # for string operations\n",
        "\n",
        "def clean_column_names(df, replace_space='_',\n",
        "                      remove_chars='()%!@#',\n",
        "                       replace_slash='_per_',\n",
        "                       replace_degreeC=\"_C\",\n",
        "                       lowercase=False,\n",
        "                       strip_whitespace=True):\n",
        "   \"\"\"\n",
        "    Standardizes DataFrame column names by:\n",
        "    - Replacing spaces, special chars, slashes and °C\n",
        "    - Optional lowercase conversion\n",
        "    - Trimming whitespace\n",
        "\n",
        "    Args:\n",
        "        df (pd.DataFrame): Input DataFrame.\n",
        "        replace_space (str): Character to replace spaces with (default: '_').\n",
        "        remove_chars (str): Characters to remove (default: '()%!@#').\n",
        "        replace_slash (str): Replacement for '/' (default: '_per_').\n",
        "        replace_degreeC (str): Replacement for '°C' (default: '_C').\n",
        "        lowercase (bool): Convert to lowercase if True (default: False).\n",
        "        strip_whitespace (bool): Remove leading/trailing whitespace if True (default: True).\n",
        "\n",
        "    Returns:\n",
        "        pd.DataFrame: DataFrame with cleaned column names.\n",
        "    \"\"\"\n",
        "   def _clean_name(name):\n",
        "      # 1. Replace Whitespaces\n",
        "      name = re.sub(r'\\s+', replace_space, name)\n",
        "\n",
        "      # 2. Remove Special Characters\n",
        "      for char in remove_chars:\n",
        "          name = name.replace(char, '')\n",
        "\n",
        "      # 3. Handle Slashes\n",
        "      if replace_slash:\n",
        "          name = name.replace('/', replace_slash)\n",
        "\n",
        "      # 4. Handle °C\n",
        "      name = name.replace(\"°C\", replace_degreeC)\n",
        "\n",
        "      # 5. Convert to Lower\n",
        "      if lowercase:\n",
        "          name = name.lower()\n",
        "\n",
        "      # 6. Trim Whitespace\n",
        "      if strip_whitespace:\n",
        "          name = name.strip()\n",
        "\n",
        "      return name\n",
        "   # Apply the cleaning function to each column name\n",
        "   df.columns = [_clean_name(col) for col in df.columns]\n",
        "   return df\n",
        "\n",
        "# Apply above function on our \"bike_df\" DataFrame\n",
        "df_copy = clean_column_names(df_copy)\n",
        "\n",
        "# Check column transformed columns names\n",
        "df_copy.columns"
      ],
      "metadata": {
        "id": "Bu5-iXa4eCPW"
      },
      "execution_count": null,
      "outputs": []
    },
    {
      "cell_type": "code",
      "source": [
        "# Checking all imputations\n",
        "df_copy.info()"
      ],
      "metadata": {
        "id": "N7U7pwrP_mnN"
      },
      "execution_count": null,
      "outputs": []
    },
    {
      "cell_type": "code",
      "source": [
        "# Dataset Describe (Statistical summary of cleand dataset)\n",
        "df_copy.drop('Date', axis=1).describe().T.style.background_gradient(cmap=\"Reds\")"
      ],
      "metadata": {
        "id": "Wowod4SGH8X1"
      },
      "execution_count": null,
      "outputs": []
    },
    {
      "cell_type": "code",
      "source": [
        "# Filter rows where Functioning_Day is \"No\" and sum the rentals\n",
        "non_functioning_days_total = df_copy[df_copy['Functioning_Day'] == 'No']['Rented_Bike_Count'].sum()\n",
        "\n",
        "print(f\"Total bikes rented on non-functioning days: {non_functioning_days_total}\")"
      ],
      "metadata": {
        "id": "-ve_ub5K7Mas"
      },
      "execution_count": null,
      "outputs": []
    },
    {
      "cell_type": "markdown",
      "source": [
        "### What all manipulations have you done and insights you found?"
      ],
      "metadata": {
        "id": "MSa1f5Uengrz"
      }
    },
    {
      "cell_type": "markdown",
      "source": [
        "**🔧 Data Wrangling Summary:**\n",
        "\n",
        "- Created weather-based condition flags (rain_condition, snow_condition, sun_condition) to simplify weather metrics.\n",
        "\n",
        "- Categorized temperature into cold, moderate, and hot ranges.\n",
        "\n",
        "- Converted relevant string columns to categorical and Date to datetime.\n",
        "\n",
        "- Extracted time-based features like day, month, weekday, and weekend.\n",
        "\n",
        "- Cleaned and standardized all column names for analysis and visualization.\n",
        "\n",
        "**🔎 Key Observations:**\n",
        "\n",
        "- Most of the entries fall under **no_rain** and **no_snow** categories, indicating that bike rentals predominantly happen during clear weather.\n",
        "\n",
        "- The majority of rental records correspond to cold temperature conditions, suggesting that bike usage continues even in colder weather, though extreme temperatures may reduce demand.\n",
        "\n",
        "- The addition of sun_condition shows that rentals increase on sunny days, implying that solar radiation (i.e., sunlight) plays a positive role in user behavior.\n",
        "\n",
        "- No Function days has 0 bike rented because on these days company has holiday."
      ],
      "metadata": {
        "id": "LbyXE7I1olp8"
      }
    },
    {
      "cell_type": "markdown",
      "source": [
        "## ***4. Data Vizualization, Storytelling & Experimenting with charts : Understand the relationships between variables***"
      ],
      "metadata": {
        "id": "GF8Ens_Soomf"
      }
    },
    {
      "cell_type": "markdown",
      "source": [
        "# **Univariate Analysis -**"
      ],
      "metadata": {
        "id": "2tLvb2-7r0IW"
      }
    },
    {
      "cell_type": "markdown",
      "source": [
        "#### Chart - 1 --> Countplot\n"
      ],
      "metadata": {
        "id": "0wOQAZs5pc--"
      }
    },
    {
      "cell_type": "code",
      "source": [
        "# Chart - 1 visualization code\n",
        "\n",
        "# Countplot for seasons\n",
        "plt.figure(figsize=(8,7)) # fix the size of countplot\n",
        "ax = sns.countplot(data=df_copy, x='Seasons', palette='viridis', order=['Spring', 'Summer', 'Autumn', 'Winter'], saturation=0.9) # Creating a countplot in descending order\n",
        "\n",
        "# Add value labels on top of each bar\n",
        "for p in ax.patches:\n",
        "    ax.annotate(f'{p.get_height():,.0f}',\n",
        "                (p.get_x() + p.get_width() / 2., p.get_height()),\n",
        "                ha='center', va='center',\n",
        "                xytext=(0, 10),\n",
        "                textcoords='offset points',\n",
        "                fontsize=11) # Add data lables on top center of each bar\n",
        "\n",
        "# Style enhancements\n",
        "plt.title('Bike Rental Distribution by Seasons', fontsize=14, pad=20, weight='bold') # Add title of count plot\n",
        "plt.xlabel('Seasons', fontsize=12, labelpad=10) # Add x_lables as season names\n",
        "plt.ylabel('Number of Rentals', fontsize=12, labelpad=10) # Add y_lables as count of bike rentals according to each season\n",
        "plt.xticks(fontsize=11) # Adjust x_tick as starting point 0\n",
        "\n",
        "# Adjust layout\n",
        "plt.tight_layout() # Avoid overlapping\n",
        "plt.show()"
      ],
      "metadata": {
        "id": "7v_ESjsspbW7"
      },
      "execution_count": null,
      "outputs": []
    },
    {
      "cell_type": "markdown",
      "source": [
        "##### 1. Why did you pick the specific chart?"
      ],
      "metadata": {
        "id": "K5QZ13OEpz2H"
      }
    },
    {
      "cell_type": "markdown",
      "source": [
        "**Reason for Choosing Count Plot Chart:**\n",
        "\n",
        "- A countplot is ideal when visualizing the frequency distribution of categorical variables, like Seasons.\n",
        "\n",
        "- It provides a clear and direct comparison of how often bike rentals occur in each season.\n",
        "\n",
        "- The inclusion of exact value labels on bars enhances readability and immediate understanding of the differences."
      ],
      "metadata": {
        "id": "XESiWehPqBRc"
      }
    },
    {
      "cell_type": "markdown",
      "source": [
        "##### 2. What is/are the insight(s) found from the chart?"
      ],
      "metadata": {
        "id": "lQ7QKXXCp7Bj"
      }
    },
    {
      "cell_type": "markdown",
      "source": [
        "**Key Insights:**\n",
        "\n",
        "- Spring and Summer have the highest number of rentals, each with 2,208 rentals.\n",
        "\n",
        "- Autumn sees a slight drop to 2,184 rentals.\n",
        "\n",
        "- Winter records the lowest number of rentals at 2,160, which might be due to colder weather conditions impacting user demand.\n",
        "\n",
        "- Overall, there is a mild seasonal variation in rental demand, with warmer seasons attracting slightly more usage."
      ],
      "metadata": {
        "id": "C_j1G7yiqdRP"
      }
    },
    {
      "cell_type": "markdown",
      "source": [
        "##### 3. Will the gained insights help creating a positive business impact?\n",
        "Are there any insights that lead to negative growth? Justify with specific reason."
      ],
      "metadata": {
        "id": "448CDAPjqfQr"
      }
    },
    {
      "cell_type": "markdown",
      "source": [
        "Yes, these insights can lead to positive business impact:\n",
        "\n",
        "**1. Inventory & Fleet Planning:** During Spring and Summer, demand is marginally higher, so more bikes can be made available or relocated to high-traffic zones.\n",
        "\n",
        "**2. Marketing Strategy:** Promotions or seasonal offers can be tailored to boost Winter usage, potentially offsetting the seasonal dip.\n",
        "\n",
        "**3. Maintenance Scheduling:** Lower rental activity in Winter provides a strategic window for bike servicing or upgrades.\n",
        "\n",
        "**4. Revenue Forecasting:** Understanding seasonal trends helps in creating more accurate financial projections and resource allocation.\n",
        "\n",
        "-----------------------------------------------------------------------------\n",
        "While the drop in Winter demand is not extreme, ignoring it could lead to cumulative negative business impact over time. Proactive strategies can turn this insight into an opportunity for growth and differentiation."
      ],
      "metadata": {
        "id": "3cspy4FjqxJW"
      }
    },
    {
      "cell_type": "markdown",
      "source": [
        "#### Chart - 2 --> Countplot"
      ],
      "metadata": {
        "id": "KSlN3yHqYklG"
      }
    },
    {
      "cell_type": "code",
      "source": [
        "# Chart - 2 visualization code\n",
        "\n",
        "# Checking counts of Holidays\n",
        "print(df_copy['Holiday'].value_counts())\n",
        "\n",
        "# Count plot for Holiday vs No Holiday\n",
        "plt.figure(figsize=(6,4)) # Set size of countplot\n",
        "sns.countplot(data=df_copy, x='Holiday', palette='pastel', saturation=0.9) # Creating countplot\n",
        "\n",
        "# Style enhancements\n",
        "plt.title('Bike Rental Distribution Of Holiday', fontsize=14, pad=20, weight='bold') # Title in bold text\n",
        "plt.xlabel('Holiday', fontsize=12, labelpad=10) # X_label in fontsize 12\n",
        "plt.ylabel('Number of Rentals', fontsize=12, labelpad=10) # y_label in fontsize 12\n",
        "plt.show()"
      ],
      "metadata": {
        "id": "R4YgtaqtYklH"
      },
      "execution_count": null,
      "outputs": []
    },
    {
      "cell_type": "markdown",
      "source": [
        "##### 1. Why did you pick the specific chart?"
      ],
      "metadata": {
        "id": "t6dVpIINYklI"
      }
    },
    {
      "cell_type": "markdown",
      "source": [
        "**Reason for Choosing This Chart:**\n",
        "\n",
        "- A countplot is the best tool to visualize the distribution of categorical variables, such as the Holiday status (Holiday vs No Holiday).\n",
        "\n",
        "- It provides a clear and intuitive comparison of how many rentals occurred on holidays versus non-holidays.\n",
        "\n",
        "- The visual gap between bars helps stakeholders quickly grasp user behavior in relation to holiday schedules.\n",
        "\n"
      ],
      "metadata": {
        "id": "5aaW0BYyYklI"
      }
    },
    {
      "cell_type": "markdown",
      "source": [
        "##### 2. What is/are the insight(s) found from the chart?"
      ],
      "metadata": {
        "id": "ijmpgYnKYklI"
      }
    },
    {
      "cell_type": "markdown",
      "source": [
        "**Key Insights:**\n",
        "\n",
        "- There is a huge imbalance between the two categories:\n",
        "\n",
        "  - No Holiday: 8,328 rentals (approx. 95%)\n",
        "\n",
        "  - Holiday: 432 rentals (approx. 5%)\n",
        "\n",
        "- Most users prefer (or need) to rent bikes on working days or non-holidays, suggesting bike usage is commute-driven (e.g., work, school, etc.).\n",
        "\n",
        "- Holiday usage is minimal, indicating that leisure or recreational usage may be low.\n",
        "\n"
      ],
      "metadata": {
        "id": "PSx9atu2YklI"
      }
    },
    {
      "cell_type": "markdown",
      "source": [
        "##### 3. Will the gained insights help creating a positive business impact?\n",
        "Are there any insights that lead to negative growth? Justify with specific reason."
      ],
      "metadata": {
        "id": "-JiQyfWJYklI"
      }
    },
    {
      "cell_type": "markdown",
      "source": [
        "Yes, the gained insights help creating a positive business impact. Here's how:\n",
        "\n",
        "**a. User Behavior Understanding:**\n",
        "\n",
        "- Knowing that bike rentals are significantly higher on non-holidays allows the company to optimize operations (fleet allocation, maintenance) on regular weekdays.\n",
        "\n",
        "**b. Targeted Marketing:**\n",
        "- Holidays have low usage → a chance to introduce holiday-special discounts or family/group rental offers to encourage usage.\n",
        "\n",
        "**c. Strategic Resource Allocation:**\n",
        "- More bikes can be made available or rebalanced based on weekday vs. holiday demand trends.\n",
        "\n",
        "**d. Product Development Insight:**\n",
        "- Introduce features like tourist packages or guided routes to boost usage during holidays.\n",
        "\n",
        "-------------------------------------------------------------------------\n",
        "Yes. Here’s a potential negative growth insight:\n",
        "\n",
        "❗ Low Usage on Holidays May Indicate Missed Revenue Opportunities.\n",
        "\n",
        "\n",
        "**Justification:**\n",
        "\n",
        "**1. Idle Fleet on Holidays:**\n",
        "\n",
        "- With only 432 rentals on holidays, the bikes may be underutilized during high footfall tourist or leisure times, resulting in lost potential revenue.\n",
        "\n",
        "**2. Uncaptured Leisure Market:**\n",
        "\n",
        "- If the product is perceived as only for commuting, the business misses tapping into the leisure and tourism segment.\n",
        "\n",
        "**3. Revenue Imbalance:**\n",
        "\n",
        "- Heavy dependency on weekday commuters means that any disruption (e.g., remote work trends, public transport improvement) could hurt weekday rentals significantly."
      ],
      "metadata": {
        "id": "BcBbebzrYklV"
      }
    },
    {
      "cell_type": "markdown",
      "source": [
        "#### Chart - 3 --> Count Plot"
      ],
      "metadata": {
        "id": "EM7whBJCYoAo"
      }
    },
    {
      "cell_type": "code",
      "source": [
        "# Chart - 3 visualization code\n",
        "\n",
        "# Bike Rental distribution for Functioning_Day\n",
        "print(df_copy['Functioning_Day'].value_counts())\n",
        "\n",
        "# Creating count Plot for Functioning_Day\n",
        "plt.figure(figsize=(6,4)) # Set the Chart size\n",
        "sns.countplot(data=df_copy, x='Functioning_Day', palette='Set1', saturation=0.9)\n",
        "\n",
        "# Style enhancements\n",
        "plt.title('Bike Rental Distribution Of Functioning_Day', fontsize=14, pad=20, weight='bold') # Setting title for chart in bold letters with fontsize=14\n",
        "plt.xlabel('Functioning_Day', fontsize=12, labelpad=10) # Set the x_label with fontsize=12\n",
        "plt.ylabel('Number of Rentals', fontsize=12, labelpad=10) # Set the y_label with fontsize=12\n",
        "plt.show()"
      ],
      "metadata": {
        "id": "t6GMdE67YoAp"
      },
      "execution_count": null,
      "outputs": []
    },
    {
      "cell_type": "markdown",
      "source": [
        "##### 1. Why did you pick the specific chart?"
      ],
      "metadata": {
        "id": "fge-S5ZAYoAp"
      }
    },
    {
      "cell_type": "markdown",
      "source": [
        "**Reason for Choosing This Chart:**\n",
        "\n",
        "- A countplot is the most appropriate choice for showing the distribution of categorical variables such as Functioning_Day (Yes vs No).\n",
        "\n",
        "- It provides a straightforward visual comparison between days when the bike rental system was operational versus non-operational.\n",
        "\n",
        "- Easy to interpret for both technical and non-technical stakeholders."
      ],
      "metadata": {
        "id": "5dBItgRVYoAp"
      }
    },
    {
      "cell_type": "markdown",
      "source": [
        "##### 2. What is/are the insight(s) found from the chart?"
      ],
      "metadata": {
        "id": "85gYPyotYoAp"
      }
    },
    {
      "cell_type": "markdown",
      "source": [
        "**Insights:**\n",
        "\n",
        "- Yes (Functioning Days): 8,465 rentals → ~97% of total data\n",
        "\n",
        "- No (Non-Functioning Days): 295 rentals → ~3% of total data\n",
        "\n",
        "- The bike rental system was almost always operational.\n",
        "\n",
        "- Very few days were labeled as \"Non-Functioning,\" possibly due to public holidays, extreme weather, strikes, or system downtime.\n",
        "\n"
      ],
      "metadata": {
        "id": "4jstXR6OYoAp"
      }
    },
    {
      "cell_type": "markdown",
      "source": [
        "##### 3. Will the gained insights help creating a positive business impact?\n",
        "Are there any insights that lead to negative growth? Justify with specific reason."
      ],
      "metadata": {
        "id": "RoGjAbkUYoAp"
      }
    },
    {
      "cell_type": "markdown",
      "source": [
        "Yes, the gained insights help creating a positive business impact. Here's how:\n",
        "\n",
        "**a. Operational Efficiency Validation:**\n",
        "- High number of functioning days confirms that the bike-sharing system is highly reliable and consistent.\n",
        "\n",
        "**b. Performance Metrics:**\n",
        "- Stakeholders can use this as evidence of operational stability—a key metric for attracting investors or city partnerships.\n",
        "\n",
        "**c. Planning and Budgeting:**\n",
        "- Since only ~3% of the time is non-functioning, resources (like maintenance and workforce) can be better scheduled during these rare downtimes.\n",
        "\n",
        "**d. Predictive Modeling:**\n",
        "- This insight helps modelers confidently exclude “No” functioning days from demand prediction models, improving accuracy.\n",
        "-----------------------------------------------------------------------------\n",
        "\n",
        "Yes, though minimal, non-functioning days can still lead to potential negative impacts:\n",
        "\n",
        "❗ Even a small number of non-functioning days can hurt customer experience and revenue.\n",
        "\n",
        "**Justification:**\n",
        "\n",
        "**1. Customer Trust & Retention:**\n",
        "\n",
        "- Unexpected service unavailability can lead to loss of user trust and lower app ratings.\n",
        "\n",
        "**2. Revenue Loss:**\n",
        "\n",
        "- Even one day of downtime (especially during peak demand or holidays) may result in significant revenue loss, especially for daily/hourly rental models.\n",
        "\n",
        "**3. User Shift to Competitors:**\n",
        "\n",
        "- Users may shift to other transport options if service reliability is perceived as low, even temporarily.\n",
        "\n",
        "\n"
      ],
      "metadata": {
        "id": "zfJ8IqMcYoAp"
      }
    },
    {
      "cell_type": "markdown",
      "source": [
        "#### Chart - 4 --> Pie chart"
      ],
      "metadata": {
        "id": "4Of9eVA-YrdM"
      }
    },
    {
      "cell_type": "code",
      "source": [
        "# Chart - 4 visualization code\n",
        "\n",
        "# Bike Rental Distribution with rain_condition\n",
        "Rental_distribution_percentage = df_copy['rain_condition'].value_counts(normalize=True) * 100\n",
        "print(Rental_distribution_percentage)\n",
        "\n",
        "# Pie chart for rental distribution for rain conditions\n",
        "plt.figure(figsize=(6,4)) # Set size of pie chart\n",
        "plt.pie(Rental_distribution_percentage, labels=Rental_distribution_percentage.index, autopct='%1.1f%%', startangle=90, colors=sns.color_palette('pastel'))\n",
        "plt.title('Bike Rental Distribution by Rain Conditions', fontsize=14, pad=20, weight='bold') # title of pie chart\n",
        "plt.show()"
      ],
      "metadata": {
        "id": "irlUoxc8YrdO"
      },
      "execution_count": null,
      "outputs": []
    },
    {
      "cell_type": "markdown",
      "source": [
        "##### 1. Why did you pick the specific chart?"
      ],
      "metadata": {
        "id": "iky9q4vBYrdO"
      }
    },
    {
      "cell_type": "markdown",
      "source": [
        "**Reason for Choosing This Chart:**\n",
        "\n",
        "- A pie chart is ideal for showing proportional distribution of a categorical variable.\n",
        "\n",
        "- Since rain_condition has only two categories (rain and no_rain), a pie chart clearly highlights their percentage share.\n",
        "\n",
        "- It’s a visually intuitive way to communicate how dominant or minor one condition is over the other.\n",
        "\n"
      ],
      "metadata": {
        "id": "aJRCwT6DYrdO"
      }
    },
    {
      "cell_type": "markdown",
      "source": [
        "##### 2. What is/are the insight(s) found from the chart?"
      ],
      "metadata": {
        "id": "F6T5p64dYrdO"
      }
    },
    {
      "cell_type": "markdown",
      "source": [
        "**Key Insights:**\n",
        "\n",
        "- 94% of bike rentals occurred during “no rain” conditions.\n",
        "\n",
        "- Only 6% of rentals happened during rain.\n",
        "\n",
        "- This clearly shows that rain significantly reduces bike rental activity.\n",
        "\n",
        "- The high percentage of no-rain rentals suggests that users avoid riding bikes in wet conditions, likely due to safety and comfort concerns."
      ],
      "metadata": {
        "id": "Xx8WAJvtYrdO"
      }
    },
    {
      "cell_type": "markdown",
      "source": [
        "##### 3. Will the gained insights help creating a positive business impact?\n",
        "Are there any insights that lead to negative growth? Justify with specific reason."
      ],
      "metadata": {
        "id": "y-Ehk30pYrdP"
      }
    },
    {
      "cell_type": "markdown",
      "source": [
        "Yes, the insight is very useful. Here’s how:\n",
        "\n",
        "**a. User Behavior Understanding:**\n",
        "- Strong indication that weather is a major factor in rental demand.\n",
        "\n",
        "- This helps in forecasting demand more accurately using weather data.\n",
        "\n",
        "**b. Strategic Planning:**\n",
        "- Operators can reduce bike supply or staff deployment during predicted rain days to avoid inefficiencies.\n",
        "\n",
        "**c. Marketing & Product Improvement:**\n",
        "- There’s an opportunity to design weather-proof rental options (e.g., bikes with mudguards, ponchos, or covers).\n",
        "\n",
        "- Can offer rain-day discounts or flexible return policies to encourage usage.\n",
        "------------------------------------------------------------------------------\n",
        "\n",
        "Yes. The data leads to a negative impact:\n",
        "\n",
        "❗ Bike rentals drastically drop during rain conditions, showing a demand vulnerability.\n",
        "\n",
        "**Justification:**\n",
        "\n",
        "**1. Demand Volatility:**\n",
        "\n",
        "- Dependence on good weather conditions makes the revenue stream unpredictable.\n",
        "\n",
        "**2. Missed Revenue Opportunities:**\n",
        "\n",
        "- If users completely avoid the service during rain, the business loses potential income, especially in cities with frequent rainfall.\n",
        "\n",
        "**3. Fleet Underutilization:**\n",
        "\n",
        "- Bikes remain idle during rainy days, but maintenance, staffing, and operational costs still continue, reducing profit margins.\n",
        "\n",
        "**4. Customer Inconvenience:**\n",
        "\n",
        "- Lack of rain-appropriate infrastructure (e.g., covered parking, non-slip tires) may deter loyal users during bad weather."
      ],
      "metadata": {
        "id": "jLNxxz7MYrdP"
      }
    },
    {
      "cell_type": "markdown",
      "source": [
        "#### Chart - 5 --> Pie chart"
      ],
      "metadata": {
        "id": "bamQiAODYuh1"
      }
    },
    {
      "cell_type": "code",
      "source": [
        "# Chart - 5 visualization code\n",
        "\n",
        "# Bike Rental Distribution with rain_condition\n",
        "Rental_distribution_percentage = df_copy['sun_condition'].value_counts(normalize=True) * 100\n",
        "print(Rental_distribution_percentage)\n",
        "print('**'*50)\n",
        "print(df_copy['sun_condition'].value_counts())\n",
        "\n",
        "# Pie chart for rental distribution for sun conditions\n",
        "plt.figure(figsize=(6,4)) # Set the size of pie chart\n",
        "plt.pie(Rental_distribution_percentage, labels=Rental_distribution_percentage.index, autopct='%1.1f%%', startangle=90, colors=sns.color_palette('pastel'))\n",
        "plt.title('Bike Rental Distribution by Sun Conditions', fontsize=14, pad=20, weight='bold') # Title of pie chart in Bold text\n",
        "plt.show()"
      ],
      "metadata": {
        "id": "TIJwrbroYuh3"
      },
      "execution_count": null,
      "outputs": []
    },
    {
      "cell_type": "markdown",
      "source": [
        "##### 1. Why did you pick the specific chart?"
      ],
      "metadata": {
        "id": "QHF8YVU7Yuh3"
      }
    },
    {
      "cell_type": "markdown",
      "source": [
        "**Why this chart is appropriate:**\n",
        "\n",
        "- A pie chart is a great choice for visualizing proportional data in a categorical variable with two categories (sunny and cloudy).\n",
        "\n",
        "- It clearly communicates the share of each sun condition in total bike rentals.\n",
        "\n",
        "- For stakeholder reports or dashboards, pie charts are easy to interpret at a glance."
      ],
      "metadata": {
        "id": "dcxuIMRPYuh3"
      }
    },
    {
      "cell_type": "markdown",
      "source": [
        "##### 2. What is/are the insight(s) found from the chart?"
      ],
      "metadata": {
        "id": "GwzvFGzlYuh3"
      }
    },
    {
      "cell_type": "markdown",
      "source": [
        "**Key Insights from the Data:**\n",
        "\n",
        "- 67.03% of rentals occurred on cloudy days (5,872 rides).\n",
        "\n",
        "- 32.97% of rentals occurred on sunny days (2,888 rides).\n",
        "\n",
        "- This result might seem surprising — more rides occur on cloudy days than sunny ones.\n",
        "\n",
        "**Possible interpretations:**\n",
        "\n",
        "- Cloudy conditions may be more frequent than sunny days in your dataset's time range — hence more total rides.\n",
        "\n",
        "- Cloudy weather does not deter users significantly, showing steady demand even in sub-optimal sunlight.\n",
        "\n",
        "- Alternatively, users may ride for commuting, where weather has less impact unless it’s extreme (e.g., rain, storm)."
      ],
      "metadata": {
        "id": "uyqkiB8YYuh3"
      }
    },
    {
      "cell_type": "markdown",
      "source": [
        "##### 3. Will the gained insights help creating a positive business impact?\n",
        "Are there any insights that lead to negative growth? Justify with specific reason."
      ],
      "metadata": {
        "id": "qYpmQ266Yuh3"
      }
    },
    {
      "cell_type": "markdown",
      "source": [
        "Yes. Here's how the gained insights help create a positive business impact:\n",
        "\n",
        "**a. Weather-Independent Usage Behavior:**\n",
        "- Users seem comfortable riding even when it’s cloudy → indicates reliability in demand, which is good for business planning.\n",
        "\n",
        "**b. Better Inventory Planning:**\n",
        "- Fleet deployment or servicing doesn't need to be adjusted drastically for sunny/cloudy conditions — only for extreme conditions like rain.\n",
        "\n",
        "**c. Marketing Messaging:**\n",
        "- This insight helps create campaigns that normalize cloudy-day rides, e.g., “Don’t let the clouds slow you down!”\n",
        "\n",
        "**d. User Engagement:**\n",
        "- Promote regular use by showing historical data like \"Most of our riders enjoy cloudy rides too!\"\n",
        "------------------------------------------------------------------------------\n",
        "\n",
        "While this chart shows a generally balanced pattern, here’s one potential negative insight:\n",
        "\n",
        "❗ Lower rentals on sunny days could signal missed engagement opportunities.\n",
        "Justification:\n",
        "\n",
        "**1. Sunny days = Leisure potential:**\n",
        "\n",
        "- Sunny weather usually encourages leisure activities, but with only ~33% rides, it suggests low uptake from casual/recreational users."
      ],
      "metadata": {
        "id": "_WtzZ_hCYuh4"
      }
    },
    {
      "cell_type": "markdown",
      "source": [
        "#### Chart - 6 --> Pie chart"
      ],
      "metadata": {
        "id": "OH-pJp9IphqM"
      }
    },
    {
      "cell_type": "code",
      "source": [
        "# Chart - 6 visualization code\n",
        "\n",
        "# Bike Rental Distribution for snow_condition\n",
        "Rental_distribution_percentage = df_copy['snow_condition'].value_counts(normalize=True) * 100\n",
        "print(Rental_distribution_percentage)\n",
        "print('**'*50)\n",
        "print(df_copy['snow_condition'].value_counts())\n",
        "\n",
        "# Pie chart for bike rental distribution for snow_condition\n",
        "plt.figure(figsize=(6,4)) # Set the size of pie chart\n",
        "plt.pie(Rental_distribution_percentage, labels=Rental_distribution_percentage.index, autopct='%1.1f%%', startangle=90, colors=sns.color_palette('pastel'))\n",
        "plt.title('Bike Rental Distribution by Snow Conditions', fontsize=14, pad=20, weight='bold') # Title of pie chart wiht bold text\n",
        "plt.show()"
      ],
      "metadata": {
        "id": "kuRf4wtuphqN"
      },
      "execution_count": null,
      "outputs": []
    },
    {
      "cell_type": "markdown",
      "source": [
        "##### 1. Why did you pick the specific chart?"
      ],
      "metadata": {
        "id": "bbFf2-_FphqN"
      }
    },
    {
      "cell_type": "markdown",
      "source": [
        "**Reason for Choosing This Chart:**\n",
        "\n",
        "- Since snow_condition is a binary categorical variable (snow vs. no_snow), a pie chart is well-suited to:\n",
        "\n",
        "  - Visualize the proportion of bike rentals under each snow condition.\n",
        "\n",
        "  - Quickly convey the dominant condition in terms of rental activity.\n",
        "\n",
        "- It’s simple, effective, and visually intuitive — making it a good choice for reports or business presentations.\n",
        "\n"
      ],
      "metadata": {
        "id": "loh7H2nzphqN"
      }
    },
    {
      "cell_type": "markdown",
      "source": [
        "##### 2. What is/are the insight(s) found from the chart?"
      ],
      "metadata": {
        "id": "_ouA3fa0phqN"
      }
    },
    {
      "cell_type": "markdown",
      "source": [
        "**Key Insights:**\n",
        "\n",
        "- 94.94% of all rentals occurred on no-snow days (8,317 rentals).\n",
        "\n",
        "- Only 5.06% of rentals occurred on snowy days (443 rentals).\n",
        "\n",
        "- This confirms a sharp decline in usage during snow conditions.\n",
        "\n",
        "- Like rain, snow is a major deterrent for bike users — likely due to safety, comfort, and reduced bike availability or accessibility."
      ],
      "metadata": {
        "id": "VECbqPI7phqN"
      }
    },
    {
      "cell_type": "markdown",
      "source": [
        "##### 3. Will the gained insights help creating a positive business impact?\n",
        "Are there any insights that lead to negative growth? Justify with specific reason."
      ],
      "metadata": {
        "id": "Seke61FWphqN"
      }
    },
    {
      "cell_type": "markdown",
      "source": [
        "Yes. Here's how the gained insights help create a positive business impact:\n",
        "\n",
        "**a. Operational Planning:**\n",
        "- Helps the operations team anticipate low demand during snowy weather, avoiding overstocking bikes or overstaffing.\n",
        "\n",
        "**b. Improved Forecasting Models:**\n",
        "- Shows the need to include weather conditions like snowfall as a strong feature in any demand prediction model.\n",
        "\n",
        "**c. User Communication Strategy:**\n",
        "- On forecasted snowy days, companies can notify users in advance, offer alternate travel suggestions, or provide safety guidance.\n",
        "\n",
        "**d. Risk Mitigation:**\n",
        "- Helps in managing fleet wear and tear, as snowy conditions might damage bikes. Rentals should be limited or halted in such cases.\n",
        "\n",
        "----------------------------------------------------------------------------\n",
        "Yes. Snowy conditions clearly result in reduced bike usage, which can lead to negative growth in colder seasons.\n",
        "\n",
        "**Justification:**\n",
        "\n",
        "**1. Demand Drop:**\n",
        "\n",
        "- Only 5% of total rentals happen during snowy days — indicating that a large customer segment avoids biking altogether in snow.\n",
        "\n",
        "**2. Revenue Loss in Winters:**\n",
        "\n",
        "- In locations with long winters, this could cause significant seasonal revenue decline.\n",
        "\n",
        "3. **Unused Resources:**\n",
        "\n",
        "- If bikes and infrastructure remain underutilized, it leads to inefficient capital deployment and higher maintenance costs without revenue.\n",
        "\n",
        "**4. User Attrition Risk:**\n",
        "\n",
        "- Long periods of service inactivity may cause users to shift to alternative transport modes, leading to loss of regular customers."
      ],
      "metadata": {
        "id": "DW4_bGpfphqN"
      }
    },
    {
      "cell_type": "markdown",
      "source": [
        "#### Chart - 7 --> Countplot"
      ],
      "metadata": {
        "id": "PIIx-8_IphqN"
      }
    },
    {
      "cell_type": "code",
      "source": [
        "# Chart - 7 visualization code\n",
        "\n",
        "# Calculate temprature impact on bike rents\n",
        "print(df_copy['temperature_category'].value_counts())\n",
        "\n",
        "# Countplot to check the impact of temprature on bike rents\n",
        "plt.figure(figsize=(6,6)) # Set the size fo countplot\n",
        "ax = sns.countplot(data=df_copy, x='temperature_category',\n",
        "                  palette='Set3',\n",
        "                  order=['cold', 'moderate', 'hot'],  # Ensures logical ordering\n",
        "                  saturation=0.9)\n",
        "\n",
        "# Add data labels on each bar\n",
        "for p in ax.patches:\n",
        "    height = p.get_height()\n",
        "    ax.text(x=p.get_x() + p.get_width()/2.,  # x-position\n",
        "            y=height + 0.05*df_copy['temperature_category'].value_counts().max(),  # y-position (slightly above bar)\n",
        "            s=f'{height:,}',  # formatted label\n",
        "            ha='center', va='bottom',  # alignment\n",
        "            fontsize=11,\n",
        "            color='black')\n",
        "\n",
        "# Style enhancements\n",
        "plt.title('Bike Rental Distribution by Temperature Category',\n",
        "          fontsize=14, pad=20, weight='bold')\n",
        "plt.xlabel('Temperature Category', fontsize=12, labelpad=10)\n",
        "plt.ylabel('Number of Rentals', fontsize=12, labelpad=10)\n",
        "plt.xticks(fontsize=11)\n",
        "plt.yticks(fontsize=11)\n",
        "\n",
        "# Remove top and right spines for cleaner look\n",
        "sns.despine()\n",
        "\n",
        "# Add light grid lines for better readability\n",
        "plt.grid(axis='y', linestyle='--', alpha=0.3)\n",
        "\n",
        "# Adjust layout to prevent label cutoff\n",
        "plt.tight_layout()\n",
        "plt.show()"
      ],
      "metadata": {
        "id": "lqAIGUfyphqO"
      },
      "execution_count": null,
      "outputs": []
    },
    {
      "cell_type": "markdown",
      "source": [
        "##### 1. Why did you pick the specific chart?"
      ],
      "metadata": {
        "id": "t27r6nlMphqO"
      }
    },
    {
      "cell_type": "markdown",
      "source": [
        "**Reason for Choosing This Chart:**\n",
        "\n",
        "- The variable temperature_category is categorical with three levels: cold, moderate, and hot.\n",
        "\n",
        "- A bar chart (Countplot) is ideal for comparing counts of rentals across discrete categories.\n",
        "\n",
        "- It offers a clear visual comparison of how temperature influences the number of bike rentals.\n",
        "\n",
        "- Logical ordering (cold, moderate, hot) makes the trend easy to understand.\n",
        "\n"
      ],
      "metadata": {
        "id": "iv6ro40sphqO"
      }
    },
    {
      "cell_type": "markdown",
      "source": [
        "##### 2. What is/are the insight(s) found from the chart?"
      ],
      "metadata": {
        "id": "r2jJGEOYphqO"
      }
    },
    {
      "cell_type": "markdown",
      "source": [
        "**Key Observations:**\n",
        "\n",
        "- Moderate temperatures saw the highest number of rentals: 3,683\n",
        "\n",
        "- Cold weather follows closely: 3,575\n",
        "\n",
        "- Hot weather had the lowest rentals: 1,502\n",
        "\n",
        "**Interpretation:**\n",
        "\n",
        "- Moderate weather is ideal for biking, likely due to comfortable riding conditions.\n",
        "\n",
        "- Cold weather doesn’t deter users much, suggesting that people still bike — possibly for commuting — even when it’s chilly.\n",
        "\n",
        "- High temperatures significantly reduce rentals, probably due to discomfort, fatigue, or safety concerns (e.g., heat exhaustion)."
      ],
      "metadata": {
        "id": "Po6ZPi4hphqO"
      }
    },
    {
      "cell_type": "markdown",
      "source": [
        "##### 3. Will the gained insights help creating a positive business impact?\n",
        "Are there any insights that lead to negative growth? Justify with specific reason."
      ],
      "metadata": {
        "id": "b0JNsNcRphqO"
      }
    },
    {
      "cell_type": "markdown",
      "source": [
        "Yes. These insights are valuable in multiple areas:\n",
        "\n",
        "**a. Seasonal Business Strategy:**\n",
        "- Companies can increase marketing or offers during moderate-temperature periods to maximize profits.\n",
        "\n",
        "**b. Fleet Management:**\n",
        "- Predict lower usage during hot days and reduce bike deployment accordingly to optimize maintenance and costs.\n",
        "\n",
        "**c. User Experience Improvements:**\n",
        "- On hot days, promote cooling accessories (e.g., water bottle holders, shaded parking) or offer discounts to motivate usage.\n",
        "\n",
        "**d. Forecast Modeling:**\n",
        "- Reinforces the need to include temperature as a key feature in demand prediction models.\n",
        "\n",
        "---------------------------------------------------------------------\n",
        "Yes – High temperatures lead to a sharp decline in rentals.\n",
        "\n",
        "**Justification:**\n",
        "\n",
        "**1. Reduced Demand in Hot Conditions:**\n",
        "\n",
        "- Rentals drop by nearly 60% when temperature is high compared to moderate days.\n",
        "\n",
        "Indicates a vulnerability in hot-weather seasons (e.g., summer months in tropical cities).\n",
        "\n",
        "User Comfort & Health Risk:\n",
        "\n",
        "Hot weather discourages biking due to sweating, fatigue, and possible heatstroke, which can reduce overall ridership.\n",
        "\n",
        "Revenue Impact:\n",
        "\n",
        "This behavior results in lost earning opportunities during hot seasons unless mitigated by targeted promotions or cooling features.\n",
        "\n"
      ],
      "metadata": {
        "id": "xvSq8iUTphqO"
      }
    },
    {
      "cell_type": "markdown",
      "source": [
        "#### Chart - 8 --> Donut chart"
      ],
      "metadata": {
        "id": "7ktkmWweI7EY"
      }
    },
    {
      "cell_type": "code",
      "source": [
        "# Chart - 8 visualization code\n",
        "\n",
        "# Bike Rental Distribution for Weekends\n",
        "rental_distribution = df_copy['Weekend'].value_counts(normalize=True) * 100\n",
        "print(rental_distribution)\n",
        "print('**'*50)\n",
        "print(df_copy['Weekend'].value_counts())\n",
        "\n",
        "# Donut chart for weekend bike rentals\n",
        "plt.figure(figsize=(6, 4)) # set the size fo donut chart\n",
        "wedges, texts, autotexts = plt.pie(\n",
        "    rental_distribution,\n",
        "    labels=rental_distribution.index.map({0: 'Weekday', 1: 'Weekend'}),  # More descriptive labels\n",
        "    autopct='%1.1f%%',\n",
        "    startangle=90,\n",
        "    colors=sns.color_palette('pastel'),\n",
        "    wedgeprops={'width': 0.4, 'edgecolor': 'white'},  # This creates the donut hole\n",
        "    textprops={'fontsize': 12}\n",
        ")\n",
        "\n",
        "# Add a circle at the center to complete the donut\n",
        "centre_circle = plt.Circle((0,0), 0.2, color='white')\n",
        "plt.gca().add_artist(centre_circle)\n",
        "\n",
        "# Customize title and layout\n",
        "plt.title('Bike Rental Distribution: Weekday vs Weekend',\n",
        "          fontsize=16, pad=20, weight='bold')\n",
        "plt.tight_layout()\n",
        "\n",
        "# Equal aspect ratio ensures the pie is drawn as a circle\n",
        "plt.axis('equal')\n",
        "plt.show()\n"
      ],
      "metadata": {
        "id": "sAU3uN69I9iN"
      },
      "execution_count": null,
      "outputs": []
    },
    {
      "cell_type": "markdown",
      "source": [
        "##### 1. Why did you pick the specific chart?"
      ],
      "metadata": {
        "id": "nxTSxEZUJI3I"
      }
    },
    {
      "cell_type": "markdown",
      "source": [
        "**Reason for Choosing This Chart:**\n",
        "- A pie/donut chart is ideal to visually represent percentage-based proportions between two exclusive categories.\n",
        "\n",
        "- Donut chart enhances readability and gives a more aesthetic and modern look, especially when center space is unused."
      ],
      "metadata": {
        "id": "EkbzFs0pJFUw"
      }
    },
    {
      "cell_type": "markdown",
      "source": [
        "##### 2. What is/are the insight(s) found from the chart?"
      ],
      "metadata": {
        "id": "xxgY3k2BJNkl"
      }
    },
    {
      "cell_type": "markdown",
      "source": [
        "**Key Insights:**\n",
        "\n",
        "- A significantly larger proportion of rentals happen on weekdays, indicating:\n",
        "\n",
        "  - Bikes are primarily used for commuting or daily routine activities.\n",
        "\n",
        "  - Weekend leisure rides or casual usage is relatively lower.\n",
        "\n",
        "- Nearly 3/4 of all rentals are concentrated during the workweek."
      ],
      "metadata": {
        "id": "fSa9iy6FJR7y"
      }
    },
    {
      "cell_type": "markdown",
      "source": [
        "##### 3. Will the gained insights help creating a positive business impact?\n",
        "Are there any insights that lead to negative growth? Justify with specific reason."
      ],
      "metadata": {
        "id": "wvFdv3_QJT4Z"
      }
    },
    {
      "cell_type": "markdown",
      "source": [
        "Yes — these insights can directly support business decisions related to operations, marketing, and customer experience.\n",
        "\n",
        "| Area                    | How it Helps                                                                                                                          |\n",
        "| ----------------------- | ------------------------------------------------------------------------------------------------------------------------------------- |\n",
        "| **Fleet Management**    | Helps allocate **more bikes on weekdays** and **redistribute or maintain** bikes during weekends.                                     |\n",
        "| **Targeted Promotions** | Launch **weekend-specific campaigns** to boost off-peak usage: e.g., \"Weekend Family Ride\", \"2-for-1 offers\", or student discounts.   |\n",
        "| **Pricing Strategy**    | Can use **dynamic pricing** – weekday prices can be slightly higher due to high demand, while weekend discounts encourage more rides. |\n",
        "| **Resource Planning**   | Staff schedules, customer support, and maintenance can be optimized based on **rental activity pattern**.                             |\n",
        "\n",
        "\n",
        "---------------------------------------------------------------------\n",
        "\n",
        "Yes, the low weekend rental rate (28.5%) could be a red flag:\n",
        "\n",
        "| Risk Area                        | Negative Insight                                                                                            | Justification                                                                   |\n",
        "| -------------------------------- | ----------------------------------------------------------------------------------------------------------- | ------------------------------------------------------------------------------- |\n",
        "| **Underutilization on Weekends** | A large chunk of bikes may be **idle** on weekends, leading to **missed revenue**.                          | Indicates untapped customer segments like tourists, casual riders, or students. |\n",
        "| **Limited Market Penetration**   | Suggests that bike rentals are seen only as **functional/commuting** tools, not for recreation or wellness. | Reduces lifetime value of users who could use bikes for both purposes.          |\n"
      ],
      "metadata": {
        "id": "ZCJDRzxfJYZX"
      }
    },
    {
      "cell_type": "markdown",
      "source": [
        "#### Chart - 9 --> Histogram + KDE plot"
      ],
      "metadata": {
        "id": "BZR9WyysphqO"
      }
    },
    {
      "cell_type": "code",
      "source": [
        "# Chart - 9 visualization code\n",
        "\n",
        "# Histogram + KDE plot for all numerical columns\n",
        "# Set style\n",
        "sns.set_style('whitegrid')\n",
        "\n",
        "# Create a figure with subplots\n",
        "numerical_cols = ['Rented_Bike_Count', 'Temperature_C', 'Humidity', 'Wind_speed_m_per_s',\n",
        "                  'Visibility_10m', 'Dew_point_temperature_C', 'Solar_Radiation_MJ_per_m2', 'Rainfallmm', 'Snowfall_cm'] # List of Numeric columns\n",
        "plt.figure(figsize=(18, 10)) # Fig size\n",
        "for i, col in enumerate(numerical_cols, 1):\n",
        "    plt.subplot(3, 3, i) # 3 Rows, 3 columns, ith postition\n",
        "    sns.histplot(data=df_copy, x=col, kde=True, bins=20) # Creating Histogram\n",
        "    plt.title(f'Distribution of {col}') # Title for each plot\n",
        "plt.tight_layout() # Avoid overlapping\n",
        "plt.show()"
      ],
      "metadata": {
        "id": "TdPTWpAVphqO"
      },
      "execution_count": null,
      "outputs": []
    },
    {
      "cell_type": "markdown",
      "source": [
        "##### 1. Why did you pick the specific chart?"
      ],
      "metadata": {
        "id": "jj7wYXLtphqO"
      }
    },
    {
      "cell_type": "markdown",
      "source": [
        "**Reason for Choosing This Chart:**\n",
        "- These plots are ideal for continuous numerical variables.\n",
        "\n",
        "- They clearly show the distribution shape (normal, skewed, uniform, etc.).\n",
        "\n",
        "- Overlaying KDE (Kernel Density Estimation) gives a smoothed probability curve, helping identify modes, skewness, and spread.\n",
        "\n",
        "- Used for understanding central tendencies, outliers, and data transformation needs for modeling."
      ],
      "metadata": {
        "id": "Ob8u6rCTphqO"
      }
    },
    {
      "cell_type": "markdown",
      "source": [
        "##### 2. What is/are the insight(s) found from the chart?"
      ],
      "metadata": {
        "id": "eZrbJ2SmphqO"
      }
    },
    {
      "cell_type": "markdown",
      "source": [
        "summarize key insights from each subplot:\n",
        "\n",
        "| Feature                           | Distribution Insight                                                                                         |\n",
        "| --------------------------------- | ------------------------------------------------------------------------------------------------------------ |\n",
        "| **Rented\\_Bike\\_Count**           | **Right-skewed** → Most users rent < 500 bikes/day. Long tail up to 3500 suggests rare high-demand days.     |\n",
        "| **Temperature\\_C**                | **Bimodal to slightly normal** → Peaks around 10–25°C → Comfortable climate range for riders.                |\n",
        "| **Humidity**                      | **Moderate spread**, slight **right skew**. Most values between 40–80%.                                      |\n",
        "| **Wind\\_speed\\_m\\_per\\_s**        | **Right-skewed**, with most days having **low wind speeds** (<2.5 m/s). High winds are rare.                 |\n",
        "| **Visibility\\_10m**               | **Right-skewed**, peak at 2000 meters → Majority days had full visibility. Low-visibility days are very few. |\n",
        "| **Dew\\_point\\_temperature\\_C**    | **Evenly spread** with slight right skew.                                                                    |\n",
        "| **Solar\\_Radiation\\_MJ\\_per\\_m2** | **Heavily right-skewed** → Most days have **low solar radiation**, few with high levels.                     |\n",
        "| **Rainfall\\_mm**                  | **Highly right-skewed** → Almost all days had **no or minimal rainfall**. Outliers show heavy rain events.   |\n",
        "| **Snowfall\\_cm**                  | **Highly right-skewed** → Vast majority of days have **0 snowfall**. Snowfall is rare.                       |\n"
      ],
      "metadata": {
        "id": "mZtgC_hjphqO"
      }
    },
    {
      "cell_type": "markdown",
      "source": [
        "##### 3. Will the gained insights help creating a positive business impact?\n",
        "Are there any insights that lead to negative growth? Justify with specific reason."
      ],
      "metadata": {
        "id": "rFu4xreNphqO"
      }
    },
    {
      "cell_type": "markdown",
      "source": [
        "Yes, the gained insights help create a positive business impact. Here's How:\n",
        "\n",
        "**1. Feature Engineering:**\n",
        "\n",
        "- Log/Box-Cox transformation may be needed for skewed variables before modeling.\n",
        "\n",
        "- Helps in deciding which variables might need binning (e.g., rainfall, snowfall).\n",
        "\n",
        "**2. Model Accuracy:**\n",
        "\n",
        "- Knowing skewed features allows you to better preprocess data for regression or classification models → improves prediction accuracy.\n",
        "\n",
        "**3. Operational Planning:**\n",
        "\n",
        "- Since most days are clear, dry, and calm, fleet planning can prioritize normal conditions.\n",
        "\n",
        "- For rare weather events (rain, snow), special policies or surge-pricing can be planned.\n",
        "\n",
        "**4.Marketing & Incentives:**\n",
        "\n",
        "- Days with high solar radiation or extreme temperatures can see reduced activity → targeted campaigns can mitigate this.\n",
        "\n",
        "-----------------------------------------------------------------------------\n",
        "\n",
        "Yes – Multiple environmental variables show conditions that are potential demand suppressors\n",
        "\n",
        "| Feature                        | Risk for Negative Growth | Reason                                                                                       |\n",
        "| ------------------------------ | ------------------------ | -------------------------------------------------------------------------------------------- |\n",
        "| **Rainfall & Snowfall**        | Yes                      | Even though rare, days with heavy rain/snow can significantly reduce rentals → lost revenue. |\n",
        "| **Solar Radiation (hot days)** | Yes                      | High radiation days are fewer but possibly linked to **user discomfort** and reduced demand. |\n",
        "| **Wind Speed**                 | Moderate                 | Higher wind speeds (though rare) can also deter casual riders.                               |\n",
        "| **Extreme Humidity**           | Slight                   | May affect comfort, especially when combined with heat or poor air quality.                  |\n"
      ],
      "metadata": {
        "id": "ey_0qi68phqO"
      }
    },
    {
      "cell_type": "markdown",
      "source": [
        "#### Chart - 10 --> HIstogram + KDE Plot"
      ],
      "metadata": {
        "id": "YJ55k-q6phqO"
      }
    },
    {
      "cell_type": "code",
      "source": [
        "# Chart - 10 visualization code\n",
        "\n",
        "# Histogram + Kde Plot for time releated numerical features\n",
        "# Set style\n",
        "sns.set_style('whitegrid')\n",
        "\n",
        "# Create a figure with subplots\n",
        "numerical_cols = ['Hour', 'Day', 'Month', 'Weekday'] # List of Numeric columns\n",
        "plt.figure(figsize=(10, 8)) # Fig size\n",
        "for i, col in enumerate(numerical_cols, 1):\n",
        "    plt.subplot(2, 2, i) # 3 Rows, 3 columns, ith postition\n",
        "    sns.histplot(data=df_copy, x=col, kde=True, bins=20) # Creating Histogram\n",
        "    plt.title(f'Distribution of {col}') # Title for each plot\n",
        "plt.tight_layout() # Avoid overlapping\n",
        "plt.show()"
      ],
      "metadata": {
        "id": "B2aS4O1ophqO"
      },
      "execution_count": null,
      "outputs": []
    },
    {
      "cell_type": "markdown",
      "source": [
        "##### 1. Why did you pick the specific chart?"
      ],
      "metadata": {
        "id": "gCFgpxoyphqP"
      }
    },
    {
      "cell_type": "markdown",
      "source": [
        "**Reason for Choosing This Chart:**\n",
        "\n",
        "- These are discrete-time variables (e.g., 0–23 for hours, 1–12 for months).\n",
        "\n",
        "- Histogram gives a count-based frequency view.\n",
        "\n",
        "- KDE overlay helps spot distribution shape or repetition patterns, even in discrete variables.\n",
        "\n",
        "- Helps detect seasonal cycles, daily patterns, or anomalies over time."
      ],
      "metadata": {
        "id": "TVxDimi2phqP"
      }
    },
    {
      "cell_type": "markdown",
      "source": [
        "##### 2. What is/are the insight(s) found from the chart?"
      ],
      "metadata": {
        "id": "OVtJsKN_phqQ"
      }
    },
    {
      "cell_type": "markdown",
      "source": [
        "summarize key insights from each subplot:\n",
        "\n",
        "| Feature     | Key Insights                                                                                                                                                                              |\n",
        "| ----------- | ----------------------------------------------------------------------------------------------------------------------------------------------------------------------------------------- |\n",
        "| **Hour**    | **Four high peaks** likely correspond to popular rental hours — possibly around early morning, midday, evening, and night. This suggests **riders use bikes in shifts** or for commuting. |\n",
        "| **Day**     | Fairly **uniform distribution across days of the month**, suggesting no rental bias toward specific dates. Slight dip at the end (maybe fewer data points on 31st).                       |\n",
        "| **Month**   | Rentals are fairly **even across months**, with **slightly increasing trend in the later months (Oct–Dec)**. Indicates consistent usage year-round with **mild seasonal growth**.         |\n",
        "| **Weekday** | Clear **cyclical pattern** — regular dips and rises every 7 days → implies that some weekdays (like weekends or Mondays) may have consistently **lower rental demand**.                   |\n"
      ],
      "metadata": {
        "id": "ngGi97qjphqQ"
      }
    },
    {
      "cell_type": "markdown",
      "source": [
        "##### 3. Will the gained insights help creating a positive business impact?\n",
        "Are there any insights that lead to negative growth? Justify with specific reason."
      ],
      "metadata": {
        "id": "lssrdh5qphqQ"
      }
    },
    {
      "cell_type": "markdown",
      "source": [
        "Absolutely. These time-based insights are crucial for demand forecasting, operations planning, and marketing.\n",
        "\n",
        "✅ Positive Business Impacts:\n",
        "\n",
        "**1. Peak Hour Targeting:**\n",
        "\n",
        "- Identify key rental hours for fleet deployment, maintenance planning, and promotional campaigns (e.g., offer incentives during off-peak times).\n",
        "\n",
        "**2. Consistent Monthly Demand:**\n",
        "\n",
        "- No significant drop in any month means the service is not highly seasonal → good for stable revenue planning.\n",
        "\n",
        "**3. Weekly Pattern Detection:**\n",
        "\n",
        "- Fluctuations across weekdays help plan targeted weekend offers, staffing schedules, or weekday discounts to balance usage.\n",
        "\n",
        "**4. Data Readiness:**\n",
        "\n",
        "- Even distribution across days/months confirms good data quality (no major missing chunks from time).\n",
        "\n",
        "------------------------------------------------------------------------------\n",
        "\n",
        "Yes, Are there any insights that lead to negative growth:\n",
        "\n",
        "| Area                     | Potential Negative Growth | Reason                                                                                                                                                           |\n",
        "| ------------------------ | ------------------------- | ---------------------------------------------------------------------------------------------------------------------------------------------------------------- |\n",
        "| **Weekday Fluctuations** | Yes                       | If weekends (or certain weekdays) consistently underperform and are not addressed, it leads to **missed revenue**.                                               |\n",
        "| **Extreme Hour Gaps**    | Yes                       | Very low rental counts in some hours may point to **underutilized infrastructure**, **excessive downtime**, or missed delivery opportunities during those hours. |\n",
        "| **End-of-Month Drop**    | Slight                    | Possibly fewer records or less usage on 30th/31st could indicate **incomplete data logging** or operational limitations (e.g., billing cycles, maintenance).     |\n"
      ],
      "metadata": {
        "id": "tBpY5ekJphqQ"
      }
    },
    {
      "cell_type": "markdown",
      "source": [
        "# **Bivariate Analysis -**"
      ],
      "metadata": {
        "id": "jIJdUJcr5IqZ"
      }
    },
    {
      "cell_type": "markdown",
      "source": [
        "#### Chart - 11 --> Scatter Plot"
      ],
      "metadata": {
        "id": "U2RJ9gkRphqQ"
      }
    },
    {
      "cell_type": "code",
      "source": [
        "# Chart - 11 visualization code\n",
        "\n",
        "# Rentals vs Temperature (Scatter Plot) for measure temp effect on bike rentals\n",
        "plt.figure(figsize=(8, 6)) # fix the size of the plot\n",
        "sns.scatterplot(data=df_copy, x='Temperature_C', y='Rented_Bike_Count',\n",
        "                alpha=0.6, color='royalblue') # Creating scatter plot\n",
        "plt.title('Bike Rentals vs Temperature', fontsize=14) # Title of scatter plot with text size=14\n",
        "plt.xlabel('Temperature (°C)')\n",
        "plt.ylabel('Bikes Rented')\n",
        "plt.grid(True) # Activate grid line\n",
        "plt.show()"
      ],
      "metadata": {
        "id": "jjEBuHVu7BmT"
      },
      "execution_count": null,
      "outputs": []
    },
    {
      "cell_type": "markdown",
      "source": [
        "##### 1. Why did you pick the specific chart?"
      ],
      "metadata": {
        "id": "1M8mcRywphqQ"
      }
    },
    {
      "cell_type": "markdown",
      "source": [
        "**Reason for Selection:**\n",
        "\n",
        "- For analyzing the relationship between two continuous numerical variables:\n",
        "\n",
        "  - X-axis: Temperature (°C)\n",
        "\n",
        "  - Y-axis: Bikes Rented\n",
        "\n",
        "- Scatter plots are ideal for identifying trends, clusters, correlations, and outliers in numerical relationships.\n",
        "\n",
        "- This helps in understanding how temperature influences rental demand."
      ],
      "metadata": {
        "id": "8agQvks0phqQ"
      }
    },
    {
      "cell_type": "markdown",
      "source": [
        "##### 2. What is/are the insight(s) found from the chart?"
      ],
      "metadata": {
        "id": "tgIPom80phqQ"
      }
    },
    {
      "cell_type": "markdown",
      "source": [
        "**✅ Positive Correlation:**\n",
        "- As temperature increases from -10°C to ~25°C, bike rentals also increase.\n",
        "\n",
        "- The highest concentration of rentals is observed between 15°C and 25°C, indicating optimal riding conditions.\n",
        "\n",
        "**🔻 Performance Drop at Extremes:**\n",
        "- Rentals are significantly lower when temperature is below 0°C (cold weather deterrent).\n",
        "\n",
        "- Rentals also decline slightly beyond 30°C, possibly due to heat discomfort.\n",
        "\n",
        "**📈 Peak Demand Zone:**\n",
        "- The ideal temperature range for maximum rentals appears to be 15–25°C.\n",
        "\n",
        "- This can be classified as the “comfort band” for users."
      ],
      "metadata": {
        "id": "Qp13pnNzphqQ"
      }
    },
    {
      "cell_type": "markdown",
      "source": [
        "##### 3. Will the gained insights help creating a positive business impact?\n",
        "Are there any insights that lead to negative growth? Justify with specific reason."
      ],
      "metadata": {
        "id": "JMzcOPDDphqR"
      }
    },
    {
      "cell_type": "markdown",
      "source": [
        "Yes, the gained insights help create a positive business impact very strongly:\n",
        "\n",
        "**✅ Positive Business Impact:**\n",
        "\n",
        "| Area                       | Opportunity                                                                                             |\n",
        "| -------------------------- | ------------------------------------------------------------------------------------------------------- |\n",
        "| **Seasonal Forecasting**   | Enables demand forecasting for high/low seasons based on temperature predictions.                       |\n",
        "| **Inventory Optimization** | Can scale up fleet availability during favorable weather conditions (15–25°C).                          |\n",
        "| **Marketing Campaigns**    | Weather-based promotions can be launched — e.g., \"Perfect Weather, Perfect Ride!\" in spring/fall.       |\n",
        "| **Customer Engagement**    | Notify users during favorable weather via push notifications: “Great riding weather today — book now!”. |\n",
        "| **Pricing Strategy**       | Offer **temperature-based dynamic pricing** or discounts when demand is expected to drop.               |\n",
        "\n",
        "\n",
        "-----------------------------------------------------------------------------\n",
        "\n"
      ],
      "metadata": {
        "id": "R4Ka1PC2phqR"
      }
    },
    {
      "cell_type": "markdown",
      "source": [
        "#### Chart - 12 --> Scatter Plot"
      ],
      "metadata": {
        "id": "x-EpHcCOp1ci"
      }
    },
    {
      "cell_type": "code",
      "source": [
        "# Chart - 12 visualization code\n",
        "\n",
        "# Rentals vs Humidity (scatter plot) to measure\tMoisture impact on bike rentals.\n",
        "plt.figure(figsize=(8,6)) # fix the size of scatter plot\n",
        "sns.scatterplot(data=df_copy, x = 'Humidity', y = 'Rented_Bike_Count', alpha = 0.6, color = 'royalblue') # Creating scatter plot\n",
        "plt.title('Bike Rentals vs Humidity', fontsize = 14) # Title of scatter plot\n",
        "plt.xlabel('Humidity')\n",
        "plt.ylabel('Bikes Rented')\n",
        "plt.grid(True) # Activate grid lines\n",
        "plt.show()"
      ],
      "metadata": {
        "id": "mAQTIvtqp1cj"
      },
      "execution_count": null,
      "outputs": []
    },
    {
      "cell_type": "markdown",
      "source": [
        "##### 1. Why did you pick the specific chart?"
      ],
      "metadata": {
        "id": "X_VqEhTip1ck"
      }
    },
    {
      "cell_type": "markdown",
      "source": [
        "**Reason for Selecting this chart:**\n",
        "\n",
        "- We are comparing two continuous numerical variables **X-axis: Humidity (%)** and **Y-axis: Bikes Rented**. Scatter plots are ideal for comparing two continuous numerical variables.\n",
        "\n",
        "- Scatter plots are ideal for:\n",
        "\n",
        "  - Observing correlation or trends\n",
        "\n",
        "  - Detecting non-linear patterns or clusters\n",
        "\n",
        "- Spotting outliers or data density\n",
        "\n",
        "This chart is especially useful for understanding how atmospheric humidity levels influence rental behavior."
      ],
      "metadata": {
        "id": "-vsMzt_np1ck"
      }
    },
    {
      "cell_type": "markdown",
      "source": [
        "##### 2. What is/are the insight(s) found from the chart?"
      ],
      "metadata": {
        "id": "8zGJKyg5p1ck"
      }
    },
    {
      "cell_type": "markdown",
      "source": [
        "**✅ General Observations:**\n",
        "\n",
        "| Humidity Range | Observation                                                                            |\n",
        "| -------------- | -------------------------------------------------------------------------------------- |\n",
        "| **0–20%**      | Very few data points — possibly rare atmospheric condition. Rentals low to moderate.   |\n",
        "| **20–60%**     | Rentals are **highly scattered**; a **large proportion of high rentals** happens here. |\n",
        "| **>70%**       | Rentals **gradually decline** — fewer instances of high rental volumes.                |\n",
        "\n",
        "----------------------------------------------------------------------------\n",
        "\n",
        "**📉 No Strong Linear Correlation:**\n",
        "- Unlike temperature, humidity doesn't show a clear linear relationship with bike rentals.\n",
        "\n",
        "- However, there’s a slight negative correlation at higher humidity levels — rentals tend to decrease when humidity is very high (>80%).\n",
        "\n",
        "**❗ Bottom Line Observations:**\n",
        "- There is a significant cluster at zero bike rentals across all humidity levels — likely due to non-weather-related factors (e.g., night hours or system downtime).\n",
        "\n"
      ],
      "metadata": {
        "id": "ZYdMsrqVp1ck"
      }
    },
    {
      "cell_type": "markdown",
      "source": [
        "##### 3. Will the gained insights help creating a positive business impact?\n",
        "Are there any insights that lead to negative growth? Justify with specific reason."
      ],
      "metadata": {
        "id": "PVzmfK_Ep1ck"
      }
    },
    {
      "cell_type": "markdown",
      "source": [
        "Yes, the gained insights help creating a positive business impact. Here's How:\n",
        "\n",
        "**✅ Positive Business Impact:**\n",
        "\n",
        "| Area                                 | Impact                                                                                                            |\n",
        "| ------------------------------------ | ----------------------------------------------------------------------------------------------------------------- |\n",
        "| **Customer Experience Optimization** | Avoid aggressive promotions or campaigns during very humid days — users are less likely to ride.                  |\n",
        "| **Operational Planning**             | Expect **lower usage during rainy/humid seasons** — reduce operational strain (maintenance, bike redistribution). |\n",
        "| **Targeted Offers**                  | During moderately humid (30%–60%) days, run **weather-comfort ride offers**.                                      |\n",
        "\n",
        "--------------------------------------------------------------------------------\n",
        "\n",
        "Yes — potential risk factors are identified:\n",
        "\n",
        "| Concern                               | Justification                                                                                                                                                                                            |\n",
        "| ------------------------------------- | -------------------------------------------------------------------------------------------------------------------------------------------------------------------------------------------------------- |\n",
        "| **High Humidity = Lower Rentals**     | When humidity is high (>80%), rentals noticeably drop — likely due to discomfort, sweat, or rain-associated days.                                                                                        |\n",
        "| **False Assumptions Without Context** | If decisions are made solely based on humidity without considering **rain/wind/temperature**, it may result in **incorrect predictions** or **wasted promotions**.                                       |\n",
        "| **Flatline Effect**                   | A dense line of **0 rentals across humidity values** hints at time-based or system-based limitations that need further exploration — these null values might distort insights if not filtered correctly. |\n"
      ],
      "metadata": {
        "id": "druuKYZpp1ck"
      }
    },
    {
      "cell_type": "markdown",
      "source": [
        "#### Chart - 13 --> Scatter Plot"
      ],
      "metadata": {
        "id": "n3dbpmDWp1ck"
      }
    },
    {
      "cell_type": "code",
      "source": [
        "# Chart - 13 visualization code\n",
        "\n",
        "# Rentals vs Rainfall (Scatter Plot) to measure Rain influence on bike rentals.\n",
        "plt.figure(figsize=(6,4)) # Fix the size of Box plot\n",
        "sns.scatterplot(data=df_copy, x = 'Rainfallmm', y='Rented_Bike_Count', color = 'red') # Creating a red color Box plot\n",
        "plt.title('Bike Rentals vs Rainfall', fontsize = 14) # Title of chart\n",
        "plt.xlabel('Rainfall (mm)')\n",
        "plt.ylabel('Bikes Rented')\n",
        "plt.show()"
      ],
      "metadata": {
        "id": "bwevp1tKp1ck"
      },
      "execution_count": null,
      "outputs": []
    },
    {
      "cell_type": "markdown",
      "source": [
        "##### 1. Why did you pick the specific chart?"
      ],
      "metadata": {
        "id": "ylSl6qgtp1ck"
      }
    },
    {
      "cell_type": "markdown",
      "source": [
        "**Reason for Selecting this chart:**\n",
        "\n",
        "- We are comparing two continuous numerical variables **X-axis: Rainfall (mm)**\n",
        "and Y-axis: Bikes Rented. Scatter Plots are ideal to comparing two continuous numerical variables.\n",
        "\n",
        "- A scatter plot is ideal to detect:\n",
        "\n",
        "  - Correlation patterns\n",
        "\n",
        "  - Outliers\n",
        "\n",
        "- Effect of rainfall on rental volume\n",
        "\n",
        "This chart clearly reveals the sensitivity of bike rental demand to precipitation, helping us understand behavioral shifts.\n",
        "\n"
      ],
      "metadata": {
        "id": "m2xqNkiQp1ck"
      }
    },
    {
      "cell_type": "markdown",
      "source": [
        "##### 2. What is/are the insight(s) found from the chart?"
      ],
      "metadata": {
        "id": "ZWILFDl5p1ck"
      }
    },
    {
      "cell_type": "markdown",
      "source": [
        "**Key insights :**\n",
        "\n",
        "**📊 Clear Negative Relationship:**\n",
        "- As rainfall increases, the number of bikes rented decreases significantly.\n",
        "\n",
        "- Most rentals occur when rainfall is zero or minimal.\n",
        "\n",
        "- Very few rentals are observed when rainfall is above 5 mm.\n",
        "\n",
        "- Near 0 rentals when rainfall exceeds 10 mm — a strong deterrent effect.\n",
        "\n",
        "**🚨 High Density at 0 mm:**\n",
        "\n",
        "- There is a sharp peak in rentals around 0 mm rainfall — showing that dry weather is strongly preferred."
      ],
      "metadata": {
        "id": "x-lUsV2mp1ck"
      }
    },
    {
      "cell_type": "markdown",
      "source": [
        "##### 3. Will the gained insights help creating a positive business impact?\n",
        "Are there any insights that lead to negative growth? Justify with specific reason."
      ],
      "metadata": {
        "id": "M7G43BXep1ck"
      }
    },
    {
      "cell_type": "markdown",
      "source": [
        "Yes, definitely. These insights have strong business implications:\n",
        "\n",
        "**✅ Positive Business Impact**:\n",
        "\n",
        "| Application                | Impact                                                                                                          |\n",
        "| -------------------------- | --------------------------------------------------------------------------------------------------------------- |\n",
        "| **Demand Forecasting**     | During rainy days, expect **low to negligible demand** — avoid overstocking bikes or overstaffing.              |\n",
        "| **Operational Efficiency** | Reduce or pause rebalancing, maintenance schedules during high-rainfall hours.                                  |\n",
        "| **Marketing/Promotion**    | Avoid campaigns or discounts during expected rainy periods — **low ROI**.                                       |\n",
        "| **Dynamic Pricing Models** | Implement **discounts only in light drizzles** (1–3 mm), if weather is not a major deterrent — test cautiously. |\n",
        "\n",
        "****************************************************************************\n",
        "\n",
        "Yes — there are critical insights that could cause negative impact if not acted upon:\n",
        "\n",
        "**🚫 Potential Risks:**\n",
        "\n",
        "| Issue                                     | Reason                                                                                                                                       |\n",
        "| ----------------------------------------- | -------------------------------------------------------------------------------------------------------------------------------------------- |\n",
        "| **Ignoring Weather Trends**               | If the business doesn’t consider rainfall forecasts, it may waste resources — unused bikes, idle workforce, or underutilized infrastructure. |\n",
        "| **Over-reliance on Rainy Season Revenue** | Expecting similar revenue trends across seasons can result in **poor financial planning**.                                                   |\n",
        "| **Operational Mismanagement**             | Deploying too many bikes on rainy days leads to **wear, rust, and increased maintenance cost** with **zero ROI**.                            |\n"
      ],
      "metadata": {
        "id": "5wwDJXsLp1cl"
      }
    },
    {
      "cell_type": "markdown",
      "source": [
        "#### Chart - 14 --> Scatter Plot"
      ],
      "metadata": {
        "id": "Ag9LCva-p1cl"
      }
    },
    {
      "cell_type": "code",
      "source": [
        "# Chart - 14 visualization code\n",
        "\n",
        "# Rentals vs Snowfall (Scatter Plot) to measure Snowfall impact on bike rentals.\n",
        "plt.figure(figsize=(6,4)) # Fix the size of Box plot\n",
        "sns.scatterplot(data=df_copy, x = 'Snowfall_cm', y='Rented_Bike_Count', color = 'red') # Creating a red color Box plot\n",
        "plt.title('Bike Rentals vs Snowfall', fontsize = 14) # Title of chart\n",
        "plt.xlabel('Snowfall (cm)')\n",
        "plt.ylabel('Bikes Rented')\n",
        "plt.show()"
      ],
      "metadata": {
        "id": "EUfxeq9-p1cl"
      },
      "execution_count": null,
      "outputs": []
    },
    {
      "cell_type": "markdown",
      "source": [
        "##### 1. Why did you pick the specific chart?"
      ],
      "metadata": {
        "id": "E6MkPsBcp1cl"
      }
    },
    {
      "cell_type": "markdown",
      "source": [
        "**Reason for Choosing this chart:**\n",
        "\n",
        "- We are comparing two continuous numerical variables **X-axis: Snowfall (cm)** and **Y-axis: Bikes Rented**. Scatter plot is ideal for comparing two numerical variables.\n",
        "\n",
        "- A scatter plot is perfect to identify:\n",
        "\n",
        "  - The correlation or lack thereof\n",
        "\n",
        "  - Behavior patterns of bike rentals with respect to snowfall\n",
        "\n",
        "  - Outlier behavior (e.g., rentals happening despite heavy snow)\n",
        "\n",
        "It clearly illustrates how snowfall influences user behavior in terms of renting bikes.\n",
        "\n"
      ],
      "metadata": {
        "id": "V22bRsFWp1cl"
      }
    },
    {
      "cell_type": "markdown",
      "source": [
        "##### 2. What is/are the insight(s) found from the chart?"
      ],
      "metadata": {
        "id": "2cELzS2fp1cl"
      }
    },
    {
      "cell_type": "markdown",
      "source": [
        "**❄️ Key Observations:**\n",
        "\n",
        "- Sharp Decline in Rentals with increasing snowfall.\n",
        "\n",
        "- Majority of bike rentals occur when snowfall = 0 cm.\n",
        "\n",
        "- Rentals drop significantly after 1 cm and become negligible after 3 cm.\n",
        "\n",
        "- Very few outliers where rentals occur above 4–6 cm snowfall — likely due to essential travel or misrecorded data.\n",
        "\n",
        "**📉 Correlation Insight:**\n",
        "\n",
        "- There’s a strong negative correlation between snowfall and bike rentals.\n",
        "\n",
        "- This indicates that even light snowfall reduces ridership significantly."
      ],
      "metadata": {
        "id": "ozQPc2_Ip1cl"
      }
    },
    {
      "cell_type": "markdown",
      "source": [
        "##### 3. Will the gained insights help creating a positive business impact?\n",
        "Are there any insights that lead to negative growth? Justify with specific reason."
      ],
      "metadata": {
        "id": "3MPXvC8up1cl"
      }
    },
    {
      "cell_type": "markdown",
      "source": [
        "Yes, definitely. These insights have strong business implications:\n",
        "\n",
        "**✅ Positive Business Impact:**\n",
        "\n",
        "| Use Case                   | Benefit                                                                          |\n",
        "| -------------------------- | -------------------------------------------------------------------------------- |\n",
        "| **Demand Prediction**      | Helps avoid over-deploying bikes during snowy days                               |\n",
        "| **Inventory Management**   | Reduce wear-and-tear costs by **limiting deployment in snow**                    |\n",
        "| **Seasonal Strategy**      | Can **pause services in heavy snow zones** or shift focus to other transit modes |\n",
        "| **Marketing Optimization** | Avoid promotions or discounts in snowfall-heavy months or regions                |\n",
        "\n",
        "**💼 Operational Decision Example:**\n",
        "\n",
        "If the forecast shows snowfall > 2 cm, reduce bikes on road and staff at rental stations — this saves cost and maintains operational efficiency.\n",
        "\n",
        "-----------------------------------------------------------------------------\n",
        "\n",
        "Yes — if these patterns are ignored, they could cause negative impact:\n",
        "\n",
        "| Risk                             | Reason                                                                                            |\n",
        "| -------------------------------- | ------------------------------------------------------------------------------------------------- |\n",
        "| **Over-supply in snowy weather** | Low rentals + exposure to snow may **damage equipment**                                           |\n",
        "| **Resource Wastage**             | Station staff, maintenance crew, and marketing efforts will be **underutilized** or wasted        |\n",
        "| **Customer Dissatisfaction**     | If bikes are deployed and **roads are not safe**, it could risk **accidents** and brand trust     |\n",
        "| **Poor Seasonal Planning**       | If business plans are not adjusted for **winter slowdown**, it could lead to **cash flow issues** |\n"
      ],
      "metadata": {
        "id": "GL8l1tdLp1cl"
      }
    },
    {
      "cell_type": "markdown",
      "source": [
        "#### Chart - 15 --> Box Plot"
      ],
      "metadata": {
        "id": "VUd2404qHnLH"
      }
    },
    {
      "cell_type": "code",
      "source": [
        "# Chart - 15 visualization code\n",
        "\n",
        "# Box Plot to compare Weather Conditions (intensities of rain, snow types, and sun condition) on bike rentals\n",
        "sns.set(style=\"whitegrid\")\n",
        "plt.figure(figsize=(18, 5))  # 1 row, 3 columns\n",
        "\n",
        "features = ['rain_condition', 'snow_condition', 'sun_condition']  # Features for Box plot\n",
        "titles = ['Rentals by Rain Condition', 'Rentals by Snow Condition', 'Rentals by Sun Condition'] # Titles for plots\n",
        "\n",
        "for i, feature in enumerate(features, 1): # Extracting index and index value\n",
        "    plt.subplot(1, 3, i)  # (rows, cols, index)\n",
        "    sns.boxplot(x=df_copy[feature], y=df_copy['Rented_Bike_Count'], color='red') # Creting box plot\n",
        "    plt.title(titles[i - 1])\n",
        "    plt.xlabel(feature.replace('_', ' ').title())\n",
        "    if i == 1:\n",
        "        plt.ylabel('Rented Bike Count')\n",
        "    else:\n",
        "        plt.ylabel('')  # Remove y-axis label for middle and last plots\n",
        "\n",
        "plt.tight_layout()\n",
        "plt.show()\n",
        "\n"
      ],
      "metadata": {
        "id": "2_4hUut3ISVr"
      },
      "execution_count": null,
      "outputs": []
    },
    {
      "cell_type": "markdown",
      "source": [
        "##### 1. Why did you pick the specific chart?"
      ],
      "metadata": {
        "id": "-9UzM2sNHvLG"
      }
    },
    {
      "cell_type": "markdown",
      "source": [
        "We selected box plots to analyze the relationship between categorical weather conditions (e.g., rain, snow, sun) and the rental bike count (numerical).\n",
        "Box plots are ideal for:\n",
        "\n",
        "- Comparing distributions across different categories.\n",
        "\n",
        "- Identifying central tendency (median), spread (IQR), and outliers.\n",
        "\n",
        "- Capturing the impact of categorical weather features on rentals in a single, interpretable format.\n",
        "\n",
        "This makes them highly effective for visualizing behavioral patterns under different weather conditions.\n",
        "\n"
      ],
      "metadata": {
        "id": "hpsl6qWZH1pb"
      }
    },
    {
      "cell_type": "markdown",
      "source": [
        "##### 2. What is/are the insight(s) found from the chart?"
      ],
      "metadata": {
        "id": "IJRCy_9TH6zV"
      }
    },
    {
      "cell_type": "markdown",
      "source": [
        "**Key Insights :**\n",
        "\n",
        "**🌧️ Rain Condition (Left Plot):**\n",
        "\n",
        "- Median rentals during no-rain days are significantly higher than on rainy days.\n",
        "\n",
        "- The interquartile range (IQR) and maximum rentals are much wider for no-rain, showing better rental performance.\n",
        "\n",
        "- Rainy days drastically reduce rentals, and outliers are fewer in number and magnitude.\n",
        "\n",
        "**❄️ Snow Condition (Middle Plot):**\n",
        "\n",
        "- A similar trend is observed: rentals are higher on no-snow days.\n",
        "\n",
        "- Median and IQR shrink under snow, indicating lower and more consistent low demand.\n",
        "\n",
        "**☀️ Sun Condition (Right Plot):**\n",
        "- Rentals are higher on sunny days compared to cloudy days.\n",
        "\n",
        "- However, the difference between sunny and cloudy is less dramatic than rain/snow effects.\n",
        "\n",
        "- Suggests people still rent bikes on cloudy days, though sunny weather encourages more activity.\n",
        "\n"
      ],
      "metadata": {
        "id": "pl3gEC9oICAT"
      }
    },
    {
      "cell_type": "markdown",
      "source": [
        "##### 3. Will the gained insights help creating a positive business impact?\n",
        "Are there any insights that lead to negative growth? Justify with specific reason."
      ],
      "metadata": {
        "id": "kBj-Fxf3IE_K"
      }
    },
    {
      "cell_type": "markdown",
      "source": [
        "Yes — if these patterns are ignored, they could cause negative impact:\n",
        "\n",
        "| Use Case                  | Business Benefit                                                                         |\n",
        "| ------------------------- | ---------------------------------------------------------------------------------------- |\n",
        "| **Inventory Forecasting** | Reduce the number of deployed bikes on rainy/snowy days to avoid underutilization.       |\n",
        "| **Cost Optimization**     | Save operational costs (maintenance, redistribution) on bad weather days.                |\n",
        "| **Marketing Campaigns**   | Target promotions on sunny/no-rain days to maximize ROI.                                 |\n",
        "| **User Communication**    | Provide weather-aware app notifications to manage expectations and guide user behavior.  |\n",
        "| **Risk Mitigation**       | Reduce liability by limiting operations during hazardous weather conditions (rain/snow). |\n",
        "\n",
        "These measures will contribute to higher efficiency, improved user satisfaction, and better allocation of resources.\n",
        "\n",
        "---------------------------------------------------------------------------\n",
        "\n",
        "Yes, ignoring these insights can result in negative business outcomes:\n",
        "\n",
        "| Risk Area                          | Negative Impact                                                                        |\n",
        "| ---------------------------------- | -------------------------------------------------------------------------------------- |\n",
        "| **Over-supply during bad weather** | Leads to **wasted resources**, as rentals drop sharply.                                |\n",
        "| **Higher Maintenance Costs**       | Bikes exposed to rain/snow may suffer **accelerated wear and tear**.                   |\n",
        "| **Customer Safety**                | Operating in adverse weather increases risk of **accidents and legal issues**.         |\n",
        "| **Brand Reputation**               | Failing to adapt to weather patterns may signal **poor service reliability** to users. |\n",
        "\n",
        "\n",
        "Ignoring the clear drop in rentals during rainy and snowy conditions can directly lead to financial inefficiencies and operational risks.\n"
      ],
      "metadata": {
        "id": "7KgihayEIIhw"
      }
    },
    {
      "cell_type": "markdown",
      "source": [
        "#### Chart - 16 --> Pie chart"
      ],
      "metadata": {
        "id": "8sg6fawrIfdO"
      }
    },
    {
      "cell_type": "code",
      "source": [
        "# Chart - 16 visualization code\n",
        "\n",
        "# Calculate Bike rental for each temperature category\n",
        "temprature_category = pd.DataFrame(df_copy.groupby(['temperature_category'])['Rented_Bike_Count'].sum()).reset_index()\n",
        "print(temprature_category)\n",
        "print('*'*50)\n",
        "# Extract values and labels\n",
        "rental_counts = temprature_category['Rented_Bike_Count']\n",
        "labels = temprature_category['temperature_category']\n",
        "\n",
        "# Plotting the pie chart\n",
        "plt.figure(figsize=(7, 4))  # Size of this pie chart\n",
        "plt.pie(rental_counts, autopct='%1.1f%%', startangle=90, colors=sns.color_palette('viridis', n_colors=len(labels)))\n",
        "plt.title('Bike Rentals by Temperature Category')  # Title of pie chart\n",
        "plt.axis('equal')  # Equal aspect ratio ensures the pie is drawn as a circle\n",
        "plt.legend(labels, loc=\"upper right\")  # Add legend\n",
        "plt.show()\n",
        "\n"
      ],
      "metadata": {
        "id": "QQdixwPYIiZB"
      },
      "execution_count": null,
      "outputs": []
    },
    {
      "cell_type": "markdown",
      "source": [
        "##### 1. Why did you pick the specific chart?"
      ],
      "metadata": {
        "id": "Lcm3Hvh0ImdQ"
      }
    },
    {
      "cell_type": "markdown",
      "source": [
        "The Pie chart is used to visualize the total bike rentals across temperature categories (cold, moderate, and hot). This chart type is effective because:\n",
        "\n",
        "- It clearly shows comparative totals between categories.\n",
        "\n",
        "- The categorical variable (temperature_category) has a limited number of levels, making it well-suited for a Pie chart.\n",
        "\n",
        "- The use of color (viridis palette) and ordered categories (moderate, hot, cold) improves readability and narrative flow.\n",
        "\n",
        "This chart was selected to quantify the relationship between temperature and total demand, which helps in identifying optimal weather conditions for rentals."
      ],
      "metadata": {
        "id": "U3WM0Lh-ImS0"
      }
    },
    {
      "cell_type": "markdown",
      "source": [
        "##### 2. What is/are the insight(s) found from the chart?"
      ],
      "metadata": {
        "id": "VlWXF2oFItEY"
      }
    },
    {
      "cell_type": "markdown",
      "source": [
        "**Key Insights :**\n",
        "\n",
        "- Moderate temperature results in the highest number of bike rentals (≈ 3.2 million), making it the most favorable condition for usage.\n",
        "\n",
        "- Hot weather comes next (≈ 1.77 million rentals), suggesting demand remains strong but drops slightly, possibly due to discomfort in extreme heat.\n",
        "\n",
        "- Cold weather leads to the lowest rentals (≈ 1.18 million), indicating users avoid biking in colder conditions.\n",
        "\n",
        "This suggests that pleasant/moderate climates encourage outdoor activity, and temperature extremes negatively affect ridership."
      ],
      "metadata": {
        "id": "N2cm-oo4Is6L"
      }
    },
    {
      "cell_type": "markdown",
      "source": [
        "##### 3. Will the gained insights help creating a positive business impact?\n",
        "Are there any insights that lead to negative growth? Justify with specific reason."
      ],
      "metadata": {
        "id": "9i6nerm-IzJZ"
      }
    },
    {
      "cell_type": "markdown",
      "source": [
        "Yes, these insights are valuable for business strategy and operational planning:\n",
        "\n",
        "| Strategic Area             | Positive Impact                                                                |\n",
        "| -------------------------- | ------------------------------------------------------------------------------ |\n",
        "| **Demand Forecasting**     | Better estimate of expected rentals across seasons.                            |\n",
        "| **Inventory Management**   | Allocate and redistribute bikes more effectively based on weather predictions. |\n",
        "| **Marketing & Promotions** | Focus marketing campaigns during moderate months to maximize usage.            |\n",
        "| **Maintenance Planning**   | Schedule bike servicing and downtime during low-demand periods (cold months).  |\n",
        "| **Pricing Strategy**       | Consider **dynamic pricing** based on temperature to optimize revenue.         |\n",
        "\n",
        "By aligning business operations with temperature-driven demand patterns, companies can improve customer experience, reduce idle inventory, and increase profit margins.\n",
        "\n",
        "-------------------------------------------------------------------------------\n",
        "\n",
        "Yes, ignoring these insights can result in negative business outcomes:\n",
        "\n",
        "- Cold weather leads to a significant drop in rentals.\n",
        "\n",
        "- If this trend is ignored, it could result in over-deployment of bikes in winter months, leading to:\n",
        "\n",
        "- Higher operational costs (e.g., moving/storing unused bikes).\n",
        "\n",
        "- Increased wear and damage to equipment in harsh weather.\n",
        "\n",
        "- Wasted marketing spend during low engagement periods.\n",
        "\n",
        "Therefore, failing to respond to seasonal temperature patterns can directly lead to inefficiencies and revenue loss."
      ],
      "metadata": {
        "id": "Qo-s0vFnIzCr"
      }
    },
    {
      "cell_type": "markdown",
      "source": [
        "#### Chart - 17 --> Line Chart"
      ],
      "metadata": {
        "id": "TK2Ugb3OI_ux"
      }
    },
    {
      "cell_type": "code",
      "source": [
        "# Chart - 17 visualization code\n",
        "\n",
        "# Group data by Hour and calculate average rentals\n",
        "hourly_rentals = df_copy.groupby('Hour')['Rented_Bike_Count'].mean().reset_index()\n",
        "\n",
        "# Set plot style\n",
        "sns.set(style=\"whitegrid\")\n",
        "plt.figure(figsize=(10, 5)) # Set the size of line plot\n",
        "\n",
        "# Line plot\n",
        "sns.lineplot(data=hourly_rentals, x='Hour', y='Rented_Bike_Count', marker='o', color='blue')\n",
        "\n",
        "# Chart formatting\n",
        "plt.title('Average Bike Rentals by Hour of Day', fontsize=14) # Add title of line plot\n",
        "plt.xlabel('Hour of the Day (0–23)', fontsize=12)\n",
        "plt.ylabel('Average Rented Bike Count', fontsize=12)\n",
        "plt.xticks(range(0, 24))  # Show all hours on x-axis\n",
        "plt.grid(True) # Activate grid lines\n",
        "\n",
        "plt.tight_layout() # Adjust layout\n",
        "plt.show()\n"
      ],
      "metadata": {
        "id": "arw_xq8TJDAp"
      },
      "execution_count": null,
      "outputs": []
    },
    {
      "cell_type": "markdown",
      "source": [
        "##### 1. Why did you pick the specific chart?"
      ],
      "metadata": {
        "id": "nTaSDNGgJGfP"
      }
    },
    {
      "cell_type": "markdown",
      "source": [
        "The line chart was chosen to display the average bike rentals across different hours of the day (0–23). This chart type is ideal because:\n",
        "\n",
        "- It effectively captures temporal trends and patterns over a continuous variable (Hour).\n",
        "\n",
        "- It shows smooth changes over time, making it easy to spot peaks and troughs in user behavior.\n",
        "\n",
        "- The markers at each hour help clearly identify the value at that point, which enhances readability for reporting and stakeholder presentations.\n",
        "\n",
        "This visualization helps understand daily usage cycles, which is critical for operational decision-making."
      ],
      "metadata": {
        "id": "VB15evLtJGRp"
      }
    },
    {
      "cell_type": "markdown",
      "source": [
        "##### 2. What is/are the insight(s) found from the chart?"
      ],
      "metadata": {
        "id": "pebvH8DwJLx7"
      }
    },
    {
      "cell_type": "markdown",
      "source": [
        "From the line chart, we observe the following usage pattern:\n",
        "\n",
        "- Lowest rentals are observed during late night to early morning hours (12 AM – 6 AM), with the minimum at 4 AM (≈132 rentals).\n",
        "\n",
        "- First peak occurs around 8 AM (≈1015 rentals)—likely due to the morning commute.\n",
        "\n",
        "- A steady increase begins again from 3 PM, reaching the highest peak at 6 PM (≈1503 rentals), indicating evening commute or leisure activity.\n",
        "\n",
        "- Rentals start to decline post 8 PM, though remain relatively high until 10 PM.\n",
        "\n",
        "These insights reveal two strong rental surges—one in the morning (8 AM) and another, more intense, in the evening (6–8 PM)."
      ],
      "metadata": {
        "id": "c-xH858wJLoI"
      }
    },
    {
      "cell_type": "markdown",
      "source": [
        "##### 3. Will the gained insights help creating a positive business impact?\n",
        "Are there any insights that lead to negative growth? Justify with specific reason."
      ],
      "metadata": {
        "id": "Qj1-IOzuJQ0H"
      }
    },
    {
      "cell_type": "markdown",
      "source": [
        "Yes, this hourly trend analysis can drive several strategic and operational improvements:\n",
        "\n",
        "| Use Case                   | Positive Impact                                                                                           |\n",
        "| -------------------------- | --------------------------------------------------------------------------------------------------------- |\n",
        "| **Bike Allocation**        | Ensure **maximum availability during peak hours** (8 AM & 6–8 PM).                                        |\n",
        "| **Dock Management**        | Prevent **overcrowding or stockouts** at key locations during high demand periods.                        |\n",
        "| **Maintenance Scheduling** | Perform **repairs during low-demand hours** (e.g., 1–5 AM) to minimize service disruption.                |\n",
        "| **Pricing Strategy**       | Implement **dynamic pricing** to increase profits during peak hours.                                      |\n",
        "| **Marketing Campaigns**    | Target **off-peak hours** (midday or late night) with **discounts or incentives** to spread usage evenly. |\n",
        "\n",
        "Overall, the insights support better resource planning, user experience optimization, and revenue maximization.\n",
        "\n",
        "--------------------------------------------------------------------------\n",
        "\n",
        "Yes, ignoring this temporal behavior can negatively impact operations:\n",
        "\n",
        "- If bikes are under-allocated during peak hours (especially 6–8 PM), users may face unavailability, leading to frustration and churn.\n",
        "\n",
        "- Conversely, if too many bikes are idle during off-peak hours, it results in increased operational costs (maintenance, storage) and wasted assets.\n",
        "\n",
        "- Failure to recognize hourly usage may also lead to inefficient staffing, poor customer satisfaction, and missed revenue opportunities.\n",
        "\n",
        "Therefore, not leveraging these hourly patterns could contribute to service inefficiency and reduced profitability.\n",
        "\n"
      ],
      "metadata": {
        "id": "6dgn7CfZJQqK"
      }
    },
    {
      "cell_type": "markdown",
      "source": [
        "#### Chart - 18 -- Line Plot"
      ],
      "metadata": {
        "id": "yvk1UOLqJY_q"
      }
    },
    {
      "cell_type": "code",
      "source": [
        "# Chart - 18 visualization code\n",
        "\n",
        "# Group data by Month and calculate average rentals\n",
        "monthly_rentals = df_copy.groupby('Month')['Rented_Bike_Count'].mean().reset_index()\n",
        "print(monthly_rentals)\n",
        "print('*'*50)\n",
        "# Set plot style\n",
        "sns.set(style=\"whitegrid\")\n",
        "plt.figure(figsize=(10, 5)) # Size of line plot\n",
        "\n",
        "# Line plot\n",
        "sns.lineplot(data=monthly_rentals, x='Month', y='Rented_Bike_Count', marker='o', color='blue')\n",
        "\n",
        "# Chart formatting\n",
        "plt.title('Average Bike Rentals by months', fontsize=14) # Add the title of line plot\n",
        "plt.xlabel('Month', fontsize=12)\n",
        "plt.ylabel('Average Rented Bike Count', fontsize=12)\n",
        "plt.xticks(range(1, 13))  # Show all months on x-axis\n",
        "plt.grid(True) # Activate grid lines\n",
        "plt.tight_layout() # Adjust layout\n",
        "plt.show()"
      ],
      "metadata": {
        "id": "Q_Gz178xK_YH"
      },
      "execution_count": null,
      "outputs": []
    },
    {
      "cell_type": "markdown",
      "source": [
        "##### 1. Why did you pick the specific chart?"
      ],
      "metadata": {
        "id": "W2UDglpULDkf"
      }
    },
    {
      "cell_type": "markdown",
      "source": [
        "A line chart was selected to visualize the average bike rentals across all 12 months. This chart is suitable for:\n",
        "\n",
        "- Displaying seasonal trends over a continuous time period.\n",
        "\n",
        "- Helping identify peaks and troughs in user demand across the calendar year.\n",
        "\n",
        "- Communicating patterns clearly and intuitively, especially when the variable (months) has a natural order.\n",
        "\n",
        "By showing monthly variation, this plot supports decisions related to seasonal operations and planning."
      ],
      "metadata": {
        "id": "mBdAJt1wLDZ0"
      }
    },
    {
      "cell_type": "markdown",
      "source": [
        "##### 2. What is/are the insight(s) found from the chart?"
      ],
      "metadata": {
        "id": "U5Ds6E5uLJ_m"
      }
    },
    {
      "cell_type": "markdown",
      "source": [
        "**From the plot and values, we can derive the following insights:**\n",
        "\n",
        "- Lowest rental volumes are observed in winter months—January (≈202) and December (≈249), likely due to cold temperatures and snowfall.\n",
        "\n",
        "- Bike rentals start increasing from March, with a sharp rise between April to June, reaching the highest average in June (≈1246).\n",
        "\n",
        "- Rentals remain consistently high from May to October, indicating a sustained peak during late spring, summer, and early fall.\n",
        "\n",
        "- Rentals begin to decline significantly from November, dropping sharply again in December.\n",
        "\n",
        "This demonstrates a clear seasonal trend, with summer and warmer months showing significantly higher demand than winter."
      ],
      "metadata": {
        "id": "qljnOF1iLQFg"
      }
    },
    {
      "cell_type": "markdown",
      "source": [
        "##### 3. Will the gained insights help creating a positive business impact?\n",
        "Are there any insights that lead to negative growth? Justify with specific reason."
      ],
      "metadata": {
        "id": "T4bqsRgSLJxM"
      }
    },
    {
      "cell_type": "markdown",
      "source": [
        "Absolutely. These monthly trends offer actionable insights for strategic decisions:\n",
        "\n",
        "| Use Case                | Business Impact                                                                                                           |\n",
        "| ----------------------- | ------------------------------------------------------------------------------------------------------------------------- |\n",
        "| **Inventory Planning**  | Increase bike stock and maintenance readiness **before peak months (April–June)**.                                        |\n",
        "| **Marketing Campaigns** | Launch promotional campaigns or loyalty programs during **off-peak months** (e.g., January, December).                    |\n",
        "| **Dynamic Pricing**     | Charge **premium rates during high-demand months** (May–September) and offer **discounts in winter** to stimulate demand. |\n",
        "| **Seasonal Staffing**   | Optimize hiring and shift schedules based on **expected demand** per month.                                               |\n",
        "| **Partnership Timing**  | Collaborate with tourism boards and events in summer for **joint promotions**.                                            |\n",
        "\n",
        "Such seasonal understanding allows the business to maximize revenue, reduce costs, and enhance customer satisfaction.\n",
        "\n",
        "-------------------------------------------------------------------------------\n",
        "\n",
        "Yes. The sharp decline in rentals during winter months (Dec–Feb) highlights challenges that could lead to negative business impacts if not addressed:\n",
        "\n",
        "- Low usage in winters could result in revenue loss due to underutilization of assets.\n",
        "\n",
        "- If bikes are not maintained or repositioned appropriately, they may deteriorate during idle months, increasing long-term costs.\n",
        "\n",
        "- Lack of winter-focused marketing or adaptations (e.g., offering heated handlebar options or winter-safe tires) may limit customer interest.\n",
        "\n",
        "- Poor planning around seasonal dips could lead to overstaffing, unused infrastructure, and low ROI.\n",
        "\n",
        "Thus, failure to plan for seasonality can lead to both operational inefficiencies and financial strain."
      ],
      "metadata": {
        "id": "Kcr_yTqFLR8G"
      }
    },
    {
      "cell_type": "markdown",
      "source": [
        "#### Chart - 19 --> Bar chart"
      ],
      "metadata": {
        "id": "AyzBdoQ2LVNM"
      }
    },
    {
      "cell_type": "code",
      "source": [
        "# Chart - 19 visualization code\n",
        "\n",
        "# Gropy data by seasons and calculate average bike rentals\n",
        "season_rentals = pd.DataFrame(df_copy.groupby(['Seasons'])['Rented_Bike_Count'].mean()).reset_index()\n",
        "print(season_rentals)\n",
        "print('*'*50)\n",
        "# Bar chart for Rentals by Seasons\n",
        "plt.figure(figsize=(6,4)) # Fix my plot size\n",
        "sns.barplot(x='Seasons', y='Rented_Bike_Count', data=season_rentals, palette='viridis',\n",
        "            order=['Summer', 'Autumn', 'Spring', 'Winter'], edgecolor='black')\n",
        "\n",
        "# Style the chart\n",
        "plt.xticks(rotation=45) # Rotate x_ticks values to 45 degree\n",
        "plt.title('Average Bike Rentals by Seasons', fontsize = 14, weight = 'bold') # Add the title of Bar chart\n",
        "plt.xlabel('Seasons')\n",
        "plt.ylabel('Average Rentals')\n",
        "plt.show()"
      ],
      "metadata": {
        "id": "vLkoNauxLUMb"
      },
      "execution_count": null,
      "outputs": []
    },
    {
      "cell_type": "markdown",
      "source": [
        "##### 1. Why did you pick the specific chart?"
      ],
      "metadata": {
        "id": "28hmXn0XLTy7"
      }
    },
    {
      "cell_type": "markdown",
      "source": [
        "A bar chart was selected to visualize the average bike rentals across the four seasons—Summer, Autumn, Spring, and Winter. This chart type is ideal because:\n",
        "\n",
        "- It effectively compares distinct categorical groups (i.e., seasons).\n",
        "\n",
        "- It clearly highlights differences in rental volumes across time-periods that influence weather and behavior.\n",
        "\n",
        "- It provides an easy-to-interpret format for stakeholders who need to make decisions based on season-specific trends.\n",
        "\n",
        "The use of a bar plot ensures a direct and concise comparison of demand distribution over seasons."
      ],
      "metadata": {
        "id": "APxjgg9vLlvS"
      }
    },
    {
      "cell_type": "markdown",
      "source": [
        "##### 2. What is/are the insight(s) found from the chart?"
      ],
      "metadata": {
        "id": "8o3h_wflLeER"
      }
    },
    {
      "cell_type": "markdown",
      "source": [
        "**Key Insights based on the chart and data:**\n",
        "\n",
        "- Summer experiences the highest average rentals (≈1034), likely due to longer daylight hours and favorable weather.\n",
        "\n",
        "- Autumn (≈820) and Spring (≈730) also see moderate to high demand, showing that people are active during transition seasons.\n",
        "\n",
        "- Winter shows the lowest average bike rentals (≈226), indicating minimal usage—likely due to cold temperatures, snow, and lower visibility.\n",
        "\n",
        "This pattern shows a clear seasonal variation, with Summer being the peak and Winter being the lowest in terms of demand."
      ],
      "metadata": {
        "id": "yC4lAgmmLnqP"
      }
    },
    {
      "cell_type": "markdown",
      "source": [
        "##### 3. Will the gained insights help creating a positive business impact?\n",
        "Are there any insights that lead to negative growth? Justify with specific reason."
      ],
      "metadata": {
        "id": "kyJrvJYZLd40"
      }
    },
    {
      "cell_type": "markdown",
      "source": [
        "Yes, these insights can significantly contribute to strategic planning and resource optimization:\n",
        "\n",
        "| Area of Impact           | Actionable Use of Insight                                        |\n",
        "| ------------------------ | ---------------------------------------------------------------- |\n",
        "| **Bike Fleet Planning**  | Allocate more bikes in **Summer–Autumn**, fewer in **Winter**.   |\n",
        "| **Maintenance Schedule** | Schedule heavy maintenance during **Winter** when demand is low. |\n",
        "| **Marketing Strategy**   | Promote **seasonal passes and tourist packages** in Summer.      |\n",
        "| **Dynamic Pricing**      | Implement **higher rates in Summer**, discounts in Winter.       |\n",
        "| **Staffing**             | Adjust operational workforce based on **seasonal demand**.       |\n",
        "\n",
        "This enables the business to maximize utilization during peak times and minimize cost during lulls, leading to increased profitability and efficiency.\n",
        "\n",
        "--------------------------------------------------------------------------------\n",
        "\n",
        "**Yes, Winter season poses a challenge:**\n",
        "\n",
        "- The drastic drop in rentals (to ~226) reflects very low utilization, which can negatively affect revenue and increase idle inventory costs.\n",
        "\n",
        "- If not planned properly, resources such as unused bikes, infrastructure, and staff time may be wasted during the winter months.\n",
        "\n",
        "- Lack of adaptation to winter conditions (e.g., insulated gear, snow-friendly tires) could discourage potential users further.\n",
        "\n",
        "**Justification :** Failing to address the steep decline during Winter may result in revenue loss, operational inefficiencies, and poor return on investment (ROI).\n",
        "\n"
      ],
      "metadata": {
        "id": "T11AvqSWLpk-"
      }
    },
    {
      "cell_type": "markdown",
      "source": [
        "#### Chart - 20 --> Bar chart"
      ],
      "metadata": {
        "id": "cbBsBdl5Lrcs"
      }
    },
    {
      "cell_type": "code",
      "source": [
        "# Chart - 20 visualization code\n",
        "\n",
        "# Gropy data by Weekday and calculate bike rentals\n",
        "daily_rentals = pd.DataFrame(df_copy.groupby(['Weekday'])['Rented_Bike_Count'].sum()).reset_index()\n",
        "print(daily_rentals)\n",
        "print('*'*50)\n",
        "# Bar chart for Rentals by Weekdays\n",
        "plt.figure(figsize=(6,4)) # Fix my plot size\n",
        "sns.barplot(x='Weekday', y='Rented_Bike_Count', data=daily_rentals, palette='Set1', edgecolor='black', order=['4', '2', '0', '5', '3', '1', '6']) # Bar chart in descending order\n",
        "plt.title('Bike Rentals by Weekdays', fontsize = 14, weight = 'bold') # Add the title of Bar plot\n",
        "plt.xlabel('Weekdays')\n",
        "plt.ylabel('Total Rentals')\n",
        "plt.show()"
      ],
      "metadata": {
        "id": "AwNdiHgGL2sp"
      },
      "execution_count": null,
      "outputs": []
    },
    {
      "cell_type": "markdown",
      "source": [
        "##### 1. Why did you pick the specific chart?"
      ],
      "metadata": {
        "id": "c6yXhdDcL5gE"
      }
    },
    {
      "cell_type": "markdown",
      "source": [
        "A bar chart was chosen to visualize the total bike rentals across the days of the week (Monday to Sunday). This type of chart is most suitable because:\n",
        "\n",
        "- It allows for easy comparison between categorical variables (days of the week).\n",
        "\n",
        "- It helps highlight peaks and dips in rental activity clearly.\n",
        "\n",
        "- It is ideal for understanding daily usage patterns and customer behavior.\n",
        "\n",
        "This visualization method effectively supports business decision-making regarding scheduling, promotions, and operational strategy."
      ],
      "metadata": {
        "id": "8Eo6_-gjMHA2"
      }
    },
    {
      "cell_type": "markdown",
      "source": [
        "##### 2. What is/are the insight(s) found from the chart?"
      ],
      "metadata": {
        "id": "dLpVmL4sL5XK"
      }
    },
    {
      "cell_type": "markdown",
      "source": [
        "**Key insights based on the chart and data :**\n",
        "\n",
        "- Thursday (Day 4) recorded the highest number of rentals (~950K), followed closely by Wednesday (Day 2) and Monday (Day 0).\n",
        "\n",
        "- Sunday (Day 6) shows the lowest number of rentals (~780K), suggesting reduced activity on weekends.\n",
        "\n",
        "- The weekdays from Monday to Friday show consistently high rental counts, indicating strong commuter usage during working days.\n",
        "\n",
        "- Saturday (Day 5) rentals were slightly higher than Sunday but still lower than weekdays.\n",
        "\n",
        "These insights suggest that bike rentals are mainly driven by weekday commuting behavior rather than weekend leisure."
      ],
      "metadata": {
        "id": "zOHXMORCMIYv"
      }
    },
    {
      "cell_type": "markdown",
      "source": [
        "##### 3. Will the gained insights help creating a positive business impact?\n",
        "Are there any insights that lead to negative growth? Justify with specific reason."
      ],
      "metadata": {
        "id": "Q6CTyNZFL5OW"
      }
    },
    {
      "cell_type": "markdown",
      "source": [
        "Yes, these insights can lead to several operational and strategic benefits:\n",
        "\n",
        "| Business Area               | Actionable Insights                                                 |\n",
        "| --------------------------- | ------------------------------------------------------------------- |\n",
        "| **Fleet Management**        | Deploy more bikes and ensure maintenance checks during weekdays.    |\n",
        "| **Marketing Campaigns**     | Launch **weekday passes**, promotions during off-peak weekends.     |\n",
        "| **Staff Allocation**        | Schedule more support and logistics on high-demand weekdays.        |\n",
        "| **Infrastructure Planning** | Improve infrastructure support (docking, lanes) for weekday demand. |\n",
        "\n",
        "By optimizing resource deployment around high-demand days, the business can improve service efficiency, customer satisfaction, and maximize rental revenues.\n",
        "\n",
        "-------------------------------------------------------------------------------\n",
        "\n",
        "Yes, the data shows significantly lower rentals on Sundays (~780K). If left unaddressed, this could result in:\n",
        "\n",
        "- Underutilization of bikes, leading to poor ROI on assets.\n",
        "\n",
        "- Revenue loss during weekends due to reduced user engagement.\n",
        "\n",
        "- Missed opportunity to tap into leisure, tourism, or recreational markets.\n",
        "\n",
        "**Justification :**\n",
        "- The business may face negative growth if it fails to introduce weekend-specific offerings (e.g., discounts, leisure ride packages) to stimulate usage."
      ],
      "metadata": {
        "id": "PS3Yx0rEMJ0g"
      }
    },
    {
      "cell_type": "markdown",
      "source": [
        "# **Multivariate Analysis -**"
      ],
      "metadata": {
        "id": "5za1bima-tHX"
      }
    },
    {
      "cell_type": "markdown",
      "source": [
        "#### Chart - 21 --> Scatter Plot"
      ],
      "metadata": {
        "id": "ODkCTvOmMCHB"
      }
    },
    {
      "cell_type": "code",
      "source": [
        "# Chart - 21 visualization code\n",
        "\n",
        "# Scatter Plot for Rain impact at various temps\n",
        "plt.figure(figsize=(10, 6)) # Fix the size of scatter plot\n",
        "sns.scatterplot(data=df_copy, x='Temperature_C', y='Rented_Bike_Count', hue='rain_condition', palette='Set1', alpha=0.7) # Creating scatter plot\n",
        "\n",
        "# Styling the chart\n",
        "plt.title('Bike Rentals by Temperature and Rain Condition', fontsize=14, weight='bold') # Title of scatter plot in bold text\n",
        "plt.xlabel('Temperature (°C)')\n",
        "plt.ylabel('Rented Bike Count')\n",
        "plt.legend(title='Rain Condition') # Activate legends as rain_conditions\n",
        "plt.grid(True) # Activate grid line\n",
        "plt.tight_layout() # Adjust layout\n",
        "plt.show()\n"
      ],
      "metadata": {
        "id": "fzrvwQqJ77ht"
      },
      "execution_count": null,
      "outputs": []
    },
    {
      "cell_type": "markdown",
      "source": [
        "##### 1. Why did you pick the specific chart?"
      ],
      "metadata": {
        "id": "PFpxnHyKMQLn"
      }
    },
    {
      "cell_type": "markdown",
      "source": [
        "**A scatter plot was selected because:**\n",
        "\n",
        "- It effectively visualizes the relationship between two continuous numerical variables—Temperature (°C) and Rented Bike Count.\n",
        "\n",
        "- It allows for easy comparison of rental patterns under two rain conditions (rain vs no_rain) using color-coded categories.\n",
        "\n",
        "- This chart helps identify data trends, spread, and density, especially where bike rentals are high or drop significantly.\n",
        "\n",
        "Such a plot is ideal for detecting the impact of weather conditions on customer behavior, which is critical for seasonal demand forecasting and business planning."
      ],
      "metadata": {
        "id": "BCZgMzzAMYEu"
      }
    },
    {
      "cell_type": "markdown",
      "source": [
        "##### 2. What is/are the insight(s) found from the chart?"
      ],
      "metadata": {
        "id": "YO7TBFayMQDJ"
      }
    },
    {
      "cell_type": "markdown",
      "source": [
        "**key insights:**\n",
        "\n",
        "- Bike rentals increase as temperature rises, with the highest rentals clustering between 15°C to 30°C.\n",
        "\n",
        "- Rain significantly reduces bike rentals, regardless of temperature:\n",
        "\n",
        "  - Most high rental points (above 1000+) occur during no-rain conditions.\n",
        "\n",
        "  - Rentals during rain are sparse and mostly concentrated below 500, indicating poor customer demand on rainy days.\n",
        "\n",
        "- At extremely low temperatures (< 0°C), rentals are minimal regardless of rain conditions, suggesting that cold weather discourages ridership.\n",
        "\n"
      ],
      "metadata": {
        "id": "2hPN5RmhMZ04"
      }
    },
    {
      "cell_type": "markdown",
      "source": [
        "##### 3. Will the gained insights help creating a positive business impact?\n",
        "Are there any insights that lead to negative growth? Justify with specific reason."
      ],
      "metadata": {
        "id": "-mU8DKkFMP7y"
      }
    },
    {
      "cell_type": "markdown",
      "source": [
        "Yes, the insights from this plot can guide multiple positive business decisions:\n",
        "\n",
        "| Area                       | Recommendation                                                                                      |\n",
        "| -------------------------- | --------------------------------------------------------------------------------------------------- |\n",
        "| **Weather-based planning** | Increase fleet availability and promotional campaigns during optimal conditions (15–30°C, no rain). |\n",
        "| **Dynamic pricing**        | Offer **discounts or incentives on rainy days** to boost usage and retain customers.                |\n",
        "| **Operational efficiency** | Reduce bike availability or reposition bikes in low-demand areas during rainy/cold days.            |\n",
        "\n",
        "These strategies can improve customer satisfaction, bike utilization, and cost management, ultimately enhancing business profitability.\n",
        "\n",
        "-------------------------------------------------------------------------------\n",
        "\n",
        "Yes, the chart highlights two potential threats:\n",
        "\n",
        "**1. Rainy days → Drastically lower demand**\n",
        "\n",
        "- As shown by the blue dots (rain condition), bike rentals drop significantly in both moderate and high temperatures.\n",
        "\n",
        "- If not addressed, this could lead to loss of revenue, bike idle time, and inventory mismanagement.\n",
        "\n",
        "**2. Cold temperatures (< 5°C) → Almost no rentals**\n",
        "\n",
        "- Investing resources during such periods without proper demand mapping may increase operational costs without returns.\n",
        "\n",
        "**Justification:**\n",
        "- If these patterns are ignored, the business may face negative ROI due to poor demand forecasting, especially in rainy and winter seasons. Therefore, using these insights to plan seasonal and weather-dependent strategies is essential for sustainable growth."
      ],
      "metadata": {
        "id": "9fwb-VShMbXd"
      }
    },
    {
      "cell_type": "markdown",
      "source": [
        "#### Chart - 22 --> Line Chart"
      ],
      "metadata": {
        "id": "LFsX4aAfMfJ8"
      }
    },
    {
      "cell_type": "code",
      "source": [
        "# Chart - 22 visualization code\n",
        "\n",
        "# Calculate average rentals per hour per season\n",
        "hourly_seasonal = df_copy.groupby(['Hour', 'Seasons'])['Rented_Bike_Count'].mean().reset_index()\n",
        "\n",
        "# Grouped line chart for all seasons and hours by rented_bike_count\n",
        "plt.figure(figsize=(10, 6)) # Fix figure size\n",
        "sns.lineplot(data=hourly_seasonal, x='Hour', y='Rented_Bike_Count', hue='Seasons', marker='o')\n",
        "\n",
        "# Styling the chart\n",
        "plt.title('Hourly Bike Rentals Across Seasons', fontsize=14, weight='bold') # Title of line plot\n",
        "plt.xlabel('Hour of the Day')\n",
        "plt.ylabel('Average Rentals')\n",
        "plt.xticks(range(0, 24)) # every hour can mention on chart\n",
        "plt.legend(title='Season') # Activate legend\n",
        "plt.grid(True) # Activate grid lines\n",
        "plt.tight_layout() # Adjust layout\n",
        "plt.show()\n"
      ],
      "metadata": {
        "id": "W478r0YYErqC"
      },
      "execution_count": null,
      "outputs": []
    },
    {
      "cell_type": "markdown",
      "source": [
        "##### 1. Why did you pick the specific chart?"
      ],
      "metadata": {
        "id": "_nY-GsmAMn4U"
      }
    },
    {
      "cell_type": "markdown",
      "source": [
        "A line chart was selected for this visualization because:\n",
        "\n",
        "- It effectively shows hourly trends across time (0 to 23 hours) and compares multiple seasonal patterns simultaneously.\n",
        "\n",
        "- Line plots are excellent for time-series data where we need to observe fluctuations, peaks, and troughs over a continuous variable like time.\n",
        "\n",
        "- It helps detect demand cycles across different seasons, allowing the business to spot both morning and evening rental behaviors.\n",
        "\n",
        "The chart makes it easy to compare seasonal usage patterns hour by hour in a single, clean visual.\n",
        "\n"
      ],
      "metadata": {
        "id": "Bk-bIFmrMwlS"
      }
    },
    {
      "cell_type": "markdown",
      "source": [
        "##### 2. What is/are the insight(s) found from the chart?"
      ],
      "metadata": {
        "id": "z45t2f6hMnv8"
      }
    },
    {
      "cell_type": "markdown",
      "source": [
        "**Key Insights :**\n",
        "\n",
        "- Clear rental peaks appear around 8 AM and 6 PM across all seasons except winter—likely representing commute hours.\n",
        "\n",
        "- Summer sees the highest rental volume, especially between 8–9 AM and 6–7 PM, suggesting that favorable weather boosts daily ridership.\n",
        "\n",
        "- Winter has significantly lower rentals at all hours, with minimal variation—indicating poor ridership and less demand.\n",
        "\n",
        "- During daylight hours (10 AM to 4 PM), Spring, Summer, and Autumn maintain a relatively steady flow of rentals, while winter remains consistently low.\n",
        "\n",
        "- The gap between seasonal curves is most prominent during peak hours, underscoring how seasonality drastically affects demand."
      ],
      "metadata": {
        "id": "QKQpxDCoMyU7"
      }
    },
    {
      "cell_type": "markdown",
      "source": [
        "##### 3. Will the gained insights help creating a positive business impact?\n",
        "Are there any insights that lead to negative growth? Justify with specific reason."
      ],
      "metadata": {
        "id": "PLOSkiypMnoS"
      }
    },
    {
      "cell_type": "markdown",
      "source": [
        "Yes, the insights from this chart are highly valuable for making data-driven business decisions:\n",
        "\n",
        "| Operational Area         | Strategy                                                                                                                                             |\n",
        "| ------------------------ | ---------------------------------------------------------------------------------------------------------------------------------------------------- |\n",
        "| **Resource Allocation**  | Increase fleet supply and staff availability in **Summer and Autumn during peak hours** (8 AM and 6 PM).                                             |\n",
        "| **Maintenance Planning** | Schedule repairs and redistribution in **non-peak or low-demand hours**, especially during **winter**.                                               |\n",
        "| **Marketing Strategy**   | Focus promotions on **off-peak hours in winter** to improve rentals, or run **time-limited offers** in Summer to maximize returns during peak hours. |\n",
        "| **App Notifications**    | Use this hourly pattern to trigger **smart nudges or ride reminders** around popular hours (8 AM & 6 PM).                                            |\n",
        "\n",
        "Such decisions can boost customer satisfaction, improve operational efficiency, and ensure better bike availability when and where it's needed most.\n",
        "\n",
        "-------------------------------------------------------------------------------\n",
        "\n",
        "Yes, the chart reveals two areas of concern that can negatively impact growth:\n",
        "\n",
        "**1. Winter Season Rentals Are Critically Low**\n",
        "\n",
        "- The consistently low rental counts across all hours indicate ineffective utilization of bikes in winter, possibly due to weather discomfort.\n",
        "\n",
        "- If the business does not adapt (e.g., reducing supply, repositioning bikes indoors, or launching offers), it could lead to operational losses.\n",
        "\n",
        "**2. Late-Night & Early-Morning Hours Have Minimal Activity**\n",
        "\n",
        "- Between 12 AM and 6 AM, rentals are negligible across all seasons.\n",
        "\n",
        "- Maintaining staff or active fleet during these hours without proper analysis could result in wasted resources and unnecessary maintenance costs.\n",
        "\n",
        "**Justification :**\n",
        "- If ignored, these trends may lead to excess inventory, underutilized labor, and inefficient allocation of marketing resources, especially in low-demand periods. Leveraging this hourly insight is critical to aligning supply with demand, avoiding revenue leakage, and sustaining long-term growth."
      ],
      "metadata": {
        "id": "4winZGJ8M0Kv"
      }
    },
    {
      "cell_type": "markdown",
      "source": [
        "#### Chart - 23 --> Grouped Bar Chart"
      ],
      "metadata": {
        "id": "AD-TZVwaM1t2"
      }
    },
    {
      "cell_type": "code",
      "source": [
        "# Chart - 23 visualization code\n",
        "# Aggregate average rentals per month and rain condition\n",
        "monthly_rain = df_copy.groupby(['Month', 'rain_condition'])['Rented_Bike_Count'].mean().reset_index()\n",
        "\n",
        "# Rentals vs Month vs Rain conditions\n",
        "plt.figure(figsize=(10, 6)) # Fix plot size\n",
        "sns.barplot(data=monthly_rain, x='Month', y='Rented_Bike_Count', hue='rain_condition', palette='tab10', edgecolor='black')\n",
        "# styling Bar chart\n",
        "plt.title('Average Monthly Bike Rentals by Rain Condition', fontsize=14, weight='bold') # Title of chart in bold text\n",
        "plt.xlabel('Month')\n",
        "plt.ylabel('Average Rented Bike Count')\n",
        "plt.legend(title='Rain Condition') # Activate legends of rain condition\n",
        "plt.tight_layout() # Avoid overlapping\n",
        "plt.show()"
      ],
      "metadata": {
        "id": "BFcb-WOTM4oT"
      },
      "execution_count": null,
      "outputs": []
    },
    {
      "cell_type": "markdown",
      "source": [
        "##### 1. Why did you pick the specific chart?"
      ],
      "metadata": {
        "id": "gQ_rHaZaM7Xj"
      }
    },
    {
      "cell_type": "markdown",
      "source": [
        "A grouped bar chart was chosen because:\n",
        "\n",
        "- It allows for a clear month-wise comparison between two categories: rain and no rain.\n",
        "\n",
        "- Bar charts are highly effective in representing categorical comparisons across time (i.e., months).\n",
        "\n",
        "- Grouped bars help visualize the impact of weather (rain condition) on bike rentals in each month.\n",
        "\n",
        "- It provides an intuitive and direct way to assess how rain affects user behavior and overall demand."
      ],
      "metadata": {
        "id": "2bE_CSQeNEZI"
      }
    },
    {
      "cell_type": "markdown",
      "source": [
        "##### 2. What is/are the insight(s) found from the chart?"
      ],
      "metadata": {
        "id": "m0SZsrAVM7QF"
      }
    },
    {
      "cell_type": "markdown",
      "source": [
        "**Key Insights :**\n",
        "\n",
        "- Bike rentals are consistently higher on non-rainy days across all months.\n",
        "\n",
        "- Peak rental months are between May to September, with June showing the highest average rentals on no-rain days (~1300+).\n",
        "\n",
        "- Rainy days significantly reduce average rentals, particularly in the early and late months (e.g., February, April, October, December).\n",
        "\n",
        "- August appears to be the month with the highest average rentals even on rainy days, indicating possible tolerance or necessity-driven use during monsoons.\n",
        "\n",
        "- Winter months (January, December) show the lowest rentals overall, especially during rain, highlighting combined effects of cold and wet weather."
      ],
      "metadata": {
        "id": "Rpv4sFcDNGBo"
      }
    },
    {
      "cell_type": "markdown",
      "source": [
        "##### 3. Will the gained insights help creating a positive business impact?\n",
        "Are there any insights that lead to negative growth? Justify with specific reason."
      ],
      "metadata": {
        "id": "JiyVcQExM7J7"
      }
    },
    {
      "cell_type": "markdown",
      "source": [
        "Yes, these insights can strongly support strategic business decisions:\n",
        "\n",
        "| Business Area              | Strategic Actions Based on Insights                                                                      |\n",
        "| -------------------------- | -------------------------------------------------------------------------------------------------------- |\n",
        "| **Fleet Management**       | Increase fleet size in **summer months** and decrease in **winter/rainy months** to optimize operations. |\n",
        "| **Demand Forecasting**     | Use weather forecasts to **predict low-demand days** and dynamically adjust resource allocation.         |\n",
        "| **Promotional Campaigns**  | Offer **discounts during rainy days** to encourage usage and reduce impact of bad weather.               |\n",
        "| **Maintenance Scheduling** | Prefer bike servicing during **low-rain, low-rental months** (e.g., January, February, December).        |\n",
        "\n",
        "By incorporating weather-based seasonal demand, the company can maximize revenue during high-demand months and cut losses during low-demand periods.\n",
        "\n",
        "--------------------------------------------------------------------------------\n",
        "\n",
        "Yes, the following insights indicate areas that could contribute to negative growth if not addressed:\n",
        "\n",
        "**1. Rainy Days Severely Reduce Demand :**\n",
        "\n",
        "- The orange bars (rain condition) are consistently lower, often by more than 50% compared to non-rainy days.\n",
        "\n",
        "- **Justification:** Ignoring this trend could lead to underutilized inventory, operational inefficiencies, and lost revenue on days when demand drops due to rain.\n",
        "\n",
        "**2. Off-Season Rental Decline :**\n",
        "\n",
        "- Winter months (January, December) have low rentals regardless of weather.\n",
        "\n",
        "- **Justification:** If resources are not scaled down accordingly, this can lead to overstaffing, wasted energy, and unnecessary fleet wear, reducing profitability.\n",
        "\n",
        "**Conclusion:**\n",
        "- Identifying these dips ensures that the company can respond with targeted marketing or cost-reduction strategies—preventing losses and ensuring sustained business performance."
      ],
      "metadata": {
        "id": "eFIPiDweNHtP"
      }
    },
    {
      "cell_type": "markdown",
      "source": [
        "### Chart - 24 -->Clustered Bar chart"
      ],
      "metadata": {
        "id": "pZogzOFQNK8s"
      }
    },
    {
      "cell_type": "code",
      "source": [
        "# Chart - 24 visualization code\n",
        "\n",
        "# Aggregate average rental per weekday and snow_condition\n",
        "weekday_snow = df_copy.groupby(['Weekday', 'snow_condition'])['Rented_Bike_Count'].mean().reset_index()\n",
        "\n",
        "# Plot the grouped bar chart (Rented_Bike_Count vs Weekday vs snow_condition)\n",
        "plt.figure(figsize=(10, 6)) # Fix the size of plot\n",
        "sns.barplot(data=weekday_snow, x='Weekday', y='Rented_Bike_Count', hue='snow_condition', palette='coolwarm', edgecolor='black') # Creating clustered Bar chart\n",
        "\n",
        "# Styling the bar chart\n",
        "plt.title('Average Bike Rentals by Weekday and Snow Condition', fontsize=14, weight='bold') # Set the title in bold letters\n",
        "plt.xlabel('Weekday')\n",
        "plt.ylabel('Average Rented Bike Count')\n",
        "plt.legend(title='Snow Condition') # Activate legend for snow_condition\n",
        "plt.tight_layout() # Avoid overlapping\n",
        "plt.show()"
      ],
      "metadata": {
        "id": "Tv-yYs9aNOIY"
      },
      "execution_count": null,
      "outputs": []
    },
    {
      "cell_type": "markdown",
      "source": [
        "##### 1. Why did you pick the specific chart?"
      ],
      "metadata": {
        "id": "Zh4l9quJNROn"
      }
    },
    {
      "cell_type": "markdown",
      "source": [
        "A grouped bar chart was selected for the following reasons:\n",
        "\n",
        "- It effectively compares bike rentals across each weekday under two contrasting conditions—with and without snow.\n",
        "\n",
        "- Bar charts are ideal for discrete categorical variables such as weekdays and weather conditions.\n",
        "\n",
        "- The grouped layout helps in identifying behavioral changes due to snowfall in a week-by-week breakdown, making it easy to spot demand drops and potential anomalies."
      ],
      "metadata": {
        "id": "YIw2hHgWNd0x"
      }
    },
    {
      "cell_type": "markdown",
      "source": [
        "##### 2. What is/are the insight(s) found from the chart?"
      ],
      "metadata": {
        "id": "PngIq0mpNRHI"
      }
    },
    {
      "cell_type": "markdown",
      "source": [
        "This visualization reveals several important insights:\n",
        "\n",
        "- Snow significantly reduces bike rental activity across all weekdays.\n",
        "\n",
        "- On non-snowy days, bike rentals remain consistently high, averaging between 720 to 790 rentals per day.\n",
        "\n",
        "- During snowy conditions, rentals drop sharply to below 300 on all days, often as low as 150–200.\n",
        "\n",
        "- Sunday (weekday 6) shows the lowest rentals on non-snowy days and relatively higher usage on snowy days than the rest of the week.\n",
        "\n",
        "  - This suggests potential leisure-based or essential use during weekends, even in poor weather.\n",
        "\n",
        "- Despite snowfall, a small but consistent segment of users continues renting, which may point to necessity-driven usage (e.g., commuting or lack of alternatives)."
      ],
      "metadata": {
        "id": "ZGPu7OQxNg16"
      }
    },
    {
      "cell_type": "markdown",
      "source": [
        "##### 3. Will the gained insights help creating a positive business impact?\n",
        "Are there any insights that lead to negative growth? Justify with specific reason."
      ],
      "metadata": {
        "id": "NkcZDmoqNRBE"
      }
    },
    {
      "cell_type": "markdown",
      "source": [
        "Absolutely. These insights support multiple business improvement strategies:\n",
        "\n",
        "| Business Area                 | Strategic Actions Based on Insights                                                                                 |\n",
        "| ----------------------------- | ------------------------------------------------------------------------------------------------------------------- |\n",
        "| **Operational Planning**      | Reduce active fleet and operational costs during **snowy periods**, especially on weekdays with lowest demand.      |\n",
        "| **Targeted Incentives**       | Introduce **discounts or promotions on snowy days** to encourage usage and maintain engagement.                     |\n",
        "| **Weather-Based Forecasting** | Incorporate snowfall data into **demand prediction models** to optimize availability and minimize overstock.        |\n",
        "| **User Segmentation**         | Investigate users who rent even on snowy days for developing **premium or loyalty programs** for consistent riders. |\n",
        "\n",
        "-------------------------------------------------------------------------------\n",
        "\n",
        "Yes, some aspects indicate potential negative impact:\n",
        "\n",
        "**1. Snowfall Severely Reduces Rentals :**\n",
        "\n",
        "- Across all days, rentals fall by more than 60–75% when snow is present.\n",
        "\n",
        "- **Justification:** If the business doesn’t adjust for snow-day demand drops, it may face increased idle inventory, higher maintenance costs, and decreased profitability.\n",
        "\n",
        "**2. Sunday Dip (No-Snow) :**\n",
        "\n",
        "- Even in ideal conditions, Sunday (weekday 6) sees the lowest rentals.\n",
        "\n",
        "- **Justification:** This could signal a gap in engagement or user outreach during weekends. If overlooked, it may result in untapped revenue potential.\n",
        "\n",
        "**Conclusion:** While snow clearly limits operations, this chart helps pinpoint specific days and conditions to watch, enabling cost control and weather-resilient business planning."
      ],
      "metadata": {
        "id": "O95oDbPUNi36"
      }
    },
    {
      "cell_type": "markdown",
      "source": [
        "#### Chart - 25 --> Scatter Plot"
      ],
      "metadata": {
        "id": "rH3h9zutNlDX"
      }
    },
    {
      "cell_type": "code",
      "source": [
        "# Chart - 25 visualization code\n",
        "\n",
        "plt.figure(figsize=(10, 6)) # Fix plot size\n",
        "# Scatter plot (Rented_Bike_Count vs Solar_Radiation_MJ_per_m2 vs Humidity)\n",
        "sns.scatterplot(data=df_copy, x='Humidity', y='Solar_Radiation_MJ_per_m2', hue='Rented_Bike_Count', palette='viridis', alpha=0.7)\n",
        "\n",
        "# Chart formatting\n",
        "plt.title('Impact of Humidity and Solar Radiation on Bike Rentals', fontsize=14, weight='bold') # Set the title of plot in bold letters\n",
        "plt.xlabel('Humidity (%)')\n",
        "plt.ylabel('Solar Radiation (MJ/m²)')\n",
        "plt.legend(title='Bike Rentals', bbox_to_anchor=(1.05, 1), loc='upper left') # Activate legend\n",
        "plt.grid(True) # Activate grid lines\n",
        "plt.tight_layout() # Avoid overlapping\n",
        "plt.show()\n"
      ],
      "metadata": {
        "id": "aRuvFSrnNoXH"
      },
      "execution_count": null,
      "outputs": []
    },
    {
      "cell_type": "markdown",
      "source": [
        "##### 1. Why did you pick the specific chart?\n",
        "\n",
        "\n"
      ],
      "metadata": {
        "id": "DuscTIZWNq8f"
      }
    },
    {
      "cell_type": "markdown",
      "source": [
        "A scatter plot with color mapping was chosen for this analysis because:\n",
        "\n",
        "- It is ideal for visualizing relationships between two continuous variables—humidity (%) and solar radiation (MJ/m²).\n",
        "\n",
        "- The third variable, bike rentals, is represented through a color gradient, adding a multivariate layer to the analysis.\n",
        "\n",
        "- This chart helps to identify patterns, clusters, and outliers that might not be evident in simpler charts.\n",
        "\n",
        "This visualization offers a comprehensive view of how environmental factors jointly influence demand for bike rentals."
      ],
      "metadata": {
        "id": "d8nTdr5rN0BO"
      }
    },
    {
      "cell_type": "markdown",
      "source": [
        "##### 2. What is/are the insight(s) found from the chart?"
      ],
      "metadata": {
        "id": "dGGuLuPBNq3U"
      }
    },
    {
      "cell_type": "markdown",
      "source": [
        "Several key insights emerge from this chart:\n",
        "\n",
        "- Bike rentals increase when solar radiation is moderate to high (0.5 to 2.5 MJ/m²) and humidity levels are moderate (20% to 60%).\n",
        "\n",
        "- High humidity (>80%), even when paired with high solar radiation, is associated with low rental activity (represented by darker purple dots).\n",
        "\n",
        "- Most higher rental counts (light green dots) are concentrated in areas with:\n",
        "\n",
        "  - Humidity between 20% to 50%\n",
        "\n",
        "  - Solar radiation between 1.0 and 2.5 MJ/m²\n",
        "\n",
        "- There’s a negative correlation between extreme humidity or very low solar radiation and the number of rentals.\n",
        "\n",
        "- The absence of bright-colored points (i.e., high rentals) at very high humidity or very low solar radiation indicates these are unfavorable conditions for biking."
      ],
      "metadata": {
        "id": "6mTQNockN1ec"
      }
    },
    {
      "cell_type": "markdown",
      "source": [
        "##### 3. Will the gained insights help creating a positive business impact?\n",
        "Are there any insights that lead to negative growth? Justify with specific reason."
      ],
      "metadata": {
        "id": "AxuVnX58NqxH"
      }
    },
    {
      "cell_type": "markdown",
      "source": [
        "Yes, the insights from this chart can significantly aid data-driven business strategies, including:\n",
        "\n",
        "| Business Area             | Strategic Applications                                                                          |\n",
        "| ------------------------- | ----------------------------------------------------------------------------------------------- |\n",
        "| **Demand Forecasting**    | Incorporate **weather variables** into predictive models to more accurately forecast usage.     |\n",
        "| **Operational Readiness** | Plan **fleet availability and maintenance** based on expected usage derived from weather.       |\n",
        "| **Marketing Campaigns**   | Target promotions during periods of **moderate humidity and strong sunlight** to boost rentals. |\n",
        "| **User Communication**    | Send **push notifications or personalized offers** on days with optimal rental conditions.      |\n",
        "\n",
        "-------------------------------------------------------------------------------\n",
        "\n",
        "Yes, certain insights indicate potential risks to growth:\n",
        "\n",
        "**1. Low Rentals in High Humidity or Low Sunlight Conditions:**\n",
        "\n",
        "- Conditions with >80% humidity or <0.5 MJ/m² solar radiation show almost no high rentals.\n",
        "\n",
        "- **Justification:** These conditions may result in unused inventory, leading to increased holding costs and reduced revenue per unit.\n",
        "\n",
        "**2. Weather Sensitivity of Users:**\n",
        "\n",
        "- The plot suggests that user behavior is highly sensitive to environmental comfort, which can unpredictably reduce demand during extreme weather fluctuations.\n",
        "\n",
        "- **Justification:** Businesses relying solely on steady demand may overinvest during off-peak conditions, causing inefficiencies.\n",
        "\n",
        "**Conclusion:**\n",
        "- While unfavorable weather does pose risk, knowing these patterns in advance provides opportunities to optimize inventory, staffing, and customer engagement, converting risk into strategic planning."
      ],
      "metadata": {
        "id": "OpPnj7-eN3cX"
      }
    },
    {
      "cell_type": "markdown",
      "source": [
        "#### Chart - 26 --> Heatmap"
      ],
      "metadata": {
        "id": "Ebv-XNtwN6pK"
      }
    },
    {
      "cell_type": "code",
      "source": [
        "# Chart - 26 visualization code\n",
        "\n",
        "# Group and pivot the data\n",
        "temp_sun = df_copy.groupby(['temperature_category', 'sun_condition'])['Rented_Bike_Count'].mean().reset_index()\n",
        "heatmap_data = temp_sun.pivot(index='temperature_category', columns='sun_condition', values='Rented_Bike_Count')\n",
        "\n",
        "# Plot the heatmap (temperature_category vs sun_condition vs Rented_Bike_Count)\n",
        "plt.figure(figsize=(8, 5)) # fix the plt size\n",
        "sns.heatmap(heatmap_data, annot=True, fmt=\".0f\", cmap='YlGnBu', linewidths=0.5)\n",
        "\n",
        "# Chart formatting\n",
        "plt.title('Avg Bike Rentals by Temperature Category and Sun Condition', fontsize=14, weight='bold') # Set the title of heatmap\n",
        "plt.xlabel('Sun Condition')\n",
        "plt.ylabel('Temperature Category')\n",
        "plt.tight_layout() # layout adjustment\n",
        "plt.show()"
      ],
      "metadata": {
        "id": "sinhTpuSN-Ck"
      },
      "execution_count": null,
      "outputs": []
    },
    {
      "cell_type": "markdown",
      "source": [
        "##### 1. Why did you pick the specific chart?"
      ],
      "metadata": {
        "id": "xKtazctTOEJY"
      }
    },
    {
      "cell_type": "markdown",
      "source": [
        "A heatmap was selected because:\n",
        "\n",
        "- It effectively displays a matrix of values representing average bike rentals across two categorical variables: temperature category (cold, moderate, hot) and sun condition (cloudy, sunny).\n",
        "\n",
        "- The color intensity provides an immediate visual cue for comparing performance across conditions.\n",
        "\n",
        "- It allows easy identification of the most and least favorable combinations for bike rentals.\n",
        "\n",
        "This chart simplifies multivariate comparison in a compact and intuitive format, making it ideal for decision-making."
      ],
      "metadata": {
        "id": "jSNflfobOa6z"
      }
    },
    {
      "cell_type": "markdown",
      "source": [
        "##### 2. What is/are the insight(s) found from the chart?"
      ],
      "metadata": {
        "id": "EDkEnc5wOEC0"
      }
    },
    {
      "cell_type": "markdown",
      "source": [
        "Key insights derived from the heatmap include:\n",
        "\n",
        "- Sunny conditions always result in higher average rentals than cloudy ones within the same temperature category.\n",
        "\n",
        "- The highest rentals (1204) occur during hot and sunny conditions.\n",
        "\n",
        "- Even under moderate temperatures, sunny weather (1105) significantly outperforms cloudy days (753).\n",
        "\n",
        "- Cold weather, regardless of sunshine, yields the lowest rentals—316 on cloudy days and 390 on sunny days.\n",
        "\n",
        "- Hot weather proves to be the most favorable for bike rentals, suggesting users prefer biking in warmer conditions, especially when it's sunny."
      ],
      "metadata": {
        "id": "f2Egyl1bOc4R"
      }
    },
    {
      "cell_type": "markdown",
      "source": [
        "##### 3. Will the gained insights help creating a positive business impact?\n",
        "Are there any insights that lead to negative growth? Justify with specific reason."
      ],
      "metadata": {
        "id": "D3SE_zH2OD8p"
      }
    },
    {
      "cell_type": "markdown",
      "source": [
        "Yes, these insights can positively influence business operations and customer engagement strategies:\n",
        "\n",
        "| Business Area                 | Application                                                                     |\n",
        "| ----------------------------- | ------------------------------------------------------------------------------- |\n",
        "| **Fleet Management**          | Allocate more bikes during **hot and sunny days** to meet expected high demand. |\n",
        "| **Weather-Based Forecasting** | Develop models that prioritize **sunshine and temperature interactions**.       |\n",
        "| **Dynamic Pricing & Offers**  | Run **promotional discounts** on cloudy/moderate days to **boost usage**.       |\n",
        "| **Marketing Strategy**        | Time campaigns for periods with **high expected rentals** (hot, sunny).         |\n",
        "\n",
        "These strategies can increase utilization rates, customer satisfaction, and profit margins.\n",
        "\n",
        "------------------------------------------------------------------------------\n",
        "\n",
        "Yes, certain combinations reveal potential risks to business growth:\n",
        "\n",
        "**1. Cold and Cloudy Conditions (316 average rentals):**\n",
        "\n",
        "- Significantly lower demand, indicating operational inefficiency if bikes are deployed without adjusting for weather.\n",
        "\n",
        "- **Justification:** High supply with low demand leads to increased idle time, resource wastage, and cost per unit rise.\n",
        "\n",
        "**2. Underperformance During Cloudy Days in General:**\n",
        "\n",
        "- Even moderate temperature days (753 rentals) show a dip under cloudy skies.\n",
        "\n",
        "- **Justification:** Without targeted offers or adjusted strategies, this could result in underutilized infrastructure.\n",
        "\n",
        "**Conclusion:**\n",
        "- Although certain environmental conditions reduce demand, recognizing and adapting to them can prevent losses and allow companies to turn weaknesses into optimization strategies."
      ],
      "metadata": {
        "id": "8T2SXSQoOeYW"
      }
    },
    {
      "cell_type": "markdown",
      "source": [
        "#### Chart - 27 --> Scatter Plot"
      ],
      "metadata": {
        "id": "0bLnwtifOhSP"
      }
    },
    {
      "cell_type": "code",
      "source": [
        "# Chart - 27 visualization code\n",
        "\n",
        "plt.figure(figsize=(10, 6)) # Fix size of plot\n",
        "# Scatter plot (Visibility_10m vs Wind_speed_m_per_s vs Rented_Bike_Count)\n",
        "sns.scatterplot(data=df_copy, x='Visibility_10m', y='Wind_speed_m_per_s', hue='Rented_Bike_Count', palette='plasma', alpha=0.7)\n",
        "\n",
        "# Chart formatting\n",
        "plt.title('Impact of Visibility and Wind Speed on Bike Rentals', fontsize=14, weight='bold') # Set the title of the chart\n",
        "plt.xlabel('Visibility (meters)')\n",
        "plt.ylabel('Wind Speed (m/s)')\n",
        "plt.legend(title='Bike Rentals', bbox_to_anchor=(1.05, 1), loc='upper left') # Activate legend\n",
        "plt.grid(True) #d Activate grid line\n",
        "plt.tight_layout() # Adjust layout\n",
        "plt.show()\n"
      ],
      "metadata": {
        "id": "6lOqVYhXOkiK"
      },
      "execution_count": null,
      "outputs": []
    },
    {
      "cell_type": "markdown",
      "source": [
        "##### 1. Why did you pick the specific chart?"
      ],
      "metadata": {
        "id": "etG89f6qO0ZT"
      }
    },
    {
      "cell_type": "markdown",
      "source": [
        "The chosen chart is a scatter plot or with dual axes, as it effectively compares two independent variables (Wind Speed and Visibility) against Bike Rentals. This visualization helps in:\n",
        "\n",
        "- Identifying correlations between weather conditions and bike rental demand.\n",
        "\n",
        "- Highlighting trends (e.g., whether higher wind speed or poor visibility reduces rentals).\n",
        "\n",
        "- Enabling side-by-side comparison of two factors influencing the same dependent variable (rentals)."
      ],
      "metadata": {
        "id": "qJNLKLz9O-9k"
      }
    },
    {
      "cell_type": "markdown",
      "source": [
        "##### 2. What is/are the insight(s) found from the chart?"
      ],
      "metadata": {
        "id": "DjXsHPmDO0QN"
      }
    },
    {
      "cell_type": "markdown",
      "source": [
        "From the chart, the following insights can be derived:\n",
        "\n",
        "- **Wind Speed Impact:**\n",
        "\n",
        "  - As wind speed increases (m/s), bike rentals decrease significantly (seen by the declining trend from 2000 to 250 rentals).\n",
        "\n",
        "  - Strong winds discourage cyclists due to safety concerns and discomfort.\n",
        "\n",
        "- **Visibility Impact:**\n",
        "\n",
        "  - Lower visibility (e.g., fog, rain, pollution) correlates with fewer bike rentals.\n",
        "\n",
        "  - Cyclists prefer clear weather conditions for safer rides.\n",
        "\n",
        "- **Combined Effect:**\n",
        "\n",
        "- Days with both high wind speed and low visibility show the lowest rental numbers, indicating a compounding negative effect."
      ],
      "metadata": {
        "id": "8f72a1CGPB9R"
      }
    },
    {
      "cell_type": "markdown",
      "source": [
        "##### 3. Will the gained insights help creating a positive business impact?\n",
        "Are there any insights that lead to negative growth? Justify with specific reason."
      ],
      "metadata": {
        "id": "0Pxj1KL_O0Gy"
      }
    },
    {
      "cell_type": "markdown",
      "source": [
        "Yes, these insights can drive data-driven business decisions, such as:\n",
        "\n",
        "- **Dynamic Pricing & Promotions:**\n",
        "\n",
        "  - Offer discounts on high-wind/low-visibility days to incentivize rentals.\n",
        "\n",
        "  - Implement surge pricing on optimal weather days to maximize revenue.\n",
        "\n",
        "- **Inventory & Staffing Adjustments:**\n",
        "\n",
        "  - Reduce bike availability on days with predicted bad weather to cut maintenance costs.\n",
        "\n",
        "  - Reallocate staff for maintenance rather than rentals during unfavorable conditions.\n",
        "\n",
        "- **Marketing Strategies:**\n",
        "\n",
        "  - Promote indoor bike-sharing events (e.g., gym partnerships) during bad weather.\n",
        "\n",
        "------------------------------------------------------------------------------\n",
        "\n",
        "Yes, the following factors could negatively impact growth:\n",
        "\n",
        "- **Weather Dependency:**\n",
        "\n",
        "  - Since rentals drop significantly in bad weather, the business remains highly vulnerable to seasonal/climate changes.\n",
        "\n",
        "  - Mitigation Strategy: Expand services to e-bikes (better in wind) or covered bikes to reduce weather sensitivity.\n",
        "\n",
        "- **Revenue Loss on Bad Weather Days:**\n",
        "\n",
        "  - If no countermeasures are taken, consistent bad weather (e.g., monsoon seasons) could lead to long-term revenue decline.\n",
        "\n",
        "  - Solution: Introduce subscription models or weather-insensitive services (e.g., delivery partnerships)."
      ],
      "metadata": {
        "id": "nLpB92zIPDyW"
      }
    },
    {
      "cell_type": "markdown",
      "source": [
        "#### Chart - 28 --> Grouped Bar chart"
      ],
      "metadata": {
        "id": "ATcgnZGCPGHE"
      }
    },
    {
      "cell_type": "code",
      "source": [
        "# Chart - 28 visualization code\n",
        "\n",
        "# Group data: calculate average rentals by Holiday and Season\n",
        "holiday_season = df_copy.groupby(['Holiday', 'Seasons'])['Rented_Bike_Count'].mean().reset_index()\n",
        "\n",
        "# Plot grouped bar chart (Holiday vs Rented_Bike_Count vs Seasons)\n",
        "plt.figure(figsize=(10, 6)) # Fix my figure size\n",
        "sns.barplot(data=holiday_season, x='Holiday', y='Rented_Bike_Count', hue='Seasons', palette='Set2', edgecolor='black')\n",
        "\n",
        "# Formatting the chart\n",
        "plt.title('Average Bike Rentals by Holiday Status and Season', fontsize=14, weight='bold') # Title of chart in bold letters\n",
        "plt.xlabel('Holiday Status')\n",
        "plt.ylabel('Average Rented Bike Count')\n",
        "plt.legend(title='Season') # Activate legend\n",
        "plt.tight_layout() # Adjust layout\n",
        "plt.show()\n"
      ],
      "metadata": {
        "id": "ml9F4eRIPJcT"
      },
      "execution_count": null,
      "outputs": []
    },
    {
      "cell_type": "markdown",
      "source": [
        "##### 1. Why did you pick the specific chart?"
      ],
      "metadata": {
        "id": "Pa0nd3LzPMzG"
      }
    },
    {
      "cell_type": "markdown",
      "source": [
        "The chosen chart is a grouped bar plot, which effectively compares average bike rentals across two categorical variables:\n",
        "\n",
        "- Season (Autumn, Spring, Summer, Winter)\n",
        "\n",
        "- Holiday Status (Holiday vs. No Holiday)\n",
        "\n",
        "This visualization is ideal because:\n",
        "\n",
        "- It clearly contrasts rental trends between holidays and non-holidays.\n",
        "\n",
        "- It highlights seasonal variations, helping identify peak and off-peak periods.\n",
        "\n",
        "- The grouped bars allow for direct comparison within each season, revealing how holidays impact demand differently across the year."
      ],
      "metadata": {
        "id": "nEZTp0MTPUFZ"
      }
    },
    {
      "cell_type": "markdown",
      "source": [
        "##### 2. What is/are the insight(s) found from the chart?"
      ],
      "metadata": {
        "id": "-eODXpqXPMoY"
      }
    },
    {
      "cell_type": "markdown",
      "source": [
        "Key insights from the chart:\n",
        "\n",
        "**1. Seasonal Trends:**\n",
        "\n",
        "- Highest demand in Summer (likely due to pleasant weather) and Spring (moderate temperatures).\n",
        "\n",
        "- Lowest demand in Winter (harsh weather) and Autumn (transitional period).\n",
        "\n",
        "**2. Holiday Impact:**\n",
        "\n",
        "- Non-holidays consistently outperform holidays in rentals across all seasons, suggesting:\n",
        "\n",
        "  - Reduced commuting on holidays (fewer office-goers).\n",
        "\n",
        "  - Leisure riders may prefer personal vehicles for holiday trips.\n",
        "\n",
        "- The gap is most pronounced in Summer (high leisure potential but fewer rentals on holidays)."
      ],
      "metadata": {
        "id": "4wQ15knjPVk3"
      }
    },
    {
      "cell_type": "markdown",
      "source": [
        "##### 3. Will the gained insights help creating a positive business impact?\n",
        "Are there any insights that lead to negative growth? Justify with specific reason."
      ],
      "metadata": {
        "id": "P_DdoLSgPMUj"
      }
    },
    {
      "cell_type": "markdown",
      "source": [
        "Yes, these insights can optimize operations and marketing:\n",
        "\n",
        "**1. Seasonal Strategies:**\n",
        "\n",
        "- Boost promotions in Summer/Spring (e.g., family discounts, tourist-targeted ads).\n",
        "\n",
        "- Winter mitigation: Offer weather-resistant bikes or partnerships with indoor venues.\n",
        "\n",
        "**2. Holiday-Specific Adjustments:**\n",
        "\n",
        "- Reduce inventory/staffing on holidays to cut costs.\n",
        "\n",
        "- Create holiday-themed campaigns (e.g., \"Explore the City on a Bike\" for long weekends).\n",
        "\n",
        "-------------------------------------------------------------------------------\n",
        "\n",
        "Yes, potential risks include:\n",
        "\n",
        "**1. Holiday Revenue Dips:**\n",
        "\n",
        "- Consistent underutilization on holidays could lead to lost revenue opportunities.\n",
        "\n",
        "- **Justification:** If holidays coincide with peak seasons (e.g., Summer weekends), the business misses high-demand periods.\n",
        "\n",
        "- **Solution:** Introduce holiday packages (e.g., group discounts for tourists).\n",
        "\n",
        "**2. Winter Demand Slump:**\n",
        "\n",
        "- Prolonged low rentals in Winter may strain cash flow.\n",
        "\n",
        "- **Justification:** Cyclists avoid cold/rainy weather, reducing annual revenue.\n",
        "\n",
        "- **Solution:** Diversify into e-bikes (better in cold) or subscription models for steady income."
      ],
      "metadata": {
        "id": "8yw05R5UPXox"
      }
    },
    {
      "cell_type": "markdown",
      "source": [
        "#### Chart -29  - Correlation Heatmap"
      ],
      "metadata": {
        "id": "NC_X3p0fY2L0"
      }
    },
    {
      "cell_type": "code",
      "source": [
        "# Correlation Heatmap visualization code\n",
        "\n",
        "# Select only numerical columns for correlation\n",
        "numerical_cols = df_copy.select_dtypes(include='number')\n",
        "\n",
        "# Calculate correlation matrix\n",
        "corr_matrix = numerical_cols.corr()\n",
        "\n",
        "# Plot the heatmap\n",
        "plt.figure(figsize=(12, 8)) # Fix the plot size\n",
        "sns.heatmap(corr_matrix, annot=True, cmap='coolwarm', fmt=\".2f\", linewidths=0.5)\n",
        "plt.title('Correlation Heatmap of Numerical Features', fontsize=16) # set the title\n",
        "plt.yticks(rotation=0)\n",
        "plt.tight_layout() # adjust layout\n",
        "plt.show()"
      ],
      "metadata": {
        "id": "xyC9zolEZNRQ"
      },
      "execution_count": null,
      "outputs": []
    },
    {
      "cell_type": "markdown",
      "source": [
        "##### 1. Why did you pick the specific chart?"
      ],
      "metadata": {
        "id": "UV0SzAkaZNRQ"
      }
    },
    {
      "cell_type": "markdown",
      "source": [
        "A correlation heatmap was selected because:\n",
        "\n",
        "- It provides a clear visual summary of how numerical variables in the dataset are linearly related to each other.\n",
        "\n",
        "- The use of color gradients helps quickly identify strong positive or negative correlations, as well as insignificant relationships.\n",
        "\n",
        "- It is ideal for feature selection during preprocessing or modeling and helps identify multicollinearity issues.\n",
        "\n",
        "- It allows us to assess the relationship of features with the target variable (Rented_Bike_Count) and guides us on which variables could be predictive."
      ],
      "metadata": {
        "id": "DVPuT8LYZNRQ"
      }
    },
    {
      "cell_type": "markdown",
      "source": [
        "##### 2. What is/are the insight(s) found from the chart?"
      ],
      "metadata": {
        "id": "YPEH6qLeZNRQ"
      }
    },
    {
      "cell_type": "markdown",
      "source": [
        "**Key insights derived from the correlation heatmap:**\n",
        "\n",
        "- Temperature (0.54) and Hour (0.41) have the strongest positive correlation with Rented_Bike_Count, indicating higher bike rentals during warmer hours of the day.\n",
        "\n",
        "- Dew Point Temperature (0.38) and Solar Radiation (0.26) are also positively correlated, reinforcing the importance of pleasant weather conditions for higher rentals.\n",
        "\n",
        "- Humidity (-0.20) and Snowfall (-0.14) have negative correlations, meaning that higher humidity or snowfall reduces bike demand.\n",
        "\n",
        "- Visibility (0.20) has a slight positive impact, suggesting better visibility encourages bike usage.\n",
        "\n",
        "- Wind Speed shows a weak negative correlation (-0.04), indicating minimal impact.\n",
        "\n",
        "- High correlation (0.91) between Temperature_C and Dew_point_temperature_C suggests potential multicollinearity—important to consider during model building.\n",
        "\n",
        "- Weekday and Weekend are highly correlated (0.79) since one is derived from the other, and one should be dropped during modeling.\n",
        "\n",
        "These correlations are useful for feature engineering, predictive modeling, and understanding which weather and temporal variables truly influence rental behavior."
      ],
      "metadata": {
        "id": "bfSqtnDqZNRR"
      }
    },
    {
      "cell_type": "markdown",
      "source": [
        "#### Chart -30  - Pair Plot"
      ],
      "metadata": {
        "id": "q29F0dvdveiT"
      }
    },
    {
      "cell_type": "code",
      "source": [
        "# Pair Plot visualization code\n",
        "\n",
        "\n",
        "# Select numerical columns for the pair plot\n",
        "selected_columns = ['Rented_Bike_Count', 'Temperature_C', 'Humidity',\n",
        "                    'Wind_speed_m_per_s', 'Visibility_10m', 'Dew_point_temperature_C',\n",
        "                    'Solar_Radiation_MJ_per_m2', 'Rainfallmm', 'Snowfall_cm'] # Numerical columns except Time related features.\n",
        "\n",
        "# Create the pair plot\n",
        "sns.pairplot(df_copy[selected_columns], corner=True, plot_kws={'alpha': 0.5})\n",
        "plt.suptitle(\"Pairwise Relationships Between Numerical Features\", y=1.02, fontsize=16)\n",
        "plt.show()"
      ],
      "metadata": {
        "id": "o58-TEIhveiU"
      },
      "execution_count": null,
      "outputs": []
    },
    {
      "cell_type": "markdown",
      "source": [
        "##### 1. Why did you pick the specific chart?"
      ],
      "metadata": {
        "id": "EXh0U9oCveiU"
      }
    },
    {
      "cell_type": "markdown",
      "source": [
        "The pair plot was chosen to explore the pairwise relationships among all numerical variables in the dataset, including the target variable Rented_Bike_Count. This visualization is especially effective when working with multiple continuous variables, as it provides:\n",
        "\n",
        "- A comprehensive view of potential correlations and trends.\n",
        "\n",
        "- Insights into the distribution of individual features along the diagonal.\n",
        "\n",
        "- An easy way to spot outliers, linear or non-linear relationships, and clusters in the data.\n",
        "\n",
        "Given that the dataset contains several meteorological variables (e.g., temperature, humidity, wind speed, visibility), a pair plot is ideal for preliminary exploratory data analysis before applying statistical or machine learning techniques.\n",
        "\n"
      ],
      "metadata": {
        "id": "eMmPjTByveiU"
      }
    },
    {
      "cell_type": "markdown",
      "source": [
        "##### 2. What is/are the insight(s) found from the chart?"
      ],
      "metadata": {
        "id": "22aHeOlLveiV"
      }
    },
    {
      "cell_type": "markdown",
      "source": [
        "Based on the pairwise relationships visualized, the following key insights were identified:\n",
        "\n",
        "**✅ Temperature vs Rented_Bike_Count:**\n",
        "\n",
        "- A positive correlation was observed — as temperature increases, bike rentals tend to increase. This indicates that warmer weather encourages more biking activity.\n",
        "\n",
        "**✅ Solar Radiation vs Rented_Bike_Count:**\n",
        "- A positive relationship is also evident here. Higher levels of solar radiation (i.e., sunnier days) are associated with increased rentals, suggesting clear weather promotes bike usage.\n",
        "\n",
        "**✅ Rainfall/Snowfall vs Rented_Bike_Count:**\n",
        "- A negative correlation is visible — rainfall and snowfall significantly reduce bike rentals. This highlights how bad weather conditions discourage outdoor activities like cycling.\n",
        "\n",
        "**✅ Wind Speed vs Rented_Bike_Count:**\n",
        "- A slight negative or negligible correlation was noticed. Wind speed appears to have a minor effect on rentals.\n",
        "\n",
        "**✅ Temperature vs Dew Point Temperature:**\n",
        "- A strong linear relationship exists between these two variables, which is expected given their meteorological connection.\n",
        "\n",
        "**✅ Humidity vs Other Variables:**\n",
        "- Humidity does not show a strong direct correlation with bike rentals but may have indirect effects when combined with other weather conditions.\n",
        "\n",
        "**✅ Visibility vs Rented_Bike_Count:**\n",
        "- A moderate positive trend is visible — better visibility tends to coincide with higher rental activity.\n",
        "\n",
        "**✅ Conclusion:**\n",
        "- The pair plot helped identify critical weather-related factors that influence bike rentals, such as temperature, solar radiation, and precipitation. These insights are valuable for feature selection and model building, as well as for understanding user behavior trends in varying weather conditions.\n"
      ],
      "metadata": {
        "id": "uPQ8RGwHveiV"
      }
    },
    {
      "cell_type": "markdown",
      "source": [
        "## ***5. Hypothesis Testing***"
      ],
      "metadata": {
        "id": "g-ATYxFrGrvw"
      }
    },
    {
      "cell_type": "markdown",
      "source": [
        "### Based on your chart experiments, define three hypothetical statements from the dataset. In the next three questions, perform hypothesis testing to obtain final conclusion about the statements through your code and statistical testing."
      ],
      "metadata": {
        "id": "Yfr_Vlr8HBkt"
      }
    },
    {
      "cell_type": "markdown",
      "source": [
        "Based on insights drawn from our visual explorations, we aim to validate the following three hypotheses:\n",
        "\n",
        "**1. Temperature Influence :** There is a significant relationship between ambient temperature (Temperature_C) and bike rental volume (Rented_Bike_Count).\n",
        "\n",
        "**2. Rainfall Impact :**  Varying levels of rainfall (Rainfall_mm) have a measurable effect on the number of bikes rented (Rented_Bike_Count).\n",
        "\n",
        "**3. Solar Radiation Effect :**  The intensity of solar radiation (Solar_Radiation_MJ_per_m²) is correlated with fluctuations in bike rentals (Rented_Bike_Count).\n"
      ],
      "metadata": {
        "id": "-7MS06SUHkB-"
      }
    },
    {
      "cell_type": "markdown",
      "source": [
        "### Hypothetical Statement - 1"
      ],
      "metadata": {
        "id": "8yEUt7NnHlrM"
      }
    },
    {
      "cell_type": "markdown",
      "source": [
        "#### 1. State Your research hypothesis as a null hypothesis and alternate hypothesis."
      ],
      "metadata": {
        "id": "tEA2Xm5dHt1r"
      }
    },
    {
      "cell_type": "markdown",
      "source": [
        "**Hypothesis 1: Temperature Effect on Rentals**\n",
        "\n",
        "- **Null Hypothesis (H₀):** There is no significant difference in average bike rentals between low-temperature days and high-temperature days.\n",
        "\n",
        "- **Alternative Hypothesis (H₁):** There is a significant difference in average bike rentals between low-temperature and high-temperature days."
      ],
      "metadata": {
        "id": "HI9ZP0laH0D-"
      }
    },
    {
      "cell_type": "markdown",
      "source": [
        "#### 2. Perform an appropriate statistical test."
      ],
      "metadata": {
        "id": "I79__PHVH19G"
      }
    },
    {
      "cell_type": "code",
      "source": [
        "# Import necessary libraries\n",
        "from scipy.stats import ttest_ind, levene, mannwhitneyu\n",
        "\n",
        "# Define thresholds\n",
        "median_temp = df_copy['Temperature_C'].median()\n",
        "high_temp_days = df_copy[df_copy['Temperature_C'] >= median_temp]\n",
        "low_temp_days = df_copy[df_copy['Temperature_C'] < median_temp]\n",
        "\n",
        "# Bike rentals for both groups\n",
        "rentals_high_temp = high_temp_days['Rented_Bike_Count']\n",
        "rentals_low_temp = low_temp_days['Rented_Bike_Count']\n",
        "print(f\"rentals_high_temp: n={len(rentals_high_temp)}, mean rentals={np.mean(rentals_high_temp):.1f}\")\n",
        "print(f\"rentals_low_temp: n={len(rentals_low_temp)}, mean rentals={np.mean(rentals_low_temp):.1f}\")\n",
        "\n",
        "# (1) Check variance equality\n",
        "_, p_levene = levene(rentals_high_temp, rentals_low_temp)\n",
        "equal_var = True if p_levene > 0.05 else False\n",
        "print(f\"Equal variances? {'Yes' if equal_var else 'No'}\")\n",
        "\n",
        "# (2) Perform t-test\n",
        "t_stat, p_val = ttest_ind(rentals_high_temp, rentals_low_temp, equal_var=equal_var)\n",
        "\n",
        "\n",
        "# Print results\n",
        "print(\"Hypothesis 1: Temperature Effect on Rentals\")\n",
        "print(f\"T-Statistic: {t_stat:.4f}, P-Value: {p_val:.4f}\")\n",
        "\n",
        "alpha = 0.05\n",
        "if p_val < alpha:\n",
        "    print(\"Conclusion: Reject H0 → Temperature has a significant effect on bike rentals.\")\n",
        "else:\n",
        "    print(\"Conclusion: Fail to Reject H0 → No significant difference.\")"
      ],
      "metadata": {
        "id": "Ql41OKloxFeG"
      },
      "execution_count": null,
      "outputs": []
    },
    {
      "cell_type": "markdown",
      "source": [
        "##### Which statistical test have you done to obtain P-Value?"
      ],
      "metadata": {
        "id": "Ou-I18pAyIpj"
      }
    },
    {
      "cell_type": "markdown",
      "source": [
        "We performed an Independent Samples t-test (Student’s t-test) to determine whether bike rentals differ significantly between high-temperature and low-temperature days.\n",
        "We also used Levene’s Test to check for equality of variances before applying the t-test."
      ],
      "metadata": {
        "id": "s2U0kk00ygSB"
      }
    },
    {
      "cell_type": "markdown",
      "source": [
        "##### Why did you choose the specific statistical test?"
      ],
      "metadata": {
        "id": "fF3858GYyt-u"
      }
    },
    {
      "cell_type": "markdown",
      "source": [
        "We selected the independent t-test because:\n",
        "\n",
        "- We are comparing the means of two independent groups:\n",
        "\n",
        "  - high_temp_days (Temperature ≥ median)\n",
        "\n",
        "  - low_temp_days (Temperature < median)\n",
        "\n",
        "- The dependent variable Rented_Bike_Count is continuous.\n",
        "\n",
        "- The data points (days) in both groups are independent of each other.\n",
        "\n",
        "- Sample sizes are large enough (n = 4397 and 4363), making the t-test robust to normality assumptions due to the Central Limit Theorem.\n",
        "\n",
        "- Before applying the t-test, Levene’s Test was used to check variance equality:\n",
        "\n",
        "- The result showed p < 0.05, meaning variances are not equal, so we used the Welch's t-test (by setting equal_var=False).\n",
        "\n",
        "-------------------------------------------------------------------------------\n",
        "\n",
        "The t-test is appropriate here because:\n",
        "\n",
        "- The samples are independent.\n",
        "\n",
        "- The sample size is sufficiently large for the Central Limit Theorem to apply.\n",
        "\n",
        "- We are testing a mean difference between two groups."
      ],
      "metadata": {
        "id": "HO4K0gP5y3B4"
      }
    },
    {
      "cell_type": "markdown",
      "source": [
        "### Hypothetical Statement - 2"
      ],
      "metadata": {
        "id": "4_0_7-oCpUZd"
      }
    },
    {
      "cell_type": "markdown",
      "source": [
        "#### 1. State Your research hypothesis as a null hypothesis and alternate hypothesis."
      ],
      "metadata": {
        "id": "hwyV_J3ipUZe"
      }
    },
    {
      "cell_type": "markdown",
      "source": [
        "**Hypothesis 2: Rainfall Impact on Bike Rentals**\n",
        "- **Null Hypothesis (H₀):** Rainfall does not significantly affect the number of bikes rented.\n",
        "\n",
        "- **Alternative Hypothesis (H₁):** Days with rainfall have significantly lower bike rentals than days without rainfall.\n"
      ],
      "metadata": {
        "id": "FnpLGJ-4pUZe"
      }
    },
    {
      "cell_type": "markdown",
      "source": [
        "#### 2. Perform an appropriate statistical test."
      ],
      "metadata": {
        "id": "3yB-zSqbpUZe"
      }
    },
    {
      "cell_type": "code",
      "source": [
        "# Perform Statistical Test to obtain P-Value\n",
        "\n",
        "# Group data\n",
        "rainy_days = df_copy[df_copy['Rainfallmm'] > 0]['Rented_Bike_Count']\n",
        "dry_days = df_copy[df_copy['Rainfallmm'] == 0]['Rented_Bike_Count']\n",
        "\n",
        "# Check sample sizes and means\n",
        "print(f\"Rainy days: n={len(rainy_days)}, mean rentals={np.mean(rainy_days):.1f}\")\n",
        "print(f\"Dry days: n={len(dry_days)}, mean rentals={np.mean(dry_days):.1f}\")\n",
        "\n",
        "# Check equal variance with Levene's test\n",
        "_, p_levene = levene(rainy_days, dry_days)\n",
        "equal_var = p_levene > 0.05  # True if variances are equal\n",
        "print(f\"Equal variances? {'Yes' if equal_var else 'No'}\")\n",
        "\n",
        "# Perform one-tailed t-test (H₁: rainy_days < dry_days)\n",
        "t_stat, p_val = ttest_ind(rainy_days, dry_days,\n",
        "                          equal_var=equal_var,\n",
        "                          alternative='less')  # Directly get one-tailed p-value\n",
        "# Results\n",
        "print(\"\\nHypothesis 2: Rainfall Impact on Rentals\")\n",
        "print(f\"T-Statistic: {t_stat:.4f}, P-Value (one-tailed): {p_val:.4f}\")\n",
        "\n",
        "alpha = 0.05 # Define value of alpha\n",
        "if p_val < alpha:\n",
        "    print(\"Conclusion: Reject H₀ → Rainfall significantly reduces bike rentals (p < 0.05).\")\n",
        "else:\n",
        "    print(\"Conclusion: Fail to reject H₀ → No significant reduction in rentals due to rainfall.\")"
      ],
      "metadata": {
        "id": "sWxdNTXNpUZe"
      },
      "execution_count": null,
      "outputs": []
    },
    {
      "cell_type": "markdown",
      "source": [
        "##### Which statistical test have you done to obtain P-Value?"
      ],
      "metadata": {
        "id": "dEUvejAfpUZe"
      }
    },
    {
      "cell_type": "markdown",
      "source": [
        "We performed an Independent Samples t-test (one-tailed Student’s t-test) to test whether bike rentals on rainy days are significantly lower than on dry days.\n",
        "Before applying the t-test, we also used Levene’s Test to check if the variances between the two groups (rainy vs. dry days) are equal."
      ],
      "metadata": {
        "id": "oLDrPz7HpUZf"
      }
    },
    {
      "cell_type": "markdown",
      "source": [
        "##### Why did you choose the specific statistical test?"
      ],
      "metadata": {
        "id": "Fd15vwWVpUZf"
      }
    },
    {
      "cell_type": "markdown",
      "source": [
        "We chose the t-test because:\n",
        "\n",
        "- We are comparing the means of two independent groups:\n",
        "\n",
        "  - rainy_days: days with rainfall (Rainfallmm > 0)\n",
        "\n",
        "  - dry_days: days without rainfall (Rainfallmm = 0)\n",
        "\n",
        "- The dependent variable is Rented_Bike_Count, which is continuous and the sample size is large enough for the Central Limit Theorem to hold.\n",
        "\n",
        "- The assumption of equal variances was tested using Levene’s Test, which returned p < 0.05, so unequal variance t-test was applied.\n",
        "\n",
        "- Since the hypothesis was directional (expecting fewer rentals on rainy days), a one-tailed t-test was used (alternative='less' in ttest_ind).\n",
        "\n",
        "-------------------------------------------------------------------------------\n",
        "\n",
        "This test is appropriate because:\n",
        "\n",
        "- The samples are independent (different days).\n",
        "\n",
        "- We're testing a hypothesized decrease in rentals on rainy days.\n",
        "\n",
        "- With large sample sizes (n=528 for rainy, n=8232 for dry), the t-test is robust even if the data is slightly non-normal."
      ],
      "metadata": {
        "id": "4xOGYyiBpUZf"
      }
    },
    {
      "cell_type": "markdown",
      "source": [
        "### Hypothetical Statement - 3"
      ],
      "metadata": {
        "id": "bn_IUdTipZyH"
      }
    },
    {
      "cell_type": "markdown",
      "source": [
        "#### 1. State Your research hypothesis as a null hypothesis and alternate hypothesis."
      ],
      "metadata": {
        "id": "49K5P_iCpZyH"
      }
    },
    {
      "cell_type": "markdown",
      "source": [
        "**Hypothesis 3: Relationship Between Solar Radiation and Rentals**\n",
        "\n",
        "- **Null Hypothesis (H₀):** There is no correlation between Solar_Radiation_MJ_per_m2 and Rented_Bike_Count.\n",
        "\n",
        "- **Alternative Hypothesis (H₁):** There is a positive correlation between solar radiation and number of bikes rented."
      ],
      "metadata": {
        "id": "7gWI5rT9pZyH"
      }
    },
    {
      "cell_type": "markdown",
      "source": [
        "#### 2. Perform an appropriate statistical test."
      ],
      "metadata": {
        "id": "Nff-vKELpZyI"
      }
    },
    {
      "cell_type": "code",
      "source": [
        "# Perform Statistical Test to obtain P-Value\n",
        "\n",
        "# Import necessary libraries\n",
        "from scipy.stats import pearsonr\n",
        "\n",
        "# Extract variables\n",
        "solar = df_copy['Solar_Radiation_MJ_per_m2']\n",
        "rentals = df_copy['Rented_Bike_Count']\n",
        "\n",
        "# 1. Visual check for linear relationship\n",
        "plt.figure(figsize=(10, 6))\n",
        "sns.scatterplot(x=solar, y=rentals, alpha=0.5)\n",
        "plt.title('Bike Rentals vs Solar Radiation')\n",
        "plt.xlabel('Solar Radiation (MJ/m²)')\n",
        "plt.ylabel('Bikes Rented')\n",
        "plt.grid(True)\n",
        "plt.show()\n",
        "\n",
        "# 2. Normality check\n",
        "# For large samples (>500), Pearson is robust to non-normality\n",
        "\n",
        "# 3. Pearson correlation test\n",
        "corr_coef, p_value = pearsonr(solar, rentals)\n",
        "\n",
        "# 4. Results\n",
        "print(\"\\nHypothesis 3: Solar Radiation and Bike Rentals\")\n",
        "print(f\"Pearson r: {corr_coef:.3f}\")\n",
        "print(f\"P-value: {p_value:.5f}\")\n",
        "\n",
        "# Determine significance\n",
        "alpha = 0.05\n",
        "if p_value < alpha and corr_coef > 0:\n",
        "    print(\"Conclusion: Reject H₀ → Significant positive correlation (p < 0.05)\")\n",
        "elif p_value < alpha and corr_coef < 0:\n",
        "    print(\"Conclusion: Reject H₀ → Significant negative correlation (p < 0.05)\")\n",
        "else:\n",
        "    print(\"Conclusion: Fail to reject H₀ → No significant correlation\")\n"
      ],
      "metadata": {
        "id": "s6AnJQjtpZyI"
      },
      "execution_count": null,
      "outputs": []
    },
    {
      "cell_type": "markdown",
      "source": [
        "##### Which statistical test have you done to obtain P-Value?"
      ],
      "metadata": {
        "id": "kLW572S8pZyI"
      }
    },
    {
      "cell_type": "markdown",
      "source": [
        "We used the Pearson correlation test to calculate the correlation coefficient (r) and corresponding P-value between:\n",
        "\n",
        "- Solar Radiation (Solar_Radiation_MJ_per_m2)\n",
        "\n",
        "- Rented Bike Count (Rented_Bike_Count)\n",
        "\n"
      ],
      "metadata": {
        "id": "ytWJ8v15pZyI"
      }
    },
    {
      "cell_type": "markdown",
      "source": [
        "##### Why did you choose the specific statistical test?"
      ],
      "metadata": {
        "id": "dWbDXHzopZyI"
      }
    },
    {
      "cell_type": "markdown",
      "source": [
        "The Pearson correlation was chosen because:\n",
        "\n",
        "- Both variables involved (Solar Radiation and Bike Rentals) are continuous numeric variables.\n",
        "\n",
        "- The goal is to measure the strength and direction of a linear relationship between these two variables.\n",
        "\n",
        "- Pearson's test is appropriate when checking for linear correlation.\n",
        "\n",
        "- Though normality is generally preferred, the dataset is large enough (>500 records) to make Pearson's test robust, even if there are mild deviations from normality.\n",
        "\n",
        "- A scatter plot was also generated as a visual confirmation of a potential linear trend.\n",
        "\n",
        "**The result showed:**\n",
        "\n",
        "- Correlation coefficient (r) = 0.262, indicating a weak positive linear relationship\n",
        "\n",
        "- P-value < 0.00001, confirming the relationship is statistically significant at the 5% level."
      ],
      "metadata": {
        "id": "M99G98V6pZyI"
      }
    },
    {
      "cell_type": "markdown",
      "source": [
        "## ***6. Feature Engineering & Data Pre-processing***"
      ],
      "metadata": {
        "id": "yLjJCtPM0KBk"
      }
    },
    {
      "cell_type": "markdown",
      "source": [
        "### 1. Handling Missing Values"
      ],
      "metadata": {
        "id": "xiyOF9F70UgQ"
      }
    },
    {
      "cell_type": "code",
      "source": [
        "# Handling Missing Values & Missing Value Imputation\n",
        "df_copy.isnull().sum().rename('Count of Missing Values').sort_values(ascending=False)"
      ],
      "metadata": {
        "id": "iRsAHk1K0fpS"
      },
      "execution_count": null,
      "outputs": []
    },
    {
      "cell_type": "markdown",
      "source": [
        "#### What all missing value imputation techniques have you used and why did you use those techniques?"
      ],
      "metadata": {
        "id": "7wuGOrhz0itI"
      }
    },
    {
      "cell_type": "markdown",
      "source": [
        "As part of the initial data preprocessing, I checked the dataset for any missing values using df.isnull().sum() and confirmed that there are no missing values present in any column. Therefore, no missing value imputation techniques were required."
      ],
      "metadata": {
        "id": "1ixusLtI0pqI"
      }
    },
    {
      "cell_type": "markdown",
      "source": [
        "### 2. Handling Outliers"
      ],
      "metadata": {
        "id": "id1riN9m0vUs"
      }
    },
    {
      "cell_type": "code",
      "source": [
        "# Detect outliers\n",
        "outliers_iqr = {} # Dict for storing total number of outliers per column\n",
        "\n",
        "for col in numerical_cols: # choose numerical columns\n",
        "    Q1 = df_copy[col].quantile(0.25) # 25th percentile of data\n",
        "    Q3 = df_copy[col].quantile(0.75) # 75th percentile of data\n",
        "    IQR = Q3 - Q1 # Inter quantile range\n",
        "    lower = Q1 - 1.5 * IQR # Lower boundary\n",
        "    upper = Q3 + 1.5 * IQR # upper boundary\n",
        "    outliers = df_copy[(df_copy[col] < lower) | (df_copy[col] > upper)]\n",
        "    outliers_iqr[col] = outliers.shape[0]\n",
        "\n",
        "# Print number of outliers per column\n",
        "print(\"Outlier counts per column (using IQR):\")\n",
        "for k, v in outliers_iqr.items():\n",
        "    print(f\"{k}: {v}\")\n"
      ],
      "metadata": {
        "id": "TQI8o0yFE8ZQ"
      },
      "execution_count": null,
      "outputs": []
    },
    {
      "cell_type": "code",
      "source": [
        "# Handling outliers with capping\n",
        "def cap_outliers(col):\n",
        "    Q1 = df_copy[col].quantile(0.25) # 25th percentile of data\n",
        "    Q3 = df_copy[col].quantile(0.75) # 75th percentile of data\n",
        "    IQR = Q3 - Q1 # Inter Quantile Range\n",
        "    lower = Q1 - 1.5 * IQR # Lower boundary\n",
        "    upper = Q3 + 1.5 * IQR # Upper boundary\n",
        "    df_copy[col] = np.where(df_copy[col] < lower, lower,\n",
        "                    np.where(df_copy[col] > upper, upper, df_copy[col])) # Capping to outliers\n",
        "\n",
        "# Apply to relevant columns\n",
        "cap_outliers('Rented_Bike_Count')\n",
        "cap_outliers('Wind_speed_m_per_s')\n",
        "cap_outliers('Solar_Radiation_MJ_per_m2')\n"
      ],
      "metadata": {
        "id": "YI-qR4Q3OihL"
      },
      "execution_count": null,
      "outputs": []
    },
    {
      "cell_type": "markdown",
      "source": [
        "##### What all outlier treatment techniques have you used and why did you use those techniques?"
      ],
      "metadata": {
        "id": "578E2V7j08f6"
      }
    },
    {
      "cell_type": "markdown",
      "source": [
        "# **Outlier Treatment Techniques Used**\n",
        "\n",
        "Outlier handling was performed using the capping method based on the Interquartile Range (IQR). Specifically, for the variables Rented_Bike_Count, Wind_speed_m_per_s, and Solar_Radiation_MJ_per_m2, we applied IQR-based capping:\n",
        "\n",
        "- We calculated the 25th (Q1) and 75th percentile (Q3) to determine the IQR (Q3 − Q1).\n",
        "\n",
        "- Any data point below Q1 − 1.5×IQR or above Q3 + 1.5×IQR was considered a potential outlier.\n",
        "\n",
        "- These outliers were then capped at the respective lower or upper bound to preserve data structure while reducing the impact of extreme values.\n",
        "\n",
        "**✅ Why this technique?**\n",
        "\n",
        "- Capping preserves the size of the dataset and reduces distortion in statistical models and visualizations caused by extreme values, without removing potentially informative records. It’s especially helpful in continuous variables where extreme values are not errors but rare events.\n",
        "\n",
        "# **Note on Rainfall and Snowfall Variables**\n",
        "\n",
        "We intentionally chose not to apply any outlier treatment to the Rainfall_mm and Snowfall_cm columns. These features represent natural phenomena, where occasional extreme values (such as heavy rainfall or snowfall days) are expected and carry meaningful information for seasonal and weather-related analysis.\n",
        "\n",
        "Instead of capping or removing, we plan to apply log transformation to these variables later in the pipeline to:\n",
        "\n",
        "- Reduce skewness in their distributions, and\n",
        "\n",
        "- Mitigate the impact of large values while preserving their influence in modeling."
      ],
      "metadata": {
        "id": "uGZz5OrT1HH-"
      }
    },
    {
      "cell_type": "markdown",
      "source": [
        "### 3. Categorical Encoding"
      ],
      "metadata": {
        "id": "89xtkJwZ18nB"
      }
    },
    {
      "cell_type": "code",
      "source": [
        "# Encode your categorical columns\n",
        "\n",
        "# -----------------------\n",
        "# 1. Binary Encoding\n",
        "# -----------------------\n",
        "binary_map = {\n",
        "    'Holiday': {'No Holiday': 0, 'Holiday': 1},\n",
        "    'Functioning_Day': {'No': 0, 'Yes': 1},\n",
        "    'rain_condition': {'no_rain': 0, 'rain': 1},\n",
        "    'snow_condition': {'no_snow': 0, 'snow': 1},\n",
        "    'sun_condition': {'cloudy': 0, 'sunny': 1}\n",
        "}\n",
        "\n",
        "# Apply the mapping\n",
        "df_copy.replace(binary_map, inplace=True)\n",
        "\n",
        "# Apply One-Hot Encoding to specified categorical columns\n",
        "\n",
        "# Select the categorical columns\n",
        "categorical_cols = ['temperature_category', 'Seasons']\n",
        "\n",
        "# Initialize OneHotEncoder\n",
        "encoder = OneHotEncoder()\n",
        "\n",
        "# Fit and transform the categorical data\n",
        "encoded_array = encoder.fit_transform(df_copy[categorical_cols]).toarray()\n",
        "\n",
        "# Get encoded feature names\n",
        "encoded_feature_names = encoder.get_feature_names_out(categorical_cols)\n",
        "\n",
        "# Create a DataFrame from the encoded array\n",
        "encoded_df = pd.DataFrame(encoded_array, columns=encoded_feature_names, index=df_copy.index)\n",
        "\n",
        "# Drop the original categorical columns and concatenate the encoded columns\n",
        "df_encoded = pd.concat([df_copy.drop(columns=categorical_cols), encoded_df], axis=1)\n",
        "\n",
        "# Display the new shape and column names\n",
        "print(\"Original shape:\", df_copy.shape)\n",
        "print(\"Encoded shape:\", df_encoded.shape)\n",
        "print(\"Encoded columns:\", encoded_feature_names)\n",
        "\n",
        "df_encoded.head()"
      ],
      "metadata": {
        "id": "21JmIYMG2hEo"
      },
      "execution_count": null,
      "outputs": []
    },
    {
      "cell_type": "markdown",
      "source": [
        "#### What all categorical encoding techniques have you used & why did you use those techniques?"
      ],
      "metadata": {
        "id": "67NQN5KX2AMe"
      }
    },
    {
      "cell_type": "markdown",
      "source": [
        "In the preprocessing phase, categorical features were encoded based on their cardinality and contextual meaning. Binary features such as Holiday, Functioning_Day, rain_condition, snow_condition, and sun_condition were encoded using binary encoding (0/1), as they each contained only two unique categories. This helped preserve simplicity and avoid unnecessary dimensional expansion.\n",
        "\n",
        "For features with more than two categories, such as season and temperature_category, one-hot encoding was applied using OneHotEncoder from sklearn.preprocessing. This approach ensured that no artificial ordinal relationship was introduced among the categories, which is crucial for maintaining the integrity of input features in a regression model.\n",
        "\n",
        "This encoding strategy ensured that all categorical variables were appropriately transformed into numerical format while preserving model interpretability and minimizing dimensionality. After encoding, the total number of columns increased from 22 to 27 — a manageable increase that is well-suited for most machine learning algorithms.\n",
        "\n"
      ],
      "metadata": {
        "id": "UDaue5h32n_G"
      }
    },
    {
      "cell_type": "markdown",
      "source": [
        "### 4. Textual Data Preprocessing\n",
        "(It's mandatory for textual dataset i.e., NLP, Sentiment Analysis, Text Clustering etc.)"
      ],
      "metadata": {
        "id": "Iwf50b-R2tYG"
      }
    },
    {
      "cell_type": "markdown",
      "source": [
        "#### 1. Expand Contraction"
      ],
      "metadata": {
        "id": "GMQiZwjn3iu7"
      }
    },
    {
      "cell_type": "code",
      "source": [
        "# Expand Contraction"
      ],
      "metadata": {
        "id": "PTouz10C3oNN"
      },
      "execution_count": null,
      "outputs": []
    },
    {
      "cell_type": "markdown",
      "source": [
        "#### 2. Lower Casing"
      ],
      "metadata": {
        "id": "WVIkgGqN3qsr"
      }
    },
    {
      "cell_type": "code",
      "source": [
        "# Lower Casing"
      ],
      "metadata": {
        "id": "88JnJ1jN3w7j"
      },
      "execution_count": null,
      "outputs": []
    },
    {
      "cell_type": "markdown",
      "source": [
        "#### 3. Removing Punctuations"
      ],
      "metadata": {
        "id": "XkPnILGE3zoT"
      }
    },
    {
      "cell_type": "code",
      "source": [
        "# Remove Punctuations"
      ],
      "metadata": {
        "id": "vqbBqNaA33c0"
      },
      "execution_count": null,
      "outputs": []
    },
    {
      "cell_type": "markdown",
      "source": [
        "#### 4. Removing URLs & Removing words and digits contain digits."
      ],
      "metadata": {
        "id": "Hlsf0x5436Go"
      }
    },
    {
      "cell_type": "code",
      "source": [
        "# Remove URLs & Remove words and digits contain digits"
      ],
      "metadata": {
        "id": "2sxKgKxu4Ip3"
      },
      "execution_count": null,
      "outputs": []
    },
    {
      "cell_type": "markdown",
      "source": [
        "#### 5. Removing Stopwords & Removing White spaces"
      ],
      "metadata": {
        "id": "mT9DMSJo4nBL"
      }
    },
    {
      "cell_type": "code",
      "source": [
        "# Remove Stopwords"
      ],
      "metadata": {
        "id": "T2LSJh154s8W"
      },
      "execution_count": null,
      "outputs": []
    },
    {
      "cell_type": "code",
      "source": [
        "# Remove White spaces"
      ],
      "metadata": {
        "id": "EgLJGffy4vm0"
      },
      "execution_count": null,
      "outputs": []
    },
    {
      "cell_type": "markdown",
      "source": [
        "#### 6. Rephrase Text"
      ],
      "metadata": {
        "id": "c49ITxTc407N"
      }
    },
    {
      "cell_type": "code",
      "source": [
        "# Rephrase Text"
      ],
      "metadata": {
        "id": "foqY80Qu48N2"
      },
      "execution_count": null,
      "outputs": []
    },
    {
      "cell_type": "markdown",
      "source": [
        "#### 7. Tokenization"
      ],
      "metadata": {
        "id": "OeJFEK0N496M"
      }
    },
    {
      "cell_type": "code",
      "source": [
        "# Tokenization"
      ],
      "metadata": {
        "id": "ijx1rUOS5CUU"
      },
      "execution_count": null,
      "outputs": []
    },
    {
      "cell_type": "markdown",
      "source": [
        "#### 8. Text Normalization"
      ],
      "metadata": {
        "id": "9ExmJH0g5HBk"
      }
    },
    {
      "cell_type": "code",
      "source": [
        "# Normalizing Text (i.e., Stemming, Lemmatization etc.)"
      ],
      "metadata": {
        "id": "AIJ1a-Zc5PY8"
      },
      "execution_count": null,
      "outputs": []
    },
    {
      "cell_type": "markdown",
      "source": [
        "##### Which text normalization technique have you used and why?"
      ],
      "metadata": {
        "id": "cJNqERVU536h"
      }
    },
    {
      "cell_type": "markdown",
      "source": [],
      "metadata": {
        "id": "Z9jKVxE06BC1"
      }
    },
    {
      "cell_type": "markdown",
      "source": [
        "#### 9. Part of speech tagging"
      ],
      "metadata": {
        "id": "k5UmGsbsOxih"
      }
    },
    {
      "cell_type": "code",
      "source": [
        "# POS Taging"
      ],
      "metadata": {
        "id": "btT3ZJBAO6Ik"
      },
      "execution_count": null,
      "outputs": []
    },
    {
      "cell_type": "markdown",
      "source": [
        "#### 10. Text Vectorization"
      ],
      "metadata": {
        "id": "T0VqWOYE6DLQ"
      }
    },
    {
      "cell_type": "code",
      "source": [
        "# Vectorizing Text"
      ],
      "metadata": {
        "id": "yBRtdhth6JDE"
      },
      "execution_count": null,
      "outputs": []
    },
    {
      "cell_type": "markdown",
      "source": [
        "##### Which text vectorization technique have you used and why?"
      ],
      "metadata": {
        "id": "qBMux9mC6MCf"
      }
    },
    {
      "cell_type": "markdown",
      "source": [
        "Answer Here."
      ],
      "metadata": {
        "id": "su2EnbCh6UKQ"
      }
    },
    {
      "cell_type": "markdown",
      "source": [
        "### 4. Feature Manipulation & Selection"
      ],
      "metadata": {
        "id": "-oLEiFgy-5Pf"
      }
    },
    {
      "cell_type": "markdown",
      "source": [
        "#### 1. Feature Manipulation"
      ],
      "metadata": {
        "id": "C74aWNz2AliB"
      }
    },
    {
      "cell_type": "code",
      "source": [
        "# Manipulate Features to minimize feature correlation and create new features"
      ],
      "metadata": {
        "id": "h1qC4yhBApWC"
      },
      "execution_count": null,
      "outputs": []
    },
    {
      "cell_type": "markdown",
      "source": [
        "**Feature Manipulation :**\n",
        "\n",
        "During the data wrangling phase, several new features were engineered to enhance the dataset and support meaningful analysis. These features were derived based on domain knowledge and exploratory insights, focusing primarily on weather conditions and temporal characteristics.\n",
        "\n",
        "**1. Weather-Based Features :**\n",
        "\n",
        "To better understand the impact of weather on bike rentals, the following categorical features were created:\n",
        "\n",
        "- rain_condition: Indicates whether it was a rainy or non-rainy day.\n",
        "\n",
        "- snow_condition: Identifies the presence or absence of snowfall.\n",
        "\n",
        "- sun_condition: Differentiates between sunny and cloudy conditions.\n",
        "\n",
        "- temperature_category: Categorizes temperature into bands such as cold, moderate, and hot to capture non-linear effects.\n",
        "\n",
        "These transformations help in simplifying the analysis and enabling meaningful comparisons across different weather scenarios.\n",
        "\n",
        "**2. Time-Based Features :**\n",
        "\n",
        "To capture daily, weekly, and seasonal patterns in rental behavior, several time-derived features were extracted from the datetime column:\n",
        "\n",
        "- Day: Numerical day of the month.\n",
        "\n",
        "- Month: Extracted to observe monthly trends in rentals.\n",
        "\n",
        "- Weekday: Indicates the day of the week (e.g., Monday to Sunday).\n",
        "\n",
        "- Weekend: A binary feature distinguishing weekends from weekdays.\n",
        "\n",
        "These temporal features enable deeper insights into how bike rentals vary by date, season, and working vs. non-working days.\n",
        "\n"
      ],
      "metadata": {
        "id": "FdCEai0G8FM2"
      }
    },
    {
      "cell_type": "markdown",
      "source": [
        "#### 2. Feature Selection"
      ],
      "metadata": {
        "id": "2DejudWSA-a0"
      }
    },
    {
      "cell_type": "code",
      "source": [
        "# Select your features wisely to avoid overfitting\n",
        "\n",
        "# 1. Using correlation matrix for checking correlation\n",
        "# Select only numerical columns for correlation\n",
        "numerical_cols = df_copy.select_dtypes(include='number')\n",
        "\n",
        "# Calculate correlation matrix\n",
        "corr_matrix = numerical_cols.corr()\n",
        "\n",
        "# Plot the heatmap\n",
        "plt.figure(figsize=(12, 8)) # Fix the plot size\n",
        "sns.heatmap(corr_matrix, annot=True, cmap='coolwarm', fmt=\".2f\", linewidths=0.5)\n",
        "plt.title('Correlation Heatmap of Numerical Features', fontsize=16) # set the title\n",
        "plt.yticks(rotation=0)\n",
        "plt.tight_layout() # adjust layout\n",
        "plt.show()\n"
      ],
      "metadata": {
        "id": "YLhe8UmaBCEE"
      },
      "execution_count": null,
      "outputs": []
    },
    {
      "cell_type": "code",
      "source": [
        "# 2. Using VIF\n",
        "# Importing necessary libraries\n",
        "from statsmodels.stats.outliers_influence import variance_inflation_factor\n",
        "from statsmodels.tools.tools import add_constant\n",
        "\n",
        "# Define variables\n",
        "X = df_copy.drop(columns=['Rented_Bike_Count'])  # drop target\n",
        "X_num = X.select_dtypes(include='number') # Select only numerical values\n",
        "X_vif = add_constant(X_num)\n",
        "\n",
        "# Performing VIF\n",
        "vif_data = pd.DataFrame()\n",
        "vif_data['Feature'] = X_vif.columns\n",
        "vif_data['VIF'] = [variance_inflation_factor(X_vif.values, i) for i in range(X_vif.shape[1])]\n",
        "\n",
        "print(vif_data.sort_values(by='VIF', ascending=False))"
      ],
      "metadata": {
        "id": "3xIDnJHd-iZ8"
      },
      "execution_count": null,
      "outputs": []
    },
    {
      "cell_type": "code",
      "source": [
        "# Drop unimportant or collinear features\n",
        "df_copy = df_encoded.drop(columns=['Date',\n",
        "    'Dew_point_temperature_C',\n",
        "    'Humidity',\n",
        "    'Weekend'\n",
        "])\n",
        "print(df_copy.shape)\n",
        "print(df_copy.columns)"
      ],
      "metadata": {
        "id": "YdgL5_Xs-jlM"
      },
      "execution_count": null,
      "outputs": []
    },
    {
      "cell_type": "markdown",
      "source": [
        "##### What all feature selection methods have you used  and why?"
      ],
      "metadata": {
        "id": "pEMng2IbBLp7"
      }
    },
    {
      "cell_type": "markdown",
      "source": [
        "To ensure that only the most relevant and non-redundant features were retained for model building, the following techniques were applied:\n",
        "\n",
        "**1. Correlation Analysis :**\n",
        "- **Purpose:** To assess linear relationships between independent variables and the target variable (Rented_Bike_Count).\n",
        "\n",
        "- **Rationale:** Features with a strong correlation to the target are more likely to contribute useful predictive power.\n",
        "\n",
        "- **Example:**\n",
        "\n",
        "  - Temperature_C showed a high positive correlation (r = 0.54) with bike rentals, indicating that warmer weather increases rental activity.\n",
        "\n",
        "**2. Variance Inflation Factor (VIF) :**\n",
        "- **Purpose:** To detect multicollinearity between predictor variables.\n",
        "\n",
        "- **Rationale:** Multicollinearity can distort the estimation of model coefficients and reduce model interpretability.\n",
        "\n",
        "- **Example:**\n",
        "\n",
        "  - Dew_point_temperature_C had a very high VIF (116) and was therefore removed to reduce redundancy with Temperature_C.\n",
        "\n",
        "**3. Domain Logic and Redundancy Elimination:**\n",
        "\n",
        "- **Purpose:** To remove features that are logically redundant or do not add meaningful variability.\n",
        "\n",
        "- **Rationale:** Simplifies the model and avoids multicollinearity due to inverse or overlapping columns.\n",
        "\n",
        "- **Example:**\n",
        "\n",
        "  - Weekend was dropped because it is inversely related to the Weekday column (i.e., redundant)."
      ],
      "metadata": {
        "id": "rb2Lh6Z8BgGs"
      }
    },
    {
      "cell_type": "markdown",
      "source": [
        "##### Which all features you found important and why?"
      ],
      "metadata": {
        "id": "rAdphbQ9Bhjc"
      }
    },
    {
      "cell_type": "markdown",
      "source": [
        "Based on the results from correlation analysis, VIF scores, and domain understanding, the following features were retained:\n",
        "\n",
        "| **Feature**                    | **Reason for Selection**                                                                  |\n",
        "| ------------------------------ | ----------------------------------------------------------------------------------------- |\n",
        "| `Hour`                         | Moderate positive correlation (r = 0.41); bike usage varies significantly by time of day. |\n",
        "| `Temperature_C`                | Strong positive correlation with bike rentals; warmer weather increases biking activity.  |\n",
        "| `Solar_Radiation_MJ_per_m2`    | Positively correlated; indicates sunny weather which promotes outdoor biking.             |\n",
        "| `Wind_speed_m_per_s`           | Relevant weather factor; moderate correlation and practical influence on biking comfort.  |\n",
        "| `Visibility_10m`               | Affects safety and comfort of riding; retained for potential non-linear relationships.    |\n",
        "| `Rainfallmm` and `Snowfall_cm` | Adverse weather conditions reduce rentals; essential for capturing drops in activity.     |\n",
        "| `Month`                        | Captures seasonal trends that impact rental behavior.                                     |\n",
        "| `Weekday`                      | Differentiates between workdays and weekends; retained to reflect usage patterns.         |\n"
      ],
      "metadata": {
        "id": "fGgaEstsBnaf"
      }
    },
    {
      "cell_type": "markdown",
      "source": [
        "### 5. Data Transformation"
      ],
      "metadata": {
        "id": "TNVZ9zx19K6k"
      }
    },
    {
      "cell_type": "markdown",
      "source": [
        "#### Do you think that your data needs to be transformed? If yes, which transformation have you used. Explain Why?"
      ],
      "metadata": {
        "id": "nqoHp30x9hH9"
      }
    },
    {
      "cell_type": "markdown",
      "source": [
        "Several features including Rented_Bike_Count, Wind_speed_m_per_s, Solar_Radiation_MJ_per_m2, Rainfallmm, and Snowfall_cm showed strong right-skewness based on distribution plots. To normalize their distributions and improve model performance, especially for models sensitive to skewed data, we applied log1p transformation. This technique handles zero values and helps reduce the influence of outliers, thereby stabilizing variance and making the data more suitable for regression algorithms."
      ],
      "metadata": {
        "id": "zXfxt_G_CpqA"
      }
    },
    {
      "cell_type": "code",
      "source": [
        "# Transform Your data\n",
        "# Applying log transformation with log1p (log(1 + x)) to handle zeros\n",
        "cols_to_transform = [\n",
        "    'Rented_Bike_Count',\n",
        "    'Wind_speed_m_per_s',\n",
        "    'Solar_Radiation_MJ_per_m2',\n",
        "    'Rainfallmm',\n",
        "    'Snowfall_cm'\n",
        "] # Columns to transformed\n",
        "\n",
        "df_transformed = df_copy.copy() # saving a new dataframe as df_transformed\n",
        "for col in cols_to_transform:\n",
        "    df_transformed[col] = np.log1p(df_transformed[col])\n",
        "\n",
        "df_transformed.head()"
      ],
      "metadata": {
        "id": "I6quWQ1T9rtH"
      },
      "execution_count": null,
      "outputs": []
    },
    {
      "cell_type": "markdown",
      "source": [
        "### 6. Data Scaling"
      ],
      "metadata": {
        "id": "rMDnDkt2B6du"
      }
    },
    {
      "cell_type": "code",
      "source": [
        "# Scaling your data\n",
        "\n",
        "# Columns to standardize\n",
        "cols_to_standardize = [\n",
        "    'Temperature_C',\n",
        "    'Visibility_10m'\n",
        "]\n",
        " # Applying standard scaler on data\n",
        "scaler = StandardScaler()\n",
        "df_scaled = df_transformed # Assign df_scaled to df_copy\n",
        "df_scaled[cols_to_standardize] = scaler.fit_transform(df_transformed[cols_to_standardize])\n",
        "df_scaled.head()"
      ],
      "metadata": {
        "id": "dL9LWpySC6x_"
      },
      "execution_count": null,
      "outputs": []
    },
    {
      "cell_type": "markdown",
      "source": [
        "##### Which method have you used to scale you data and why?"
      ],
      "metadata": {
        "id": "yiiVWRdJDDil"
      }
    },
    {
      "cell_type": "markdown",
      "source": [
        "Based on distribution analysis, we identified that some features—such as Temperature_C and Visibility_10m—were not highly skewed but had varying ranges. To ensure uniform scaling and improve model performance, especially for distance-based and gradient-based algorithms, we used StandardScaler, which transforms the features to have zero mean and unit variance. This helps in stabilizing the learning process and ensuring that all features contribute equally to the model."
      ],
      "metadata": {
        "id": "HMMAsmE4EC2o"
      }
    },
    {
      "cell_type": "markdown",
      "source": [
        "### 7. Dimesionality Reduction"
      ],
      "metadata": {
        "id": "1UUpS68QDMuG"
      }
    },
    {
      "cell_type": "markdown",
      "source": [
        "##### Do you think that dimensionality reduction is needed? Explain Why?"
      ],
      "metadata": {
        "id": "kexQrXU-DjzY"
      }
    },
    {
      "cell_type": "markdown",
      "source": [
        "In this Dataset, dimensionality reduction was not strictly necessary due to the manageable number of final features (24) after performing proper feature selection, transformation, and encoding.\n",
        "\n",
        "However, the following considerations were made:\n",
        "\n",
        "- **Low Dimensionality:** The dataset, after processing, contains a moderate number of features, which most machine learning models can handle effectively without performance degradation.\n",
        "\n",
        "- **Interpretability Priority:** Since the project aims to generate insights and actionable recommendations, maintaining feature interpretability is crucial. Dimensionality reduction techniques like PCA or t-SNE produce transformed features that are not easily interpretable.\n",
        "\n",
        "- **Efficient Feature Engineering:** Feature selection was already performed using techniques such as correlation analysis, VIF, and domain logic, which reduced redundancy and multicollinearity.\n",
        "\n",
        "**Conclusion:**\n",
        "Dimensionality reduction is not required in this case. The current set of features is already optimized for both model performance and interpretability. However, techniques like PCA may be explored in future iterations if training efficiency becomes a concern or for visualizing high-dimensional data."
      ],
      "metadata": {
        "id": "GGRlBsSGDtTQ"
      }
    },
    {
      "cell_type": "code",
      "source": [
        "# DImensionality Reduction (If needed)"
      ],
      "metadata": {
        "id": "kQfvxBBHDvCa"
      },
      "execution_count": null,
      "outputs": []
    },
    {
      "cell_type": "markdown",
      "source": [
        "##### Which dimensionality reduction technique have you used and why? (If dimensionality reduction done on dataset.)"
      ],
      "metadata": {
        "id": "T5CmagL3EC8N"
      }
    },
    {
      "cell_type": "markdown",
      "source": [
        "Answer Here."
      ],
      "metadata": {
        "id": "ZKr75IDuEM7t"
      }
    },
    {
      "cell_type": "markdown",
      "source": [
        "### 8. Data Splitting"
      ],
      "metadata": {
        "id": "BhH2vgX9EjGr"
      }
    },
    {
      "cell_type": "code",
      "source": [
        "# Split the data\n",
        "# Define features and target\n",
        "x = df_scaled.drop(columns=['Rented_Bike_Count'])  # features\n",
        "y = df_scaled['Rented_Bike_Count']                # target variable\n",
        "\n",
        "# Perform the 80:20 split\n",
        "x_train, x_test, y_train, y_test = train_test_split(\n",
        "    x, y,\n",
        "    test_size=0.2,        # 20% for testing\n",
        "    random_state=42,      # for reproducibility\n",
        "    shuffle=True          # random shuffle\n",
        ")\n",
        "\n",
        "# Output shapes\n",
        "print(\"Training features shape:\", x_train.shape)\n",
        "print(\"Testing features shape:\", x_test.shape)\n",
        "print(\"Training target shape:\", y_train.shape)\n",
        "print(\"Testing target shape:\", y_test.shape)"
      ],
      "metadata": {
        "id": "F7K3DqwPmOlm"
      },
      "execution_count": null,
      "outputs": []
    },
    {
      "cell_type": "markdown",
      "source": [
        "##### What data splitting ratio have you used and why?"
      ],
      "metadata": {
        "id": "qjKvONjwE8ra"
      }
    },
    {
      "cell_type": "markdown",
      "source": [
        "We used an 80:20 train-test split strategy for dividing the dataset:\n",
        "\n",
        "- Training Set: 80% of the data (7,008 rows)\n",
        "\n",
        "- Testing Set: 20% of the data (1,752 rows)\n",
        "\n",
        "Why this approach?\n",
        "\n",
        "- **Feature Dependency:** The model’s performance primarily depends on weather-related features like temperature, rainfall, snowfall, and season — not on time progression or sequential order.\n",
        "\n",
        "- **No Strong Temporal Dependency:** The target variable (Rented_Bike_Count) shows more correlation with daily/seasonal patterns than with time-series trends, so random sampling does not disrupt the data logic.\n",
        "\n",
        "- **Model Generalization:** Random splitting ensures the training and testing sets have diverse seasonal and weather conditions, allowing the model to generalize well across varying scenarios."
      ],
      "metadata": {
        "id": "Y2lJ8cobFDb_"
      }
    },
    {
      "cell_type": "markdown",
      "source": [
        "### 9. Handling Imbalanced Dataset"
      ],
      "metadata": {
        "id": "P1XJ9OREExlT"
      }
    },
    {
      "cell_type": "markdown",
      "source": [
        "##### Do you think the dataset is imbalanced? Explain Why."
      ],
      "metadata": {
        "id": "VFOzZv6IFROw"
      }
    },
    {
      "cell_type": "markdown",
      "source": [
        "No—this dataset cannot be considered “imbalanced” in the usual sense, because:\n",
        "\n",
        "**1. Regression Task vs. Classification Task**\n",
        "\n",
        "- Our target variable, Rented_Bike_Count, is continuous, not categorical.\n",
        "\n",
        "- “Class imbalance” refers to classification problems (e.g. 90% of samples in one class, 10% in another), which doesn’t apply here.\n",
        "\n",
        "**2. Continuous Distribution of the Target**\n",
        "\n",
        "- Although the rental counts are right-skewed (many low values, fewer very high values), they form a continuous range rather than discrete classes.\n",
        "\n",
        "- A skewed distribution does not imply imbalance; it simply reflects real-world demand variability over hours and seasons.\n",
        "\n",
        "**3. Balanced Representation of Key Categories**\n",
        "\n",
        "- Categorical features such as Seasons, Holiday (Yes/No), and Functioning_Day have sufficient representation in each category (e.g., holidays vs. non-holidays, all four seasons) so that no subgroup is severely under-represented."
      ],
      "metadata": {
        "id": "GeKDIv7pFgcC"
      }
    },
    {
      "cell_type": "code",
      "source": [
        "# Handling Imbalanced Dataset (If needed)"
      ],
      "metadata": {
        "id": "nQsRhhZLFiDs"
      },
      "execution_count": null,
      "outputs": []
    },
    {
      "cell_type": "markdown",
      "source": [
        "##### What technique did you use to handle the imbalance dataset and why? (If needed to be balanced)"
      ],
      "metadata": {
        "id": "TIqpNgepFxVj"
      }
    },
    {
      "cell_type": "markdown",
      "source": [
        "Answer Here."
      ],
      "metadata": {
        "id": "qbet1HwdGDTz"
      }
    },
    {
      "cell_type": "markdown",
      "source": [
        "## ***7. ML Model Implementation***"
      ],
      "metadata": {
        "id": "VfCC591jGiD4"
      }
    },
    {
      "cell_type": "markdown",
      "source": [
        "### ML Model - 1 --> Linear REgression"
      ],
      "metadata": {
        "id": "OB4l2ZhMeS1U"
      }
    },
    {
      "cell_type": "code",
      "source": [
        "# ML Model - 1 Implementation\n",
        "model_lr = LinearRegression()\n",
        "# Fit the Algorithm\n",
        "model_lr.fit(x_train, y_train)\n",
        "# Predict on the model\n",
        "y_pred_lr = model_lr.predict(x_test)\n",
        "\n",
        "# Reverse the log transformation for comparing the result values\n",
        "y_test_original = np.expm1(y_test)\n",
        "y_pred_lr_original = np.expm1(y_pred_lr)\n",
        "\n",
        "# Now compare with actual values\n",
        "results = pd.DataFrame({\n",
        "    'Actual': y_test_original.values,\n",
        "    'Predicted': y_pred_lr_original\n",
        "})\n",
        "print(results.head(20))"
      ],
      "metadata": {
        "id": "7ebyywQieS1U"
      },
      "execution_count": null,
      "outputs": []
    },
    {
      "cell_type": "markdown",
      "source": [
        "#### 1. Explain the ML Model used and it's performance using Evaluation metric Score Chart."
      ],
      "metadata": {
        "id": "ArJBuiUVfxKd"
      }
    },
    {
      "cell_type": "code",
      "source": [
        "# Visualizing evaluation Metric Score chart\n",
        "# 1. Calculate Mean Squared Error\n",
        "mse = mean_squared_error(y_test_original, y_pred_lr_original)\n",
        "# 2. Calculating Mean Absolute Error\n",
        "mae = mean_absolute_error(y_test_original, y_pred_lr_original)\n",
        "# Calculate R-Squared\n",
        "r2 = r2_score(y_test_original, y_pred_lr_original)\n",
        "\n",
        "# 📊 Plotting Metrics\n",
        "plt.figure(figsize=(8, 5)) # Set the size of matrix\n",
        "metrics = {'MSE': mse, 'MAE': mae, 'R²': r2} # Creating a matrix as MSE, MAE, R_squared\n",
        "sns.barplot(x=list(metrics.keys()), y=list(metrics.values()), palette='viridis') # Bar chart for all evaluation values\n",
        "plt.title('Linear Regression Performance Metrics') # Title of bar chart\n",
        "plt.ylabel('Score') # y_lables as result of evaluation matrix\n",
        "plt.ylim(0, max(mse, mae) * 1.2) # Set the y_limit min as 0 and max of each score result\n",
        "plt.grid(True) # Activate grid line\n",
        "plt.show()\n",
        "\n",
        "# 📝 Print results\n",
        "print(\"Linear Regression Evaluation Metrics:\")\n",
        "print(f\"Mean Squared Error (MSE): {mse:.2f}\")\n",
        "print(f\"Mean Absolute Error (MAE): {mae:.2f}\")\n",
        "print(f\"R-squared (R²): {r2:.4f}\")"
      ],
      "metadata": {
        "id": "rqD5ZohzfxKe"
      },
      "execution_count": null,
      "outputs": []
    },
    {
      "cell_type": "markdown",
      "source": [
        "#### 2. Cross- Validation & Hyperparameter Tuning"
      ],
      "metadata": {
        "id": "4qY1EAkEfxKe"
      }
    },
    {
      "cell_type": "code",
      "source": [
        "# ML Model - 1 Implementation with hyperparameter optimization techniques (i.e., GridSearch CV, RandomSearch CV, Bayesian Optimization etc.)\n",
        "\n",
        "# Fit the Algorithm\n",
        "\n",
        "# 🔍 Define Ridge Regression and Hyperparameter Grid\n",
        "ridge = Ridge()\n",
        "param_grid = {'alpha': [0.01, 0.1, 1, 10, 100]}\n",
        "\n",
        "# ⚙️ GridSearchCV for Hyperparameter Optimization\n",
        "grid_search = GridSearchCV(ridge, param_grid, cv=5, scoring='r2')\n",
        "grid_search.fit(x_train, y_train)\n",
        "\n",
        "# ✅ Best Estimator\n",
        "best_ridge = grid_search.best_estimator_\n",
        "print(\"Best alpha:\", grid_search.best_params_['alpha'])\n",
        "\n",
        "# Predict on the model\n",
        "y_pred = best_ridge.predict(x_test)\n",
        "y_pred_original = np.expm1(y_pred)\n",
        "# Evaluation\n",
        "mse = mean_squared_error(y_test_original, y_pred_original)\n",
        "mae = mean_absolute_error(y_test_original, y_pred_original)\n",
        "r2 = r2_score(y_test_original, y_pred_original)\n",
        "\n",
        "print(\"\\n🔍 Ridge Regression Evaluation Metrics with GridSearchCV:\")\n",
        "print(f\"Mean Squared Error (MSE): {mse:.2f}\")\n",
        "print(f\"Mean Absolute Error (MAE): {mae:.2f}\")\n",
        "print(f\"R-squared (R²): {r2:.4f}\")"
      ],
      "metadata": {
        "id": "Dy61ujd6fxKe"
      },
      "execution_count": null,
      "outputs": []
    },
    {
      "cell_type": "markdown",
      "source": [
        "##### Which hyperparameter optimization technique have you used and why?"
      ],
      "metadata": {
        "id": "PiV4Ypx8fxKe"
      }
    },
    {
      "cell_type": "markdown",
      "source": [
        "We used GridSearchCV for hyperparameter tuning in Ridge Regression.\n",
        "\n",
        "**Why GridSearchCV?**\n",
        "\n",
        "- GridSearchCV exhaustively searches over specified hyperparameter values and performs cross-validation to identify the combination that produces the best model performance.\n",
        "It ensures a systematic and robust optimization, especially suitable when the parameter search space is limited.\n",
        "\n",
        "**Parameter Tuned:**\n",
        "\n",
        "- alpha: Controls the regularization strength in Ridge Regression.\n",
        "\n",
        "- Values tested: [0.01, 0.1, 1, 10, 100]\n",
        "\n"
      ],
      "metadata": {
        "id": "negyGRa7fxKf"
      }
    },
    {
      "cell_type": "markdown",
      "source": [
        "##### Have you seen any improvement? Note down the improvement with updates Evaluation metric Score Chart."
      ],
      "metadata": {
        "id": "TfvqoZmBfxKf"
      }
    },
    {
      "cell_type": "markdown",
      "source": [
        "We compared the performance of the baseline Linear Regression model with the optimized Ridge Regression model.\n",
        "\n",
        "| Model                        | MSE       | MAE    | R² Score |\n",
        "| ---------------------------- | --------- | ------ | -------- |\n",
        "| **Linear Regression**        | 168845.87 | 262.25 | 0.5707   |\n",
        "| **Ridge Regression (α=0.1)** | 168872.29 | 262.26 | 0.5706   |\n",
        "\n",
        "\n",
        "-----------------------------------------------------------------------------\n",
        "\n",
        "**Conclusion:**\n",
        "\n",
        "While the Ridge Regression model applied regularization to prevent overfitting, the performance improvement was marginal, with very similar results to the base Linear Regression model.\n",
        "This suggests that multicollinearity was not significantly affecting the original model, or the regularization did not have a strong effect due to optimal linearity in features."
      ],
      "metadata": {
        "id": "OaLui8CcfxKf"
      }
    },
    {
      "cell_type": "markdown",
      "source": [
        "### ML Model - 2 --> Randomforest"
      ],
      "metadata": {
        "id": "dJ2tPlVmpsJ0"
      }
    },
    {
      "cell_type": "code",
      "source": [
        "# ML Model - 3 Implementation\n",
        "model_rf = RandomForestRegressor(random_state=42)\n",
        "# Fit the Algorithm\n",
        "model_rf.fit(x_train, y_train)\n",
        "# Predict on the model\n",
        "y_pred_rf = model_rf.predict(x_test)\n",
        "y_pred_original = np.expm1(y_pred_rf) # Reverse the log transformation\n",
        "\n",
        "# Now compare with actual values\n",
        "results = pd.DataFrame({\n",
        "    'Actual': y_test_original.values,\n",
        "    'Predicted': y_pred_original\n",
        "})\n",
        "results.head(20)"
      ],
      "metadata": {
        "id": "NcaMI0f8z6H9"
      },
      "execution_count": null,
      "outputs": []
    },
    {
      "cell_type": "markdown",
      "source": [
        "#### 1. Explain the ML Model used and it's performance using Evaluation metric Score Chart."
      ],
      "metadata": {
        "id": "JWYfwnehpsJ1"
      }
    },
    {
      "cell_type": "code",
      "source": [
        "# Visualizing evaluation Metric Score chart\n",
        "# Evaluation matrix\n",
        "# 1. Calculate Mean Squared Error\n",
        "mse = mean_squared_error(y_test_original, y_pred_original)\n",
        "# 2. Calculate Mean Absolute Error\n",
        "mae = mean_absolute_error(y_test_original, y_pred_original)\n",
        "# 3. Calculate R-Aquared\n",
        "r2 = r2_score(y_test_original, y_pred_original)\n",
        "\n",
        "# 📊 Plotting Metrics\n",
        "plt.figure(figsize=(8, 5)) # Fix the size of figure\n",
        "metrics = {'MSE': mse, 'MAE': mae, 'R²': r2}\n",
        "sns.barplot(x=list(metrics.keys()), y=list(metrics.values()), palette='viridis')\n",
        "plt.title('Random Forest Regression Performance Metrics') # Title of bar chart\n",
        "plt.ylabel('Score')\n",
        "plt.ylim(0, max(mse, mae) * 1.2)\n",
        "plt.grid(True)\n",
        "plt.show()\n",
        "\n",
        "# 📝 Print results\n",
        "print(\"Random Forest Regression Evaluation Metrics:\")\n",
        "print(f\"Mean Squared Error (MSE): {mse:.2f}\")\n",
        "print(f\"Mean Absolute Error (MAE): {mae:.2f}\")\n",
        "print(f\"R-squared (R²): {r2:.4f}\")"
      ],
      "metadata": {
        "id": "yEl-hgQWpsJ1"
      },
      "execution_count": null,
      "outputs": []
    },
    {
      "cell_type": "markdown",
      "source": [
        "#### 2. Cross- Validation & Hyperparameter Tuning"
      ],
      "metadata": {
        "id": "-jK_YjpMpsJ2"
      }
    },
    {
      "cell_type": "code",
      "source": [
        "# ML Model - 2 Implementation with hyperparameter optimization techniques (i.e., GridSearch CV, RandomSearch CV, Bayesian Optimization etc.)\n",
        "\n",
        "# Define Random Forest Regressor and Hyperparameter Grid\n",
        "rf = RandomForestRegressor(random_state=42)\n",
        "param_grid = {\n",
        "    'n_estimators': [100, 200],\n",
        "    'max_depth': [None, 10, 20],\n",
        "    'min_samples_split': [2, 5],\n",
        "    'min_samples_leaf': [1, 2]\n",
        "}\n",
        "# Fit the Algorithm\n",
        "\n",
        "# ⚙️ GridSearchCV for Hyperparameter Optimization\n",
        "grid_search_rf = GridSearchCV(rf, param_grid, cv=3, scoring='r2', n_jobs=-1)\n",
        "grid_search_rf.fit(x_train, y_train)\n",
        "\n",
        "# Best Estimator\n",
        "best_rf = grid_search_rf.best_estimator_\n",
        "print(\"Best Parameters:\", grid_search_rf.best_params_)\n",
        "\n",
        "# Predict on the model\n",
        "y_pred_rf = best_rf.predict(x_test)\n",
        "y_pred_rf_original = np.expm1(y_pred_rf) # Reverse log transformation\n",
        "\n",
        "# Evaluation\n",
        "mse_rf = mean_squared_error(y_test_original, y_pred_rf_original)\n",
        "mae_rf = mean_absolute_error(y_test_original, y_pred_rf_original)\n",
        "r2_rf = r2_score(y_test_original, y_pred_rf_original)\n",
        "\n",
        "print(\"\\n🌳 Random Forest Regression Evaluation Metrics with GridSearchCV:\")\n",
        "print(f\"Mean Squared Error (MSE): {mse_rf:.2f}\")\n",
        "print(f\"Mean Absolute Error (MAE): {mae_rf:.2f}\")\n",
        "print(f\"R-squared (R²): {r2_rf:.4f}\")\n"
      ],
      "metadata": {
        "id": "Dn0EOfS6psJ2"
      },
      "execution_count": null,
      "outputs": []
    },
    {
      "cell_type": "markdown",
      "source": [
        "##### Which hyperparameter optimization technique have you used and why?"
      ],
      "metadata": {
        "id": "HAih1iBOpsJ2"
      }
    },
    {
      "cell_type": "markdown",
      "source": [
        "We used GridSearchCV for tuning the Random Forest model.\n",
        "\n",
        "**Why GridSearchCV?**\n",
        "\n",
        "GridSearchCV performs an exhaustive search over specified hyperparameter values with cross-validation. This ensures:\n",
        "\n",
        "- Optimal combinations are tested.\n",
        "\n",
        "- Results are more stable and generalized across data splits.\n",
        "\n",
        "- Helps avoid overfitting or underfitting.\n",
        "\n",
        "**Hyperparameters Tuned:**\n",
        "\n",
        "| Parameter           | Description                               |\n",
        "| ------------------- | ----------------------------------------- |\n",
        "| `n_estimators`      | Number of trees in the forest             |\n",
        "| `max_depth`         | Maximum depth of each tree                |\n",
        "| `min_samples_split` | Minimum samples to split an internal node |\n",
        "| `min_samples_leaf`  | Minimum samples at a leaf node            |\n",
        "\n",
        "**Best Parameters Found:**\n",
        "\n",
        "{'max_depth': 20, 'min_samples_leaf': 1, 'min_samples_split': 2, 'n_estimators': 200}\n"
      ],
      "metadata": {
        "id": "9kBgjYcdpsJ2"
      }
    },
    {
      "cell_type": "markdown",
      "source": [
        "##### Have you seen any improvement? Note down the improvement with updates Evaluation metric Score Chart."
      ],
      "metadata": {
        "id": "zVGeBEFhpsJ2"
      }
    },
    {
      "cell_type": "markdown",
      "source": [
        "| Model                  | MSE      | MAE    | R² Score |\n",
        "| ---------------------- | -------- | ------ | -------- |\n",
        "| **Before Tuning**      | 36515.92 | 100.31 | 0.9072   |\n",
        "| **After GridSearchCV** | 36192.82 | 100.28 | 0.9080   |\n",
        "\n",
        "Conclusion: **bold text**\n",
        "- A slight improvement is observed after hyperparameter tuning:\n",
        "\n",
        "- MSE reduced: Indicates improved prediction precision.\n",
        "\n",
        "- MAE reduced: Model predictions are slightly closer to actual values.\n",
        "\n",
        "- R² increased: Explains ~90.8% of the variance, showing strong model fit."
      ],
      "metadata": {
        "id": "74yRdG6UpsJ3"
      }
    },
    {
      "cell_type": "markdown",
      "source": [
        "#### 3. Explain each evaluation metric's indication towards business and the business impact pf the ML model used."
      ],
      "metadata": {
        "id": "bmKjuQ-FpsJ3"
      }
    },
    {
      "cell_type": "markdown",
      "source": [
        "| Metric                        | What It Measures                     | Indication & Business Impact                                                                                                                                                                                              |\n",
        "| ----------------------------- | ------------------------------------ | ------------------------------------------------------------------------------------------------------------------------------------------------------------------------------------------------------------------------- |\n",
        "| **MSE (Mean Squared Error)**  | Penalizes larger errors more heavily | Lower MSE means the model makes fewer large prediction mistakes—important when errors in demand forecasting could lead to **costly over- or under-staffing of bikes**.                                                    |\n",
        "| **MAE (Mean Absolute Error)** | Average magnitude of errors          | A smaller MAE means day-to-day rental predictions are closer to actual demand—this helps in **daily operational planning**, such as allocating enough bikes and personnel.                                                |\n",
        "| **R² Score (R-squared)**      | Proportion of variance explained     | An R² of **0.9080** means the model explains over 90% of the variation in bike rental demand—indicating high reliability in forecasts for **inventory management**, **marketing decisions**, and **seasonal promotions**. |\n"
      ],
      "metadata": {
        "id": "BDKtOrBQpsJ3"
      }
    },
    {
      "cell_type": "markdown",
      "source": [
        "### ML Model - 3 - XGBoost"
      ],
      "metadata": {
        "id": "Fze-IPXLpx6K"
      }
    },
    {
      "cell_type": "code",
      "source": [
        "# ML Model - 3 Implementation\n",
        "xgb_model = XGBRegressor(objective='reg:squarederror', random_state=42, enable_categorical=True)\n",
        "# Fit the Algorithm\n",
        "xgb_model.fit(x_train, y_train)\n",
        "# Predict on the model\n",
        "y_pred_xgb = xgb_model.predict(x_test)\n",
        "y_pred_original = np.expm1(y_pred_xgb) # Reverse log transformation for actual value comparision\n",
        "\n",
        "# Compare on Actual data\n",
        "results = pd.DataFrame({\n",
        "    'Actual': y_test_original.values,\n",
        "    'Predicted': y_pred_original\n",
        "})\n",
        "results.head(20)\n"
      ],
      "metadata": {
        "id": "FFrSXAtrpx6M"
      },
      "execution_count": null,
      "outputs": []
    },
    {
      "cell_type": "markdown",
      "source": [
        "#### 1. Explain the ML Model used and it's performance using Evaluation metric Score Chart."
      ],
      "metadata": {
        "id": "7AN1z2sKpx6M"
      }
    },
    {
      "cell_type": "code",
      "source": [
        "# Visualizing evaluation Metric Score chart\n",
        "mse = mean_squared_error(y_test_original, y_pred_original)\n",
        "mae = mean_absolute_error(y_test_original, y_pred_original)\n",
        "r2 = r2_score(y_test_original, y_pred_original)\n",
        "\n",
        "# 📊 Plotting Metrics\n",
        "plt.figure(figsize=(8, 5))\n",
        "metrics = {'MSE': mse, 'MAE': mae, 'R²': r2}\n",
        "sns.barplot(x=list(metrics.keys()), y=list(metrics.values()), palette='viridis')\n",
        "plt.title('XGBoost Regression Performance Metrics')\n",
        "plt.ylabel('Score')\n",
        "plt.ylim(0, max(mse, mae) * 1.2)\n",
        "plt.grid(True)\n",
        "plt.show()\n",
        "\n",
        "# 📝 Print results\n",
        "print(\"XGBoost Regression Evaluation Metrics:\")\n",
        "print(f\"Mean Squared Error (MSE): {mse:.2f}\")\n",
        "print(f\"Mean Absolute Error (MAE): {mae:.2f}\")\n",
        "print(f\"R-squared (R²): {r2:.4f}\")"
      ],
      "metadata": {
        "id": "xIY4lxxGpx6M"
      },
      "execution_count": null,
      "outputs": []
    },
    {
      "cell_type": "markdown",
      "source": [
        "#### 2. Cross- Validation & Hyperparameter Tuning"
      ],
      "metadata": {
        "id": "9PIHJqyupx6M"
      }
    },
    {
      "cell_type": "code",
      "source": [
        "# ML Model - 3 Implementation with hyperparameter optimization techniques (i.e., GridSearch CV, RandomSearch CV, Bayesian Optimization etc.)\n",
        "xgb = XGBRegressor(objective='reg:squarederror', random_state=42, enable_categorical=True)\n",
        "# 🎯 Define the parameter grid\n",
        "param_grid = {\n",
        "    'n_estimators': [100, 200],\n",
        "    'max_depth': [3, 5, 7],\n",
        "    'learning_rate': [0.01, 0.1, 0.2],\n",
        "    'subsample': [0.8, 1.0]\n",
        "}\n",
        "\n",
        "# ⚙️ Setup GridSearchCV\n",
        "grid_search = GridSearchCV(estimator=xgb,\n",
        "                           param_grid=param_grid,\n",
        "                           cv=5,\n",
        "                           scoring='r2',\n",
        "                           n_jobs=-1,\n",
        "                           verbose=1)\n",
        "# Fit the Algorithm\n",
        "grid_search.fit(x_train, y_train)\n",
        "\n",
        "# ✅ Best model\n",
        "best_xgb = grid_search.best_estimator_\n",
        "print(\"Best Parameters:\", grid_search.best_params_)\n",
        "\n",
        "# Predict on the model\n",
        "y_pred = best_xgb.predict(x_test)\n",
        "y_pred_original = np.expm1(y_pred) # Reverse log transformation\n",
        "\n",
        "# 📊 Evaluate\n",
        "mse = mean_squared_error(y_test_original, y_pred_original)\n",
        "mae = mean_absolute_error(y_test_original, y_pred_original)\n",
        "r2 = r2_score(y_test_original, y_pred_original)\n",
        "\n",
        "print(\"\\n📈 XGBoost Evaluation Metrics (After GridSearchCV):\")\n",
        "print(f\"Mean Squared Error (MSE): {mse:.2f}\")\n",
        "print(f\"Mean Absolute Error (MAE): {mae:.2f}\")\n",
        "print(f\"R-squared (R²): {r2:.4f}\")"
      ],
      "metadata": {
        "id": "eSVXuaSKpx6M"
      },
      "execution_count": null,
      "outputs": []
    },
    {
      "cell_type": "markdown",
      "source": [
        "##### Which hyperparameter optimization technique have you used and why?"
      ],
      "metadata": {
        "id": "_-qAgymDpx6N"
      }
    },
    {
      "cell_type": "markdown",
      "source": [
        "We used GridSearchCV for optimizing hyperparameters of the XGBoost Regressor.\n",
        "\n",
        "**Why GridSearchCV?**\n",
        "\n",
        "- **Exhaustive Search:** It systematically tests all combinations of parameters.\n",
        "\n",
        "- **Cross-Validation:** Ensures better generalization and reduces overfitting risk.\n",
        "\n",
        "- Works well with small to moderate search spaces, which suits our XGBoost model tuning stage.\n",
        "\n",
        "| Parameter       | Description                                    |\n",
        "| --------------- | ---------------------------------------------- |\n",
        "| `n_estimators`  | Number of boosting rounds (trees)              |\n",
        "| `max_depth`     | Maximum depth of each tree                     |\n",
        "| `learning_rate` | Step size shrinkage to prevent overfitting     |\n",
        "| `subsample`     | Fraction of samples used for fitting each tree |\n",
        "\n",
        "**Best Parameters Found:**\n",
        "\n",
        "{'learning_rate': 0.1, 'max_depth': 7, 'n_estimators': 200, 'subsample': 0.8}\n"
      ],
      "metadata": {
        "id": "lQMffxkwpx6N"
      }
    },
    {
      "cell_type": "markdown",
      "source": [
        "##### Have you seen any improvement? Note down the improvement with updates Evaluation metric Score Chart."
      ],
      "metadata": {
        "id": "Z-hykwinpx6N"
      }
    },
    {
      "cell_type": "markdown",
      "source": [
        "Yes, after applying GridSearchCV for hyperparameter tuning, the performance of the XGBoost Regression model improved significantly.\n",
        "\n",
        "**XGBoost Evaluation Metrics (After Hyperparameter Tuning):**\n",
        "\n",
        "| Metric                    | Score     |\n",
        "| ------------------------- | --------- |\n",
        "| Mean Squared Error (MSE)  | 26,810.82 |\n",
        "| Mean Absolute Error (MAE) | 85.20     |\n",
        "| R-squared (R²)            | 0.9318    |\n",
        "\n",
        "\n",
        "**Key Insights:**\n",
        "- The R² score of 0.9318 indicates that the model explains 93.18% of the variance in the bike rental count, showing excellent predictive power.\n",
        "\n",
        "- Both MSE and MAE are significantly lower than previous models, which confirms higher accuracy and better generalization.\n",
        "\n",
        "- This improvement means the XGBoost model is highly reliable for predicting daily/hourly bike rental demand under varying weather and temporal conditions."
      ],
      "metadata": {
        "id": "MzVzZC6opx6N"
      }
    },
    {
      "cell_type": "markdown",
      "source": [
        "### 1. Which Evaluation metrics did you consider for a positive business impact and why?"
      ],
      "metadata": {
        "id": "h_CCil-SKHpo"
      }
    },
    {
      "cell_type": "markdown",
      "source": [
        "We considered the following three evaluation metrics, each contributing to understanding business value and model effectiveness:\n",
        "\n",
        "**1. Mean Squared Error (MSE):**\n",
        "- **Why used:** Penalizes large prediction errors more heavily, which helps in identifying days where demand is severely over/underestimated.\n",
        "\n",
        "- **Business impact:** Reduces resource misallocation (e.g., too few or too many bikes deployed), optimizing inventory planning and operational cost.\n",
        "\n",
        "**2. Mean Absolute Error (MAE):**\n",
        "- **Why used:** Measures average magnitude of errors, making it easier to interpret in real units (bike count).\n",
        "\n",
        "- **Business impact:** Helps in day-to-day decision-making, such as scheduling bike availability and manpower allocation with better confidence.\n",
        "\n",
        "**3. R-squared (R²):**\n",
        "- **Why used:** Indicates how well the model explains the variance in the target variable.\n",
        "\n",
        "- **Business impact:** A high R² (e.g., 0.93 in XGBoost) means the model captures most demand patterns, helping stakeholders trust the model for strategic planning like seasonal marketing and pricing.\n",
        "\n",
        "**Summary:**\n",
        "By combining MSE (for risk control), MAE (for daily operations), and R² (for model strength), we ensured the model delivers both accuracy and reliability, leading to improved operational efficiency, customer satisfaction, and cost savings."
      ],
      "metadata": {
        "id": "jHVz9hHDKFms"
      }
    },
    {
      "cell_type": "markdown",
      "source": [
        "### 2. Which ML model did you choose from the above created models as your final prediction model and why?"
      ],
      "metadata": {
        "id": "cBFFvTBNJzUa"
      }
    },
    {
      "cell_type": "markdown",
      "source": [
        "After evaluating all the implemented models, XGBoost Regressor was selected as the final prediction model based on its superior performance across all evaluation metrics.\n",
        "\n",
        "| Model             | MSE          | MAE       | R-squared (R²) |\n",
        "| ----------------- | ------------ | --------- | -------------- |\n",
        "| Linear Regression | 168845.87    | 262.25    | 0.5707         |\n",
        "| Ridge Regression  | 168872.29    | 262.26    | 0.5706         |\n",
        "| Random Forest     | 36192.82     | 100.28    | 0.9080         |\n",
        "| **XGBoost**       | **26810.82** | **85.20** | **0.9318**     |\n",
        "\n",
        "--------------------------------------------------------------------------------\n",
        "\n",
        "**Why XGBoost?**\n",
        "\n",
        "1. Best R² Score (0.9318): Captures the highest variance, making it the most reliable model for predictions.\n",
        "\n",
        "2. Lowest MSE & MAE: Indicates more accurate predictions with fewer large errors, crucial for operational decisions.\n",
        "\n",
        "3. Robustness: Handles non-linearity, interactions, and outliers better than linear models.\n",
        "\n",
        "4. Scalability & Speed: Efficient for both training and prediction, making it ideal for real-time deployment.\n",
        "\n",
        "**Business Impact:**\n",
        "\n",
        "With XGBoost, the company can make highly accurate demand forecasts, resulting in:\n",
        "\n",
        "- Optimal resource allocation\n",
        "\n",
        "- Improved bike availability\n",
        "\n",
        "- Higher customer satisfaction\n",
        "\n",
        "- Reduced operational cost\n",
        "\n",
        "Hence, XGBoost was chosen as the final model due to its balance of predictive power, generalizability, and business value."
      ],
      "metadata": {
        "id": "6ksF5Q1LKTVm"
      }
    },
    {
      "cell_type": "markdown",
      "source": [
        "### 3. Explain the model which you have used and the feature importance using any model explainability tool?"
      ],
      "metadata": {
        "id": "HvGl1hHyA_VK"
      }
    },
    {
      "cell_type": "code",
      "source": [
        "import shap\n",
        "\n",
        "# TreeExplainer for tree-based models (like XGBoost)\n",
        "explainer = shap.TreeExplainer(best_xgb)\n",
        "shap_values = explainer.shap_values(x_test)\n",
        "\n",
        "# Visualize feature importance with SHAP summary plot\n",
        "shap.summary_plot(shap_values, x_test)\n",
        "\n"
      ],
      "metadata": {
        "id": "K-KOWGiu0qIT"
      },
      "execution_count": null,
      "outputs": []
    },
    {
      "cell_type": "markdown",
      "source": [
        "**Final Model: XGBoost Regressor**\n",
        "\n",
        "XGBoost (Extreme Gradient Boosting) is an advanced ensemble learning technique based on gradient boosting. It builds a series of decision trees sequentially, where each tree tries to correct the errors of the previous one. XGBoost is known for its:\n",
        "\n",
        "- High accuracy\n",
        "\n",
        "- Robustness to overfitting (via regularization)\n",
        "\n",
        "- Speed and scalability\n",
        "\n",
        "- Support for missing values\n",
        "\n",
        "**Model Explainability: Feature Importance using SHAP (SHapley Additive exPlanations)**\n",
        "\n",
        "To interpret feature importance, we used TreeExplainer, a model-specific explainer in SHAP designed for tree-based models like XGBoost. It allows us to compute SHAP values more efficiently and accurately for tree ensembles\n",
        "\n",
        "**Insights from TreeExplainer:**\n",
        "\n",
        "| Feature              | SHAP Explanation                               |\n",
        "| -------------------- | ---------------------------------------------- |\n",
        "| **Hour**             | Rentals peak during morning and evening hours. |\n",
        "| **Temperature\\_C**   | Warmer temperatures increase bike usage.       |\n",
        "| **Month**            | Captures seasonality in demand.                |\n",
        "| **Rainfallmm**       | High rainfall lowers rentals.                  |\n",
        "| **Holiday**          | Fewer rentals on holidays.                     |\n",
        "| **Snowfall\\_cm**     | Negative impact on bike usage.                 |\n",
        "| **Functioning\\_Day** | Non-functioning days have zero rentals.        |\n"
      ],
      "metadata": {
        "id": "YnvVTiIxBL-C"
      }
    },
    {
      "cell_type": "markdown",
      "source": [
        "## ***8.*** ***Future Work (Optional)***"
      ],
      "metadata": {
        "id": "EyNgTHvd2WFk"
      }
    },
    {
      "cell_type": "markdown",
      "source": [
        "### 1. Save the best performing ml model in a pickle file or joblib file format for deployment process.\n"
      ],
      "metadata": {
        "id": "KH5McJBi2d8v"
      }
    },
    {
      "cell_type": "code",
      "source": [
        "# Save the File"
      ],
      "metadata": {
        "id": "bQIANRl32f4J"
      },
      "execution_count": null,
      "outputs": []
    },
    {
      "cell_type": "markdown",
      "source": [
        "### 2. Again Load the saved model file and try to predict unseen data for a sanity check.\n"
      ],
      "metadata": {
        "id": "iW_Lq9qf2h6X"
      }
    },
    {
      "cell_type": "code",
      "source": [
        "# Load the File and predict unseen data."
      ],
      "metadata": {
        "id": "oEXk9ydD2nVC"
      },
      "execution_count": null,
      "outputs": []
    },
    {
      "cell_type": "markdown",
      "source": [
        "### ***Congrats! Your model is successfully created and ready for deployment on a live server for a real user interaction !!!***"
      ],
      "metadata": {
        "id": "-Kee-DAl2viO"
      }
    },
    {
      "cell_type": "markdown",
      "source": [
        "# **Conclusion**"
      ],
      "metadata": {
        "id": "gCX9965dhzqZ"
      }
    },
    {
      "cell_type": "markdown",
      "source": [
        "The objective of this project was to build an accurate and interpretable machine learning model to predict bike rental demand based on weather conditions, time features, and calendar variables. Through a well-defined data science workflow, we successfully transformed raw data into valuable business insights.\n",
        "\n",
        "**🧩 Summary of Key Steps:**\n",
        "- **Data Preprocessing:** We handled missing values, removed multicollinear and redundant features using techniques like correlation analysis, VIF, and domain knowledge. We also created new meaningful features such as rain_condition, temperature_category, Month, and Weekday.\n",
        "\n",
        "- **Data Transformation:** Highly skewed features were log-transformed, and numerical features were scaled using MinMaxScaler to normalize the range for optimal model performance.\n",
        "\n",
        "- **Model Building & Comparison:**\n",
        "We implemented multiple models including:\n",
        "\n",
        "  - Linear Regression\n",
        "\n",
        "  - Ridge Regression (with GridSearchCV)\n",
        "\n",
        "  - Random Forest Regressor (with hyperparameter tuning)\n",
        "\n",
        "  - XGBoost Regressor (final model)\n",
        "\n",
        "After comparing models based on performance metrics—Mean Squared Error (MSE), Mean Absolute Error (MAE), and R-squared (R²)—we observed:\n",
        "\n",
        "| Model               | MSE        | MAE       | R²         |\n",
        "| ------------------- | ---------- | --------- | ---------- |\n",
        "| Linear Regression   | 168,846    | 262.25    | 0.5707     |\n",
        "| Ridge Regression    | 168,872    | 262.26    | 0.5706     |\n",
        "| Random Forest       | 36,192     | 100.28    | 0.9080     |\n",
        "| **XGBoost (Final)** | **26,810** | **85.20** | **0.9318** |\n",
        "\n",
        "\n",
        "**Final Model and Insights:**\n",
        "\n",
        "- XGBoost Regressor was selected as the final model due to its highest accuracy, lowest error, and ability to handle non-linear relationships effectively.\n",
        "\n",
        "- Using SHAP TreeExplainer, we identified that features like Hour, Temperature_C, Month, Rainfall, and Snow_condition had the greatest influence on rental demand.\n",
        "\n",
        "**Business Impact:**\n",
        "\n",
        "- This model can support bike rental companies and city transportation planners in forecasting demand more accurately.\n",
        "\n",
        "- It can aid in resource allocation, inventory planning, and real-time availability prediction, especially during peak hours or adverse weather.\n",
        "\n"
      ],
      "metadata": {
        "id": "Fjb1IsQkh3yE"
      }
    },
    {
      "cell_type": "markdown",
      "source": [
        "### ***Hurrah! You have successfully completed your Machine Learning Capstone Project !!!***"
      ],
      "metadata": {
        "id": "gIfDvo9L0UH2"
      }
    }
  ]
}